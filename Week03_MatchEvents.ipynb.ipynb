{
 "cells": [
  {
   "cell_type": "code",
   "execution_count": null,
   "id": "3b17b70e",
   "metadata": {},
   "outputs": [],
   "source": []
  },
  {
   "cell_type": "code",
   "execution_count": 1,
   "id": "7492e281",
   "metadata": {},
   "outputs": [
    {
     "name": "stdout",
     "output_type": "stream",
     "text": [
      "DATA path: C:\\Users\\M.ANTONY ROJES\\Downloads\\Infosys\\open-data-master\\data\n",
      "DATA exists: True\n",
      "Contents: ['competitions.json', 'events', 'lineups', 'matches', 'three-sixty']\n"
     ]
    }
   ],
   "source": [
    "from pathlib import Path\n",
    "\n",
    "# Correct path (relative to your current CWD)\n",
    "DATA = Path(\"./data\")\n",
    "\n",
    "print(\"DATA path:\", DATA.resolve())\n",
    "print(\"DATA exists:\", DATA.exists())\n",
    "print(\"Contents:\", [p.name for p in DATA.iterdir()][:15])\n",
    "\n"
   ]
  },
  {
   "cell_type": "code",
   "execution_count": 2,
   "id": "95bb2f7b",
   "metadata": {},
   "outputs": [
    {
     "name": "stdout",
     "output_type": "stream",
     "text": [
      "CWD: c:\\Users\\M.ANTONY ROJES\\Downloads\\Infosys\\open-data-master\n"
     ]
    }
   ],
   "source": [
    "import os\n",
    "print(\"CWD:\", os.getcwd())\n"
   ]
  },
  {
   "cell_type": "code",
   "execution_count": 3,
   "id": "f3e299f4",
   "metadata": {},
   "outputs": [
    {
     "name": "stdout",
     "output_type": "stream",
     "text": [
      "Matches path: C:\\Users\\M.ANTONY ROJES\\Downloads\\Infosys\\open-data-master\\data\\matches\n",
      "Exists: True\n",
      "First 15 items: ['11', '116', '12', '1238', '1267', '1470', '16', '2', '223', '35', '37', '43', '44', '49', '53']\n"
     ]
    }
   ],
   "source": [
    "matches_path = DATA / \"matches\"\n",
    "print(\"Matches path:\", matches_path.resolve())\n",
    "print(\"Exists:\", matches_path.exists())\n",
    "print(\"First 15 items:\", [p.name for p in matches_path.iterdir()][:15])\n"
   ]
  },
  {
   "cell_type": "code",
   "execution_count": 4,
   "id": "e21d15f2",
   "metadata": {},
   "outputs": [
    {
     "name": "stdout",
     "output_type": "stream",
     "text": [
      "DATA path: C:\\Users\\M.ANTONY ROJES\\Downloads\\Infosys\\open-data-master\\data\n",
      "DATA exists: True\n"
     ]
    }
   ],
   "source": [
    "from pathlib import Path\n",
    "\n",
    "# Since your CWD is c:\\Users\\M.ANTONY ROJES\\Downloads\\Infosys\\open-data-master\n",
    "DATA = Path(\"./data\")\n",
    "\n",
    "print(\"DATA path:\", DATA.resolve())\n",
    "print(\"DATA exists:\", DATA.exists())\n"
   ]
  },
  {
   "cell_type": "code",
   "execution_count": 5,
   "id": "ec8c2d1e",
   "metadata": {},
   "outputs": [
    {
     "name": "stdout",
     "output_type": "stream",
     "text": [
      "Looking inside: C:\\Users\\M.ANTONY ROJES\\Downloads\\Infosys\\open-data-master\\data\\matches\\43\\3\n",
      "Matches loaded: (0, 0)\n",
      "Columns sample: []\n",
      "id_col: [] date_col: []\n"
     ]
    },
    {
     "data": {
      "text/html": [
       "<div>\n",
       "<style scoped>\n",
       "    .dataframe tbody tr th:only-of-type {\n",
       "        vertical-align: middle;\n",
       "    }\n",
       "\n",
       "    .dataframe tbody tr th {\n",
       "        vertical-align: top;\n",
       "    }\n",
       "\n",
       "    .dataframe thead th {\n",
       "        text-align: right;\n",
       "    }\n",
       "</style>\n",
       "<table border=\"1\" class=\"dataframe\">\n",
       "  <thead>\n",
       "    <tr style=\"text-align: right;\">\n",
       "      <th></th>\n",
       "    </tr>\n",
       "  </thead>\n",
       "  <tbody>\n",
       "  </tbody>\n",
       "</table>\n",
       "</div>"
      ],
      "text/plain": [
       "Empty DataFrame\n",
       "Columns: []\n",
       "Index: []"
      ]
     },
     "execution_count": 5,
     "metadata": {},
     "output_type": "execute_result"
    }
   ],
   "source": [
    "import json\n",
    "import pandas as pd\n",
    "\n",
    "comp_id, season_id = 43, 3\n",
    "matches_path = DATA / \"matches\" / str(comp_id) / str(season_id)\n",
    "\n",
    "print(\"Looking inside:\", matches_path.resolve())\n",
    "\n",
    "all_matches = []\n",
    "for f in matches_path.glob(\"*.json\"):\n",
    "    with open(f, \"r\", encoding=\"utf-8\") as file:\n",
    "        all_matches.extend(json.load(file))\n",
    "\n",
    "matches = pd.json_normalize(all_matches)\n",
    "\n",
    "print(\"Matches loaded:\", matches.shape)\n",
    "print(\"Columns sample:\", matches.columns.tolist()[:20])\n",
    "\n",
    "# check id and date columns\n",
    "id_col = [c for c in matches.columns if \"match_id\" in c]\n",
    "date_col = [c for c in matches.columns if \"match_date\" in c]\n",
    "print(\"id_col:\", id_col, \"date_col:\", date_col)\n",
    "\n",
    "matches.head(3)\n"
   ]
  },
  {
   "cell_type": "code",
   "execution_count": 6,
   "id": "c78b12ac",
   "metadata": {},
   "outputs": [
    {
     "name": "stdout",
     "output_type": "stream",
     "text": [
      "Looking inside: open-data-master\\data\\matches\\11\\1\n",
      "Matches loaded: (0, 0)\n",
      "Columns sample: RangeIndex(start=0, stop=0, step=1)\n"
     ]
    }
   ],
   "source": [
    "import pandas as pd\n",
    "import json\n",
    "from pathlib import Path\n",
    "\n",
    "DATA = Path(\"./open-data-master/data\")\n",
    "comp_id, season_id = 11, 1   # ✅ change to one you have locally\n",
    "\n",
    "matches_path = DATA / \"matches\" / str(comp_id) / str(season_id)\n",
    "print(\"Looking inside:\", matches_path.resolve())\n",
    "\n",
    "all_matches = []\n",
    "for file in matches_path.glob(\"*.json\"):\n",
    "    with open(file, \"r\", encoding=\"utf-8\") as f:\n",
    "        all_matches.extend(json.load(f))\n",
    "\n",
    "matches = pd.json_normalize(all_matches)\n",
    "\n",
    "print(\"Matches loaded:\", matches.shape)\n",
    "print(\"Columns sample:\", matches.columns[:10])\n"
   ]
  },
  {
   "cell_type": "code",
   "execution_count": 7,
   "id": "27a1e948",
   "metadata": {},
   "outputs": [
    {
     "name": "stdout",
     "output_type": "stream",
     "text": [
      "c:\\Users\\M.ANTONY ROJES\\Downloads\\Infosys\\open-data-master\n"
     ]
    }
   ],
   "source": [
    "import os\n",
    "print(os.getcwd())"
   ]
  },
  {
   "cell_type": "code",
   "execution_count": 8,
   "id": "a12f9c24",
   "metadata": {},
   "outputs": [
    {
     "name": "stdout",
     "output_type": "stream",
     "text": [
      "    competition_id        competition_name season_name\n",
      "0                9           1. Bundesliga   2023/2024\n",
      "1                9           1. Bundesliga   2015/2016\n",
      "2             1267  African Cup of Nations        2023\n",
      "3               16        Champions League   2018/2019\n",
      "4               16        Champions League   2017/2018\n",
      "..             ...                     ...         ...\n",
      "70              35      UEFA Europa League   1988/1989\n",
      "71              53       UEFA Women's Euro        2025\n",
      "72              53       UEFA Women's Euro        2022\n",
      "73              72       Women's World Cup        2023\n",
      "74              72       Women's World Cup        2019\n",
      "\n",
      "[75 rows x 3 columns]\n"
     ]
    }
   ],
   "source": [
    "import pandas as pd\n",
    "import json\n",
    "from pathlib import Path\n",
    "\n",
    "# Use absolute path\n",
    "competitions_file = Path(r\"C:\\Users\\M.ANTONY ROJES\\Downloads\\Infosys\\open-data-master\\data\\competitions.json\")\n",
    "\n",
    "# Load and normalize JSON\n",
    "with open(competitions_file, \"r\", encoding=\"utf-8\") as f:\n",
    "    competitions = json.load(f)\n",
    "\n",
    "competitions_df = pd.json_normalize(competitions)\n",
    "print(competitions_df[['competition_id', 'competition_name', 'season_name']])"
   ]
  },
  {
   "cell_type": "code",
   "execution_count": 9,
   "id": "7a7aef23",
   "metadata": {},
   "outputs": [
    {
     "name": "stdout",
     "output_type": "stream",
     "text": [
      "Directory not found: C:\\Users\\M.ANTONY ROJES\\Downloads\\Infosys\\open-data-master\\data\\matches\\9\\281\n"
     ]
    }
   ],
   "source": [
    "import pandas as pd\n",
    "import json\n",
    "from pathlib import Path\n",
    "\n",
    "comp_id, season_id = 9, 281  # Bundesliga 2023/2024\n",
    "matches_path = Path(r\"C:\\Users\\M.ANTONY ROJES\\Downloads\\Infosys\\open-data-master\\data\\matches\") / str(comp_id) / str(season_id)\n",
    "\n",
    "all_matches = []\n",
    "\n",
    "# Check if path exists\n",
    "if not matches_path.exists():\n",
    "    print(f\"Directory not found: {matches_path}\")\n",
    "else:\n",
    "    json_files = list(matches_path.glob(\"*.json\"))\n",
    "    if not json_files:\n",
    "        print(f\"No JSON files found in: {matches_path}\")\n",
    "    else:\n",
    "        for f in json_files:\n",
    "            try:\n",
    "                with open(f, \"r\", encoding=\"utf-8\") as file:\n",
    "                    data = json.load(file)\n",
    "                    if isinstance(data, list):\n",
    "                        all_matches.extend(data)\n",
    "                    else:\n",
    "                        all_matches.append(data)\n",
    "            except Exception as e:\n",
    "                print(f\"Error reading {f.name}: {e}\")\n",
    "\n",
    "        if all_matches:\n",
    "            matches = pd.json_normalize(all_matches)\n",
    "            print(\"Matches loaded:\", matches.shape)\n",
    "            print(matches[['match_id', 'match_date', 'home_team.home_team_name', 'away_team.away_team_name']].head())\n",
    "        else:\n",
    "            print(\"No match data loaded. Check file contents.\")"
   ]
  },
  {
   "cell_type": "code",
   "execution_count": 10,
   "id": "0c8f7603",
   "metadata": {},
   "outputs": [
    {
     "name": "stdout",
     "output_type": "stream",
     "text": [
      "Empty DataFrame\n",
      "Columns: [competition_id, season_name, season_id]\n",
      "Index: []\n"
     ]
    }
   ],
   "source": [
    "import pandas as pd\n",
    "import json\n",
    "from pathlib import Path\n",
    "\n",
    "competitions_file = Path(r\"C:\\Users\\M.ANTONY ROJES\\Downloads\\Infosys\\open-data-master\\data\\competitions.json\")\n",
    "\n",
    "with open(competitions_file, \"r\", encoding=\"utf-8\") as f:\n",
    "    competitions = json.load(f)\n",
    "\n",
    "df = pd.json_normalize(competitions)\n",
    "print(df[df['competition_name'] == 'Bundesliga'][['competition_id', 'season_name', 'season_id']])"
   ]
  },
  {
   "cell_type": "code",
   "execution_count": 11,
   "id": "6d6a0257",
   "metadata": {},
   "outputs": [
    {
     "name": "stdout",
     "output_type": "stream",
     "text": [
      "C:\\Users\\M.ANTONY ROJES\\Downloads\\Infosys\\open-data-master\\data\\matches\\11\\1.json\n",
      "C:\\Users\\M.ANTONY ROJES\\Downloads\\Infosys\\open-data-master\\data\\matches\\11\\2.json\n",
      "C:\\Users\\M.ANTONY ROJES\\Downloads\\Infosys\\open-data-master\\data\\matches\\11\\21.json\n",
      "C:\\Users\\M.ANTONY ROJES\\Downloads\\Infosys\\open-data-master\\data\\matches\\11\\22.json\n",
      "C:\\Users\\M.ANTONY ROJES\\Downloads\\Infosys\\open-data-master\\data\\matches\\11\\23.json\n",
      "C:\\Users\\M.ANTONY ROJES\\Downloads\\Infosys\\open-data-master\\data\\matches\\11\\24.json\n",
      "C:\\Users\\M.ANTONY ROJES\\Downloads\\Infosys\\open-data-master\\data\\matches\\11\\25.json\n",
      "C:\\Users\\M.ANTONY ROJES\\Downloads\\Infosys\\open-data-master\\data\\matches\\11\\26.json\n",
      "C:\\Users\\M.ANTONY ROJES\\Downloads\\Infosys\\open-data-master\\data\\matches\\11\\27.json\n",
      "C:\\Users\\M.ANTONY ROJES\\Downloads\\Infosys\\open-data-master\\data\\matches\\11\\278.json\n",
      "C:\\Users\\M.ANTONY ROJES\\Downloads\\Infosys\\open-data-master\\data\\matches\\11\\37.json\n",
      "C:\\Users\\M.ANTONY ROJES\\Downloads\\Infosys\\open-data-master\\data\\matches\\11\\38.json\n",
      "C:\\Users\\M.ANTONY ROJES\\Downloads\\Infosys\\open-data-master\\data\\matches\\11\\39.json\n",
      "C:\\Users\\M.ANTONY ROJES\\Downloads\\Infosys\\open-data-master\\data\\matches\\11\\4.json\n",
      "C:\\Users\\M.ANTONY ROJES\\Downloads\\Infosys\\open-data-master\\data\\matches\\11\\40.json\n",
      "C:\\Users\\M.ANTONY ROJES\\Downloads\\Infosys\\open-data-master\\data\\matches\\11\\41.json\n",
      "C:\\Users\\M.ANTONY ROJES\\Downloads\\Infosys\\open-data-master\\data\\matches\\11\\42.json\n",
      "C:\\Users\\M.ANTONY ROJES\\Downloads\\Infosys\\open-data-master\\data\\matches\\11\\90.json\n",
      "C:\\Users\\M.ANTONY ROJES\\Downloads\\Infosys\\open-data-master\\data\\matches\\116\\68.json\n",
      "C:\\Users\\M.ANTONY ROJES\\Downloads\\Infosys\\open-data-master\\data\\matches\\12\\27.json\n",
      "C:\\Users\\M.ANTONY ROJES\\Downloads\\Infosys\\open-data-master\\data\\matches\\12\\86.json\n",
      "C:\\Users\\M.ANTONY ROJES\\Downloads\\Infosys\\open-data-master\\data\\matches\\1238\\108.json\n",
      "C:\\Users\\M.ANTONY ROJES\\Downloads\\Infosys\\open-data-master\\data\\matches\\1267\\107.json\n",
      "C:\\Users\\M.ANTONY ROJES\\Downloads\\Infosys\\open-data-master\\data\\matches\\1470\\274.json\n",
      "C:\\Users\\M.ANTONY ROJES\\Downloads\\Infosys\\open-data-master\\data\\matches\\16\\1.json\n",
      "C:\\Users\\M.ANTONY ROJES\\Downloads\\Infosys\\open-data-master\\data\\matches\\16\\2.json\n",
      "C:\\Users\\M.ANTONY ROJES\\Downloads\\Infosys\\open-data-master\\data\\matches\\16\\21.json\n",
      "C:\\Users\\M.ANTONY ROJES\\Downloads\\Infosys\\open-data-master\\data\\matches\\16\\22.json\n",
      "C:\\Users\\M.ANTONY ROJES\\Downloads\\Infosys\\open-data-master\\data\\matches\\16\\23.json\n",
      "C:\\Users\\M.ANTONY ROJES\\Downloads\\Infosys\\open-data-master\\data\\matches\\16\\24.json\n",
      "C:\\Users\\M.ANTONY ROJES\\Downloads\\Infosys\\open-data-master\\data\\matches\\16\\25.json\n",
      "C:\\Users\\M.ANTONY ROJES\\Downloads\\Infosys\\open-data-master\\data\\matches\\16\\26.json\n",
      "C:\\Users\\M.ANTONY ROJES\\Downloads\\Infosys\\open-data-master\\data\\matches\\16\\27.json\n",
      "C:\\Users\\M.ANTONY ROJES\\Downloads\\Infosys\\open-data-master\\data\\matches\\16\\276.json\n",
      "C:\\Users\\M.ANTONY ROJES\\Downloads\\Infosys\\open-data-master\\data\\matches\\16\\277.json\n",
      "C:\\Users\\M.ANTONY ROJES\\Downloads\\Infosys\\open-data-master\\data\\matches\\16\\37.json\n",
      "C:\\Users\\M.ANTONY ROJES\\Downloads\\Infosys\\open-data-master\\data\\matches\\16\\39.json\n",
      "C:\\Users\\M.ANTONY ROJES\\Downloads\\Infosys\\open-data-master\\data\\matches\\16\\4.json\n",
      "C:\\Users\\M.ANTONY ROJES\\Downloads\\Infosys\\open-data-master\\data\\matches\\16\\41.json\n",
      "C:\\Users\\M.ANTONY ROJES\\Downloads\\Infosys\\open-data-master\\data\\matches\\16\\44.json\n",
      "C:\\Users\\M.ANTONY ROJES\\Downloads\\Infosys\\open-data-master\\data\\matches\\16\\71.json\n",
      "C:\\Users\\M.ANTONY ROJES\\Downloads\\Infosys\\open-data-master\\data\\matches\\16\\76.json\n",
      "C:\\Users\\M.ANTONY ROJES\\Downloads\\Infosys\\open-data-master\\data\\matches\\2\\27.json\n",
      "C:\\Users\\M.ANTONY ROJES\\Downloads\\Infosys\\open-data-master\\data\\matches\\2\\44.json\n",
      "C:\\Users\\M.ANTONY ROJES\\Downloads\\Infosys\\open-data-master\\data\\matches\\223\\282.json\n",
      "C:\\Users\\M.ANTONY ROJES\\Downloads\\Infosys\\open-data-master\\data\\matches\\35\\75.json\n",
      "C:\\Users\\M.ANTONY ROJES\\Downloads\\Infosys\\open-data-master\\data\\matches\\37\\4.json\n",
      "C:\\Users\\M.ANTONY ROJES\\Downloads\\Infosys\\open-data-master\\data\\matches\\37\\42.json\n",
      "C:\\Users\\M.ANTONY ROJES\\Downloads\\Infosys\\open-data-master\\data\\matches\\37\\90.json\n",
      "C:\\Users\\M.ANTONY ROJES\\Downloads\\Infosys\\open-data-master\\data\\matches\\43\\106.json\n",
      "C:\\Users\\M.ANTONY ROJES\\Downloads\\Infosys\\open-data-master\\data\\matches\\43\\269.json\n",
      "C:\\Users\\M.ANTONY ROJES\\Downloads\\Infosys\\open-data-master\\data\\matches\\43\\270.json\n",
      "C:\\Users\\M.ANTONY ROJES\\Downloads\\Infosys\\open-data-master\\data\\matches\\43\\272.json\n",
      "C:\\Users\\M.ANTONY ROJES\\Downloads\\Infosys\\open-data-master\\data\\matches\\43\\3.json\n",
      "C:\\Users\\M.ANTONY ROJES\\Downloads\\Infosys\\open-data-master\\data\\matches\\43\\51.json\n",
      "C:\\Users\\M.ANTONY ROJES\\Downloads\\Infosys\\open-data-master\\data\\matches\\43\\54.json\n",
      "C:\\Users\\M.ANTONY ROJES\\Downloads\\Infosys\\open-data-master\\data\\matches\\43\\55.json\n",
      "C:\\Users\\M.ANTONY ROJES\\Downloads\\Infosys\\open-data-master\\data\\matches\\44\\107.json\n",
      "C:\\Users\\M.ANTONY ROJES\\Downloads\\Infosys\\open-data-master\\data\\matches\\49\\3.json\n",
      "C:\\Users\\M.ANTONY ROJES\\Downloads\\Infosys\\open-data-master\\data\\matches\\53\\106.json\n",
      "C:\\Users\\M.ANTONY ROJES\\Downloads\\Infosys\\open-data-master\\data\\matches\\53\\315.json\n",
      "C:\\Users\\M.ANTONY ROJES\\Downloads\\Infosys\\open-data-master\\data\\matches\\55\\282.json\n",
      "C:\\Users\\M.ANTONY ROJES\\Downloads\\Infosys\\open-data-master\\data\\matches\\55\\43.json\n",
      "C:\\Users\\M.ANTONY ROJES\\Downloads\\Infosys\\open-data-master\\data\\matches\\7\\108.json\n",
      "C:\\Users\\M.ANTONY ROJES\\Downloads\\Infosys\\open-data-master\\data\\matches\\7\\235.json\n",
      "C:\\Users\\M.ANTONY ROJES\\Downloads\\Infosys\\open-data-master\\data\\matches\\7\\27.json\n",
      "C:\\Users\\M.ANTONY ROJES\\Downloads\\Infosys\\open-data-master\\data\\matches\\72\\107.json\n",
      "C:\\Users\\M.ANTONY ROJES\\Downloads\\Infosys\\open-data-master\\data\\matches\\72\\30.json\n",
      "C:\\Users\\M.ANTONY ROJES\\Downloads\\Infosys\\open-data-master\\data\\matches\\81\\275.json\n",
      "C:\\Users\\M.ANTONY ROJES\\Downloads\\Infosys\\open-data-master\\data\\matches\\81\\48.json\n",
      "C:\\Users\\M.ANTONY ROJES\\Downloads\\Infosys\\open-data-master\\data\\matches\\87\\268.json\n",
      "C:\\Users\\M.ANTONY ROJES\\Downloads\\Infosys\\open-data-master\\data\\matches\\87\\279.json\n",
      "C:\\Users\\M.ANTONY ROJES\\Downloads\\Infosys\\open-data-master\\data\\matches\\87\\84.json\n",
      "C:\\Users\\M.ANTONY ROJES\\Downloads\\Infosys\\open-data-master\\data\\matches\\9\\27.json\n",
      "C:\\Users\\M.ANTONY ROJES\\Downloads\\Infosys\\open-data-master\\data\\matches\\9\\281.json\n"
     ]
    }
   ],
   "source": [
    "matches_root = Path(r\"C:\\Users\\M.ANTONY ROJES\\Downloads\\Infosys\\open-data-master\\data\\matches\")\n",
    "for f in matches_root.rglob(\"*.json\"):\n",
    "    print(f)"
   ]
  },
  {
   "cell_type": "code",
   "execution_count": 12,
   "id": "48093a2c",
   "metadata": {},
   "outputs": [
    {
     "name": "stdout",
     "output_type": "stream",
     "text": [
      "Matches loaded: (34, 42)\n",
      "Available columns: ['match_id', 'match_date', 'kick_off', 'home_score', 'away_score', 'match_status', 'match_status_360', 'last_updated', 'last_updated_360', 'match_week', 'competition.competition_id', 'competition.country_name', 'competition.competition_name', 'season.season_id', 'season.season_name', 'home_team.home_team_id', 'home_team.home_team_name', 'home_team.home_team_gender', 'home_team.home_team_group', 'home_team.country.id', 'home_team.country.name', 'home_team.managers', 'away_team.away_team_id', 'away_team.away_team_name', 'away_team.away_team_gender', 'away_team.away_team_group', 'away_team.country.id', 'away_team.country.name', 'away_team.managers', 'metadata.data_version', 'metadata.shot_fidelity_version', 'metadata.xy_fidelity_version', 'competition_stage.id', 'competition_stage.name', 'stadium.id', 'stadium.name', 'stadium.country.id', 'stadium.country.name', 'referee.id', 'referee.name', 'referee.country.id', 'referee.country.name']\n",
      "   match_id  match_date home_team.home_team_name away_team.away_team_name\n",
      "0   3895302  2024-04-14         Bayer Leverkusen            Werder Bremen\n",
      "1   3895292  2024-04-06             Union Berlin         Bayer Leverkusen\n",
      "2   3895333  2024-05-05      Eintracht Frankfurt         Bayer Leverkusen\n",
      "3   3895340  2024-05-12                   Bochum         Bayer Leverkusen\n",
      "4   3895348  2024-05-18         Bayer Leverkusen                 Augsburg\n"
     ]
    }
   ],
   "source": [
    "import json\n",
    "import pandas as pd\n",
    "from pathlib import Path\n",
    "\n",
    "# Point to the exact file\n",
    "match_file = Path(r\"C:\\Users\\M.ANTONY ROJES\\Downloads\\Infosys\\open-data-master\\data\\matches\\9\\281.json\")\n",
    "\n",
    "# Load and inspect structure\n",
    "with open(match_file, \"r\", encoding=\"utf-8\") as f:\n",
    "    data = json.load(f)\n",
    "\n",
    "# Check if it's a list and has content\n",
    "if isinstance(data, list) and len(data) > 0:\n",
    "    df = pd.json_normalize(data)\n",
    "    print(\"Matches loaded:\", df.shape)\n",
    "    print(\"Available columns:\", df.columns.tolist())\n",
    "\n",
    "    # Try printing key columns if they exist\n",
    "    expected_cols = ['match_id', 'match_date', 'home_team.home_team_name', 'away_team.away_team_name']\n",
    "    available_cols = [col for col in expected_cols if col in df.columns]\n",
    "    if available_cols:\n",
    "        print(df[available_cols].head())\n",
    "    else:\n",
    "        print(\"Expected columns not found. Here's a sample:\")\n",
    "        print(df.head())\n",
    "else:\n",
    "    print(\"No match data found or unexpected format.\")"
   ]
  },
  {
   "cell_type": "code",
   "execution_count": 13,
   "id": "21518878",
   "metadata": {},
   "outputs": [
    {
     "name": "stdout",
     "output_type": "stream",
     "text": [
      "{'away_score': 0,\n",
      " 'away_team': {'away_team_gender': 'male',\n",
      "               'away_team_group': None,\n",
      "               'away_team_id': 176,\n",
      "               'away_team_name': 'Werder Bremen',\n",
      "               'country': {'id': 85, 'name': 'Germany'},\n",
      "               'managers': [{'country': {'id': 85, 'name': 'Germany'},\n",
      "                             'dob': '1988-05-04',\n",
      "                             'id': 4057,\n",
      "                             'name': 'Ole Werner',\n",
      "                             'nickname': None}]},\n",
      " 'competition': {'competition_id': 9,\n",
      "                 'competition_name': '1. Bundesliga',\n",
      "                 'country_name': 'Germany'},\n",
      " 'competition_stage': {'id': 1, 'name': 'Regular Season'},\n",
      " 'home_score': 5,\n",
      " 'home_team': {'country': {'id': 85, 'name': 'Germany'},\n",
      "               'home_team_gender': 'male',\n",
      "               'home_team_group': None,\n",
      "               'home_team_id': 904,\n",
      "               'home_team_name': 'Bayer Leverkusen',\n",
      "               'managers': [{'country': {'id': 214, 'name': 'Spain'},\n",
      "                             'dob': '1981-11-25',\n",
      "                             'id': 1000310,\n",
      "                             'name': 'Xabier Alonso Olano',\n",
      "                             'nickname': 'Xabi Alonso'}]},\n",
      " 'kick_off': '17:30:00.000',\n",
      " 'last_updated': '2024-05-10T16:57:53.017895',\n",
      " 'last_updated_360': '2024-05-10T17:03:59.613154',\n",
      " 'match_date': '2024-04-14',\n",
      " 'match_id': 3895302,\n",
      " 'match_status': 'available',\n",
      " 'match_status_360': 'available',\n",
      " 'match_week': 29,\n",
      " 'metadata': {'data_version': '1.1.0',\n",
      "              'shot_fidelity_version': '2',\n",
      "              'xy_fidelity_version': '2'},\n",
      " 'referee': {'country': {'id': 85, 'name': 'Germany'},\n",
      "             'id': 234,\n",
      "             'name': 'Harm Osmers'},\n",
      " 'season': {'season_id': 281, 'season_name': '2023/2024'},\n",
      " 'stadium': {'country': {'id': 85, 'name': 'Germany'},\n",
      "             'id': 377,\n",
      "             'name': 'BayArena'}}\n"
     ]
    }
   ],
   "source": [
    "import pprint\n",
    "pprint.pprint(data[0])"
   ]
  },
  {
   "cell_type": "code",
   "execution_count": 14,
   "id": "ba15e2c8",
   "metadata": {},
   "outputs": [
    {
     "name": "stdout",
     "output_type": "stream",
     "text": [
      "['match_id', 'match_date', 'kick_off', 'home_score', 'away_score', 'match_status', 'match_status_360', 'last_updated', 'last_updated_360', 'match_week', 'competition.competition_id', 'competition.country_name', 'competition.competition_name', 'season.season_id', 'season.season_name', 'home_team.home_team_id', 'home_team.home_team_name', 'home_team.home_team_gender', 'home_team.home_team_group', 'home_team.country.id', 'home_team.country.name', 'home_team.managers', 'away_team.away_team_id', 'away_team.away_team_name', 'away_team.away_team_gender', 'away_team.away_team_group', 'away_team.country.id', 'away_team.country.name', 'away_team.managers', 'metadata.data_version', 'metadata.shot_fidelity_version', 'metadata.xy_fidelity_version', 'competition_stage.id', 'competition_stage.name', 'stadium.id', 'stadium.name', 'stadium.country.id', 'stadium.country.name', 'referee.id', 'referee.name', 'referee.country.id', 'referee.country.name']\n"
     ]
    }
   ],
   "source": [
    "df_sample = pd.json_normalize(data, sep='.')\n",
    "print(df_sample.columns.tolist())"
   ]
  },
  {
   "cell_type": "code",
   "execution_count": 15,
   "id": "60f77b34",
   "metadata": {},
   "outputs": [
    {
     "name": "stdout",
     "output_type": "stream",
     "text": [
      "Matches loaded: (34, 42)\n",
      "   match_id  match_date home_team.home_team_name away_team.away_team_name  \\\n",
      "0   3895302  2024-04-14         Bayer Leverkusen            Werder Bremen   \n",
      "1   3895292  2024-04-06             Union Berlin         Bayer Leverkusen   \n",
      "2   3895333  2024-05-05      Eintracht Frankfurt         Bayer Leverkusen   \n",
      "3   3895340  2024-05-12                   Bochum         Bayer Leverkusen   \n",
      "4   3895348  2024-05-18         Bayer Leverkusen                 Augsburg   \n",
      "\n",
      "   home_score  away_score  \n",
      "0           5           0  \n",
      "1           0           1  \n",
      "2           1           5  \n",
      "3           0           5  \n",
      "4           2           1  \n"
     ]
    }
   ],
   "source": [
    "import pandas as pd\n",
    "import json\n",
    "from pathlib import Path\n",
    "\n",
    "# Bundesliga 2023/24 → comp_id=9, season_id=281\n",
    "matches_path = Path(r\"C:\\Users\\M.ANTONY ROJES\\Downloads\\Infosys\\open-data-master\\data\\matches\\9\\281.json\")\n",
    "\n",
    "with open(matches_path, \"r\", encoding=\"utf-8\") as f:\n",
    "    data = json.load(f)\n",
    "\n",
    "matches = pd.json_normalize(data, sep='.')\n",
    "\n",
    "print(\"Matches loaded:\", matches.shape)\n",
    "print(matches[['match_id','match_date','home_team.home_team_name','away_team.away_team_name','home_score','away_score']].head())\n"
   ]
  },
  {
   "cell_type": "code",
   "execution_count": 16,
   "id": "663178b2",
   "metadata": {},
   "outputs": [
    {
     "name": "stdout",
     "output_type": "stream",
     "text": [
      "Matches loaded: (34, 42)\n",
      "   match_id  match_date home_team.home_team_name away_team.away_team_name\n",
      "0   3895302  2024-04-14         Bayer Leverkusen            Werder Bremen\n",
      "1   3895292  2024-04-06             Union Berlin         Bayer Leverkusen\n",
      "2   3895333  2024-05-05      Eintracht Frankfurt         Bayer Leverkusen\n",
      "3   3895340  2024-05-12                   Bochum         Bayer Leverkusen\n",
      "4   3895348  2024-05-18         Bayer Leverkusen                 Augsburg\n"
     ]
    }
   ],
   "source": [
    "import json\n",
    "import pandas as pd\n",
    "from pathlib import Path\n",
    "\n",
    "# Bundesliga 2023/24\n",
    "comp_id, season_id = 9, 281\n",
    "match_file = Path(r\"C:\\Users\\M.ANTONY ROJES\\Downloads\\Infosys\\open-data-master\\data\\matches\") / str(comp_id) / f\"{season_id}.json\"\n",
    "\n",
    "with open(match_file, \"r\", encoding=\"utf-8\") as f:\n",
    "    matches = json.load(f)\n",
    "\n",
    "matches_df = pd.json_normalize(matches, sep=\".\")\n",
    "print(\"Matches loaded:\", matches_df.shape)\n",
    "print(matches_df[['match_id', 'match_date', 'home_team.home_team_name', 'away_team.away_team_name']].head())\n"
   ]
  },
  {
   "cell_type": "code",
   "execution_count": 17,
   "id": "c7ec8395",
   "metadata": {},
   "outputs": [
    {
     "name": "stdout",
     "output_type": "stream",
     "text": [
      "Matches loaded: (34, 42)\n",
      "   match_id  match_date home_team.home_team_name away_team.away_team_name\n",
      "0   3895302  2024-04-14         Bayer Leverkusen            Werder Bremen\n",
      "1   3895292  2024-04-06             Union Berlin         Bayer Leverkusen\n",
      "2   3895333  2024-05-05      Eintracht Frankfurt         Bayer Leverkusen\n",
      "3   3895340  2024-05-12                   Bochum         Bayer Leverkusen\n",
      "4   3895348  2024-05-18         Bayer Leverkusen                 Augsburg\n"
     ]
    }
   ],
   "source": [
    "import json\n",
    "import pandas as pd\n",
    "from pathlib import Path\n",
    "\n",
    "# Bundesliga 2023/2024 (competition_id=9, season_id=281)\n",
    "match_file = Path(r\"C:\\Users\\M.ANTONY ROJES\\Downloads\\Infosys\\open-data-master\\data\\matches\\9\\281.json\")\n",
    "\n",
    "with open(match_file, \"r\", encoding=\"utf-8\") as f:\n",
    "    data = json.load(f)\n",
    "\n",
    "matches_df = pd.json_normalize(data, sep=\".\")\n",
    "print(\"Matches loaded:\", matches_df.shape)\n",
    "print(matches_df[['match_id','match_date','home_team.home_team_name','away_team.away_team_name']].head())\n"
   ]
  },
  {
   "cell_type": "code",
   "execution_count": 18,
   "id": "3df7f695",
   "metadata": {},
   "outputs": [
    {
     "name": "stdout",
     "output_type": "stream",
     "text": [
      "Events loaded: (137765, 138)\n"
     ]
    }
   ],
   "source": [
    "events_root = Path(r\"C:\\Users\\M.ANTONY ROJES\\Downloads\\Infosys\\open-data-master\\data\\events\")\n",
    "\n",
    "all_events = []\n",
    "for match in matches_df['match_id'].unique():\n",
    "    f = events_root / f\"{match}.json\"\n",
    "    if f.exists():\n",
    "        with open(f, \"r\", encoding=\"utf-8\") as file:\n",
    "            all_events.extend(json.load(file))\n",
    "\n",
    "events_df = pd.json_normalize(all_events, sep=\".\")\n",
    "print(\"Events loaded:\", events_df.shape)\n"
   ]
  },
  {
   "cell_type": "code",
   "execution_count": 19,
   "id": "b27d056c",
   "metadata": {},
   "outputs": [
    {
     "name": "stdout",
     "output_type": "stream",
     "text": [
      "['id', 'index', 'period', 'timestamp', 'minute', 'second', 'possession', 'duration', 'type.id', 'type.name', 'possession_team.id', 'possession_team.name', 'play_pattern.id', 'play_pattern.name', 'team.id', 'team.name', 'tactics.formation', 'tactics.lineup', 'related_events', 'location', 'player.id', 'player.name', 'position.id', 'position.name', 'pass.recipient.id', 'pass.recipient.name', 'pass.length', 'pass.angle', 'pass.height.id', 'pass.height.name', 'pass.end_location', 'pass.body_part.id', 'pass.body_part.name', 'pass.type.id', 'pass.type.name', 'carry.end_location', 'under_pressure', 'pass.outcome.id', 'pass.outcome.name', 'ball_receipt.outcome.id']\n"
     ]
    }
   ],
   "source": [
    "print(events_df.columns.tolist()[:40])\n"
   ]
  },
  {
   "cell_type": "code",
   "execution_count": 20,
   "id": "48d2994a",
   "metadata": {},
   "outputs": [
    {
     "name": "stdout",
     "output_type": "stream",
     "text": [
      "['Starting XI' 'Half Start' 'Pass' 'Ball Receipt*' 'Carry' 'Pressure'\n",
      " 'Miscontrol' 'Dribble' 'Duel' 'Interception' 'Ball Recovery'\n",
      " 'Dispossessed' 'Block' 'Foul Committed' 'Foul Won' 'Error' 'Shot'\n",
      " 'Goal Keeper' 'Injury Stoppage' 'Referee Ball-Drop' '50/50' 'Clearance'\n",
      " 'Offside' 'Dribbled Past' 'Player Off' 'Player On' 'Half End'\n",
      " 'Substitution' 'Bad Behaviour' 'Tactical Shift']\n"
     ]
    }
   ],
   "source": [
    "print(events_df['type.name'].unique()[:30])\n"
   ]
  },
  {
   "cell_type": "code",
   "execution_count": 21,
   "id": "5083a845",
   "metadata": {},
   "outputs": [
    {
     "name": "stdout",
     "output_type": "stream",
     "text": [
      "        type.name         team.name      player.name\n",
      "0     Starting XI  Bayer Leverkusen              NaN\n",
      "1     Starting XI     Werder Bremen              NaN\n",
      "2      Half Start  Bayer Leverkusen              NaN\n",
      "3      Half Start     Werder Bremen              NaN\n",
      "4            Pass     Werder Bremen   Nick Woltemade\n",
      "5   Ball Receipt*     Werder Bremen   Marvin Ducksch\n",
      "6           Carry     Werder Bremen   Marvin Ducksch\n",
      "7            Pass     Werder Bremen   Marvin Ducksch\n",
      "8   Ball Receipt*     Werder Bremen   Christian Groß\n",
      "9           Carry     Werder Bremen   Christian Groß\n",
      "10           Pass     Werder Bremen   Christian Groß\n",
      "11  Ball Receipt*     Werder Bremen  Julián Malatini\n",
      "12          Carry     Werder Bremen  Julián Malatini\n",
      "13       Pressure  Bayer Leverkusen       Amine Adli\n",
      "14           Pass     Werder Bremen  Julián Malatini\n"
     ]
    }
   ],
   "source": [
    "print(events_df[['type.name', 'team.name', 'player.name']].head(15))\n"
   ]
  },
  {
   "cell_type": "code",
   "execution_count": 22,
   "id": "e8066749",
   "metadata": {},
   "outputs": [
    {
     "name": "stdout",
     "output_type": "stream",
     "text": [
      "Passes: (39214, 138)\n",
      "        player.name      team.name pass.outcome.name\n",
      "4    Nick Woltemade  Werder Bremen               NaN\n",
      "7    Marvin Ducksch  Werder Bremen               NaN\n",
      "10   Christian Groß  Werder Bremen               NaN\n",
      "14  Julián Malatini  Werder Bremen               NaN\n",
      "17  Mitchell Weiser  Werder Bremen               NaN\n"
     ]
    }
   ],
   "source": [
    "passes_df = events_df[events_df['type.name'] == \"Pass\"].copy()\n",
    "print(\"Passes:\", passes_df.shape)\n",
    "print(passes_df[['player.name', 'team.name', 'pass.outcome.name']].head())\n"
   ]
  },
  {
   "cell_type": "code",
   "execution_count": 23,
   "id": "a4f98b9f",
   "metadata": {},
   "outputs": [
    {
     "name": "stdout",
     "output_type": "stream",
     "text": [
      "Shots: (916, 138)\n",
      "                     player.name         team.name  shot.statsbomb_xg  \\\n",
      "435         Leonardo Bittencourt     Werder Bremen           0.056644   \n",
      "479  Piero Martín Hincapié Reyna  Bayer Leverkusen           0.143381   \n",
      "596              Julián Malatini     Werder Bremen           0.038188   \n",
      "683                 Jonathan Tah  Bayer Leverkusen           0.052781   \n",
      "847                 Granit Xhaka  Bayer Leverkusen           0.021272   \n",
      "\n",
      "    shot.outcome.name  \n",
      "435           Blocked  \n",
      "479             Saved  \n",
      "596           Blocked  \n",
      "683           Blocked  \n",
      "847           Blocked  \n"
     ]
    }
   ],
   "source": [
    "shots_df = events_df[events_df['type.name'] == \"Shot\"].copy()\n",
    "print(\"Shots:\", shots_df.shape)\n",
    "print(shots_df[['player.name', 'team.name', 'shot.statsbomb_xg', 'shot.outcome.name']].head())\n"
   ]
  },
  {
   "cell_type": "code",
   "execution_count": 24,
   "id": "b317ab26",
   "metadata": {},
   "outputs": [
    {
     "name": "stdout",
     "output_type": "stream",
     "text": [
      "                 player.name                 team.name  passes_completed\n",
      "0                Adam Hložek          Bayer Leverkusen               131\n",
      "1                Adrian Beck             FC Heidenheim                28\n",
      "2              Alassane Pléa  Borussia Mönchengladbach                32\n",
      "3  Alejandro Grimaldo García          Bayer Leverkusen              1783\n",
      "4        Aleksandar Pavlović             Bayern Munich                46\n"
     ]
    }
   ],
   "source": [
    "passes_df['successful'] = passes_df['pass.outcome.name'].isna()\n",
    "passes_completed = (\n",
    "    passes_df[passes_df['successful']]\n",
    "    .groupby(['player.name','team.name'])\n",
    "    .size()\n",
    "    .reset_index(name='passes_completed')\n",
    ")\n",
    "print(passes_completed.head())\n"
   ]
  },
  {
   "cell_type": "code",
   "execution_count": 25,
   "id": "354f6ebc",
   "metadata": {},
   "outputs": [
    {
     "name": "stdout",
     "output_type": "stream",
     "text": [
      "=== WEEK 3 VERIFICATION ===\n",
      "\n",
      "[Competitions]\n",
      "   competition_id        competition_name  season_id season_name\n",
      "0               9           1. Bundesliga        281   2023/2024\n",
      "1               9           1. Bundesliga         27   2015/2016\n",
      "2            1267  African Cup of Nations        107        2023\n",
      "3              16        Champions League          4   2018/2019\n",
      "4              16        Champions League          1   2017/2018\n",
      "\n",
      "[Matches]\n",
      "   match_id  match_date home_team.home_team_name away_team.away_team_name\n",
      "0   3895302  2024-04-14         Bayer Leverkusen            Werder Bremen\n",
      "1   3895292  2024-04-06             Union Berlin         Bayer Leverkusen\n",
      "2   3895333  2024-05-05      Eintracht Frankfurt         Bayer Leverkusen\n",
      "3   3895340  2024-05-12                   Bochum         Bayer Leverkusen\n",
      "4   3895348  2024-05-18         Bayer Leverkusen                 Augsburg\n",
      "Total matches loaded: 34\n",
      "\n",
      "[Events]\n",
      "Shape: (137765, 138)\n",
      "Events data not loaded.\n"
     ]
    }
   ],
   "source": [
    "print(\"=== WEEK 3 VERIFICATION ===\")\n",
    "\n",
    "# 1. Competitions check\n",
    "try:\n",
    "    print(\"\\n[Competitions]\")\n",
    "    print(competitions_df[['competition_id','competition_name','season_id','season_name']].head(5))\n",
    "except:\n",
    "    print(\"Competitions data not loaded.\")\n",
    "\n",
    "# 2. Matches check\n",
    "try:\n",
    "    print(\"\\n[Matches]\")\n",
    "    print(matches_df[['match_id','match_date','home_team.home_team_name','away_team.away_team_name']].head(5))\n",
    "    print(\"Total matches loaded:\", matches_df.shape[0])\n",
    "except:\n",
    "    print(\"Matches data not loaded.\")\n",
    "\n",
    "# 3. Events check\n",
    "try:\n",
    "    print(\"\\n[Events]\")\n",
    "    print(\"Shape:\", events_df.shape)\n",
    "    print(\"Unique matches in events:\", events_df['match_id'].nunique())\n",
    "    print(\"Sample event types:\", events_df['type.name'].unique()[:10])\n",
    "    print(\"Sample teams:\", events_df['team.name'].unique()[:5])\n",
    "except:\n",
    "    print(\"Events data not loaded.\")\n"
   ]
  },
  {
   "cell_type": "code",
   "execution_count": 26,
   "id": "6ef3210e",
   "metadata": {},
   "outputs": [],
   "source": [
    "import json\n",
    "import pandas as pd\n",
    "from pathlib import Path\n",
    "\n",
    "competitions_file = Path(r\"C:\\Users\\M.ANTONY ROJES\\Downloads\\Infosys\\open-data-master\\data\\competitions.json\")\n",
    "with open(competitions_file, \"r\", encoding=\"utf-8\") as f:\n",
    "    competitions = json.load(f)\n",
    "\n",
    "competitions_df = pd.json_normalize(competitions)\n"
   ]
  },
  {
   "cell_type": "code",
   "execution_count": 27,
   "id": "8974eac1",
   "metadata": {},
   "outputs": [],
   "source": [
    "events_root = Path(r\"C:\\Users\\M.ANTONY ROJES\\Downloads\\Infosys\\open-data-master\\data\\events\")\n",
    "\n",
    "all_events = []\n",
    "for match in matches_df['match_id'].unique():\n",
    "    f = events_root / f\"{match}.json\"\n",
    "    if f.exists():\n",
    "        with open(f, \"r\", encoding=\"utf-8\") as file:\n",
    "            all_events.extend(json.load(file))\n",
    "\n",
    "events_df = pd.json_normalize(all_events, sep=\".\")\n"
   ]
  },
  {
   "cell_type": "code",
   "execution_count": 28,
   "id": "9d16f84b",
   "metadata": {},
   "outputs": [
    {
     "name": "stdout",
     "output_type": "stream",
     "text": [
      "=== WEEK 4 VERIFICATION ===\n",
      "\n",
      "[Passes Completed]\n",
      "                     player.name         team.name  passes_completed\n",
      "111                 Granit Xhaka  Bayer Leverkusen              3045\n",
      "150                 Jonathan Tah  Bayer Leverkusen              2057\n",
      "87   Exequiel Alejandro Palacios  Bayer Leverkusen              1867\n",
      "72         Edmond Fayçal Tapsoba  Bayer Leverkusen              1783\n",
      "3      Alejandro Grimaldo García  Bayer Leverkusen              1783\n",
      "\n",
      "[Expected Goals (xG)]\n",
      "              player.name         team.name         xG\n",
      "170  Victor Okoh Boniface  Bayer Leverkusen  15.970215\n",
      "71       Jeremie Frimpong  Bayer Leverkusen   8.719662\n",
      "52          Florian Wirtz  Bayer Leverkusen   8.470831\n",
      "73          Jonas Hofmann  Bayer Leverkusen   5.709160\n",
      "139         Patrik Schick  Bayer Leverkusen   5.447158\n",
      "Assists check failed: \"['match_id'] not in index\"\n",
      "Summary check failed: name 'assists_by_player' is not defined\n"
     ]
    }
   ],
   "source": [
    "print(\"=== WEEK 4 VERIFICATION ===\")\n",
    "\n",
    "# 1. Passes Completed\n",
    "try:\n",
    "    passes_df = events_df[events_df['type.name']==\"Pass\"].copy()\n",
    "    passes_df['successful'] = passes_df['pass.outcome.name'].isna()\n",
    "    passes_completed = (\n",
    "        passes_df[passes_df['successful']]\n",
    "        .groupby(['player.name','team.name'], dropna=False)\n",
    "        .size().reset_index(name='passes_completed')\n",
    "    )\n",
    "    print(\"\\n[Passes Completed]\")\n",
    "    print(passes_completed.sort_values('passes_completed', ascending=False).head(5))\n",
    "except Exception as e:\n",
    "    print(\"Passes check failed:\", e)\n",
    "\n",
    "\n",
    "# 2. Expected Goals (xG)\n",
    "try:\n",
    "    shots_df = events_df[events_df['type.name']==\"Shot\"].copy()\n",
    "    shots_df['shot.statsbomb_xg'] = shots_df['shot.statsbomb_xg'].fillna(0.0)\n",
    "    xg_by_player = (\n",
    "        shots_df.groupby(['player.name','team.name'], dropna=False)['shot.statsbomb_xg']\n",
    "        .sum().reset_index(name='xG')\n",
    "    )\n",
    "    print(\"\\n[Expected Goals (xG)]\")\n",
    "    print(xg_by_player.sort_values('xG', ascending=False).head(5))\n",
    "except Exception as e:\n",
    "    print(\"xG check failed:\", e)\n",
    "\n",
    "\n",
    "# 3. Assists\n",
    "try:\n",
    "    goals = shots_df[shots_df['shot.outcome.name']==\"Goal\"][['match_id','id','shot.key_pass_id']].dropna().copy()\n",
    "    goals['shot.key_pass_id'] = goals['shot.key_pass_id'].astype(str)\n",
    "\n",
    "    passes_df['id'] = passes_df['id'].astype(str)\n",
    "    assists = goals.merge(passes_df[['id','player.name','team.name']], left_on='shot.key_pass_id', right_on='id')\n",
    "\n",
    "    assists_by_player = (\n",
    "        assists.groupby(['player.name','team.name'])\n",
    "        .size().reset_index(name='assists')\n",
    "    )\n",
    "    print(\"\\n[Assists]\")\n",
    "    print(assists_by_player.sort_values('assists', ascending=False).head(5))\n",
    "except Exception as e:\n",
    "    print(\"Assists check failed:\", e)\n",
    "\n",
    "\n",
    "# 4. Player Summary\n",
    "try:\n",
    "    from functools import reduce\n",
    "    summary = reduce(\n",
    "        lambda left,right: pd.merge(left, right, on=['player.name','team.name'], how='outer'),\n",
    "        [passes_completed, xg_by_player, assists_by_player]\n",
    "    ).fillna(0)\n",
    "\n",
    "    print(\"\\n[Player Summary]\")\n",
    "    print(summary.sort_values('passes_completed', ascending=False).head(10))\n",
    "except Exception as e:\n",
    "    print(\"Summary check failed:\", e)\n"
   ]
  },
  {
   "cell_type": "code",
   "execution_count": 29,
   "id": "e886cce5",
   "metadata": {},
   "outputs": [
    {
     "name": "stdout",
     "output_type": "stream",
     "text": [
      "['id', 'type.id', 'possession_team.id', 'play_pattern.id', 'team.id', 'player.id', 'position.id', 'pass.recipient.id', 'pass.height.id', 'pass.body_part.id', 'pass.type.id', 'pass.outcome.id', 'ball_receipt.outcome.id', 'dribble.outcome.id', 'duel.type.id', 'duel.outcome.id', 'interception.outcome.id', 'shot.technique.id', 'shot.body_part.id', 'shot.type.id', 'shot.outcome.id', 'goalkeeper.position.id', 'goalkeeper.type.id', 'pass.assisted_shot_id', 'shot.key_pass_id', 'goalkeeper.body_part.id', 'goalkeeper.outcome.id', 'goalkeeper.technique.id', '50_50.outcome.id', 'clearance.body_part.id', 'pass.technique.id', 'foul_committed.card.id', 'substitution.outcome.id', 'substitution.replacement.id', 'bad_behaviour.card.id', 'foul_committed.type.id']\n"
     ]
    }
   ],
   "source": [
    "print([col for col in shots_df.columns if \"match\" in col or \"id\" in col])\n"
   ]
  },
  {
   "cell_type": "code",
   "execution_count": 30,
   "id": "7c8eedda",
   "metadata": {},
   "outputs": [
    {
     "name": "stdout",
     "output_type": "stream",
     "text": [
      "                       player.name         team.name  assists\n",
      "1        Alejandro Grimaldo García  Bayer Leverkusen       13\n",
      "11                   Florian Wirtz  Bayer Leverkusen       10\n",
      "30            Victor Okoh Boniface  Bayer Leverkusen        8\n",
      "14                   Jonas Hofmann  Bayer Leverkusen        7\n",
      "13                Jeremie Frimpong  Bayer Leverkusen        7\n",
      "2                       Amine Adli  Bayer Leverkusen        5\n",
      "9      Exequiel Alejandro Palacios  Bayer Leverkusen        4\n",
      "0                      Adam Hložek  Bayer Leverkusen        2\n",
      "23                    Nathan Tella  Bayer Leverkusen        2\n",
      "4   Arthur Augusto de Matos Soares  Bayer Leverkusen        2\n"
     ]
    }
   ],
   "source": [
    "# Goals scored (shots where outcome = Goal)\n",
    "goals = shots_df[shots_df['shot.outcome.name'] == \"Goal\"][['id','shot.key_pass_id']].dropna().copy()\n",
    "goals['shot.key_pass_id'] = goals['shot.key_pass_id'].astype(str)\n",
    "\n",
    "# Prepare passes with IDs\n",
    "passes_df['id'] = passes_df['id'].astype(str)\n",
    "\n",
    "# Merge to find which passes became assists\n",
    "assists = goals.merge(\n",
    "    passes_df[['id','player.name','team.name']], \n",
    "    left_on='shot.key_pass_id', \n",
    "    right_on='id'\n",
    ")\n",
    "\n",
    "# Count assists per player\n",
    "assists_by_player = (\n",
    "    assists.groupby(['player.name','team.name'])\n",
    "    .size().reset_index(name='assists')\n",
    ")\n",
    "\n",
    "print(assists_by_player.sort_values('assists', ascending=False).head(10))\n"
   ]
  },
  {
   "cell_type": "code",
   "execution_count": 31,
   "id": "401e21ee",
   "metadata": {},
   "outputs": [
    {
     "name": "stdout",
     "output_type": "stream",
     "text": [
      "✅ All outputs saved successfully.\n"
     ]
    }
   ],
   "source": [
    "from functools import reduce\n",
    "\n",
    "# Rebuild summary from the three components\n",
    "summary = reduce(\n",
    "    lambda left,right: pd.merge(left, right, on=['player.name','team.name'], how='outer'),\n",
    "    [passes_completed, xg_by_player, assists_by_player]\n",
    ").fillna(0)\n",
    "\n",
    "# Now save everything\n",
    "events_df.to_csv(\"events_week3.csv\", index=False)\n",
    "passes_completed.to_csv(\"passes_completed.csv\", index=False)\n",
    "xg_by_player.to_csv(\"xg_by_player.csv\", index=False)\n",
    "assists_by_player.to_csv(\"assists_by_player.csv\", index=False)\n",
    "summary.to_csv(\"player_summary_week4.csv\", index=False)\n",
    "\n",
    "print(\"✅ All outputs saved successfully.\")\n"
   ]
  },
  {
   "cell_type": "code",
   "execution_count": 32,
   "id": "d273517b",
   "metadata": {},
   "outputs": [
    {
     "name": "stdout",
     "output_type": "stream",
     "text": [
      "✅ All outputs saved successfully.\n"
     ]
    }
   ],
   "source": [
    "# Save Week 3 full events dataset\n",
    "events_df.to_csv(\"events_week3.csv\", index=False)\n",
    "\n",
    "# Save Week 4 outputs\n",
    "passes_completed.to_csv(\"passes_completed.csv\", index=False)\n",
    "xg_by_player.to_csv(\"xg_by_player.csv\", index=False)\n",
    "assists_by_player.to_csv(\"assists_by_player.csv\", index=False)\n",
    "summary.to_csv(\"player_summary_week4.csv\", index=False)\n",
    "\n",
    "print(\"✅ All outputs saved successfully.\")\n"
   ]
  },
  {
   "cell_type": "code",
   "execution_count": 33,
   "id": "61384436",
   "metadata": {},
   "outputs": [
    {
     "name": "stdout",
     "output_type": "stream",
     "text": [
      "Events loaded: (137765, 138)\n",
      "['id', 'index', 'period', 'timestamp', 'minute', 'second', 'possession', 'duration', 'type.id', 'type.name', 'possession_team.id', 'possession_team.name', 'play_pattern.id', 'play_pattern.name', 'team.id', 'team.name', 'tactics.formation', 'tactics.lineup', 'related_events', 'location']\n"
     ]
    }
   ],
   "source": [
    "# WEEK 3 - MATCHES + EVENTS\n",
    "events_root = Path(r\"C:\\Users\\M.ANTONY ROJES\\Downloads\\Infosys\\open-data-master\\data\\events\")\n",
    "\n",
    "all_events = []\n",
    "for match in matches_df['match_id'].unique():\n",
    "    f = events_root / f\"{match}.json\"\n",
    "    if f.exists():\n",
    "        with open(f, \"r\", encoding=\"utf-8\") as file:\n",
    "            all_events.extend(json.load(file))\n",
    "\n",
    "events_df = pd.json_normalize(all_events, sep=\".\")\n",
    "print(\"Events loaded:\", events_df.shape)\n",
    "print(events_df.columns.tolist()[:20])  # sample cols\n"
   ]
  },
  {
   "cell_type": "code",
   "execution_count": 34,
   "id": "d35440ae",
   "metadata": {},
   "outputs": [
    {
     "name": "stdout",
     "output_type": "stream",
     "text": [
      "                 player.name                 team.name  passes_completed  \\\n",
      "0                Adam Hložek          Bayer Leverkusen             131.0   \n",
      "1                Adrian Beck             FC Heidenheim              28.0   \n",
      "2              Alassane Pléa  Borussia Mönchengladbach              32.0   \n",
      "3  Alejandro Grimaldo García          Bayer Leverkusen            1783.0   \n",
      "4        Aleksandar Pavlović             Bayern Munich              46.0   \n",
      "\n",
      "         xG  assists  \n",
      "0  3.010453      2.0  \n",
      "1  0.000000      0.0  \n",
      "2  0.023374      0.0  \n",
      "3  5.209482     13.0  \n",
      "4  0.000000      0.0  \n"
     ]
    }
   ],
   "source": [
    "# WEEK 4 - PLAYER PERFORMANCE\n",
    "from functools import reduce\n",
    "\n",
    "# Passes Completed\n",
    "passes_df = events_df[events_df['type.name']==\"Pass\"].copy()\n",
    "passes_df['successful'] = passes_df['pass.outcome.name'].isna()\n",
    "passes_completed = (\n",
    "    passes_df[passes_df['successful']]\n",
    "    .groupby(['player.name','team.name'], dropna=False)\n",
    "    .size().reset_index(name='passes_completed')\n",
    ")\n",
    "\n",
    "# Expected Goals\n",
    "shots_df = events_df[events_df['type.name']==\"Shot\"].copy()\n",
    "shots_df['shot.statsbomb_xg'] = shots_df['shot.statsbomb_xg'].fillna(0.0)\n",
    "xg_by_player = (\n",
    "    shots_df.groupby(['player.name','team.name'], dropna=False)['shot.statsbomb_xg']\n",
    "    .sum().reset_index(name='xG')\n",
    ")\n",
    "\n",
    "# Assists\n",
    "goals = shots_df[shots_df['shot.outcome.name']==\"Goal\"][['id','shot.key_pass_id']].dropna().copy()\n",
    "goals['shot.key_pass_id'] = goals['shot.key_pass_id'].astype(str)\n",
    "passes_df['id'] = passes_df['id'].astype(str)\n",
    "assists = goals.merge(passes_df[['id','player.name','team.name']], left_on='shot.key_pass_id', right_on='id')\n",
    "assists_by_player = (\n",
    "    assists.groupby(['player.name','team.name'])\n",
    "    .size().reset_index(name='assists')\n",
    ")\n",
    "\n",
    "# Merge Summary\n",
    "summary = reduce(\n",
    "    lambda left,right: pd.merge(left, right, on=['player.name','team.name'], how='outer'),\n",
    "    [passes_completed, xg_by_player, assists_by_player]\n",
    ").fillna(0)\n",
    "\n",
    "print(summary.head())\n"
   ]
  }
 ],
 "metadata": {
  "kernelspec": {
   "display_name": "Python 3",
   "language": "python",
   "name": "python3"
  },
  "language_info": {
   "codemirror_mode": {
    "name": "ipython",
    "version": 3
   },
   "file_extension": ".py",
   "mimetype": "text/x-python",
   "name": "python",
   "nbconvert_exporter": "python",
   "pygments_lexer": "ipython3",
   "version": "3.9.12"
  }
 },
 "nbformat": 4,
 "nbformat_minor": 5
}
