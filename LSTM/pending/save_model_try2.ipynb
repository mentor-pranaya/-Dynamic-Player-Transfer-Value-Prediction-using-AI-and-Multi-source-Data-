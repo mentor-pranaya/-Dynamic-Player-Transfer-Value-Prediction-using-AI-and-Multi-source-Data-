{
 "cells": [
  {
   "cell_type": "markdown",
   "id": "f2bdc8c2",
   "metadata": {},
   "source": [
    "The trained LSTM model and the fitted scaler are being saved, then reload them for forecasting later.\n",
    "\n",
    "\n",
    "1️ Train + Save"
   ]
  },
  {
   "cell_type": "code",
   "execution_count": null,
   "id": "ce1fa336",
   "metadata": {
    "vscode": {
     "languageId": "plaintext"
    }
   },
   "outputs": [],
   "source": [
    "from sklearn.preprocessing import MinMaxScaler\n",
    "from tensorflow.keras.models import Sequential\n",
    "from tensorflow.keras.layers import LSTM, Dense\n",
    "import joblib\n",
    "import os\n",
    "\n",
    "# Example: Fit scaler globally on all features\n",
    "features_cols = [\"market_value\",\"total_injuries\",\"sentiment_mean\",\"avg_cards_per_match\"]\n",
    "scaler = MinMaxScaler()\n",
    "scaler.fit(df[features_cols].fillna(0).values)\n",
    "\n",
    "# Transform the data for model training\n",
    "X, y = prepare_multivariate_sequences(df, scaler, features_cols, n_steps=3, n_future=1)\n",
    "\n",
    "# Define LSTM model\n",
    "model = Sequential([\n",
    "    LSTM(64, input_shape=(X.shape[1], X.shape[2])),\n",
    "    Dense(1)\n",
    "])\n",
    "model.compile(optimizer='adam', loss='mse')\n",
    "history = model.fit(X, y, epochs=50, batch_size=32, validation_split=0.2)\n",
    "\n",
    "# Create folder for saving\n",
    "os.makedirs(\"model_artifacts\", exist_ok=True)\n",
    "\n",
    "# Save model + scaler\n",
    "model.save(\"model_artifacts/lstm_model.h5\")\n",
    "joblib.dump(scaler, \"model_artifacts/scaler.pkl\")\n",
    "print(\"✅ Model & scaler saved\")\n"
   ]
  },
  {
   "cell_type": "markdown",
   "id": "fb8f65f5",
   "metadata": {},
   "source": [
    "2️ Reload Later"
   ]
  },
  {
   "cell_type": "code",
   "execution_count": null,
   "id": "70fcbdde",
   "metadata": {
    "vscode": {
     "languageId": "plaintext"
    }
   },
   "outputs": [],
   "source": [
    "from tensorflow.keras.models import load_model\n",
    "import joblib\n",
    "\n",
    "# Load back model + scaler\n",
    "model = load_model(\"model_artifacts/lstm_model.h5\")\n",
    "scaler = joblib.load(\"model_artifacts/scaler.pkl\")\n",
    "print(\"✅ Model & scaler loaded\")"
   ]
  },
  {
   "cell_type": "markdown",
   "id": "dfad6bc3",
   "metadata": {},
   "source": [
    "3️ Predict With Consistent Scale"
   ]
  },
  {
   "cell_type": "code",
   "execution_count": null,
   "id": "1051f423",
   "metadata": {
    "vscode": {
     "languageId": "plaintext"
    }
   },
   "outputs": [],
   "source": [
    "# Prepare new player’s data with same columns\n",
    "player_df = get_player_data(transfermarkt_id)\n",
    "\n",
    "features = player_df[features_cols].fillna(0).values\n",
    "scaled_features = scaler.transform(features)\n",
    "\n",
    "X_new, _ = make_multivariate_multistep(scaled_features, n_steps=3, n_future=1)\n",
    "\n",
    "pred_scaled = model.predict(X_new)\n",
    "\n",
    "# Inverse transform predictions (market_value)\n",
    "dummy = np.zeros((pred_scaled.shape[0], len(features_cols)))\n",
    "dummy[:,0] = pred_scaled[:,0]  # only first column = market_value\n",
    "pred_original = scaler.inverse_transform(dummy)[:,0]\n",
    "\n",
    "print(\"Predicted market values:\", pred_original)"
   ]
  },
  {
   "cell_type": "markdown",
   "id": "340b9f8a",
   "metadata": {},
   "source": [
    "Same scaler is used everywhere.\n",
    "Model file (`.h5`) and scaler file (`.pkl`) can be versioned together.\n",
    "Easy to deploy in any Python environment."
   ]
  }
 ],
 "metadata": {
  "language_info": {
   "name": "python"
  }
 },
 "nbformat": 4,
 "nbformat_minor": 5
}
