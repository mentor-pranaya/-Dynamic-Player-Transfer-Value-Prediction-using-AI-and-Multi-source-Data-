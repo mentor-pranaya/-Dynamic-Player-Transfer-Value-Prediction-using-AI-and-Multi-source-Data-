{
  "nbformat": 4,
  "nbformat_minor": 0,
  "metadata": {
    "colab": {
      "provenance": []
    },
    "kernelspec": {
      "name": "python3",
      "display_name": "Python 3"
    },
    "language_info": {
      "name": "python"
    }
  },
  "cells": [
    {
      "cell_type": "markdown",
      "source": [
        "#**Ensemble_models**\n",
        "\n",
        "Purpose:\n",
        "- Train LightGBM and XGBoost models on safe FE dataset.\n",
        "- Evaluate performance with time-based splits.\n",
        "- Compare with LSTM forecasts.\n",
        "- Explore hybrid ensemble methods (simple averaging, weighted).\n",
        "- Save results under: `sandbox/models_ensemble/`.\n"
      ],
      "metadata": {
        "id": "4xURIekHjAEL"
      }
    },
    {
      "cell_type": "markdown",
      "source": [
        "#Cell 1 – Imports & Paths\n"
      ],
      "metadata": {
        "id": "_QkLdMjpk3tt"
      }
    },
    {
      "cell_type": "code",
      "execution_count": 7,
      "metadata": {
        "colab": {
          "base_uri": "https://localhost:8080/"
        },
        "id": "x5U12wDbgh3N",
        "outputId": "f2a9885c-8a36-48b8-8be5-3b9f2add4111"
      },
      "outputs": [
        {
          "output_type": "stream",
          "name": "stdout",
          "text": [
            "Safe FE dataset: /content/drive/MyDrive/player_value_prediction_project/data/processed/master/sandbox/final_training_master_fe_safe.csv\n",
            "Ensemble outputs: /content/drive/MyDrive/player_value_prediction_project/data/processed/master/sandbox/models_ensemble\n"
          ]
        }
      ],
      "source": [
        "# Imports\n",
        "import pandas as pd\n",
        "import numpy as np\n",
        "from pathlib import Path\n",
        "import lightgbm as lgb\n",
        "import xgboost as xgb\n",
        "from sklearn.metrics import mean_squared_error, mean_absolute_error\n",
        "import matplotlib.pyplot as plt\n",
        "import seaborn as sns\n",
        "\n",
        "# Paths\n",
        "PROJ = Path(\"/content/drive/MyDrive/player_value_prediction_project\")\n",
        "SAFE_FE = PROJ / \"data\" / \"processed\" / \"master\" / \"sandbox\" / \"final_training_master_fe_safe.csv\"\n",
        "ENSEMBLE_DIR = PROJ / \"data\" / \"processed\" / \"master\" / \"sandbox\" / \"models_ensemble\"\n",
        "ENSEMBLE_DIR.mkdir(parents=True, exist_ok=True)\n",
        "\n",
        "print(\"Safe FE dataset:\", SAFE_FE)\n",
        "print(\"Ensemble outputs:\", ENSEMBLE_DIR)\n"
      ]
    },
    {
      "cell_type": "markdown",
      "source": [
        "#Cell 2 – Load dataset + sanity check\n",
        "This cell loads the safe FE dataset and checks shape, key columns, and missingness."
      ],
      "metadata": {
        "id": "PgiOVQyRlSD_"
      }
    },
    {
      "cell_type": "code",
      "source": [
        "# Cell 2 – Load dataset + sanity check\n",
        "\n",
        "# Load safe FE dataset\n",
        "df = pd.read_csv(SAFE_FE, low_memory=False)\n",
        "print(\"Loaded shape:\", df.shape)\n",
        "\n",
        "# Preview first rows\n",
        "display(df.head(3))\n",
        "\n",
        "# Check presence of key columns\n",
        "expected_cols = ['player_id', 'season', 'target_log1p']\n",
        "for col in expected_cols:\n",
        "    print(f\"{col} present?:\", col in df.columns)\n",
        "\n",
        "# Quick null percentage check\n",
        "nulls = df.isna().mean().sort_values(ascending=False).head(15) * 100\n",
        "print(\"\\nTop 15 features by % missing:\")\n",
        "display(nulls)\n"
      ],
      "metadata": {
        "colab": {
          "base_uri": "https://localhost:8080/",
          "height": 886
        },
        "id": "Dw3HKDOQlcjq",
        "outputId": "1393b3bd-2727-4863-dd8a-2f777f0f2ce7"
      },
      "execution_count": 8,
      "outputs": [
        {
          "output_type": "stream",
          "name": "stdout",
          "text": [
            "Loaded shape: (87223, 176)\n"
          ]
        },
        {
          "output_type": "display_data",
          "data": {
            "text/plain": [
              "   season            name  age_at_season_start position    sub_position  \\\n",
              "0    2012  Miroslav Klose                 34.0   Attack  Centre-Forward   \n",
              "1    2013  Miroslav Klose                 35.0   Attack  Centre-Forward   \n",
              "2    2014  Miroslav Klose                 36.0   Attack  Centre-Forward   \n",
              "\n",
              "   played_any  appearances_count  total_minutes  minutes_per_appearance  \\\n",
              "0           1                 36           2585               71.805556   \n",
              "1           1                 29           2220               76.551724   \n",
              "2           1                 40           2289               57.225000   \n",
              "\n",
              "   goals  ...  goals_per90_scaled  assists_per90_scaled  goals_per_min_scaled  \\\n",
              "0     16  ...            0.768854              0.020280              0.768854   \n",
              "1      8  ...            0.356620              0.220335              0.356620   \n",
              "2     16  ...            0.896447              0.528119              0.896447   \n",
              "\n",
              "   sb_xg_scaled  sb_shots_scaled sb_passes_scaled  \\\n",
              "0     -0.032374        -0.040526        -0.049753   \n",
              "1     -0.032374        -0.040526        -0.049753   \n",
              "2     -0.032374        -0.040526        -0.049753   \n",
              "\n",
              "   reddit_mean_compound_scaled  num_injuries_scaled  transfers_sum_fee_scaled  \\\n",
              "0                    -0.018729            -0.059164                 -0.146907   \n",
              "1                    -0.018729            -0.059164                 -0.146907   \n",
              "2                    -0.018729            -0.059164                 -0.146907   \n",
              "\n",
              "   days_since_last_transfer_scaled  \n",
              "0                        -0.361545  \n",
              "1                        -0.361545  \n",
              "2                        -0.361545  \n",
              "\n",
              "[3 rows x 176 columns]"
            ],
            "text/html": [
              "\n",
              "  <div id=\"df-38eb6fb9-b63c-4827-94fa-278a65a8508b\" class=\"colab-df-container\">\n",
              "    <div>\n",
              "<style scoped>\n",
              "    .dataframe tbody tr th:only-of-type {\n",
              "        vertical-align: middle;\n",
              "    }\n",
              "\n",
              "    .dataframe tbody tr th {\n",
              "        vertical-align: top;\n",
              "    }\n",
              "\n",
              "    .dataframe thead th {\n",
              "        text-align: right;\n",
              "    }\n",
              "</style>\n",
              "<table border=\"1\" class=\"dataframe\">\n",
              "  <thead>\n",
              "    <tr style=\"text-align: right;\">\n",
              "      <th></th>\n",
              "      <th>season</th>\n",
              "      <th>name</th>\n",
              "      <th>age_at_season_start</th>\n",
              "      <th>position</th>\n",
              "      <th>sub_position</th>\n",
              "      <th>played_any</th>\n",
              "      <th>appearances_count</th>\n",
              "      <th>total_minutes</th>\n",
              "      <th>minutes_per_appearance</th>\n",
              "      <th>goals</th>\n",
              "      <th>...</th>\n",
              "      <th>goals_per90_scaled</th>\n",
              "      <th>assists_per90_scaled</th>\n",
              "      <th>goals_per_min_scaled</th>\n",
              "      <th>sb_xg_scaled</th>\n",
              "      <th>sb_shots_scaled</th>\n",
              "      <th>sb_passes_scaled</th>\n",
              "      <th>reddit_mean_compound_scaled</th>\n",
              "      <th>num_injuries_scaled</th>\n",
              "      <th>transfers_sum_fee_scaled</th>\n",
              "      <th>days_since_last_transfer_scaled</th>\n",
              "    </tr>\n",
              "  </thead>\n",
              "  <tbody>\n",
              "    <tr>\n",
              "      <th>0</th>\n",
              "      <td>2012</td>\n",
              "      <td>Miroslav Klose</td>\n",
              "      <td>34.0</td>\n",
              "      <td>Attack</td>\n",
              "      <td>Centre-Forward</td>\n",
              "      <td>1</td>\n",
              "      <td>36</td>\n",
              "      <td>2585</td>\n",
              "      <td>71.805556</td>\n",
              "      <td>16</td>\n",
              "      <td>...</td>\n",
              "      <td>0.768854</td>\n",
              "      <td>0.020280</td>\n",
              "      <td>0.768854</td>\n",
              "      <td>-0.032374</td>\n",
              "      <td>-0.040526</td>\n",
              "      <td>-0.049753</td>\n",
              "      <td>-0.018729</td>\n",
              "      <td>-0.059164</td>\n",
              "      <td>-0.146907</td>\n",
              "      <td>-0.361545</td>\n",
              "    </tr>\n",
              "    <tr>\n",
              "      <th>1</th>\n",
              "      <td>2013</td>\n",
              "      <td>Miroslav Klose</td>\n",
              "      <td>35.0</td>\n",
              "      <td>Attack</td>\n",
              "      <td>Centre-Forward</td>\n",
              "      <td>1</td>\n",
              "      <td>29</td>\n",
              "      <td>2220</td>\n",
              "      <td>76.551724</td>\n",
              "      <td>8</td>\n",
              "      <td>...</td>\n",
              "      <td>0.356620</td>\n",
              "      <td>0.220335</td>\n",
              "      <td>0.356620</td>\n",
              "      <td>-0.032374</td>\n",
              "      <td>-0.040526</td>\n",
              "      <td>-0.049753</td>\n",
              "      <td>-0.018729</td>\n",
              "      <td>-0.059164</td>\n",
              "      <td>-0.146907</td>\n",
              "      <td>-0.361545</td>\n",
              "    </tr>\n",
              "    <tr>\n",
              "      <th>2</th>\n",
              "      <td>2014</td>\n",
              "      <td>Miroslav Klose</td>\n",
              "      <td>36.0</td>\n",
              "      <td>Attack</td>\n",
              "      <td>Centre-Forward</td>\n",
              "      <td>1</td>\n",
              "      <td>40</td>\n",
              "      <td>2289</td>\n",
              "      <td>57.225000</td>\n",
              "      <td>16</td>\n",
              "      <td>...</td>\n",
              "      <td>0.896447</td>\n",
              "      <td>0.528119</td>\n",
              "      <td>0.896447</td>\n",
              "      <td>-0.032374</td>\n",
              "      <td>-0.040526</td>\n",
              "      <td>-0.049753</td>\n",
              "      <td>-0.018729</td>\n",
              "      <td>-0.059164</td>\n",
              "      <td>-0.146907</td>\n",
              "      <td>-0.361545</td>\n",
              "    </tr>\n",
              "  </tbody>\n",
              "</table>\n",
              "<p>3 rows × 176 columns</p>\n",
              "</div>\n",
              "    <div class=\"colab-df-buttons\">\n",
              "\n",
              "  <div class=\"colab-df-container\">\n",
              "    <button class=\"colab-df-convert\" onclick=\"convertToInteractive('df-38eb6fb9-b63c-4827-94fa-278a65a8508b')\"\n",
              "            title=\"Convert this dataframe to an interactive table.\"\n",
              "            style=\"display:none;\">\n",
              "\n",
              "  <svg xmlns=\"http://www.w3.org/2000/svg\" height=\"24px\" viewBox=\"0 -960 960 960\">\n",
              "    <path d=\"M120-120v-720h720v720H120Zm60-500h600v-160H180v160Zm220 220h160v-160H400v160Zm0 220h160v-160H400v160ZM180-400h160v-160H180v160Zm440 0h160v-160H620v160ZM180-180h160v-160H180v160Zm440 0h160v-160H620v160Z\"/>\n",
              "  </svg>\n",
              "    </button>\n",
              "\n",
              "  <style>\n",
              "    .colab-df-container {\n",
              "      display:flex;\n",
              "      gap: 12px;\n",
              "    }\n",
              "\n",
              "    .colab-df-convert {\n",
              "      background-color: #E8F0FE;\n",
              "      border: none;\n",
              "      border-radius: 50%;\n",
              "      cursor: pointer;\n",
              "      display: none;\n",
              "      fill: #1967D2;\n",
              "      height: 32px;\n",
              "      padding: 0 0 0 0;\n",
              "      width: 32px;\n",
              "    }\n",
              "\n",
              "    .colab-df-convert:hover {\n",
              "      background-color: #E2EBFA;\n",
              "      box-shadow: 0px 1px 2px rgba(60, 64, 67, 0.3), 0px 1px 3px 1px rgba(60, 64, 67, 0.15);\n",
              "      fill: #174EA6;\n",
              "    }\n",
              "\n",
              "    .colab-df-buttons div {\n",
              "      margin-bottom: 4px;\n",
              "    }\n",
              "\n",
              "    [theme=dark] .colab-df-convert {\n",
              "      background-color: #3B4455;\n",
              "      fill: #D2E3FC;\n",
              "    }\n",
              "\n",
              "    [theme=dark] .colab-df-convert:hover {\n",
              "      background-color: #434B5C;\n",
              "      box-shadow: 0px 1px 3px 1px rgba(0, 0, 0, 0.15);\n",
              "      filter: drop-shadow(0px 1px 2px rgba(0, 0, 0, 0.3));\n",
              "      fill: #FFFFFF;\n",
              "    }\n",
              "  </style>\n",
              "\n",
              "    <script>\n",
              "      const buttonEl =\n",
              "        document.querySelector('#df-38eb6fb9-b63c-4827-94fa-278a65a8508b button.colab-df-convert');\n",
              "      buttonEl.style.display =\n",
              "        google.colab.kernel.accessAllowed ? 'block' : 'none';\n",
              "\n",
              "      async function convertToInteractive(key) {\n",
              "        const element = document.querySelector('#df-38eb6fb9-b63c-4827-94fa-278a65a8508b');\n",
              "        const dataTable =\n",
              "          await google.colab.kernel.invokeFunction('convertToInteractive',\n",
              "                                                    [key], {});\n",
              "        if (!dataTable) return;\n",
              "\n",
              "        const docLinkHtml = 'Like what you see? Visit the ' +\n",
              "          '<a target=\"_blank\" href=https://colab.research.google.com/notebooks/data_table.ipynb>data table notebook</a>'\n",
              "          + ' to learn more about interactive tables.';\n",
              "        element.innerHTML = '';\n",
              "        dataTable['output_type'] = 'display_data';\n",
              "        await google.colab.output.renderOutput(dataTable, element);\n",
              "        const docLink = document.createElement('div');\n",
              "        docLink.innerHTML = docLinkHtml;\n",
              "        element.appendChild(docLink);\n",
              "      }\n",
              "    </script>\n",
              "  </div>\n",
              "\n",
              "\n",
              "    <div id=\"df-59ffc158-d14c-4681-a551-d6da0073d440\">\n",
              "      <button class=\"colab-df-quickchart\" onclick=\"quickchart('df-59ffc158-d14c-4681-a551-d6da0073d440')\"\n",
              "                title=\"Suggest charts\"\n",
              "                style=\"display:none;\">\n",
              "\n",
              "<svg xmlns=\"http://www.w3.org/2000/svg\" height=\"24px\"viewBox=\"0 0 24 24\"\n",
              "     width=\"24px\">\n",
              "    <g>\n",
              "        <path d=\"M19 3H5c-1.1 0-2 .9-2 2v14c0 1.1.9 2 2 2h14c1.1 0 2-.9 2-2V5c0-1.1-.9-2-2-2zM9 17H7v-7h2v7zm4 0h-2V7h2v10zm4 0h-2v-4h2v4z\"/>\n",
              "    </g>\n",
              "</svg>\n",
              "      </button>\n",
              "\n",
              "<style>\n",
              "  .colab-df-quickchart {\n",
              "      --bg-color: #E8F0FE;\n",
              "      --fill-color: #1967D2;\n",
              "      --hover-bg-color: #E2EBFA;\n",
              "      --hover-fill-color: #174EA6;\n",
              "      --disabled-fill-color: #AAA;\n",
              "      --disabled-bg-color: #DDD;\n",
              "  }\n",
              "\n",
              "  [theme=dark] .colab-df-quickchart {\n",
              "      --bg-color: #3B4455;\n",
              "      --fill-color: #D2E3FC;\n",
              "      --hover-bg-color: #434B5C;\n",
              "      --hover-fill-color: #FFFFFF;\n",
              "      --disabled-bg-color: #3B4455;\n",
              "      --disabled-fill-color: #666;\n",
              "  }\n",
              "\n",
              "  .colab-df-quickchart {\n",
              "    background-color: var(--bg-color);\n",
              "    border: none;\n",
              "    border-radius: 50%;\n",
              "    cursor: pointer;\n",
              "    display: none;\n",
              "    fill: var(--fill-color);\n",
              "    height: 32px;\n",
              "    padding: 0;\n",
              "    width: 32px;\n",
              "  }\n",
              "\n",
              "  .colab-df-quickchart:hover {\n",
              "    background-color: var(--hover-bg-color);\n",
              "    box-shadow: 0 1px 2px rgba(60, 64, 67, 0.3), 0 1px 3px 1px rgba(60, 64, 67, 0.15);\n",
              "    fill: var(--button-hover-fill-color);\n",
              "  }\n",
              "\n",
              "  .colab-df-quickchart-complete:disabled,\n",
              "  .colab-df-quickchart-complete:disabled:hover {\n",
              "    background-color: var(--disabled-bg-color);\n",
              "    fill: var(--disabled-fill-color);\n",
              "    box-shadow: none;\n",
              "  }\n",
              "\n",
              "  .colab-df-spinner {\n",
              "    border: 2px solid var(--fill-color);\n",
              "    border-color: transparent;\n",
              "    border-bottom-color: var(--fill-color);\n",
              "    animation:\n",
              "      spin 1s steps(1) infinite;\n",
              "  }\n",
              "\n",
              "  @keyframes spin {\n",
              "    0% {\n",
              "      border-color: transparent;\n",
              "      border-bottom-color: var(--fill-color);\n",
              "      border-left-color: var(--fill-color);\n",
              "    }\n",
              "    20% {\n",
              "      border-color: transparent;\n",
              "      border-left-color: var(--fill-color);\n",
              "      border-top-color: var(--fill-color);\n",
              "    }\n",
              "    30% {\n",
              "      border-color: transparent;\n",
              "      border-left-color: var(--fill-color);\n",
              "      border-top-color: var(--fill-color);\n",
              "      border-right-color: var(--fill-color);\n",
              "    }\n",
              "    40% {\n",
              "      border-color: transparent;\n",
              "      border-right-color: var(--fill-color);\n",
              "      border-top-color: var(--fill-color);\n",
              "    }\n",
              "    60% {\n",
              "      border-color: transparent;\n",
              "      border-right-color: var(--fill-color);\n",
              "    }\n",
              "    80% {\n",
              "      border-color: transparent;\n",
              "      border-right-color: var(--fill-color);\n",
              "      border-bottom-color: var(--fill-color);\n",
              "    }\n",
              "    90% {\n",
              "      border-color: transparent;\n",
              "      border-bottom-color: var(--fill-color);\n",
              "    }\n",
              "  }\n",
              "</style>\n",
              "\n",
              "      <script>\n",
              "        async function quickchart(key) {\n",
              "          const quickchartButtonEl =\n",
              "            document.querySelector('#' + key + ' button');\n",
              "          quickchartButtonEl.disabled = true;  // To prevent multiple clicks.\n",
              "          quickchartButtonEl.classList.add('colab-df-spinner');\n",
              "          try {\n",
              "            const charts = await google.colab.kernel.invokeFunction(\n",
              "                'suggestCharts', [key], {});\n",
              "          } catch (error) {\n",
              "            console.error('Error during call to suggestCharts:', error);\n",
              "          }\n",
              "          quickchartButtonEl.classList.remove('colab-df-spinner');\n",
              "          quickchartButtonEl.classList.add('colab-df-quickchart-complete');\n",
              "        }\n",
              "        (() => {\n",
              "          let quickchartButtonEl =\n",
              "            document.querySelector('#df-59ffc158-d14c-4681-a551-d6da0073d440 button');\n",
              "          quickchartButtonEl.style.display =\n",
              "            google.colab.kernel.accessAllowed ? 'block' : 'none';\n",
              "        })();\n",
              "      </script>\n",
              "    </div>\n",
              "\n",
              "    </div>\n",
              "  </div>\n"
            ],
            "application/vnd.google.colaboratory.intrinsic+json": {
              "type": "dataframe"
            }
          },
          "metadata": {}
        },
        {
          "output_type": "stream",
          "name": "stdout",
          "text": [
            "player_id present?: False\n",
            "season present?: True\n",
            "target_log1p present?: True\n",
            "\n",
            "Top 15 features by % missing:\n"
          ]
        },
        {
          "output_type": "display_data",
          "data": {
            "text/plain": [
              "reddit_subreddits_covered      99.855543\n",
              "avg_rating_drop                99.628538\n",
              "mean_rating_after              99.606755\n",
              "mean_rating_before             99.568921\n",
              "last_transfer_date             76.724029\n",
              "target_log1p_lag1_diff         29.452094\n",
              "target_log1p_lag1              29.452094\n",
              "appearances_count_lag1         29.452094\n",
              "total_minutes_lag1_diff        29.452094\n",
              "goals_lag1_diff                29.452094\n",
              "assists_lag1_diff              29.452094\n",
              "total_minutes_lag1             29.452094\n",
              "assists_lag1                   29.452094\n",
              "appearances_count_lag1_diff    29.452094\n",
              "goals_lag1                     29.452094\n",
              "dtype: float64"
            ],
            "text/html": [
              "<div>\n",
              "<style scoped>\n",
              "    .dataframe tbody tr th:only-of-type {\n",
              "        vertical-align: middle;\n",
              "    }\n",
              "\n",
              "    .dataframe tbody tr th {\n",
              "        vertical-align: top;\n",
              "    }\n",
              "\n",
              "    .dataframe thead th {\n",
              "        text-align: right;\n",
              "    }\n",
              "</style>\n",
              "<table border=\"1\" class=\"dataframe\">\n",
              "  <thead>\n",
              "    <tr style=\"text-align: right;\">\n",
              "      <th></th>\n",
              "      <th>0</th>\n",
              "    </tr>\n",
              "  </thead>\n",
              "  <tbody>\n",
              "    <tr>\n",
              "      <th>reddit_subreddits_covered</th>\n",
              "      <td>99.855543</td>\n",
              "    </tr>\n",
              "    <tr>\n",
              "      <th>avg_rating_drop</th>\n",
              "      <td>99.628538</td>\n",
              "    </tr>\n",
              "    <tr>\n",
              "      <th>mean_rating_after</th>\n",
              "      <td>99.606755</td>\n",
              "    </tr>\n",
              "    <tr>\n",
              "      <th>mean_rating_before</th>\n",
              "      <td>99.568921</td>\n",
              "    </tr>\n",
              "    <tr>\n",
              "      <th>last_transfer_date</th>\n",
              "      <td>76.724029</td>\n",
              "    </tr>\n",
              "    <tr>\n",
              "      <th>target_log1p_lag1_diff</th>\n",
              "      <td>29.452094</td>\n",
              "    </tr>\n",
              "    <tr>\n",
              "      <th>target_log1p_lag1</th>\n",
              "      <td>29.452094</td>\n",
              "    </tr>\n",
              "    <tr>\n",
              "      <th>appearances_count_lag1</th>\n",
              "      <td>29.452094</td>\n",
              "    </tr>\n",
              "    <tr>\n",
              "      <th>total_minutes_lag1_diff</th>\n",
              "      <td>29.452094</td>\n",
              "    </tr>\n",
              "    <tr>\n",
              "      <th>goals_lag1_diff</th>\n",
              "      <td>29.452094</td>\n",
              "    </tr>\n",
              "    <tr>\n",
              "      <th>assists_lag1_diff</th>\n",
              "      <td>29.452094</td>\n",
              "    </tr>\n",
              "    <tr>\n",
              "      <th>total_minutes_lag1</th>\n",
              "      <td>29.452094</td>\n",
              "    </tr>\n",
              "    <tr>\n",
              "      <th>assists_lag1</th>\n",
              "      <td>29.452094</td>\n",
              "    </tr>\n",
              "    <tr>\n",
              "      <th>appearances_count_lag1_diff</th>\n",
              "      <td>29.452094</td>\n",
              "    </tr>\n",
              "    <tr>\n",
              "      <th>goals_lag1</th>\n",
              "      <td>29.452094</td>\n",
              "    </tr>\n",
              "  </tbody>\n",
              "</table>\n",
              "</div><br><label><b>dtype:</b> float64</label>"
            ]
          },
          "metadata": {}
        }
      ]
    },
    {
      "cell_type": "markdown",
      "source": [
        "### Cell 3 – Train-test split (time-based) + feature selection\n",
        "\n",
        "We prepare the dataset for ensemble models:\n",
        "\n",
        "- **Target:** `target_log1p` (log-transformed player value).\n",
        "- **Drop columns:** identifiers (`season`, `name`, `row_id`) and target-related (`target_*`, `target_eur`, `target_choice`).\n",
        "- **Features:** all remaining numeric and categorical engineered columns.\n",
        "- **Split rule:**\n",
        "  - Train = all seasons **≤ 2022**  \n",
        "  - Test = seasons **2023–2024**  \n",
        "\n",
        "This ensures no data leakage across time, keeping evaluation realistic for future seasons.\n"
      ],
      "metadata": {
        "id": "Ir5FW94ioLr4"
      }
    },
    {
      "cell_type": "markdown",
      "source": [
        "## 3.1 Create row_id and drop obvious leakage columns  \n",
        "\n",
        "- Build a unique `row_id` = season + player name (for safe indexing).  \n",
        "- Drop columns that could leak future info or identifiers.\n"
      ],
      "metadata": {
        "id": "kmGaFrRS8JH4"
      }
    },
    {
      "cell_type": "code",
      "source": [
        "#Cell 3.1 - Create row_id, drop leakage columns\n",
        "df['row_id'] = df['season'].astype(str) + \"_\" + df['name'].astype(str)\n"
      ],
      "metadata": {
        "id": "Vv9Eh6Yimx3I"
      },
      "execution_count": 9,
      "outputs": []
    },
    {
      "cell_type": "markdown",
      "source": [
        "## 3.2 Train/test split (time-based)  \n",
        "\n",
        "Split data by season:  \n",
        "- Train = seasons ≤ 2021  \n",
        "- Test = seasons ≥ 2022\n"
      ],
      "metadata": {
        "id": "maIuqXMK8K2h"
      }
    },
    {
      "cell_type": "code",
      "source": [
        "# Cell 3.2 – Train-test split (time-based) + feature selection\n",
        "\n",
        "# Target\n",
        "target_col = \"target_log1p\"\n",
        "\n",
        "# Drop non-feature columns\n",
        "drop_cols = [\n",
        "    \"name\", \"season\", \"row_id\",\n",
        "    target_col, \"target_eur\", \"target_choice\"\n",
        "]\n",
        "feature_cols = [c for c in df.columns if c not in drop_cols]\n",
        "\n",
        "print(\"Total features available for modeling:\", len(feature_cols))\n",
        "\n",
        "# Train/test split by season\n",
        "cutoff_year = 2022\n",
        "train_df = df[df[\"season\"] <= cutoff_year].copy()\n",
        "test_df  = df[df[\"season\"] > cutoff_year].copy()\n",
        "\n",
        "print(\"Train shape:\", train_df.shape)\n",
        "print(\"Test shape:\", test_df.shape)\n",
        "\n",
        "# X, y\n",
        "X_train, y_train = train_df[feature_cols], train_df[target_col]\n",
        "X_test, y_test   = test_df[feature_cols], test_df[target_col]\n",
        "\n",
        "print(\"X_train:\", X_train.shape, \"y_train:\", y_train.shape)\n",
        "print(\"X_test:\", X_test.shape, \"y_test:\", y_test.shape)\n"
      ],
      "metadata": {
        "colab": {
          "base_uri": "https://localhost:8080/"
        },
        "id": "qoyCqbUToM3R",
        "outputId": "01682950-30c6-455b-c34b-1a5b4ca247b3"
      },
      "execution_count": 10,
      "outputs": [
        {
          "output_type": "stream",
          "name": "stdout",
          "text": [
            "Total features available for modeling: 171\n",
            "Train shape: (74236, 177)\n",
            "Test shape: (12987, 177)\n",
            "X_train: (74236, 171) y_train: (74236,)\n",
            "X_test: (12987, 171) y_test: (12987,)\n"
          ]
        }
      ]
    },
    {
      "cell_type": "markdown",
      "source": [
        "## 3.3 Encode categorical features  \n",
        "\n",
        "Encode `position`, `sub_position`, `foot`, `age_bucket` as integers.  \n",
        "Keep only numeric/bool features for modeling.\n"
      ],
      "metadata": {
        "id": "UAX6svaP8PYc"
      }
    },
    {
      "cell_type": "code",
      "source": [
        "# Cell 3.3 — Encode categorical features (cleaned & fixed)\n",
        "\n",
        "from sklearn.preprocessing import LabelEncoder\n",
        "\n",
        "# Drop raw date/object columns that aren’t meaningful for modeling\n",
        "drop_obj_cols = [\n",
        "    'reddit_subreddits_covered',\n",
        "    'last_transfer_date', 'first_match_date', 'last_match_date',\n",
        "    'first_date', 'last_date', 'date_of_birth', 'season_start_date',\n",
        "    'name_norm'\n",
        "]\n",
        "\n",
        "df_enc = df.drop(columns=[c for c in drop_obj_cols if c in df.columns])\n",
        "\n",
        "# Encode actual categorical columns\n",
        "cat_cols = [c for c in ['position', 'sub_position', 'foot', 'age_bucket'] if c in df_enc.columns]\n",
        "print(\"Categorical columns to encode:\", cat_cols)\n",
        "\n",
        "for c in cat_cols:\n",
        "    le = LabelEncoder()\n",
        "    df_enc[c] = le.fit_transform(df_enc[c].astype(str))\n",
        "\n",
        "print(\"\\nEncoded dataframe dtypes:\")\n",
        "print(df_enc.dtypes.value_counts())\n",
        "\n",
        "# Recreate X, y\n",
        "X = df_enc.drop(columns=[target_col, 'row_id'])\n",
        "y = df_enc[target_col]\n",
        "\n",
        "# Redo train/test split (time-based, consistent with earlier)\n",
        "train_mask = df_enc['season'] <= 2021\n",
        "test_mask = df_enc['season'] > 2021\n",
        "\n",
        "X_train, y_train = X[train_mask], y[train_mask]\n",
        "X_test, y_test = X[test_mask], y[test_mask]\n",
        "\n",
        "print(\"\\nShapes after encoding & split:\")\n",
        "print(\"X_train:\", X_train.shape, \"y_train:\", y_train.shape)\n",
        "print(\"X_test:\", X_test.shape, \"y_test:\", y_test.shape)\n",
        "\n",
        "# Quick peek at encoded features\n",
        "print(\"\\nSample encoded rows (head):\")\n",
        "print(X_train.head(3)[cat_cols])\n"
      ],
      "metadata": {
        "colab": {
          "base_uri": "https://localhost:8080/"
        },
        "id": "qM18Xer6p7gj",
        "outputId": "b2354386-dbe7-4cc0-990c-2aa055e0cf7a"
      },
      "execution_count": 11,
      "outputs": [
        {
          "output_type": "stream",
          "name": "stdout",
          "text": [
            "Categorical columns to encode: ['position', 'sub_position', 'foot', 'age_bucket']\n",
            "\n",
            "Encoded dataframe dtypes:\n",
            "float64    102\n",
            "int64       50\n",
            "bool        13\n",
            "object       3\n",
            "Name: count, dtype: int64\n",
            "\n",
            "Shapes after encoding & split:\n",
            "X_train: (67138, 166) y_train: (67138,)\n",
            "X_test: (20085, 166) y_test: (20085,)\n",
            "\n",
            "Sample encoded rows (head):\n",
            "   position  sub_position  foot  age_bucket\n",
            "0         0             3     3           5\n",
            "1         0             3     3           5\n",
            "2         0             3     3           5\n"
          ]
        }
      ]
    },
    {
      "cell_type": "markdown",
      "source": [
        "## 3.4 Final cleanup  \n",
        "\n",
        "Drop leftover object columns (`name`, `target_choice`, etc.)  \n",
        "Confirm all features are numeric or boolean before modeling.\n"
      ],
      "metadata": {
        "id": "Z9upLlBM8Yp9"
      }
    },
    {
      "cell_type": "code",
      "source": [
        "# Cell 3.4 — Drop leftover object columns\n",
        "\n",
        "obj_cols_left = X_train.select_dtypes(include=['object']).columns.tolist()\n",
        "print(\"Dropping leftover object columns:\", obj_cols_left)\n",
        "\n",
        "X_train = X_train.drop(columns=obj_cols_left)\n",
        "X_test = X_test.drop(columns=obj_cols_left)\n",
        "\n",
        "print(\"Final dtypes after cleanup:\", X_train.dtypes.value_counts())\n",
        "print(\"Final train shape:\", X_train.shape, \"test shape:\", X_test.shape)\n"
      ],
      "metadata": {
        "colab": {
          "base_uri": "https://localhost:8080/"
        },
        "id": "_h2Xy1S0sKmR",
        "outputId": "33422a20-238e-4be2-ebeb-2f0b7588f532"
      },
      "execution_count": 12,
      "outputs": [
        {
          "output_type": "stream",
          "name": "stdout",
          "text": [
            "Dropping leftover object columns: ['name', 'target_choice']\n",
            "Final dtypes after cleanup: float64    101\n",
            "int64       50\n",
            "bool        13\n",
            "Name: count, dtype: int64\n",
            "Final train shape: (67138, 164) test shape: (20085, 164)\n"
          ]
        }
      ]
    },
    {
      "cell_type": "markdown",
      "source": [
        "## 4.1 Train baseline LightGBM model  \n",
        "\n",
        "Train LightGBM on safe dataset:  \n",
        "- Evaluate RMSE & MAE on test set  \n",
        "- Extract feature importance\n"
      ],
      "metadata": {
        "id": "qmFw7jgJ8iSc"
      }
    },
    {
      "cell_type": "code",
      "source": [
        "# Cell 4.1 — LightGBM baseline training\n",
        "\n",
        "import lightgbm as lgb\n",
        "from sklearn.metrics import mean_squared_error, mean_absolute_error\n",
        "import numpy as np\n",
        "import pandas as pd\n",
        "import matplotlib.pyplot as plt\n",
        "\n",
        "# Create LightGBM datasets\n",
        "lgb_train = lgb.Dataset(X_train, y_train)\n",
        "lgb_test = lgb.Dataset(X_test, y_test, reference=lgb_train)\n",
        "\n",
        "# Params\n",
        "params = {\n",
        "    'objective': 'regression',\n",
        "    'metric': 'rmse',\n",
        "    'boosting_type': 'gbdt',\n",
        "    'learning_rate': 0.05,\n",
        "    'num_leaves': 64,\n",
        "    'feature_fraction': 0.9,\n",
        "    'bagging_fraction': 0.8,\n",
        "    'bagging_freq': 5,\n",
        "    'verbose': -1\n",
        "}\n",
        "\n",
        "# Train with early stopping\n",
        "bst = lgb.train(\n",
        "    params,\n",
        "    lgb_train,\n",
        "    valid_sets=[lgb_train, lgb_test],\n",
        "    num_boost_round=1000,\n",
        "    callbacks=[lgb.early_stopping(stopping_rounds=50), lgb.log_evaluation(100)]\n",
        ")\n",
        "\n",
        "# Predictions\n",
        "y_pred = bst.predict(X_test, num_iteration=bst.best_iteration)\n",
        "\n",
        "# Metrics\n",
        "rmse = np.sqrt(mean_squared_error(y_test, y_pred))\n",
        "mae = mean_absolute_error(y_test, y_pred)\n",
        "print(f\"Baseline LightGBM RMSE: {rmse:.4f}, MAE: {mae:.4f}\")\n",
        "\n",
        "# Feature importance\n",
        "fi = pd.DataFrame({\n",
        "    'feature': X_train.columns,\n",
        "    'importance': bst.feature_importance()\n",
        "}).sort_values('importance', ascending=False)\n",
        "\n",
        "# Define model dir inside sandbox\n",
        "from pathlib import Path\n",
        "\n",
        "MODEL_DIR = Path(\"/content/drive/MyDrive/player_value_prediction_project/data/processed/master/sandbox/models\")\n",
        "MODEL_DIR.mkdir(parents=True, exist_ok=True)\n",
        "\n",
        "# Save feature importance\n",
        "fi.to_csv(MODEL_DIR / \"lgbm_feature_importance.csv\", index=False)\n",
        "print(\"Saved feature importance to:\", MODEL_DIR / \"lgbm_feature_importance.csv\")\n",
        "\n",
        "\n",
        "# Plot top 20\n",
        "plt.figure(figsize=(8,6))\n",
        "plt.barh(fi.head(20)['feature'][::-1], fi.head(20)['importance'][::-1])\n",
        "plt.title(\"LightGBM Feature Importance (Top 20)\")\n",
        "plt.show()\n"
      ],
      "metadata": {
        "colab": {
          "base_uri": "https://localhost:8080/",
          "height": 704
        },
        "id": "h--mwsPeshuD",
        "outputId": "247d63ec-d3ee-4c18-875f-0c4017e6d363"
      },
      "execution_count": 13,
      "outputs": [
        {
          "output_type": "stream",
          "name": "stdout",
          "text": [
            "Training until validation scores don't improve for 50 rounds\n",
            "[100]\ttraining's rmse: 0.0185236\tvalid_1's rmse: 0.0188335\n",
            "[200]\ttraining's rmse: 0.00170216\tvalid_1's rmse: 0.0106587\n",
            "[300]\ttraining's rmse: 0.00149923\tvalid_1's rmse: 0.0105758\n",
            "Early stopping, best iteration is:\n",
            "[295]\ttraining's rmse: 0.00151092\tvalid_1's rmse: 0.0105451\n",
            "Baseline LightGBM RMSE: 0.0105, MAE: 0.0003\n",
            "Saved feature importance to: /content/drive/MyDrive/player_value_prediction_project/data/processed/master/sandbox/models/lgbm_feature_importance.csv\n"
          ]
        },
        {
          "output_type": "display_data",
          "data": {
            "text/plain": [
              "<Figure size 800x600 with 1 Axes>"
            ],
            "image/png": "[encoded data removed]"
          },
          "metadata": {}
        }
      ]
    },
    {
      "cell_type": "markdown",
      "source": [
        "## 4.2 Save LightGBM artifacts  \n",
        "\n",
        "Save feature importance and trained model into  \n",
        "`sandbox/models_ensemble/`.\n"
      ],
      "metadata": {
        "id": "gG05Pugo8zVK"
      }
    },
    {
      "cell_type": "code",
      "source": [
        "# Cell 4.3 — Save LightGBM artifacts under models_ensemble\n",
        "\n",
        "from pathlib import Path\n",
        "import joblib\n",
        "\n",
        "# Define ensemble model directory\n",
        "ENSEMBLE_DIR = Path(\"/content/drive/MyDrive/player_value_prediction_project/data/processed/master/sandbox/models_ensemble\")\n",
        "ENSEMBLE_DIR.mkdir(parents=True, exist_ok=True)\n",
        "\n",
        "# Save feature importance\n",
        "fi.to_csv(ENSEMBLE_DIR / \"lgbm_feature_importance.csv\", index=False)\n",
        "\n",
        "# Save trained LightGBM model\n",
        "bst.save_model(str(ENSEMBLE_DIR / \"lgbm_baseline.txt\"))\n",
        "\n",
        "print(\"Saved artifacts to:\", ENSEMBLE_DIR)\n",
        "print(\" - Feature importance → lgbm_feature_importance.csv\")\n",
        "print(\" - Model → lgbm_baseline.txt\")\n"
      ],
      "metadata": {
        "colab": {
          "base_uri": "https://localhost:8080/"
        },
        "id": "i9hY24UGomNr",
        "outputId": "fc2d473f-92d4-4d8a-f9ad-1e5f884e8eab"
      },
      "execution_count": 14,
      "outputs": [
        {
          "output_type": "stream",
          "name": "stdout",
          "text": [
            "Saved artifacts to: /content/drive/MyDrive/player_value_prediction_project/data/processed/master/sandbox/models_ensemble\n",
            " - Feature importance → lgbm_feature_importance.csv\n",
            " - Model → lgbm_baseline.txt\n"
          ]
        }
      ]
    },
    {
      "cell_type": "markdown",
      "source": [
        "## 4.3 Load LSTM predictions  \n",
        "\n",
        "Import predictions from LSTM notebook outputs (stored in sandbox/models_lstm).  \n",
        "These will be combined with LightGBM results.\n"
      ],
      "metadata": {
        "id": "0cTQNreF-ahL"
      }
    },
    {
      "cell_type": "code",
      "source": [
        "# --- Cell 4.3 (patched): Load LSTM predictions (index alignment) ---\n",
        "\n",
        "from pathlib import Path\n",
        "import pandas as pd\n",
        "\n",
        "BASE_DIR = Path(\"/content/drive/MyDrive/player_value_prediction_project/data/processed/master/sandbox\")\n",
        "LSTM_DIR = BASE_DIR / \"models_lstm\"\n",
        "\n",
        "print(\"Expecting files in:\")\n",
        "print(\" - Univariate:\", LSTM_DIR / \"univariate\")\n",
        "print(\" - Multivariate:\", LSTM_DIR / \"multivariate\")\n",
        "print(\" - Multivariate tuned:\", LSTM_DIR / \"multivariate_tuned\")\n",
        "print(\" - Encoder-decoder:\", LSTM_DIR / \"multivariate_tuned\" / \"encoder_decoder\")\n",
        "\n",
        "# Load preds\n",
        "lstm_uni = pd.read_csv(LSTM_DIR / \"univariate/lstm_univariate_predictions.csv\")\n",
        "lstm_mv = pd.read_csv(LSTM_DIR / \"multivariate/lstm_multivariate_predictions.csv\")\n",
        "\n",
        "# Multivariate tuned optional\n",
        "mv_tuned_path = LSTM_DIR / \"multivariate_tuned/lstm_multivariate_tuned_predictions.csv\"\n",
        "lstm_mv_tuned = pd.read_csv(mv_tuned_path) if mv_tuned_path.exists() else None\n",
        "\n",
        "# Encoder-decoder\n",
        "encdec = pd.read_csv(LSTM_DIR / \"multivariate_tuned/encoder_decoder/encoder_decoder_predictions.csv\")\n",
        "\n",
        "print(\"Loaded uni:\", lstm_uni.shape, \"cols:\", lstm_uni.columns.tolist())\n",
        "print(\"Loaded mv:\", lstm_mv.shape, \"cols:\", lstm_mv.columns.tolist())\n",
        "if lstm_mv_tuned is not None:\n",
        "    print(\"Loaded mv_tuned:\", lstm_mv_tuned.shape)\n",
        "print(\"Loaded encoder-decoder:\", encdec.shape, \"cols:\", encdec.columns.tolist())\n",
        "\n",
        "# Note: No row_id → we’ll align by index later in Cell 4.4\n"
      ],
      "metadata": {
        "colab": {
          "base_uri": "https://localhost:8080/"
        },
        "id": "ermieSrV-IiD",
        "outputId": "d1689a82-55e2-42c5-893c-8e4aa6059d7b"
      },
      "execution_count": 16,
      "outputs": [
        {
          "output_type": "stream",
          "name": "stdout",
          "text": [
            "Expecting files in:\n",
            " - Univariate: /content/drive/MyDrive/player_value_prediction_project/data/processed/master/sandbox/models_lstm/univariate\n",
            " - Multivariate: /content/drive/MyDrive/player_value_prediction_project/data/processed/master/sandbox/models_lstm/multivariate\n",
            " - Multivariate tuned: /content/drive/MyDrive/player_value_prediction_project/data/processed/master/sandbox/models_lstm/multivariate_tuned\n",
            " - Encoder-decoder: /content/drive/MyDrive/player_value_prediction_project/data/processed/master/sandbox/models_lstm/multivariate_tuned/encoder_decoder\n",
            "Loaded uni: (6639, 3) cols: ['y_true', 'y_pred', 'target_year']\n",
            "Loaded mv: (6639, 3) cols: ['y_true', 'y_pred', 'target_year']\n",
            "Loaded encoder-decoder: (1344, 7) cols: ['y_true_h1', 'y_true_h2', 'y_true_h3', 'y_pred_h1', 'y_pred_h2', 'y_pred_h3', 'target_year_last']\n"
          ]
        }
      ]
    },
    {
      "cell_type": "markdown",
      "source": [
        "### Cell 4.4 — Ensemble blending (LightGBM + LSTM)\n",
        "\n",
        "Now that we have predictions from both **LightGBM** (tabular features) and **LSTM** (sequential modeling),  \n",
        "we combine them into ensemble models:\n",
        "\n",
        "1. **Simple Average Blend** → Equal weight for LightGBM and LSTM.  \n",
        "2. **Weighted Blend** → Give LightGBM 70% weight and LSTM 30%.  \n",
        "\n",
        "We then evaluate RMSE and MAE for each strategy and save the ensemble predictions for later analysis.\n"
      ],
      "metadata": {
        "id": "GWT7bX3I46_g"
      }
    },
    {
      "cell_type": "code",
      "source": [
        "# 📌 Cell 4.4 – Weighted Ensemble (LightGBM + Uni-LSTM + MV-LSTM aligned)\n",
        "\n",
        "import numpy as np\n",
        "from sklearn.metrics import mean_squared_error, mean_absolute_error\n",
        "\n",
        "# --- Ensemble weights ---\n",
        "w_lgbm = 0.7\n",
        "w_uni = 0.2\n",
        "w_mv = 0.1\n",
        "\n",
        "# Make sure we only take the prediction column as 1D arrays\n",
        "uni_pred_arr = lstm_uni[\"y_pred\"].values\n",
        "mv_pred_arr = lstm_mv[\"y_pred\"].values\n",
        "\n",
        "# Align by min length of all three arrays\n",
        "min_len = min(len(y_true_tabular), len(uni_pred_arr), len(mv_pred_arr))\n",
        "y_true = y_true_tabular[:min_len]\n",
        "lgbm_preds_trim = lgbm_preds[:min_len]\n",
        "uni_preds_trim = uni_pred_arr[:min_len]\n",
        "mv_preds_trim = mv_pred_arr[:min_len]\n",
        "\n",
        "# Weighted ensemble\n",
        "ensemble_preds = (\n",
        "    w_lgbm * lgbm_preds_trim +\n",
        "    w_uni * uni_preds_trim +\n",
        "    w_mv * mv_preds_trim\n",
        ")\n",
        "\n",
        "# --- Metrics ---\n",
        "rmse = np.sqrt(mean_squared_error(y_true, ensemble_preds))\n",
        "mae = mean_absolute_error(y_true, ensemble_preds)\n",
        "\n",
        "print(f\"Weighted Ensemble (LGBM + Uni + MV) RMSE: {rmse:.4f}, MAE: {mae:.4f}\")\n"
      ],
      "metadata": {
        "colab": {
          "base_uri": "https://localhost:8080/",
          "height": 211
        },
        "id": "xXws3r895G1n",
        "outputId": "0bb8437e-5070-4139-d499-0787a43d7779"
      },
      "execution_count": 22,
      "outputs": [
        {
          "output_type": "error",
          "ename": "ValueError",
          "evalue": "operands could not be broadcast together with shapes (1344,) (6639,) ",
          "traceback": [
            "\u001b[0;31m---------------------------------------------------------------------------\u001b[0m",
            "\u001b[0;31mValueError\u001b[0m                                Traceback (most recent call last)",
            "\u001b[0;32m/tmp/ipython-input-1086191065.py\u001b[0m in \u001b[0;36m<cell line: 0>\u001b[0;34m()\u001b[0m\n\u001b[1;32m     22\u001b[0m \u001b[0;31m# Weighted ensemble\u001b[0m\u001b[0;34m\u001b[0m\u001b[0;34m\u001b[0m\u001b[0m\n\u001b[1;32m     23\u001b[0m ensemble_preds = (\n\u001b[0;32m---> 24\u001b[0;31m     \u001b[0mw_lgbm\u001b[0m \u001b[0;34m*\u001b[0m \u001b[0mlgbm_preds_trim\u001b[0m \u001b[0;34m+\u001b[0m\u001b[0;34m\u001b[0m\u001b[0;34m\u001b[0m\u001b[0m\n\u001b[0m\u001b[1;32m     25\u001b[0m     \u001b[0mw_uni\u001b[0m \u001b[0;34m*\u001b[0m \u001b[0muni_preds_trim\u001b[0m \u001b[0;34m+\u001b[0m\u001b[0;34m\u001b[0m\u001b[0;34m\u001b[0m\u001b[0m\n\u001b[1;32m     26\u001b[0m     \u001b[0mw_mv\u001b[0m \u001b[0;34m*\u001b[0m \u001b[0mmv_preds_trim\u001b[0m\u001b[0;34m\u001b[0m\u001b[0;34m\u001b[0m\u001b[0m\n",
            "\u001b[0;31mValueError\u001b[0m: operands could not be broadcast together with shapes (1344,) (6639,) "
          ]
        }
      ]
    }
  ]
}