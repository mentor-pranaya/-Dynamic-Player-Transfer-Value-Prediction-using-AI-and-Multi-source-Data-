{
 "cells": [
  {
   "cell_type": "code",
   "execution_count": 1,
   "id": "c4f880ee",
   "metadata": {},
   "outputs": [
    {
     "name": "stdout",
     "output_type": "stream",
     "text": [
      "X_train: (916, 3, 7) X_test: (229, 3, 7)\n"
     ]
    }
   ],
   "source": [
    "import pandas as pd\n",
    "import numpy as np\n",
    "from sklearn.model_selection import train_test_split\n",
    "from sklearn.preprocessing import MinMaxScaler\n",
    "\n",
    "# Load dataset\n",
    "df = pd.read_csv(r\"C:\\Users\\M.ANTONY ROJES\\Downloads\\Infosys\\data\\feature_engineered\\player_features_model_all_imputed.csv\")\n",
    "\n",
    "# Features and target\n",
    "features = ['passes_attempted', 'expected_goals', 'goals', 'assists',\n",
    "            'injury_count', 'total_days_out', 'avg_market_value']\n",
    "target = 'avg_market_value'\n",
    "\n",
    "# Scaling\n",
    "scaler = MinMaxScaler(feature_range=(0,1))\n",
    "scaled_data = scaler.fit_transform(df[features])\n",
    "\n",
    "# Create sequences\n",
    "def create_sequences(data, n_steps):\n",
    "    X, y = [], []\n",
    "    for i in range(len(data)):\n",
    "        end_ix = i + n_steps\n",
    "        if end_ix > len(data)-1:\n",
    "            break\n",
    "        seq_x, seq_y = data[i:end_ix, :], data[end_ix, -1]\n",
    "        X.append(seq_x)\n",
    "        y.append(seq_y)\n",
    "    return np.array(X), np.array(y)\n",
    "\n",
    "n_steps = 3\n",
    "X, y = create_sequences(scaled_data, n_steps)\n",
    "\n",
    "# Train/test split\n",
    "X_train, X_test, y_train, y_test = train_test_split(X, y, test_size=0.2, shuffle=False)\n",
    "\n",
    "print(\"X_train:\", X_train.shape, \"X_test:\", X_test.shape)\n"
   ]
  },
  {
   "cell_type": "code",
   "execution_count": 2,
   "id": "d8ec9d9a",
   "metadata": {},
   "outputs": [
    {
     "name": "stdout",
     "output_type": "stream",
     "text": [
      "Reloading Tuner from week7_tuning\\lstm_tuning\\tuner0.json\n",
      "WARNING:tensorflow:From c:\\Users\\M.ANTONY ROJES\\Downloads\\Infosys\\.venv\\lib\\site-packages\\keras\\src\\backend\\common\\global_state.py:82: The name tf.reset_default_graph is deprecated. Please use tf.compat.v1.reset_default_graph instead.\n",
      "\n"
     ]
    },
    {
     "name": "stderr",
     "output_type": "stream",
     "text": [
      "c:\\Users\\M.ANTONY ROJES\\Downloads\\Infosys\\.venv\\lib\\site-packages\\keras\\src\\layers\\rnn\\rnn.py:199: UserWarning: Do not pass an `input_shape`/`input_dim` argument to a layer. When using Sequential models, prefer using an `Input(shape)` object as the first layer in the model instead.\n",
      "  super().__init__(**kwargs)\n",
      "c:\\Users\\M.ANTONY ROJES\\Downloads\\Infosys\\.venv\\lib\\site-packages\\keras\\src\\saving\\saving_lib.py:802: UserWarning: Skipping variable loading for optimizer 'adam', because it has 2 variables whereas the saved optimizer has 12 variables. \n",
      "  saveable.load_own_variables(weights_store.get(inner_path))\n"
     ]
    },
    {
     "name": "stdout",
     "output_type": "stream",
     "text": [
      "✅ Best Hyperparameters:\n",
      "{'units': 96, 'dropout': 0.0, 'learning_rate': 0.0001}\n"
     ]
    },
    {
     "name": "stderr",
     "output_type": "stream",
     "text": [
      "WARNING:absl:You are saving your model as an HDF5 file via `model.save()` or `keras.saving.save_model(model)`. This file format is considered legacy. We recommend using instead the native Keras format, e.g. `model.save('my_model.keras')` or `keras.saving.save_model(model, 'my_model.keras')`. \n"
     ]
    },
    {
     "name": "stdout",
     "output_type": "stream",
     "text": [
      "\n",
      "Tuned LSTM - Validation Loss: 0.0116, MAE: 0.0621\n"
     ]
    }
   ],
   "source": [
    "import tensorflow as tf\n",
    "from tensorflow import keras\n",
    "from tensorflow.keras import layers\n",
    "import keras_tuner as kt\n",
    "\n",
    "# Step 2a: Define LSTM model builder for KerasTuner\n",
    "def build_lstm_model(hp):\n",
    "    model = keras.Sequential()\n",
    "    \n",
    "    # LSTM layer units (tunable)\n",
    "    model.add(\n",
    "        layers.LSTM(\n",
    "            units=hp.Int(\"units\", min_value=32, max_value=128, step=32),\n",
    "            activation=\"relu\",\n",
    "            input_shape=(X_train.shape[1], X_train.shape[2])\n",
    "        )\n",
    "    )\n",
    "    \n",
    "    # Optional Dropout\n",
    "    model.add(\n",
    "        layers.Dropout(\n",
    "            rate=hp.Choice(\"dropout\", values=[0.0, 0.2, 0.3])\n",
    "        )\n",
    "    )\n",
    "    \n",
    "    # Dense output layer\n",
    "    model.add(layers.Dense(1))\n",
    "    \n",
    "    # Optimizer learning rate tuning\n",
    "    model.compile(\n",
    "        optimizer=keras.optimizers.Adam(\n",
    "            learning_rate=hp.Choice(\"learning_rate\", values=[1e-2, 1e-3, 1e-4])\n",
    "        ),\n",
    "        loss=\"mean_squared_error\",\n",
    "        metrics=[\"mae\"]\n",
    "    )\n",
    "    return model\n",
    "\n",
    "# Step 2b: Initialize tuner\n",
    "tuner = kt.RandomSearch(\n",
    "    build_lstm_model,\n",
    "    objective=\"val_loss\",\n",
    "    max_trials=5,  # Try 5 combinations (increase if you want deeper search)\n",
    "    executions_per_trial=1,\n",
    "    directory=\"week7_tuning\",\n",
    "    project_name=\"lstm_tuning\"\n",
    ")\n",
    "\n",
    "# Step 2c: Run tuning\n",
    "tuner.search(X_train, y_train, epochs=20, validation_data=(X_test, y_test), verbose=1)\n",
    "\n",
    "# Step 2d: Get best model\n",
    "best_lstm_model = tuner.get_best_models(num_models=1)[0]\n",
    "best_hyperparameters = tuner.get_best_hyperparameters(1)[0]\n",
    "\n",
    "print(\"✅ Best Hyperparameters:\")\n",
    "print(best_hyperparameters.values)\n",
    "\n",
    "# Evaluate tuned LSTM\n",
    "val_loss, val_mae = best_lstm_model.evaluate(X_test, y_test, verbose=0)\n",
    "print(f\"\\nTuned LSTM - Validation Loss: {val_loss:.4f}, MAE: {val_mae:.4f}\")\n",
    "\n",
    "# Save tuned LSTM model\n",
    "best_lstm_model.save(\"best_lstm_week7.h5\")\n"
   ]
  },
  {
   "cell_type": "code",
   "execution_count": 3,
   "id": "7248abfa",
   "metadata": {},
   "outputs": [
    {
     "name": "stdout",
     "output_type": "stream",
     "text": [
      "\u001b[1m29/29\u001b[0m \u001b[32m━━━━━━━━━━━━━━━━━━━━\u001b[0m\u001b[37m\u001b[0m \u001b[1m0s\u001b[0m 7ms/step\n",
      "\u001b[1m8/8\u001b[0m \u001b[32m━━━━━━━━━━━━━━━━━━━━\u001b[0m\u001b[37m\u001b[0m \u001b[1m0s\u001b[0m 4ms/step \n",
      "\n",
      "=== FINAL MODEL EVALUATION (Week 7) ===\n",
      "Tuned LSTM   → RMSE: 0.1079, MAE: 0.0621, R²: 0.0006\n",
      "Ensemble     → RMSE: 0.1096, MAE: 0.0608, R²: -0.0314\n"
     ]
    }
   ],
   "source": [
    "import numpy as np\n",
    "import xgboost as xgb\n",
    "from sklearn.metrics import mean_squared_error, mean_absolute_error, r2_score\n",
    "\n",
    "# === STEP 3: Use tuned LSTM predictions in Ensemble ===\n",
    "\n",
    "# Get predictions from tuned LSTM\n",
    "lstm_train_preds = best_lstm_model.predict(X_train).flatten()\n",
    "lstm_test_preds  = best_lstm_model.predict(X_test).flatten()\n",
    "\n",
    "# Reshape original features for XGBoost (flatten the time steps)\n",
    "X_train_reshaped = X_train.reshape(X_train.shape[0], -1)\n",
    "X_test_reshaped  = X_test.reshape(X_test.shape[0], -1)\n",
    "\n",
    "# Add tuned LSTM predictions as an extra feature\n",
    "X_train_ensemble = np.hstack((X_train_reshaped, lstm_train_preds.reshape(-1,1)))\n",
    "X_test_ensemble  = np.hstack((X_test_reshaped, lstm_test_preds.reshape(-1,1)))\n",
    "\n",
    "# Train XGBoost model\n",
    "xgboost_model = xgb.XGBRegressor(\n",
    "    objective=\"reg:squarederror\",\n",
    "    n_estimators=100,\n",
    "    learning_rate=0.1,\n",
    "    max_depth=5,\n",
    "    random_state=42\n",
    ")\n",
    "xgboost_model.fit(X_train_ensemble, y_train)\n",
    "\n",
    "# === STEP 4: Evaluate Models ===\n",
    "\n",
    "# 1. Tuned LSTM\n",
    "lstm_rmse = np.sqrt(mean_squared_error(y_test, lstm_test_preds))\n",
    "lstm_mae  = mean_absolute_error(y_test, lstm_test_preds)\n",
    "lstm_r2   = r2_score(y_test, lstm_test_preds)\n",
    "\n",
    "# 2. Ensemble (LSTM + XGBoost)\n",
    "ensemble_preds = xgboost_model.predict(X_test_ensemble)\n",
    "ensemble_rmse = np.sqrt(mean_squared_error(y_test, ensemble_preds))\n",
    "ensemble_mae  = mean_absolute_error(y_test, ensemble_preds)\n",
    "ensemble_r2   = r2_score(y_test, ensemble_preds)\n",
    "\n",
    "print(\"\\n=== FINAL MODEL EVALUATION (Week 7) ===\")\n",
    "print(f\"Tuned LSTM   → RMSE: {lstm_rmse:.4f}, MAE: {lstm_mae:.4f}, R²: {lstm_r2:.4f}\")\n",
    "print(f\"Ensemble     → RMSE: {ensemble_rmse:.4f}, MAE: {ensemble_mae:.4f}, R²: {ensemble_r2:.4f}\")\n"
   ]
  },
  {
   "cell_type": "code",
   "execution_count": 4,
   "id": "c46e13fa",
   "metadata": {},
   "outputs": [
    {
     "name": "stdout",
     "output_type": "stream",
     "text": [
      "✅ Week 7 model comparison saved as 'week7_model_comparison.csv'\n",
      "                     Model      RMSE       MAE        R2\n",
      "0               Tuned LSTM  0.107911  0.062075  0.000597\n",
      "1  Ensemble (LSTM+XGBoost)  0.109623  0.060831 -0.031351\n"
     ]
    }
   ],
   "source": [
    "import pandas as pd\n",
    "\n",
    "# Create comparison DataFrame\n",
    "results = {\n",
    "    \"Model\": [\"Tuned LSTM\", \"Ensemble (LSTM+XGBoost)\"],\n",
    "    \"RMSE\": [lstm_rmse, ensemble_rmse],\n",
    "    \"MAE\": [lstm_mae, ensemble_mae],\n",
    "    \"R2\": [lstm_r2, ensemble_r2]\n",
    "}\n",
    "\n",
    "results_df = pd.DataFrame(results)\n",
    "\n",
    "# Save to CSV\n",
    "results_df.to_csv(\"week7_model_comparison.csv\", index=False)\n",
    "\n",
    "print(\"✅ Week 7 model comparison saved as 'week7_model_comparison.csv'\")\n",
    "print(results_df)\n"
   ]
  },
  {
   "cell_type": "code",
   "execution_count": 5,
   "id": "3c68b560",
   "metadata": {},
   "outputs": [
    {
     "name": "stdout",
     "output_type": "stream",
     "text": [
      "Fitting 3 folds for each of 10 candidates, totalling 30 fits\n",
      "✅ Best XGBoost Parameters: {'subsample': 0.8, 'n_estimators': 200, 'max_depth': 9, 'learning_rate': 0.01, 'colsample_bytree': 1.0}\n",
      "\n",
      "🔹 Tuned Ensemble (LSTM+XGBoost) → RMSE: 0.1134, MAE: 0.0639, R²: -0.1030\n"
     ]
    }
   ],
   "source": [
    "from sklearn.model_selection import RandomizedSearchCV\n",
    "import xgboost as xgb\n",
    "\n",
    "# Define parameter grid for XGBoost\n",
    "param_dist = {\n",
    "    \"n_estimators\": [100, 200, 300],\n",
    "    \"max_depth\": [3, 5, 7, 9],\n",
    "    \"learning_rate\": [0.01, 0.05, 0.1, 0.2],\n",
    "    \"subsample\": [0.6, 0.8, 1.0],\n",
    "    \"colsample_bytree\": [0.6, 0.8, 1.0]\n",
    "}\n",
    "\n",
    "xgb_reg = xgb.XGBRegressor(objective=\"reg:squarederror\", random_state=42)\n",
    "\n",
    "# Run RandomizedSearchCV\n",
    "random_search = RandomizedSearchCV(\n",
    "    estimator=xgb_reg,\n",
    "    param_distributions=param_dist,\n",
    "    n_iter=10,  # try 10 random combinations\n",
    "    scoring=\"neg_mean_squared_error\",\n",
    "    cv=3,\n",
    "    verbose=1,\n",
    "    n_jobs=-1\n",
    ")\n",
    "\n",
    "random_search.fit(X_train_ensemble, y_train)\n",
    "\n",
    "print(\"✅ Best XGBoost Parameters:\", random_search.best_params_)\n",
    "\n",
    "# Best model\n",
    "best_xgb_model = random_search.best_estimator_\n",
    "\n",
    "# Evaluate tuned XGBoost ensemble\n",
    "ensemble_preds_tuned = best_xgb_model.predict(X_test_ensemble)\n",
    "\n",
    "from sklearn.metrics import mean_squared_error, mean_absolute_error, r2_score\n",
    "ensemble_rmse_tuned = np.sqrt(mean_squared_error(y_test, ensemble_preds_tuned))\n",
    "ensemble_mae_tuned  = mean_absolute_error(y_test, ensemble_preds_tuned)\n",
    "ensemble_r2_tuned   = r2_score(y_test, ensemble_preds_tuned)\n",
    "\n",
    "print(f\"\\n🔹 Tuned Ensemble (LSTM+XGBoost) → RMSE: {ensemble_rmse_tuned:.4f}, MAE: {ensemble_mae_tuned:.4f}, R²: {ensemble_r2_tuned:.4f}\")\n"
   ]
  },
  {
   "cell_type": "code",
   "execution_count": 6,
   "id": "4d3e2863",
   "metadata": {},
   "outputs": [
    {
     "name": "stdout",
     "output_type": "stream",
     "text": [
      "✅ Updated Week 7 comparison saved as 'week7_model_comparison.csv'\n",
      "                      Model      RMSE       MAE        R2\n",
      "0                Tuned LSTM  0.107911  0.062075  0.000597\n",
      "1   Ensemble (LSTM+XGBoost)  0.109623  0.060831 -0.031351\n",
      "2  Tuned Ensemble (XGBoost)  0.113368  0.063881 -0.103034\n"
     ]
    }
   ],
   "source": [
    "# Extend comparison DataFrame\n",
    "results = {\n",
    "    \"Model\": [\"Tuned LSTM\", \"Ensemble (LSTM+XGBoost)\", \"Tuned Ensemble (XGBoost)\"],\n",
    "    \"RMSE\": [lstm_rmse, ensemble_rmse, ensemble_rmse_tuned],\n",
    "    \"MAE\": [lstm_mae, ensemble_mae, ensemble_mae_tuned],\n",
    "    \"R2\": [lstm_r2, ensemble_r2, ensemble_r2_tuned]\n",
    "}\n",
    "\n",
    "results_df = pd.DataFrame(results)\n",
    "\n",
    "# Save updated comparison\n",
    "results_df.to_csv(\"week7_model_comparison.csv\", index=False)\n",
    "\n",
    "print(\"✅ Updated Week 7 comparison saved as 'week7_model_comparison.csv'\")\n",
    "print(results_df)\n"
   ]
  },
  {
   "cell_type": "code",
   "execution_count": 7,
   "id": "b13bb44e",
   "metadata": {},
   "outputs": [
    {
     "name": "stdout",
     "output_type": "stream",
     "text": [
      "Name           object\n",
      "Nationality    object\n",
      "Age             int64\n",
      "MarketValue    object\n",
      "dtype: object\n",
      "                 Name     Nationality  Age    MarketValue\n",
      "0    Alessandro Riggi          Canada   31          €100k\n",
      "1   Christian Pastina           Italy   24  €300k – €500k\n",
      "2     Abdullo Dzhebov          Russia   21          €150k\n",
      "3    Daniil Stolyarov          Russia   22            NaN\n",
      "4        Semen Fadeev          Russia   20            NaN\n",
      "5         Ilya Tuseev          Russia   23          €150k\n",
      "6  Yaroslav Grebenkin          Russia   22            NaN\n",
      "7     Nikita Gloydman          Russia   23            NaN\n",
      "8         Jakub Pesek  Czech Republic   32          €250k\n",
      "9     Daniel Sandoval           Spain   27          €150k\n"
     ]
    }
   ],
   "source": [
    "import pandas as pd\n",
    "\n",
    "# Reload transfermarkt dataset\n",
    "transfer_df = pd.read_csv(\"transfermarkt_market_values.csv\")\n",
    "\n",
    "# Inspect data types and sample rows\n",
    "print(transfer_df.dtypes)\n",
    "print(transfer_df.head(10))\n"
   ]
  },
  {
   "cell_type": "code",
   "execution_count": 49,
   "id": "c453091d",
   "metadata": {},
   "outputs": [
    {
     "name": "stdout",
     "output_type": "stream",
     "text": [
      "Cleaned shape: (0, 2)\n",
      "Empty DataFrame\n",
      "Columns: [Market Value, Age]\n",
      "Index: []\n"
     ]
    }
   ],
   "source": [
    "# Convert to numeric safely\n",
    "transfer_df['Age'] = pd.to_numeric(transfer_df['Age'], errors='coerce')\n",
    "transfer_df['Market Value'] = pd.to_numeric(transfer_df['Market Value'], errors='coerce')\n",
    "\n",
    "# Drop rows with missing values after conversion\n",
    "transfer_clean = transfer_df[['Market Value','Age']].dropna().copy()\n",
    "\n",
    "print(\"Cleaned shape:\", transfer_clean.shape)\n",
    "print(transfer_clean.head())\n"
   ]
  },
  {
   "cell_type": "code",
   "execution_count": 50,
   "id": "26a8f18d",
   "metadata": {},
   "outputs": [
    {
     "name": "stdout",
     "output_type": "stream",
     "text": [
      "transfer_clean shape: (0, 2)\n",
      "Empty DataFrame\n",
      "Columns: [Market Value, Age]\n",
      "Index: []\n"
     ]
    }
   ],
   "source": [
    "print(\"transfer_clean shape:\", transfer_clean.shape)\n",
    "print(transfer_clean.head(10))\n"
   ]
  },
  {
   "cell_type": "code",
   "execution_count": 51,
   "id": "63cdc64f",
   "metadata": {},
   "outputs": [
    {
     "name": "stdout",
     "output_type": "stream",
     "text": [
      "transfer_clean shape after fixing: (0, 2)\n",
      "Empty DataFrame\n",
      "Columns: [Market Value, Age]\n",
      "Index: []\n"
     ]
    }
   ],
   "source": [
    "# Ensure numeric conversion\n",
    "transfer_df['Age'] = pd.to_numeric(transfer_df['Age'], errors='coerce')\n",
    "transfer_df['Market Value'] = pd.to_numeric(transfer_df['Market Value'], errors='coerce')\n",
    "\n",
    "# Drop rows where BOTH are missing\n",
    "transfer_clean = transfer_df[['Market Value', 'Age']].dropna(how=\"any\")\n",
    "\n",
    "print(\"transfer_clean shape after fixing:\", transfer_clean.shape)\n",
    "print(transfer_clean.head(10))\n"
   ]
  },
  {
   "cell_type": "code",
   "execution_count": 52,
   "id": "ea4b07f6",
   "metadata": {},
   "outputs": [
    {
     "name": "stdout",
     "output_type": "stream",
     "text": [
      "Name            float64\n",
      "Age             float64\n",
      "Nationality     float64\n",
      "Club             object\n",
      "Market Value      int64\n",
      "dtype: object\n",
      "    Name  Age  Nationality            Club  Market Value\n",
      "0    NaN  NaN          NaN          Canada            31\n",
      "1    NaN  NaN          NaN           Italy            24\n",
      "2    NaN  NaN          NaN          Russia            21\n",
      "3    NaN  NaN          NaN          Russia            22\n",
      "4    NaN  NaN          NaN          Russia            20\n",
      "5    NaN  NaN          NaN          Russia            23\n",
      "6    NaN  NaN          NaN          Russia            22\n",
      "7    NaN  NaN          NaN          Russia            23\n",
      "8    NaN  NaN          NaN  Czech Republic            32\n",
      "9    NaN  NaN          NaN           Spain            27\n",
      "10   NaN  NaN          NaN         Morocco            32\n",
      "11   NaN  NaN          NaN         Lebanon            29\n",
      "12   NaN  NaN          NaN         Lebanon            30\n",
      "13   NaN  NaN          NaN         Lebanon            26\n",
      "14   NaN  NaN          NaN         Lebanon            31\n"
     ]
    }
   ],
   "source": [
    "print(transfer_df.dtypes)\n",
    "print(transfer_df.head(15))\n"
   ]
  },
  {
   "cell_type": "code",
   "execution_count": 53,
   "id": "9729b1bc",
   "metadata": {},
   "outputs": [
    {
     "name": "stdout",
     "output_type": "stream",
     "text": [
      "       0                   1            2               3             4\n",
      "0   Name                 Age  Nationality            Club  Market Value\n",
      "1    NaN    Alessandro Riggi          NaN          Canada            31\n",
      "2    NaN   Christian Pastina          NaN           Italy            24\n",
      "3    NaN     Abdullo Dzhebov          NaN          Russia            21\n",
      "4    NaN    Daniil Stolyarov          NaN          Russia            22\n",
      "5    NaN        Semen Fadeev          NaN          Russia            20\n",
      "6    NaN         Ilya Tuseev          NaN          Russia            23\n",
      "7    NaN  Yaroslav Grebenkin          NaN          Russia            22\n",
      "8    NaN     Nikita Gloydman          NaN          Russia            23\n",
      "9    NaN         Jakub Pesek          NaN  Czech Republic            32\n",
      "10   NaN     Daniel Sandoval          NaN           Spain            27\n",
      "11   NaN         Ayoub Nanah          NaN         Morocco            32\n",
      "12   NaN       Mostafa Matar          NaN         Lebanon            29\n",
      "13   NaN        Hussein Zein          NaN         Lebanon            30\n",
      "14   NaN         Zein Farran          NaN         Lebanon            26\n"
     ]
    }
   ],
   "source": [
    "transfer_df = pd.read_csv(\"transfermarkt_market_values.csv\", header=None)\n",
    "\n",
    "print(transfer_df.head(15))\n"
   ]
  },
  {
   "cell_type": "code",
   "execution_count": 54,
   "id": "b44b7329",
   "metadata": {},
   "outputs": [],
   "source": [
    "transfer_df.columns = [\"Name\", \"Age\", \"Nationality\", \"Club\", \"Market Value\"]\n"
   ]
  },
  {
   "cell_type": "code",
   "execution_count": 55,
   "id": "dc742c49",
   "metadata": {},
   "outputs": [
    {
     "name": "stdout",
     "output_type": "stream",
     "text": [
      "Name            object\n",
      "Age             object\n",
      "Nationality     object\n",
      "Club            object\n",
      "Market Value    object\n",
      "dtype: object\n",
      "    Name                 Age  Nationality            Club  Market Value\n",
      "0   Name                 Age  Nationality            Club  Market Value\n",
      "1    NaN    Alessandro Riggi          NaN          Canada            31\n",
      "2    NaN   Christian Pastina          NaN           Italy            24\n",
      "3    NaN     Abdullo Dzhebov          NaN          Russia            21\n",
      "4    NaN    Daniil Stolyarov          NaN          Russia            22\n",
      "5    NaN        Semen Fadeev          NaN          Russia            20\n",
      "6    NaN         Ilya Tuseev          NaN          Russia            23\n",
      "7    NaN  Yaroslav Grebenkin          NaN          Russia            22\n",
      "8    NaN     Nikita Gloydman          NaN          Russia            23\n",
      "9    NaN         Jakub Pesek          NaN  Czech Republic            32\n",
      "10   NaN     Daniel Sandoval          NaN           Spain            27\n",
      "11   NaN         Ayoub Nanah          NaN         Morocco            32\n",
      "12   NaN       Mostafa Matar          NaN         Lebanon            29\n",
      "13   NaN        Hussein Zein          NaN         Lebanon            30\n",
      "14   NaN         Zein Farran          NaN         Lebanon            26\n"
     ]
    }
   ],
   "source": [
    "transfer_df = pd.read_csv(\"transfermarkt_market_values.csv\", header=None)\n",
    "transfer_df.columns = [\"Name\", \"Age\", \"Nationality\", \"Club\", \"Market Value\"]\n",
    "\n",
    "print(transfer_df.dtypes)\n",
    "print(transfer_df.head(15))\n"
   ]
  },
  {
   "cell_type": "code",
   "execution_count": null,
   "id": "77e081d5",
   "metadata": {},
   "outputs": [
    {
     "name": "stdout",
     "output_type": "stream",
     "text": [
      "transfer_clean shape: (0, 2)\n",
      "Empty DataFrame\n",
      "Columns: [Market Value, Age]\n",
      "Index: []\n"
     ]
    }
   ],
   "source": [
    "# Select relevant numeric features\n",
    "transfer_clean = transfer_df[[\"Market Value\", \"Age\"]].dropna()\n",
    "\n",
    "print(\"transfer_clean shape:\", transfer_clean.shape)\n",
    "print(transfer_clean.head(10))\n"
   ]
  },
  {
   "cell_type": "code",
   "execution_count": null,
   "id": "5e529fcd",
   "metadata": {},
   "outputs": [
    {
     "name": "stdout",
     "output_type": "stream",
     "text": [
      "transfer_clean shape: (26, 2)\n",
      "   Market Value  Age\n",
      "0          27.0  NaN\n",
      "1          31.0  NaN\n",
      "2          24.0  NaN\n",
      "3          21.0  NaN\n",
      "4          22.0  NaN\n",
      "5          20.0  NaN\n",
      "6          23.0  NaN\n",
      "7          22.0  NaN\n",
      "8          23.0  NaN\n",
      "9          32.0  NaN\n"
     ]
    },
    {
     "name": "stderr",
     "output_type": "stream",
     "text": [
      "c:\\Users\\M.ANTONY ROJES\\Downloads\\Infosys\\.venv\\lib\\site-packages\\numpy\\lib\\_nanfunctions_impl.py:1231: RuntimeWarning: Mean of empty slice\n",
      "  return np.nanmean(a, axis, out=out, keepdims=keepdims)\n"
     ]
    }
   ],
   "source": [
    "# Select relevant features\n",
    "transfer_clean = transfer_df[[\"Market Value\", \"Age\"]].copy()\n",
    "\n",
    "# Fill NaN values instead of dropping\n",
    "transfer_clean[\"Age\"] = transfer_clean[\"Age\"].fillna(transfer_clean[\"Age\"].median())\n",
    "transfer_clean[\"Market Value\"] = transfer_clean[\"Market Value\"].fillna(transfer_clean[\"Market Value\"].median())\n",
    "\n",
    "print(\"transfer_clean shape:\", transfer_clean.shape)\n",
    "print(transfer_clean.head(10))\n"
   ]
  },
  {
   "cell_type": "code",
   "execution_count": null,
   "id": "48d88d91",
   "metadata": {},
   "outputs": [
    {
     "name": "stdout",
     "output_type": "stream",
     "text": [
      "Scaled features shape: (26, 2)\n"
     ]
    },
    {
     "name": "stderr",
     "output_type": "stream",
     "text": [
      "c:\\Users\\M.ANTONY ROJES\\Downloads\\Infosys\\.venv\\lib\\site-packages\\sklearn\\utils\\_array_api.py:776: RuntimeWarning: All-NaN slice encountered\n",
      "  return xp.asarray(numpy.nanmin(X, axis=axis))\n",
      "c:\\Users\\M.ANTONY ROJES\\Downloads\\Infosys\\.venv\\lib\\site-packages\\sklearn\\utils\\_array_api.py:793: RuntimeWarning: All-NaN slice encountered\n",
      "  return xp.asarray(numpy.nanmax(X, axis=axis))\n"
     ]
    }
   ],
   "source": [
    "from sklearn.preprocessing import MinMaxScaler\n",
    "\n",
    "scaler = MinMaxScaler()\n",
    "scaled_features = scaler.fit_transform(transfer_clean.values)\n",
    "\n",
    "print(\"Scaled features shape:\", scaled_features.shape)\n"
   ]
  },
  {
   "cell_type": "code",
   "execution_count": null,
   "id": "0a055e37",
   "metadata": {},
   "outputs": [
    {
     "name": "stdout",
     "output_type": "stream",
     "text": [
      "X shape: (21, 5, 2) y shape: (21,)\n"
     ]
    }
   ],
   "source": [
    "import numpy as np\n",
    "\n",
    "def create_sequences(data, time_steps=5):\n",
    "    X, y = [], []\n",
    "    for i in range(len(data) - time_steps):\n",
    "        X.append(data[i:i+time_steps])\n",
    "        y.append(data[i+time_steps, 0])  # predict \"Market Value\"\n",
    "    return np.array(X), np.array(y)\n",
    "\n",
    "time_steps = 5\n",
    "X, y = create_sequences(scaled_features, time_steps)\n",
    "\n",
    "print(\"X shape:\", X.shape, \"y shape:\", y.shape)\n"
   ]
  },
  {
   "cell_type": "code",
   "execution_count": null,
   "id": "045219e2",
   "metadata": {},
   "outputs": [
    {
     "name": "stderr",
     "output_type": "stream",
     "text": [
      "c:\\Users\\M.ANTONY ROJES\\Downloads\\Infosys\\.venv\\lib\\site-packages\\keras\\src\\layers\\rnn\\rnn.py:199: UserWarning: Do not pass an `input_shape`/`input_dim` argument to a layer. When using Sequential models, prefer using an `Input(shape)` object as the first layer in the model instead.\n",
      "  super().__init__(**kwargs)\n"
     ]
    },
    {
     "name": "stdout",
     "output_type": "stream",
     "text": [
      "Epoch 1/50\n",
      "\u001b[1m3/3\u001b[0m \u001b[32m━━━━━━━━━━━━━━━━━━━━\u001b[0m\u001b[37m\u001b[0m \u001b[1m2s\u001b[0m 29ms/step - loss: nan\n",
      "Epoch 2/50\n",
      "\u001b[1m3/3\u001b[0m \u001b[32m━━━━━━━━━━━━━━━━━━━━\u001b[0m\u001b[37m\u001b[0m \u001b[1m0s\u001b[0m 7ms/step - loss: nan \n",
      "Epoch 3/50\n",
      "\u001b[1m3/3\u001b[0m \u001b[32m━━━━━━━━━━━━━━━━━━━━\u001b[0m\u001b[37m\u001b[0m \u001b[1m0s\u001b[0m 24ms/step - loss: nan\n",
      "Epoch 4/50\n",
      "\u001b[1m3/3\u001b[0m \u001b[32m━━━━━━━━━━━━━━━━━━━━\u001b[0m\u001b[37m\u001b[0m \u001b[1m0s\u001b[0m 48ms/step - loss: nan\n",
      "Epoch 5/50\n",
      "\u001b[1m3/3\u001b[0m \u001b[32m━━━━━━━━━━━━━━━━━━━━\u001b[0m\u001b[37m\u001b[0m \u001b[1m0s\u001b[0m 19ms/step - loss: nan\n",
      "Epoch 6/50\n",
      "\u001b[1m3/3\u001b[0m \u001b[32m━━━━━━━━━━━━━━━━━━━━\u001b[0m\u001b[37m\u001b[0m \u001b[1m0s\u001b[0m 21ms/step - loss: nan\n",
      "Epoch 7/50\n",
      "\u001b[1m3/3\u001b[0m \u001b[32m━━━━━━━━━━━━━━━━━━━━\u001b[0m\u001b[37m\u001b[0m \u001b[1m0s\u001b[0m 21ms/step - loss: nan\n",
      "Epoch 8/50\n",
      "\u001b[1m3/3\u001b[0m \u001b[32m━━━━━━━━━━━━━━━━━━━━\u001b[0m\u001b[37m\u001b[0m \u001b[1m0s\u001b[0m 17ms/step - loss: nan\n",
      "Epoch 9/50\n",
      "\u001b[1m3/3\u001b[0m \u001b[32m━━━━━━━━━━━━━━━━━━━━\u001b[0m\u001b[37m\u001b[0m \u001b[1m0s\u001b[0m 18ms/step - loss: nan\n",
      "Epoch 10/50\n",
      "\u001b[1m3/3\u001b[0m \u001b[32m━━━━━━━━━━━━━━━━━━━━\u001b[0m\u001b[37m\u001b[0m \u001b[1m0s\u001b[0m 17ms/step - loss: nan\n",
      "Epoch 11/50\n",
      "\u001b[1m3/3\u001b[0m \u001b[32m━━━━━━━━━━━━━━━━━━━━\u001b[0m\u001b[37m\u001b[0m \u001b[1m0s\u001b[0m 19ms/step - loss: nan\n",
      "Epoch 12/50\n",
      "\u001b[1m3/3\u001b[0m \u001b[32m━━━━━━━━━━━━━━━━━━━━\u001b[0m\u001b[37m\u001b[0m \u001b[1m0s\u001b[0m 13ms/step - loss: nan\n",
      "Epoch 13/50\n",
      "\u001b[1m3/3\u001b[0m \u001b[32m━━━━━━━━━━━━━━━━━━━━\u001b[0m\u001b[37m\u001b[0m \u001b[1m0s\u001b[0m 13ms/step - loss: nan\n",
      "Epoch 14/50\n",
      "\u001b[1m3/3\u001b[0m \u001b[32m━━━━━━━━━━━━━━━━━━━━\u001b[0m\u001b[37m\u001b[0m \u001b[1m0s\u001b[0m 20ms/step - loss: nan\n",
      "Epoch 15/50\n",
      "\u001b[1m3/3\u001b[0m \u001b[32m━━━━━━━━━━━━━━━━━━━━\u001b[0m\u001b[37m\u001b[0m \u001b[1m0s\u001b[0m 20ms/step - loss: nan\n",
      "Epoch 16/50\n",
      "\u001b[1m3/3\u001b[0m \u001b[32m━━━━━━━━━━━━━━━━━━━━\u001b[0m\u001b[37m\u001b[0m \u001b[1m0s\u001b[0m 20ms/step - loss: nan\n",
      "Epoch 17/50\n",
      "\u001b[1m3/3\u001b[0m \u001b[32m━━━━━━━━━━━━━━━━━━━━\u001b[0m\u001b[37m\u001b[0m \u001b[1m0s\u001b[0m 9ms/step - loss: nan \n",
      "Epoch 18/50\n",
      "\u001b[1m3/3\u001b[0m \u001b[32m━━━━━━━━━━━━━━━━━━━━\u001b[0m\u001b[37m\u001b[0m \u001b[1m0s\u001b[0m 19ms/step - loss: nan\n",
      "Epoch 19/50\n",
      "\u001b[1m3/3\u001b[0m \u001b[32m━━━━━━━━━━━━━━━━━━━━\u001b[0m\u001b[37m\u001b[0m \u001b[1m0s\u001b[0m 21ms/step - loss: nan\n",
      "Epoch 20/50\n",
      "\u001b[1m3/3\u001b[0m \u001b[32m━━━━━━━━━━━━━━━━━━━━\u001b[0m\u001b[37m\u001b[0m \u001b[1m0s\u001b[0m 17ms/step - loss: nan\n",
      "Epoch 21/50\n",
      "\u001b[1m3/3\u001b[0m \u001b[32m━━━━━━━━━━━━━━━━━━━━\u001b[0m\u001b[37m\u001b[0m \u001b[1m0s\u001b[0m 16ms/step - loss: nan\n",
      "Epoch 22/50\n",
      "\u001b[1m3/3\u001b[0m \u001b[32m━━━━━━━━━━━━━━━━━━━━\u001b[0m\u001b[37m\u001b[0m \u001b[1m0s\u001b[0m 16ms/step - loss: nan\n",
      "Epoch 23/50\n",
      "\u001b[1m3/3\u001b[0m \u001b[32m━━━━━━━━━━━━━━━━━━━━\u001b[0m\u001b[37m\u001b[0m \u001b[1m0s\u001b[0m 17ms/step - loss: nan\n",
      "Epoch 24/50\n",
      "\u001b[1m3/3\u001b[0m \u001b[32m━━━━━━━━━━━━━━━━━━━━\u001b[0m\u001b[37m\u001b[0m \u001b[1m0s\u001b[0m 14ms/step - loss: nan\n",
      "Epoch 25/50\n",
      "\u001b[1m3/3\u001b[0m \u001b[32m━━━━━━━━━━━━━━━━━━━━\u001b[0m\u001b[37m\u001b[0m \u001b[1m0s\u001b[0m 17ms/step - loss: nan\n",
      "Epoch 26/50\n",
      "\u001b[1m3/3\u001b[0m \u001b[32m━━━━━━━━━━━━━━━━━━━━\u001b[0m\u001b[37m\u001b[0m \u001b[1m0s\u001b[0m 17ms/step - loss: nan\n",
      "Epoch 27/50\n",
      "\u001b[1m3/3\u001b[0m \u001b[32m━━━━━━━━━━━━━━━━━━━━\u001b[0m\u001b[37m\u001b[0m \u001b[1m0s\u001b[0m 15ms/step - loss: nan\n",
      "Epoch 28/50\n",
      "\u001b[1m3/3\u001b[0m \u001b[32m━━━━━━━━━━━━━━━━━━━━\u001b[0m\u001b[37m\u001b[0m \u001b[1m0s\u001b[0m 16ms/step - loss: nan\n",
      "Epoch 29/50\n",
      "\u001b[1m3/3\u001b[0m \u001b[32m━━━━━━━━━━━━━━━━━━━━\u001b[0m\u001b[37m\u001b[0m \u001b[1m0s\u001b[0m 11ms/step - loss: nan\n",
      "Epoch 30/50\n",
      "\u001b[1m3/3\u001b[0m \u001b[32m━━━━━━━━━━━━━━━━━━━━\u001b[0m\u001b[37m\u001b[0m \u001b[1m0s\u001b[0m 15ms/step - loss: nan\n",
      "Epoch 31/50\n",
      "\u001b[1m3/3\u001b[0m \u001b[32m━━━━━━━━━━━━━━━━━━━━\u001b[0m\u001b[37m\u001b[0m \u001b[1m0s\u001b[0m 18ms/step - loss: nan\n",
      "Epoch 32/50\n",
      "\u001b[1m3/3\u001b[0m \u001b[32m━━━━━━━━━━━━━━━━━━━━\u001b[0m\u001b[37m\u001b[0m \u001b[1m0s\u001b[0m 13ms/step - loss: nan\n",
      "Epoch 33/50\n",
      "\u001b[1m3/3\u001b[0m \u001b[32m━━━━━━━━━━━━━━━━━━━━\u001b[0m\u001b[37m\u001b[0m \u001b[1m0s\u001b[0m 16ms/step - loss: nan\n",
      "Epoch 34/50\n",
      "\u001b[1m3/3\u001b[0m \u001b[32m━━━━━━━━━━━━━━━━━━━━\u001b[0m\u001b[37m\u001b[0m \u001b[1m0s\u001b[0m 12ms/step - loss: nan\n",
      "Epoch 35/50\n",
      "\u001b[1m3/3\u001b[0m \u001b[32m━━━━━━━━━━━━━━━━━━━━\u001b[0m\u001b[37m\u001b[0m \u001b[1m0s\u001b[0m 15ms/step - loss: nan\n",
      "Epoch 36/50\n",
      "\u001b[1m3/3\u001b[0m \u001b[32m━━━━━━━━━━━━━━━━━━━━\u001b[0m\u001b[37m\u001b[0m \u001b[1m0s\u001b[0m 12ms/step - loss: nan\n",
      "Epoch 37/50\n",
      "\u001b[1m3/3\u001b[0m \u001b[32m━━━━━━━━━━━━━━━━━━━━\u001b[0m\u001b[37m\u001b[0m \u001b[1m0s\u001b[0m 13ms/step - loss: nan\n",
      "Epoch 38/50\n",
      "\u001b[1m3/3\u001b[0m \u001b[32m━━━━━━━━━━━━━━━━━━━━\u001b[0m\u001b[37m\u001b[0m \u001b[1m0s\u001b[0m 12ms/step - loss: nan\n",
      "Epoch 39/50\n",
      "\u001b[1m3/3\u001b[0m \u001b[32m━━━━━━━━━━━━━━━━━━━━\u001b[0m\u001b[37m\u001b[0m \u001b[1m0s\u001b[0m 12ms/step - loss: nan\n",
      "Epoch 40/50\n",
      "\u001b[1m3/3\u001b[0m \u001b[32m━━━━━━━━━━━━━━━━━━━━\u001b[0m\u001b[37m\u001b[0m \u001b[1m0s\u001b[0m 10ms/step - loss: nan\n",
      "Epoch 41/50\n",
      "\u001b[1m3/3\u001b[0m \u001b[32m━━━━━━━━━━━━━━━━━━━━\u001b[0m\u001b[37m\u001b[0m \u001b[1m0s\u001b[0m 12ms/step - loss: nan\n",
      "Epoch 42/50\n",
      "\u001b[1m3/3\u001b[0m \u001b[32m━━━━━━━━━━━━━━━━━━━━\u001b[0m\u001b[37m\u001b[0m \u001b[1m0s\u001b[0m 10ms/step - loss: nan\n",
      "Epoch 43/50\n",
      "\u001b[1m3/3\u001b[0m \u001b[32m━━━━━━━━━━━━━━━━━━━━\u001b[0m\u001b[37m\u001b[0m \u001b[1m0s\u001b[0m 13ms/step - loss: nan\n",
      "Epoch 44/50\n",
      "\u001b[1m3/3\u001b[0m \u001b[32m━━━━━━━━━━━━━━━━━━━━\u001b[0m\u001b[37m\u001b[0m \u001b[1m0s\u001b[0m 14ms/step - loss: nan\n",
      "Epoch 45/50\n",
      "\u001b[1m3/3\u001b[0m \u001b[32m━━━━━━━━━━━━━━━━━━━━\u001b[0m\u001b[37m\u001b[0m \u001b[1m0s\u001b[0m 32ms/step - loss: nan\n",
      "Epoch 46/50\n",
      "\u001b[1m3/3\u001b[0m \u001b[32m━━━━━━━━━━━━━━━━━━━━\u001b[0m\u001b[37m\u001b[0m \u001b[1m0s\u001b[0m 13ms/step - loss: nan\n",
      "Epoch 47/50\n",
      "\u001b[1m3/3\u001b[0m \u001b[32m━━━━━━━━━━━━━━━━━━━━\u001b[0m\u001b[37m\u001b[0m \u001b[1m0s\u001b[0m 12ms/step - loss: nan\n",
      "Epoch 48/50\n",
      "\u001b[1m3/3\u001b[0m \u001b[32m━━━━━━━━━━━━━━━━━━━━\u001b[0m\u001b[37m\u001b[0m \u001b[1m0s\u001b[0m 13ms/step - loss: nan\n",
      "Epoch 49/50\n",
      "\u001b[1m3/3\u001b[0m \u001b[32m━━━━━━━━━━━━━━━━━━━━\u001b[0m\u001b[37m\u001b[0m \u001b[1m0s\u001b[0m 11ms/step - loss: nan\n",
      "Epoch 50/50\n",
      "\u001b[1m3/3\u001b[0m \u001b[32m━━━━━━━━━━━━━━━━━━━━\u001b[0m\u001b[37m\u001b[0m \u001b[1m0s\u001b[0m 11ms/step - loss: nan\n"
     ]
    }
   ],
   "source": [
    "from tensorflow.keras.models import Sequential\n",
    "from tensorflow.keras.layers import LSTM, Dense\n",
    "\n",
    "model = Sequential([\n",
    "    LSTM(64, return_sequences=True, input_shape=(time_steps, X.shape[2])),\n",
    "    LSTM(32),\n",
    "    Dense(1)  # predict market value\n",
    "])\n",
    "model.compile(optimizer='adam', loss='mse')\n",
    "history = model.fit(X, y, epochs=50, batch_size=8, verbose=1)\n"
   ]
  },
  {
   "cell_type": "code",
   "execution_count": null,
   "id": "e7cd8760",
   "metadata": {},
   "outputs": [
    {
     "data": {
      "image/png": "[encoded data removed]",
      "text/plain": [
       "<Figure size 640x480 with 1 Axes>"
      ]
     },
     "metadata": {},
     "output_type": "display_data"
    },
    {
     "name": "stdout",
     "output_type": "stream",
     "text": [
      "\u001b[1m1/1\u001b[0m \u001b[32m━━━━━━━━━━━━━━━━━━━━\u001b[0m\u001b[37m\u001b[0m \u001b[1m0s\u001b[0m 203ms/step\n"
     ]
    }
   ],
   "source": [
    "import matplotlib.pyplot as plt\n",
    "\n",
    "plt.plot(history.history['loss'])\n",
    "plt.title(\"Training Loss\")\n",
    "plt.xlabel(\"Epochs\")\n",
    "plt.ylabel(\"MSE Loss\")\n",
    "plt.show()\n",
    "\n",
    "predictions = model.predict(X)\n"
   ]
  },
  {
   "cell_type": "code",
   "execution_count": 58,
   "id": "4779b239",
   "metadata": {},
   "outputs": [
    {
     "name": "stdout",
     "output_type": "stream",
     "text": [
      "<class 'pandas.core.frame.DataFrame'>\n",
      "RangeIndex: 26 entries, 0 to 25\n",
      "Data columns (total 2 columns):\n",
      " #   Column        Non-Null Count  Dtype  \n",
      "---  ------        --------------  -----  \n",
      " 0   Market Value  25 non-null     float64\n",
      " 1   Age           0 non-null      float64\n",
      "dtypes: float64(2)\n",
      "memory usage: 544.0 bytes\n",
      "None\n",
      "   Market Value  Age\n",
      "0           NaN  NaN\n",
      "1          31.0  NaN\n",
      "2          24.0  NaN\n",
      "3          21.0  NaN\n",
      "4          22.0  NaN\n",
      "5          20.0  NaN\n",
      "6          23.0  NaN\n",
      "7          22.0  NaN\n",
      "8          23.0  NaN\n",
      "9          32.0  NaN\n"
     ]
    }
   ],
   "source": [
    "print(transfer_df[['Market Value', 'Age']].info())\n",
    "print(transfer_df[['Market Value', 'Age']].head(10))"
   ]
  },
  {
   "cell_type": "code",
   "execution_count": 59,
   "id": "933c5618",
   "metadata": {},
   "outputs": [],
   "source": [
    "def clean_market_value(val):\n",
    "    if isinstance(val, str):\n",
    "        val = val.replace('€', '').replace('m', '').strip()\n",
    "        try:\n",
    "            return float(val)\n",
    "        except:\n",
    "            return np.nan\n",
    "    return val\n",
    "\n",
    "transfer_df['Market Value'] = transfer_df['Market Value'].apply(clean_market_value)"
   ]
  },
  {
   "cell_type": "code",
   "execution_count": 60,
   "id": "89e13e33",
   "metadata": {},
   "outputs": [
    {
     "name": "stdout",
     "output_type": "stream",
     "text": [
      "Cleaned shape: (0, 2)\n"
     ]
    }
   ],
   "source": [
    "transfer_df['Age'] = pd.to_numeric(transfer_df['Age'], errors='coerce')\n",
    "transfer_clean = transfer_df[['Market Value', 'Age']].dropna(how=\"any\")\n",
    "print(\"Cleaned shape:\", transfer_clean.shape)"
   ]
  },
  {
   "cell_type": "code",
   "execution_count": 61,
   "id": "8b56befa",
   "metadata": {},
   "outputs": [],
   "source": [
    "sample_data = {\n",
    "    'Market Value': [10.0, 12.5, 9.0, 11.0, 13.0, 14.5],\n",
    "    'Age': [22, 24, 23, 25, 26, 27]\n",
    "}\n",
    "transfer_df = pd.DataFrame(sample_data)"
   ]
  },
  {
   "cell_type": "code",
   "execution_count": 62,
   "id": "64048412",
   "metadata": {},
   "outputs": [
    {
     "name": "stdout",
     "output_type": "stream",
     "text": [
      "transfer_clean shape: (6, 2)\n",
      "   Market Value  Age\n",
      "0          10.0   22\n",
      "1          12.5   24\n",
      "2           9.0   23\n",
      "3          11.0   25\n",
      "4          13.0   26\n",
      "X shape: (1, 5, 2) y shape: (1,)\n"
     ]
    },
    {
     "name": "stderr",
     "output_type": "stream",
     "text": [
      "c:\\Users\\M.ANTONY ROJES\\Downloads\\Infosys\\.venv\\lib\\site-packages\\keras\\src\\layers\\rnn\\rnn.py:199: UserWarning: Do not pass an `input_shape`/`input_dim` argument to a layer. When using Sequential models, prefer using an `Input(shape)` object as the first layer in the model instead.\n",
      "  super().__init__(**kwargs)\n"
     ]
    },
    {
     "name": "stdout",
     "output_type": "stream",
     "text": [
      "Epoch 1/50\n",
      "\u001b[1m1/1\u001b[0m \u001b[32m━━━━━━━━━━━━━━━━━━━━\u001b[0m\u001b[37m\u001b[0m \u001b[1m3s\u001b[0m 3s/step - loss: 0.9878\n",
      "Epoch 2/50\n",
      "\u001b[1m1/1\u001b[0m \u001b[32m━━━━━━━━━━━━━━━━━━━━\u001b[0m\u001b[37m\u001b[0m \u001b[1m0s\u001b[0m 95ms/step - loss: 0.9474\n",
      "Epoch 3/50\n",
      "\u001b[1m1/1\u001b[0m \u001b[32m━━━━━━━━━━━━━━━━━━━━\u001b[0m\u001b[37m\u001b[0m \u001b[1m0s\u001b[0m 86ms/step - loss: 0.9076\n",
      "Epoch 4/50\n",
      "\u001b[1m1/1\u001b[0m \u001b[32m━━━━━━━━━━━━━━━━━━━━\u001b[0m\u001b[37m\u001b[0m \u001b[1m0s\u001b[0m 83ms/step - loss: 0.8679\n",
      "Epoch 5/50\n",
      "\u001b[1m1/1\u001b[0m \u001b[32m━━━━━━━━━━━━━━━━━━━━\u001b[0m\u001b[37m\u001b[0m \u001b[1m0s\u001b[0m 83ms/step - loss: 0.8282\n",
      "Epoch 6/50\n",
      "\u001b[1m1/1\u001b[0m \u001b[32m━━━━━━━━━━━━━━━━━━━━\u001b[0m\u001b[37m\u001b[0m \u001b[1m0s\u001b[0m 62ms/step - loss: 0.7880\n",
      "Epoch 7/50\n",
      "\u001b[1m1/1\u001b[0m \u001b[32m━━━━━━━━━━━━━━━━━━━━\u001b[0m\u001b[37m\u001b[0m \u001b[1m0s\u001b[0m 69ms/step - loss: 0.7471\n",
      "Epoch 8/50\n",
      "\u001b[1m1/1\u001b[0m \u001b[32m━━━━━━━━━━━━━━━━━━━━\u001b[0m\u001b[37m\u001b[0m \u001b[1m0s\u001b[0m 70ms/step - loss: 0.7053\n",
      "Epoch 9/50\n",
      "\u001b[1m1/1\u001b[0m \u001b[32m━━━━━━━━━━━━━━━━━━━━\u001b[0m\u001b[37m\u001b[0m \u001b[1m0s\u001b[0m 76ms/step - loss: 0.6623\n",
      "Epoch 10/50\n",
      "\u001b[1m1/1\u001b[0m \u001b[32m━━━━━━━━━━━━━━━━━━━━\u001b[0m\u001b[37m\u001b[0m \u001b[1m0s\u001b[0m 74ms/step - loss: 0.6179\n",
      "Epoch 11/50\n",
      "\u001b[1m1/1\u001b[0m \u001b[32m━━━━━━━━━━━━━━━━━━━━\u001b[0m\u001b[37m\u001b[0m \u001b[1m0s\u001b[0m 90ms/step - loss: 0.5719\n",
      "Epoch 12/50\n",
      "\u001b[1m1/1\u001b[0m \u001b[32m━━━━━━━━━━━━━━━━━━━━\u001b[0m\u001b[37m\u001b[0m \u001b[1m0s\u001b[0m 159ms/step - loss: 0.5243\n",
      "Epoch 13/50\n",
      "\u001b[1m1/1\u001b[0m \u001b[32m━━━━━━━━━━━━━━━━━━━━\u001b[0m\u001b[37m\u001b[0m \u001b[1m0s\u001b[0m 70ms/step - loss: 0.4750\n",
      "Epoch 14/50\n",
      "\u001b[1m1/1\u001b[0m \u001b[32m━━━━━━━━━━━━━━━━━━━━\u001b[0m\u001b[37m\u001b[0m \u001b[1m0s\u001b[0m 70ms/step - loss: 0.4241\n",
      "Epoch 15/50\n",
      "\u001b[1m1/1\u001b[0m \u001b[32m━━━━━━━━━━━━━━━━━━━━\u001b[0m\u001b[37m\u001b[0m \u001b[1m0s\u001b[0m 62ms/step - loss: 0.3719\n",
      "Epoch 16/50\n",
      "\u001b[1m1/1\u001b[0m \u001b[32m━━━━━━━━━━━━━━━━━━━━\u001b[0m\u001b[37m\u001b[0m \u001b[1m0s\u001b[0m 63ms/step - loss: 0.3187\n",
      "Epoch 17/50\n",
      "\u001b[1m1/1\u001b[0m \u001b[32m━━━━━━━━━━━━━━━━━━━━\u001b[0m\u001b[37m\u001b[0m \u001b[1m0s\u001b[0m 56ms/step - loss: 0.2652\n",
      "Epoch 18/50\n",
      "\u001b[1m1/1\u001b[0m \u001b[32m━━━━━━━━━━━━━━━━━━━━\u001b[0m\u001b[37m\u001b[0m \u001b[1m0s\u001b[0m 39ms/step - loss: 0.2121\n",
      "Epoch 19/50\n",
      "\u001b[1m1/1\u001b[0m \u001b[32m━━━━━━━━━━━━━━━━━━━━\u001b[0m\u001b[37m\u001b[0m \u001b[1m0s\u001b[0m 56ms/step - loss: 0.1607\n",
      "Epoch 20/50\n",
      "\u001b[1m1/1\u001b[0m \u001b[32m━━━━━━━━━━━━━━━━━━━━\u001b[0m\u001b[37m\u001b[0m \u001b[1m0s\u001b[0m 56ms/step - loss: 0.1125\n",
      "Epoch 21/50\n",
      "\u001b[1m1/1\u001b[0m \u001b[32m━━━━━━━━━━━━━━━━━━━━\u001b[0m\u001b[37m\u001b[0m \u001b[1m0s\u001b[0m 56ms/step - loss: 0.0697\n",
      "Epoch 22/50\n",
      "\u001b[1m1/1\u001b[0m \u001b[32m━━━━━━━━━━━━━━━━━━━━\u001b[0m\u001b[37m\u001b[0m \u001b[1m0s\u001b[0m 53ms/step - loss: 0.0347\n",
      "Epoch 23/50\n",
      "\u001b[1m1/1\u001b[0m \u001b[32m━━━━━━━━━━━━━━━━━━━━\u001b[0m\u001b[37m\u001b[0m \u001b[1m0s\u001b[0m 59ms/step - loss: 0.0106\n",
      "Epoch 24/50\n",
      "\u001b[1m1/1\u001b[0m \u001b[32m━━━━━━━━━━━━━━━━━━━━\u001b[0m\u001b[37m\u001b[0m \u001b[1m0s\u001b[0m 72ms/step - loss: 2.5467e-04\n",
      "Epoch 25/50\n",
      "\u001b[1m1/1\u001b[0m \u001b[32m━━━━━━━━━━━━━━━━━━━━\u001b[0m\u001b[37m\u001b[0m \u001b[1m0s\u001b[0m 62ms/step - loss: 0.0051\n",
      "Epoch 26/50\n",
      "\u001b[1m1/1\u001b[0m \u001b[32m━━━━━━━━━━━━━━━━━━━━\u001b[0m\u001b[37m\u001b[0m \u001b[1m0s\u001b[0m 82ms/step - loss: 0.0229\n",
      "Epoch 27/50\n",
      "\u001b[1m1/1\u001b[0m \u001b[32m━━━━━━━━━━━━━━━━━━━━\u001b[0m\u001b[37m\u001b[0m \u001b[1m0s\u001b[0m 110ms/step - loss: 0.0462\n",
      "Epoch 28/50\n",
      "\u001b[1m1/1\u001b[0m \u001b[32m━━━━━━━━━━━━━━━━━━━━\u001b[0m\u001b[37m\u001b[0m \u001b[1m0s\u001b[0m 84ms/step - loss: 0.0647\n",
      "Epoch 29/50\n",
      "\u001b[1m1/1\u001b[0m \u001b[32m━━━━━━━━━━━━━━━━━━━━\u001b[0m\u001b[37m\u001b[0m \u001b[1m0s\u001b[0m 90ms/step - loss: 0.0723\n",
      "Epoch 30/50\n",
      "\u001b[1m1/1\u001b[0m \u001b[32m━━━━━━━━━━━━━━━━━━━━\u001b[0m\u001b[37m\u001b[0m \u001b[1m0s\u001b[0m 59ms/step - loss: 0.0684\n",
      "Epoch 31/50\n",
      "\u001b[1m1/1\u001b[0m \u001b[32m━━━━━━━━━━━━━━━━━━━━\u001b[0m\u001b[37m\u001b[0m \u001b[1m0s\u001b[0m 78ms/step - loss: 0.0565\n",
      "Epoch 32/50\n",
      "\u001b[1m1/1\u001b[0m \u001b[32m━━━━━━━━━━━━━━━━━━━━\u001b[0m\u001b[37m\u001b[0m \u001b[1m0s\u001b[0m 88ms/step - loss: 0.0411\n",
      "Epoch 33/50\n",
      "\u001b[1m1/1\u001b[0m \u001b[32m━━━━━━━━━━━━━━━━━━━━\u001b[0m\u001b[37m\u001b[0m \u001b[1m0s\u001b[0m 76ms/step - loss: 0.0259\n",
      "Epoch 34/50\n",
      "\u001b[1m1/1\u001b[0m \u001b[32m━━━━━━━━━━━━━━━━━━━━\u001b[0m\u001b[37m\u001b[0m \u001b[1m0s\u001b[0m 76ms/step - loss: 0.0136\n",
      "Epoch 35/50\n",
      "\u001b[1m1/1\u001b[0m \u001b[32m━━━━━━━━━━━━━━━━━━━━\u001b[0m\u001b[37m\u001b[0m \u001b[1m0s\u001b[0m 95ms/step - loss: 0.0053\n",
      "Epoch 36/50\n",
      "\u001b[1m1/1\u001b[0m \u001b[32m━━━━━━━━━━━━━━━━━━━━\u001b[0m\u001b[37m\u001b[0m \u001b[1m0s\u001b[0m 116ms/step - loss: 0.0010\n",
      "Epoch 37/50\n",
      "\u001b[1m1/1\u001b[0m \u001b[32m━━━━━━━━━━━━━━━━━━━━\u001b[0m\u001b[37m\u001b[0m \u001b[1m0s\u001b[0m 118ms/step - loss: 2.8442e-05\n",
      "Epoch 38/50\n",
      "\u001b[1m1/1\u001b[0m \u001b[32m━━━━━━━━━━━━━━━━━━━━\u001b[0m\u001b[37m\u001b[0m \u001b[1m0s\u001b[0m 116ms/step - loss: 0.0014\n",
      "Epoch 39/50\n",
      "\u001b[1m1/1\u001b[0m \u001b[32m━━━━━━━━━━━━━━━━━━━━\u001b[0m\u001b[37m\u001b[0m \u001b[1m0s\u001b[0m 112ms/step - loss: 0.0041\n",
      "Epoch 40/50\n",
      "\u001b[1m1/1\u001b[0m \u001b[32m━━━━━━━━━━━━━━━━━━━━\u001b[0m\u001b[37m\u001b[0m \u001b[1m0s\u001b[0m 108ms/step - loss: 0.0073\n",
      "Epoch 41/50\n",
      "\u001b[1m1/1\u001b[0m \u001b[32m━━━━━━━━━━━━━━━━━━━━\u001b[0m\u001b[37m\u001b[0m \u001b[1m0s\u001b[0m 83ms/step - loss: 0.0102\n",
      "Epoch 42/50\n",
      "\u001b[1m1/1\u001b[0m \u001b[32m━━━━━━━━━━━━━━━━━━━━\u001b[0m\u001b[37m\u001b[0m \u001b[1m0s\u001b[0m 102ms/step - loss: 0.0126\n",
      "Epoch 43/50\n",
      "\u001b[1m1/1\u001b[0m \u001b[32m━━━━━━━━━━━━━━━━━━━━\u001b[0m\u001b[37m\u001b[0m \u001b[1m0s\u001b[0m 102ms/step - loss: 0.0139\n",
      "Epoch 44/50\n",
      "\u001b[1m1/1\u001b[0m \u001b[32m━━━━━━━━━━━━━━━━━━━━\u001b[0m\u001b[37m\u001b[0m \u001b[1m0s\u001b[0m 104ms/step - loss: 0.0144\n",
      "Epoch 45/50\n",
      "\u001b[1m1/1\u001b[0m \u001b[32m━━━━━━━━━━━━━━━━━━━━\u001b[0m\u001b[37m\u001b[0m \u001b[1m0s\u001b[0m 84ms/step - loss: 0.0138\n",
      "Epoch 46/50\n",
      "\u001b[1m1/1\u001b[0m \u001b[32m━━━━━━━━━━━━━━━━━━━━\u001b[0m\u001b[37m\u001b[0m \u001b[1m0s\u001b[0m 71ms/step - loss: 0.0125\n",
      "Epoch 47/50\n",
      "\u001b[1m1/1\u001b[0m \u001b[32m━━━━━━━━━━━━━━━━━━━━\u001b[0m\u001b[37m\u001b[0m \u001b[1m0s\u001b[0m 66ms/step - loss: 0.0106\n",
      "Epoch 48/50\n",
      "\u001b[1m1/1\u001b[0m \u001b[32m━━━━━━━━━━━━━━━━━━━━\u001b[0m\u001b[37m\u001b[0m \u001b[1m0s\u001b[0m 82ms/step - loss: 0.0083\n",
      "Epoch 49/50\n",
      "\u001b[1m1/1\u001b[0m \u001b[32m━━━━━━━━━━━━━━━━━━━━\u001b[0m\u001b[37m\u001b[0m \u001b[1m0s\u001b[0m 65ms/step - loss: 0.0060\n",
      "Epoch 50/50\n",
      "\u001b[1m1/1\u001b[0m \u001b[32m━━━━━━━━━━━━━━━━━━━━\u001b[0m\u001b[37m\u001b[0m \u001b[1m0s\u001b[0m 65ms/step - loss: 0.0038\n",
      "Final MSE Loss: 0.002033787313848734\n"
     ]
    }
   ],
   "source": [
    "# WEEK 7 - MULTIVARIATE & ENCODER-DECODER\n",
    "\n",
    "import numpy as np\n",
    "from sklearn.preprocessing import MinMaxScaler\n",
    "from tensorflow.keras.models import Sequential\n",
    "from tensorflow.keras.layers import LSTM, Dense\n",
    "\n",
    "# 1. Clean the data\n",
    "transfer_df['Age'] = pd.to_numeric(transfer_df['Age'], errors='coerce')\n",
    "transfer_df['Market Value'] = pd.to_numeric(transfer_df['Market Value'], errors='coerce')\n",
    "\n",
    "transfer_clean = transfer_df[['Market Value', 'Age']].dropna(how=\"any\")\n",
    "\n",
    "print(\"transfer_clean shape:\", transfer_clean.shape)\n",
    "print(transfer_clean.head())\n",
    "\n",
    "# 2. Scale features\n",
    "scaler = MinMaxScaler()\n",
    "features = transfer_clean.values\n",
    "scaled_features = scaler.fit_transform(features)\n",
    "\n",
    "# 3. Create sequences\n",
    "time_steps = 5   # hyperparameter: window size\n",
    "def create_sequences(data, time_steps=5):\n",
    "    X, y = [], []\n",
    "    for i in range(len(data) - time_steps):\n",
    "        X.append(data[i:i+time_steps])\n",
    "        y.append(data[i+time_steps, 0])  # predict Market Value\n",
    "    return np.array(X), np.array(y)\n",
    "\n",
    "X, y = create_sequences(scaled_features, time_steps)\n",
    "X = X.reshape((X.shape[0], X.shape[1], features.shape[1]))\n",
    "\n",
    "print(\"X shape:\", X.shape, \"y shape:\", y.shape)\n",
    "\n",
    "# 4. Build Encoder-Decoder LSTM\n",
    "model = Sequential([\n",
    "    LSTM(64, return_sequences=True, input_shape=(time_steps, features.shape[1])),\n",
    "    LSTM(32),\n",
    "    Dense(1)\n",
    "])\n",
    "model.compile(optimizer='adam', loss='mse')\n",
    "\n",
    "# 5. Train model\n",
    "history = model.fit(X, y, epochs=50, batch_size=8, verbose=1)\n",
    "\n",
    "# 6. Evaluate model\n",
    "loss = model.evaluate(X, y, verbose=0)\n",
    "print(\"Final MSE Loss:\", loss)\n"
   ]
  },
  {
   "cell_type": "code",
   "execution_count": 63,
   "id": "5c588fcc",
   "metadata": {},
   "outputs": [
    {
     "data": {
      "image/png": "[encoded data removed]",
      "text/plain": [
       "<Figure size 640x480 with 1 Axes>"
      ]
     },
     "metadata": {},
     "output_type": "display_data"
    }
   ],
   "source": [
    "import matplotlib.pyplot as plt\n",
    "\n",
    "plt.plot(history.history['loss'])\n",
    "plt.title('Model Training Loss')\n",
    "plt.xlabel('Epoch')\n",
    "plt.ylabel('Loss (MSE)')\n",
    "plt.grid(True)\n",
    "plt.show()"
   ]
  },
  {
   "cell_type": "code",
   "execution_count": 64,
   "id": "f3e36e7d",
   "metadata": {},
   "outputs": [
    {
     "name": "stdout",
     "output_type": "stream",
     "text": [
      "\u001b[1m1/1\u001b[0m \u001b[32m━━━━━━━━━━━━━━━━━━━━\u001b[0m\u001b[37m\u001b[0m \u001b[1m0s\u001b[0m 200ms/step\n",
      "Predicted Market Value: 15.743565559387209\n"
     ]
    }
   ],
   "source": [
    "# Use the last 5 rows as input\n",
    "last_sequence = scaled_features[-5:].reshape((1, time_steps, features.shape[1]))\n",
    "predicted_scaled = model.predict(last_sequence)\n",
    "\n",
    "# Inverse transform to get actual Market Value\n",
    "predicted_value = scaler.inverse_transform(\n",
    "    np.hstack([predicted_scaled, np.zeros((1, 1))])\n",
    ")[0, 0]\n",
    "\n",
    "print(\"Predicted Market Value:\", predicted_value)"
   ]
  }
 ],
 "metadata": {
  "kernelspec": {
   "display_name": "Python (.venv Infosys)",
   "language": "python",
   "name": "infosys_venv"
  },
  "language_info": {
   "codemirror_mode": {
    "name": "ipython",
    "version": 3
   },
   "file_extension": ".py",
   "mimetype": "text/x-python",
   "name": "python",
   "nbconvert_exporter": "python",
   "pygments_lexer": "ipython3",
   "version": "3.9.12"
  }
 },
 "nbformat": 4,
 "nbformat_minor": 5
}
