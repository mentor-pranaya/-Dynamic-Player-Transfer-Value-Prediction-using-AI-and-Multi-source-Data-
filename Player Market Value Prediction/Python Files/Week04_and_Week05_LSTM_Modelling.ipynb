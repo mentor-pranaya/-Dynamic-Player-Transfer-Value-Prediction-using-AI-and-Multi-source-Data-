{
 "cells": [
  {
   "cell_type": "code",
   "execution_count": 1,
   "id": "53c38bbe",
   "metadata": {},
   "outputs": [
    {
     "name": "stdout",
     "output_type": "stream",
     "text": [
      "TensorFlow version: 2.20.0\n",
      "Num GPUs Available: 0\n"
     ]
    }
   ],
   "source": [
    "import tensorflow as tf\n",
    "print(\"TensorFlow version:\", tf.__version__)\n",
    "print(\"Num GPUs Available:\", len(tf.config.list_physical_devices('GPU')))\n"
   ]
  },
  {
   "cell_type": "code",
   "execution_count": 3,
   "id": "5f96d6f2",
   "metadata": {},
   "outputs": [
    {
     "name": "stdout",
     "output_type": "stream",
     "text": [
      "✅ Dataset loaded successfully.\n",
      "📁 Columns: ['player_name', 'date', 'overall_rating', 'potential', 'attacking_work_rate', 'defensive_work_rate', 'crossing', 'finishing', 'heading_accuracy', 'short_passing', 'volleys', 'dribbling', 'curve', 'long_passing', 'ball_control', 'acceleration', 'sprint_speed', 'agility', 'reactions', 'balance', 'shot_power', 'jumping', 'stamina', 'strength', 'long_shots', 'aggression', 'interceptions', 'positioning', 'vision', 'penalties', 'marking', 'standing_tackle', 'sliding_tackle', 'gk_diving', 'gk_handling', 'gk_kicking', 'gk_positioning', 'gk_reflexes', 'injury_count', 'total_days_out', 'days_per_injury']\n",
      "🔍 Preview:\n",
      "       player_name        date  overall_rating  potential attacking_work_rate  \\\n",
      "0     Cesare Bovo  2013-05-03            72.0       73.0              medium   \n",
      "1        Bas Dost  2014-03-28            76.0       79.0              medium   \n",
      "2   Denis Tonucci  2015-09-21            67.0       70.0              medium   \n",
      "3  Enoch Showunmi  2007-08-30            62.0       65.0              medium   \n",
      "4  Fabian Rinaudo  2013-09-20            77.0       82.0              medium   \n",
      "\n",
      "  defensive_work_rate  crossing  finishing  heading_accuracy  short_passing  \\\n",
      "0              medium      58.0       33.0              70.0           66.0   \n",
      "1                 low      37.0       81.0              90.0           67.0   \n",
      "2                high      33.0       31.0              61.0           47.0   \n",
      "3              medium      41.0       62.0              62.0           50.0   \n",
      "4                high      51.0       58.0              66.0           74.0   \n",
      "\n",
      "   ...  standing_tackle  sliding_tackle  gk_diving  gk_handling  gk_kicking  \\\n",
      "0  ...             74.0            72.0        9.0         10.0        10.0   \n",
      "1  ...             35.0            23.0        5.0         11.0        14.0   \n",
      "2  ...             71.0            67.0        5.0         11.0        41.0   \n",
      "3  ...             32.0            37.0       12.0         20.0        24.0   \n",
      "4  ...             80.0            83.0       15.0         12.0        15.0   \n",
      "\n",
      "   gk_positioning  gk_reflexes  injury_count  total_days_out  days_per_injury  \n",
      "0             7.0         14.0             5           77.80            15.56  \n",
      "1            10.0          7.0             5           85.85            17.17  \n",
      "2             7.0         21.0             1           19.02            19.02  \n",
      "3            20.0         20.0             4          104.71            26.18  \n",
      "4            15.0          9.0             7          126.55            18.08  \n",
      "\n",
      "[5 rows x 41 columns]\n"
     ]
    }
   ],
   "source": [
    "import pandas as pd\n",
    "import numpy as np\n",
    "from sklearn.preprocessing import MinMaxScaler\n",
    "from tensorflow.keras.models import Sequential\n",
    "from tensorflow.keras.layers import LSTM, Dense, Dropout\n",
    "import matplotlib.pyplot as plt\n",
    "\n",
    "# --- Load Transfermarkt Market Values ---\n",
    "transfer_file = r\"C:\\Users\\M.ANTONY ROJES\\Downloads\\Infosys\\data\\feature_engineered\\player_features_model_all_imputed.csv\"\n",
    "\n",
    "try:\n",
    "    transfer_df = pd.read_csv(transfer_file)\n",
    "    print(\"✅ Dataset loaded successfully.\")\n",
    "    print(\"📁 Columns:\", transfer_df.columns.tolist())\n",
    "    print(\"🔍 Preview:\\n\", transfer_df.head())\n",
    "except FileNotFoundError:\n",
    "    print(f\"❌ File not found: {transfer_file}\")\n",
    "except pd.errors.EmptyDataError:\n",
    "    print(\"❌ File is empty.\")\n",
    "except Exception as e:\n",
    "    print(f\"❌ Error loading file: {e}\")\n"
   ]
  },
  {
   "cell_type": "code",
   "execution_count": 6,
   "id": "4cb6bf9c",
   "metadata": {},
   "outputs": [
    {
     "name": "stdout",
     "output_type": "stream",
     "text": [
      "✅ File loaded successfully.\n",
      "📐 Shape: (90177, 41)\n",
      "📁 Columns: ['player_name', 'date', 'overall_rating', 'potential', 'attacking_work_rate', 'defensive_work_rate', 'crossing', 'finishing', 'heading_accuracy', 'short_passing', 'volleys', 'dribbling', 'curve', 'long_passing', 'ball_control', 'acceleration', 'sprint_speed', 'agility', 'reactions', 'balance', 'shot_power', 'jumping', 'stamina', 'strength', 'long_shots', 'aggression', 'interceptions', 'positioning', 'vision', 'penalties', 'marking', 'standing_tackle', 'sliding_tackle', 'gk_diving', 'gk_handling', 'gk_kicking', 'gk_positioning', 'gk_reflexes', 'injury_count', 'total_days_out', 'days_per_injury']\n",
      "🔍 Preview:\n",
      "       player_name        date  overall_rating  potential attacking_work_rate  \\\n",
      "0     Cesare Bovo  2013-05-03            72.0       73.0              medium   \n",
      "1        Bas Dost  2014-03-28            76.0       79.0              medium   \n",
      "2   Denis Tonucci  2015-09-21            67.0       70.0              medium   \n",
      "3  Enoch Showunmi  2007-08-30            62.0       65.0              medium   \n",
      "4  Fabian Rinaudo  2013-09-20            77.0       82.0              medium   \n",
      "5  Alexandre Pato  2013-06-14            81.0       87.0                high   \n",
      "6    Gareth Barry  2015-03-06            80.0       80.0              medium   \n",
      "7   Haxhi Neziraj  2014-09-18            60.0       66.0              medium   \n",
      "8  Berat Djimsiti  2016-05-05            62.0       69.0              medium   \n",
      "9    Dusan Pernis  2011-02-22            68.0       72.0              medium   \n",
      "\n",
      "  defensive_work_rate  crossing  finishing  heading_accuracy  short_passing  \\\n",
      "0              medium      58.0       33.0              70.0           66.0   \n",
      "1                 low      37.0       81.0              90.0           67.0   \n",
      "2                high      33.0       31.0              61.0           47.0   \n",
      "3              medium      41.0       62.0              62.0           50.0   \n",
      "4                high      51.0       58.0              66.0           74.0   \n",
      "5                 low      68.0       81.0              75.0           75.0   \n",
      "6                high      80.0       63.0              74.0           83.0   \n",
      "7              medium      53.0       55.0              50.0           67.0   \n",
      "8              medium      62.0       36.0              58.0           65.0   \n",
      "9              medium      18.0       12.0              12.0           24.0   \n",
      "\n",
      "   ...  standing_tackle  sliding_tackle  gk_diving  gk_handling  gk_kicking  \\\n",
      "0  ...             74.0            72.0        9.0         10.0        10.0   \n",
      "1  ...             35.0            23.0        5.0         11.0        14.0   \n",
      "2  ...             71.0            67.0        5.0         11.0        41.0   \n",
      "3  ...             32.0            37.0       12.0         20.0        24.0   \n",
      "4  ...             80.0            83.0       15.0         12.0        15.0   \n",
      "5  ...             23.0            18.0       16.0          7.0        13.0   \n",
      "6  ...             80.0            80.0        7.0         13.0         9.0   \n",
      "7  ...             40.0            46.0       12.0         14.0         8.0   \n",
      "8  ...             66.0            61.0       10.0          6.0        13.0   \n",
      "9  ...             13.0            14.0       67.0         71.0        61.0   \n",
      "\n",
      "   gk_positioning  gk_reflexes  injury_count  total_days_out  days_per_injury  \n",
      "0             7.0         14.0             5           77.80            15.56  \n",
      "1            10.0          7.0             5           85.85            17.17  \n",
      "2             7.0         21.0             1           19.02            19.02  \n",
      "3            20.0         20.0             4          104.71            26.18  \n",
      "4            15.0          9.0             7          126.55            18.08  \n",
      "5            15.0          8.0             4           85.68            21.42  \n",
      "6             7.0         12.0             4           32.41             8.10  \n",
      "7            10.0          5.0             5          170.27            34.05  \n",
      "8            10.0         10.0             3          132.88            44.29  \n",
      "9            72.0         68.0             4           77.94            19.48  \n",
      "\n",
      "[10 rows x 41 columns]\n"
     ]
    }
   ],
   "source": [
    "import pandas as pd\n",
    "\n",
    "# --- Load Transfermarkt Market Values ---\n",
    "transfer_file = r\"C:\\Users\\M.ANTONY ROJES\\Downloads\\Infosys\\data\\feature_engineered\\player_features_model_all_imputed.csv\"\n",
    "\n",
    "try:\n",
    "    transfer_df = pd.read_csv(\n",
    "        transfer_file,\n",
    "        sep=\",\",\n",
    "        engine=\"python\",\n",
    "        on_bad_lines=\"skip\"\n",
    "    )\n",
    "    print(\"✅ File loaded successfully.\")\n",
    "    print(f\"📐 Shape: {transfer_df.shape}\")\n",
    "    print(\"📁 Columns:\", transfer_df.columns.tolist())\n",
    "    print(\"🔍 Preview:\\n\", transfer_df.head(10))\n",
    "except FileNotFoundError:\n",
    "    print(f\"❌ File not found: {transfer_file}\")\n",
    "except pd.errors.EmptyDataError:\n",
    "    print(\"❌ File is empty.\")\n",
    "except Exception as e:\n",
    "    print(f\"❌ Error loading file: {e}\")"
   ]
  },
  {
   "cell_type": "code",
   "execution_count": 7,
   "id": "eb6dc005",
   "metadata": {},
   "outputs": [
    {
     "name": "stdout",
     "output_type": "stream",
     "text": [
      "            player_name        date  overall_rating  potential  \\\n",
      "24736      Dennis Praet  2013-03-15            72.0       86.0   \n",
      "69171  Charles N'Zogbia  2009-08-30            75.0       83.0   \n",
      "10654        John Carew  2008-08-30            81.0       87.0   \n",
      "37550  Hakan Calhanoglu  2016-03-24            79.0       84.0   \n",
      "61732    Javier Paredes  2012-02-22            68.0       68.0   \n",
      "\n",
      "      attacking_work_rate defensive_work_rate  crossing  finishing  \\\n",
      "24736              medium              medium      67.0       57.0   \n",
      "69171              medium                 low      72.0       68.0   \n",
      "10654              medium              medium      61.0       81.0   \n",
      "37550              medium              medium      77.0       74.0   \n",
      "61732              medium              medium      63.0       23.0   \n",
      "\n",
      "       heading_accuracy  short_passing  ...  standing_tackle  sliding_tackle  \\\n",
      "24736              42.0           75.0  ...             36.0            39.0   \n",
      "69171              60.0           64.0  ...             73.0            71.0   \n",
      "10654              92.0           75.0  ...             30.0            16.0   \n",
      "37550              53.0           80.0  ...             42.0            45.0   \n",
      "61732              66.0           60.0  ...             70.0            76.0   \n",
      "\n",
      "       gk_diving  gk_handling  gk_kicking  gk_positioning  gk_reflexes  \\\n",
      "24736        5.0          5.0         9.0            13.0          9.0   \n",
      "69171        7.0         21.0        74.0            21.0         21.0   \n",
      "10654        5.0         22.0        41.0            22.0         22.0   \n",
      "37550        9.0         14.0        11.0             6.0         10.0   \n",
      "61732       14.0         15.0        12.0            15.0         10.0   \n",
      "\n",
      "       injury_count  total_days_out  days_per_injury  \n",
      "24736             1          164.60           164.60  \n",
      "69171             4          158.04            39.51  \n",
      "10654             2          170.73            85.36  \n",
      "37550             5           92.70            18.54  \n",
      "61732             7           60.61             8.66  \n",
      "\n",
      "[5 rows x 41 columns]\n",
      "Index(['player_name', 'date', 'overall_rating', 'potential',\n",
      "       'attacking_work_rate', 'defensive_work_rate', 'crossing', 'finishing',\n",
      "       'heading_accuracy', 'short_passing', 'volleys', 'dribbling', 'curve',\n",
      "       'long_passing', 'ball_control', 'acceleration', 'sprint_speed',\n",
      "       'agility', 'reactions', 'balance', 'shot_power', 'jumping', 'stamina',\n",
      "       'strength', 'long_shots', 'aggression', 'interceptions', 'positioning',\n",
      "       'vision', 'penalties', 'marking', 'standing_tackle', 'sliding_tackle',\n",
      "       'gk_diving', 'gk_handling', 'gk_kicking', 'gk_positioning',\n",
      "       'gk_reflexes', 'injury_count', 'total_days_out', 'days_per_injury'],\n",
      "      dtype='object')\n"
     ]
    }
   ],
   "source": [
    "print(transfer_df.sample(5))\n",
    "print(transfer_df.columns)\n"
   ]
  },
  {
   "cell_type": "code",
   "execution_count": 8,
   "id": "cae69050",
   "metadata": {},
   "outputs": [
    {
     "name": "stdout",
     "output_type": "stream",
     "text": [
      "DataFrame Info:\n",
      "<class 'pandas.core.frame.DataFrame'>\n",
      "RangeIndex: 90177 entries, 0 to 90176\n",
      "Data columns (total 41 columns):\n",
      " #   Column               Non-Null Count  Dtype  \n",
      "---  ------               --------------  -----  \n",
      " 0   player_name          90177 non-null  object \n",
      " 1   date                 90177 non-null  object \n",
      " 2   overall_rating       90177 non-null  float64\n",
      " 3   potential            90177 non-null  float64\n",
      " 4   attacking_work_rate  87358 non-null  object \n",
      " 5   defensive_work_rate  90177 non-null  object \n",
      " 6   crossing             90177 non-null  float64\n",
      " 7   finishing            90177 non-null  float64\n",
      " 8   heading_accuracy     90177 non-null  float64\n",
      " 9   short_passing        90177 non-null  float64\n",
      " 10  volleys              89256 non-null  float64\n",
      " 11  dribbling            90177 non-null  float64\n",
      " 12  curve                89256 non-null  float64\n",
      " 13  long_passing         90177 non-null  float64\n",
      " 14  ball_control         90177 non-null  float64\n",
      " 15  acceleration         90177 non-null  float64\n",
      " 16  sprint_speed         90177 non-null  float64\n",
      " 17  agility              89256 non-null  float64\n",
      " 18  reactions            90177 non-null  float64\n",
      " 19  balance              89256 non-null  float64\n",
      " 20  shot_power           90177 non-null  float64\n",
      " 21  jumping              89256 non-null  float64\n",
      " 22  stamina              90177 non-null  float64\n",
      " 23  strength             90177 non-null  float64\n",
      " 24  long_shots           90177 non-null  float64\n",
      " 25  aggression           90177 non-null  float64\n",
      " 26  interceptions        90177 non-null  float64\n",
      " 27  positioning          90177 non-null  float64\n",
      " 28  vision               89256 non-null  float64\n",
      " 29  penalties            90177 non-null  float64\n",
      " 30  marking              90177 non-null  float64\n",
      " 31  standing_tackle      90177 non-null  float64\n",
      " 32  sliding_tackle       89256 non-null  float64\n",
      " 33  gk_diving            90177 non-null  float64\n",
      " 34  gk_handling          90177 non-null  float64\n",
      " 35  gk_kicking           90177 non-null  float64\n",
      " 36  gk_positioning       90177 non-null  float64\n",
      " 37  gk_reflexes          90177 non-null  float64\n",
      " 38  injury_count         90177 non-null  int64  \n",
      " 39  total_days_out       90177 non-null  float64\n",
      " 40  days_per_injury      90177 non-null  float64\n",
      "dtypes: float64(36), int64(1), object(4)\n",
      "memory usage: 28.2+ MB\n",
      "\n",
      "First 5 rows:\n",
      "      player_name        date  overall_rating  potential attacking_work_rate  \\\n",
      "0     Cesare Bovo  2013-05-03            72.0       73.0              medium   \n",
      "1        Bas Dost  2014-03-28            76.0       79.0              medium   \n",
      "2   Denis Tonucci  2015-09-21            67.0       70.0              medium   \n",
      "3  Enoch Showunmi  2007-08-30            62.0       65.0              medium   \n",
      "4  Fabian Rinaudo  2013-09-20            77.0       82.0              medium   \n",
      "\n",
      "  defensive_work_rate  crossing  finishing  heading_accuracy  short_passing  \\\n",
      "0              medium      58.0       33.0              70.0           66.0   \n",
      "1                 low      37.0       81.0              90.0           67.0   \n",
      "2                high      33.0       31.0              61.0           47.0   \n",
      "3              medium      41.0       62.0              62.0           50.0   \n",
      "4                high      51.0       58.0              66.0           74.0   \n",
      "\n",
      "   ...  standing_tackle  sliding_tackle  gk_diving  gk_handling  gk_kicking  \\\n",
      "0  ...             74.0            72.0        9.0         10.0        10.0   \n",
      "1  ...             35.0            23.0        5.0         11.0        14.0   \n",
      "2  ...             71.0            67.0        5.0         11.0        41.0   \n",
      "3  ...             32.0            37.0       12.0         20.0        24.0   \n",
      "4  ...             80.0            83.0       15.0         12.0        15.0   \n",
      "\n",
      "   gk_positioning  gk_reflexes  injury_count  total_days_out  days_per_injury  \n",
      "0             7.0         14.0             5           77.80            15.56  \n",
      "1            10.0          7.0             5           85.85            17.17  \n",
      "2             7.0         21.0             1           19.02            19.02  \n",
      "3            20.0         20.0             4          104.71            26.18  \n",
      "4            15.0          9.0             7          126.55            18.08  \n",
      "\n",
      "[5 rows x 41 columns]\n"
     ]
    }
   ],
   "source": [
    "import pandas as pd\n",
    "import numpy as np\n",
    "import tensorflow as tf\n",
    "\n",
    "# Load the consolidated dataset\n",
    "df = pd.read_csv(r'C:\\Users\\M.ANTONY ROJES\\Downloads\\Infosys\\data\\feature_engineered\\player_features_model_all_imputed.csv')\n",
    "\n",
    "# Display the first few rows and information\n",
    "print(\"DataFrame Info:\")\n",
    "df.info()\n",
    "print(\"\\nFirst 5 rows:\")\n",
    "print(df.head())"
   ]
  },
  {
   "cell_type": "code",
   "execution_count": 9,
   "id": "d4eb2f80",
   "metadata": {},
   "outputs": [
    {
     "name": "stdout",
     "output_type": "stream",
     "text": [
      "✅ Dataset loaded successfully.\n",
      "\n",
      "✅ Scaled data shape: (90177, 29)\n"
     ]
    }
   ],
   "source": [
    "import pandas as pd\n",
    "from sklearn.preprocessing import MinMaxScaler\n",
    "\n",
    "# --- Load Dataset ---\n",
    "file_path = r\"C:\\Users\\M.ANTONY ROJES\\Downloads\\Infosys\\data\\feature_engineered\\player_features_model_imputed.csv\"\n",
    "\n",
    "try:\n",
    "    df = pd.read_csv(file_path)\n",
    "    print(\"✅ Dataset loaded successfully.\")\n",
    "except Exception as e:\n",
    "    print(f\"❌ Error loading file: {e}\")\n",
    "    exit()\n",
    "\n",
    "# --- Define Features and Target ---\n",
    "features = [\n",
    "    'crossing', 'finishing', 'heading_accuracy', 'short_passing', 'volleys',\n",
    "    'dribbling', 'curve', 'long_passing', 'ball_control', 'acceleration',\n",
    "    'sprint_speed', 'agility', 'reactions', 'balance', 'shot_power',\n",
    "    'jumping', 'stamina', 'strength', 'long_shots', 'aggression',\n",
    "    'interceptions', 'positioning', 'vision', 'penalties', 'marking',\n",
    "    'standing_tackle', 'sliding_tackle', 'injury_count', 'total_days_out'\n",
    "]\n",
    "\n",
    "target = 'overall_rating'  # or 'potential' if you're predicting future performance\n",
    "\n",
    "# --- Check for Missing Columns ---\n",
    "missing = [col for col in features + [target] if col not in df.columns]\n",
    "if missing:\n",
    "    print(f\"❌ Missing columns: {missing}\")\n",
    "    exit()\n",
    "\n",
    "# --- Scale Features ---\n",
    "scaler = MinMaxScaler(feature_range=(0, 1))\n",
    "scaled_data = scaler.fit_transform(df[features])\n",
    "\n",
    "print(f\"\\n✅ Scaled data shape: {scaled_data.shape}\")"
   ]
  },
  {
   "cell_type": "code",
   "execution_count": 10,
   "id": "ce2e77bd",
   "metadata": {},
   "outputs": [
    {
     "name": "stdout",
     "output_type": "stream",
     "text": [
      "\n",
      "Shape of X (samples, timesteps, features): (90174, 3, 29)\n",
      "Shape of y (samples, output): (90174,)\n"
     ]
    }
   ],
   "source": [
    "def create_sequences(data, n_steps):\n",
    "    X, y = [], []\n",
    "    for i in range(len(data)):\n",
    "        # find the end of this pattern\n",
    "        end_ix = i + n_steps\n",
    "        # check if we are beyond the dataset\n",
    "        if end_ix > len(data)-1:\n",
    "            break\n",
    "        # gather input and output parts of the pattern\n",
    "        seq_x, seq_y = data[i:end_ix, :], data[end_ix, -1] # The last column is the target (market value)\n",
    "        X.append(seq_x)\n",
    "        y.append(seq_y)\n",
    "    return np.array(X), np.array(y)\n",
    "\n",
    "# Define the number of time steps (this is a hyperparameter you can tune)\n",
    "n_steps = 3\n",
    "\n",
    "# Create sequences\n",
    "X, y = create_sequences(scaled_data, n_steps)\n",
    "\n",
    "print(f\"\\nShape of X (samples, timesteps, features): {X.shape}\")\n",
    "print(f\"Shape of y (samples, output): {y.shape}\")"
   ]
  },
  {
   "cell_type": "code",
   "execution_count": 11,
   "id": "dd9a54e4",
   "metadata": {},
   "outputs": [
    {
     "name": "stderr",
     "output_type": "stream",
     "text": [
      "c:\\Users\\M.ANTONY ROJES\\Downloads\\Infosys\\.venv\\lib\\site-packages\\keras\\src\\layers\\rnn\\rnn.py:199: UserWarning: Do not pass an `input_shape`/`input_dim` argument to a layer. When using Sequential models, prefer using an `Input(shape)` object as the first layer in the model instead.\n",
      "  super().__init__(**kwargs)\n"
     ]
    },
    {
     "name": "stdout",
     "output_type": "stream",
     "text": [
      "\n",
      "Model Summary:\n"
     ]
    },
    {
     "data": {
      "text/html": [
       "<pre style=\"white-space:pre;overflow-x:auto;line-height:normal;font-family:Menlo,'DejaVu Sans Mono',consolas,'Courier New',monospace\"><span style=\"font-weight: bold\">Model: \"sequential\"</span>\n",
       "</pre>\n"
      ],
      "text/plain": [
       "\u001b[1mModel: \"sequential\"\u001b[0m\n"
      ]
     },
     "metadata": {},
     "output_type": "display_data"
    },
    {
     "data": {
      "text/html": [
       "<pre style=\"white-space:pre;overflow-x:auto;line-height:normal;font-family:Menlo,'DejaVu Sans Mono',consolas,'Courier New',monospace\">┏━━━━━━━━━━━━━━━━━━━━━━━━━━━━━━━━━┳━━━━━━━━━━━━━━━━━━━━━━━━┳━━━━━━━━━━━━━━━┓\n",
       "┃<span style=\"font-weight: bold\"> Layer (type)                    </span>┃<span style=\"font-weight: bold\"> Output Shape           </span>┃<span style=\"font-weight: bold\">       Param # </span>┃\n",
       "┡━━━━━━━━━━━━━━━━━━━━━━━━━━━━━━━━━╇━━━━━━━━━━━━━━━━━━━━━━━━╇━━━━━━━━━━━━━━━┩\n",
       "│ lstm (<span style=\"color: #0087ff; text-decoration-color: #0087ff\">LSTM</span>)                     │ (<span style=\"color: #00d7ff; text-decoration-color: #00d7ff\">None</span>, <span style=\"color: #00af00; text-decoration-color: #00af00\">50</span>)             │        <span style=\"color: #00af00; text-decoration-color: #00af00\">16,000</span> │\n",
       "├─────────────────────────────────┼────────────────────────┼───────────────┤\n",
       "│ dense (<span style=\"color: #0087ff; text-decoration-color: #0087ff\">Dense</span>)                   │ (<span style=\"color: #00d7ff; text-decoration-color: #00d7ff\">None</span>, <span style=\"color: #00af00; text-decoration-color: #00af00\">1</span>)              │            <span style=\"color: #00af00; text-decoration-color: #00af00\">51</span> │\n",
       "└─────────────────────────────────┴────────────────────────┴───────────────┘\n",
       "</pre>\n"
      ],
      "text/plain": [
       "┏━━━━━━━━━━━━━━━━━━━━━━━━━━━━━━━━━┳━━━━━━━━━━━━━━━━━━━━━━━━┳━━━━━━━━━━━━━━━┓\n",
       "┃\u001b[1m \u001b[0m\u001b[1mLayer (type)                   \u001b[0m\u001b[1m \u001b[0m┃\u001b[1m \u001b[0m\u001b[1mOutput Shape          \u001b[0m\u001b[1m \u001b[0m┃\u001b[1m \u001b[0m\u001b[1m      Param #\u001b[0m\u001b[1m \u001b[0m┃\n",
       "┡━━━━━━━━━━━━━━━━━━━━━━━━━━━━━━━━━╇━━━━━━━━━━━━━━━━━━━━━━━━╇━━━━━━━━━━━━━━━┩\n",
       "│ lstm (\u001b[38;5;33mLSTM\u001b[0m)                     │ (\u001b[38;5;45mNone\u001b[0m, \u001b[38;5;34m50\u001b[0m)             │        \u001b[38;5;34m16,000\u001b[0m │\n",
       "├─────────────────────────────────┼────────────────────────┼───────────────┤\n",
       "│ dense (\u001b[38;5;33mDense\u001b[0m)                   │ (\u001b[38;5;45mNone\u001b[0m, \u001b[38;5;34m1\u001b[0m)              │            \u001b[38;5;34m51\u001b[0m │\n",
       "└─────────────────────────────────┴────────────────────────┴───────────────┘\n"
      ]
     },
     "metadata": {},
     "output_type": "display_data"
    },
    {
     "data": {
      "text/html": [
       "<pre style=\"white-space:pre;overflow-x:auto;line-height:normal;font-family:Menlo,'DejaVu Sans Mono',consolas,'Courier New',monospace\"><span style=\"font-weight: bold\"> Total params: </span><span style=\"color: #00af00; text-decoration-color: #00af00\">16,051</span> (62.70 KB)\n",
       "</pre>\n"
      ],
      "text/plain": [
       "\u001b[1m Total params: \u001b[0m\u001b[38;5;34m16,051\u001b[0m (62.70 KB)\n"
      ]
     },
     "metadata": {},
     "output_type": "display_data"
    },
    {
     "data": {
      "text/html": [
       "<pre style=\"white-space:pre;overflow-x:auto;line-height:normal;font-family:Menlo,'DejaVu Sans Mono',consolas,'Courier New',monospace\"><span style=\"font-weight: bold\"> Trainable params: </span><span style=\"color: #00af00; text-decoration-color: #00af00\">16,051</span> (62.70 KB)\n",
       "</pre>\n"
      ],
      "text/plain": [
       "\u001b[1m Trainable params: \u001b[0m\u001b[38;5;34m16,051\u001b[0m (62.70 KB)\n"
      ]
     },
     "metadata": {},
     "output_type": "display_data"
    },
    {
     "data": {
      "text/html": [
       "<pre style=\"white-space:pre;overflow-x:auto;line-height:normal;font-family:Menlo,'DejaVu Sans Mono',consolas,'Courier New',monospace\"><span style=\"font-weight: bold\"> Non-trainable params: </span><span style=\"color: #00af00; text-decoration-color: #00af00\">0</span> (0.00 B)\n",
       "</pre>\n"
      ],
      "text/plain": [
       "\u001b[1m Non-trainable params: \u001b[0m\u001b[38;5;34m0\u001b[0m (0.00 B)\n"
      ]
     },
     "metadata": {},
     "output_type": "display_data"
    }
   ],
   "source": [
    "from tensorflow.keras.models import Sequential\n",
    "from tensorflow.keras.layers import LSTM, Dense\n",
    "\n",
    "# Define model architecture\n",
    "model = Sequential()\n",
    "model.add(LSTM(50, activation='relu', input_shape=(n_steps, X.shape[2])))\n",
    "model.add(Dense(1)) # Output layer for a single value prediction\n",
    "\n",
    "# Compile the model\n",
    "model.compile(optimizer='adam', loss='mean_squared_error')\n",
    "\n",
    "print(\"\\nModel Summary:\")\n",
    "model.summary()"
   ]
  },
  {
   "cell_type": "code",
   "execution_count": 12,
   "id": "e6e7ff7e",
   "metadata": {},
   "outputs": [
    {
     "name": "stdout",
     "output_type": "stream",
     "text": [
      "Epoch 1/50\n",
      "\u001b[1m2255/2255\u001b[0m \u001b[32m━━━━━━━━━━━━━━━━━━━━\u001b[0m\u001b[37m\u001b[0m \u001b[1m11s\u001b[0m 4ms/step - loss: nan - val_loss: nan\n",
      "Epoch 2/50\n",
      "\u001b[1m2255/2255\u001b[0m \u001b[32m━━━━━━━━━━━━━━━━━━━━\u001b[0m\u001b[37m\u001b[0m \u001b[1m7s\u001b[0m 3ms/step - loss: nan - val_loss: nan\n",
      "Epoch 3/50\n",
      "\u001b[1m2255/2255\u001b[0m \u001b[32m━━━━━━━━━━━━━━━━━━━━\u001b[0m\u001b[37m\u001b[0m \u001b[1m8s\u001b[0m 4ms/step - loss: nan - val_loss: nan\n",
      "Epoch 4/50\n",
      "\u001b[1m2255/2255\u001b[0m \u001b[32m━━━━━━━━━━━━━━━━━━━━\u001b[0m\u001b[37m\u001b[0m \u001b[1m8s\u001b[0m 4ms/step - loss: nan - val_loss: nan\n",
      "Epoch 5/50\n",
      "\u001b[1m2255/2255\u001b[0m \u001b[32m━━━━━━━━━━━━━━━━━━━━\u001b[0m\u001b[37m\u001b[0m \u001b[1m9s\u001b[0m 4ms/step - loss: nan - val_loss: nan\n",
      "Epoch 6/50\n",
      "\u001b[1m2255/2255\u001b[0m \u001b[32m━━━━━━━━━━━━━━━━━━━━\u001b[0m\u001b[37m\u001b[0m \u001b[1m8s\u001b[0m 4ms/step - loss: nan - val_loss: nan\n",
      "Epoch 7/50\n",
      "\u001b[1m2255/2255\u001b[0m \u001b[32m━━━━━━━━━━━━━━━━━━━━\u001b[0m\u001b[37m\u001b[0m \u001b[1m10s\u001b[0m 5ms/step - loss: nan - val_loss: nan\n",
      "Epoch 8/50\n",
      "\u001b[1m2255/2255\u001b[0m \u001b[32m━━━━━━━━━━━━━━━━━━━━\u001b[0m\u001b[37m\u001b[0m \u001b[1m10s\u001b[0m 4ms/step - loss: nan - val_loss: nan\n",
      "Epoch 9/50\n",
      "\u001b[1m2255/2255\u001b[0m \u001b[32m━━━━━━━━━━━━━━━━━━━━\u001b[0m\u001b[37m\u001b[0m \u001b[1m8s\u001b[0m 4ms/step - loss: nan - val_loss: nan\n",
      "Epoch 10/50\n",
      "\u001b[1m2255/2255\u001b[0m \u001b[32m━━━━━━━━━━━━━━━━━━━━\u001b[0m\u001b[37m\u001b[0m \u001b[1m8s\u001b[0m 4ms/step - loss: nan - val_loss: nan\n",
      "Epoch 11/50\n",
      "\u001b[1m2255/2255\u001b[0m \u001b[32m━━━━━━━━━━━━━━━━━━━━\u001b[0m\u001b[37m\u001b[0m \u001b[1m8s\u001b[0m 3ms/step - loss: nan - val_loss: nan\n",
      "Epoch 12/50\n",
      "\u001b[1m2255/2255\u001b[0m \u001b[32m━━━━━━━━━━━━━━━━━━━━\u001b[0m\u001b[37m\u001b[0m \u001b[1m8s\u001b[0m 4ms/step - loss: nan - val_loss: nan\n",
      "Epoch 13/50\n",
      "\u001b[1m2255/2255\u001b[0m \u001b[32m━━━━━━━━━━━━━━━━━━━━\u001b[0m\u001b[37m\u001b[0m \u001b[1m9s\u001b[0m 4ms/step - loss: nan - val_loss: nan\n",
      "Epoch 14/50\n",
      "\u001b[1m2255/2255\u001b[0m \u001b[32m━━━━━━━━━━━━━━━━━━━━\u001b[0m\u001b[37m\u001b[0m \u001b[1m8s\u001b[0m 3ms/step - loss: nan - val_loss: nan\n",
      "Epoch 15/50\n",
      "\u001b[1m2255/2255\u001b[0m \u001b[32m━━━━━━━━━━━━━━━━━━━━\u001b[0m\u001b[37m\u001b[0m \u001b[1m8s\u001b[0m 4ms/step - loss: nan - val_loss: nan\n",
      "Epoch 16/50\n",
      "\u001b[1m2255/2255\u001b[0m \u001b[32m━━━━━━━━━━━━━━━━━━━━\u001b[0m\u001b[37m\u001b[0m \u001b[1m8s\u001b[0m 3ms/step - loss: nan - val_loss: nan\n",
      "Epoch 17/50\n",
      "\u001b[1m2255/2255\u001b[0m \u001b[32m━━━━━━━━━━━━━━━━━━━━\u001b[0m\u001b[37m\u001b[0m \u001b[1m8s\u001b[0m 3ms/step - loss: nan - val_loss: nan\n",
      "Epoch 18/50\n",
      "\u001b[1m2255/2255\u001b[0m \u001b[32m━━━━━━━━━━━━━━━━━━━━\u001b[0m\u001b[37m\u001b[0m \u001b[1m8s\u001b[0m 4ms/step - loss: nan - val_loss: nan\n",
      "Epoch 19/50\n",
      "\u001b[1m2255/2255\u001b[0m \u001b[32m━━━━━━━━━━━━━━━━━━━━\u001b[0m\u001b[37m\u001b[0m \u001b[1m9s\u001b[0m 4ms/step - loss: nan - val_loss: nan\n",
      "Epoch 20/50\n",
      "\u001b[1m2255/2255\u001b[0m \u001b[32m━━━━━━━━━━━━━━━━━━━━\u001b[0m\u001b[37m\u001b[0m \u001b[1m8s\u001b[0m 3ms/step - loss: nan - val_loss: nan\n",
      "Epoch 21/50\n",
      "\u001b[1m2255/2255\u001b[0m \u001b[32m━━━━━━━━━━━━━━━━━━━━\u001b[0m\u001b[37m\u001b[0m \u001b[1m8s\u001b[0m 4ms/step - loss: nan - val_loss: nan\n",
      "Epoch 22/50\n",
      "\u001b[1m2255/2255\u001b[0m \u001b[32m━━━━━━━━━━━━━━━━━━━━\u001b[0m\u001b[37m\u001b[0m \u001b[1m7s\u001b[0m 3ms/step - loss: nan - val_loss: nan\n",
      "Epoch 23/50\n",
      "\u001b[1m2255/2255\u001b[0m \u001b[32m━━━━━━━━━━━━━━━━━━━━\u001b[0m\u001b[37m\u001b[0m \u001b[1m8s\u001b[0m 4ms/step - loss: nan - val_loss: nan\n",
      "Epoch 24/50\n",
      "\u001b[1m2255/2255\u001b[0m \u001b[32m━━━━━━━━━━━━━━━━━━━━\u001b[0m\u001b[37m\u001b[0m \u001b[1m7s\u001b[0m 3ms/step - loss: nan - val_loss: nan\n",
      "Epoch 25/50\n",
      "\u001b[1m2255/2255\u001b[0m \u001b[32m━━━━━━━━━━━━━━━━━━━━\u001b[0m\u001b[37m\u001b[0m \u001b[1m8s\u001b[0m 4ms/step - loss: nan - val_loss: nan\n",
      "Epoch 26/50\n",
      "\u001b[1m2255/2255\u001b[0m \u001b[32m━━━━━━━━━━━━━━━━━━━━\u001b[0m\u001b[37m\u001b[0m \u001b[1m8s\u001b[0m 3ms/step - loss: nan - val_loss: nan\n",
      "Epoch 27/50\n",
      "\u001b[1m2255/2255\u001b[0m \u001b[32m━━━━━━━━━━━━━━━━━━━━\u001b[0m\u001b[37m\u001b[0m \u001b[1m8s\u001b[0m 4ms/step - loss: nan - val_loss: nan\n",
      "Epoch 28/50\n",
      "\u001b[1m2255/2255\u001b[0m \u001b[32m━━━━━━━━━━━━━━━━━━━━\u001b[0m\u001b[37m\u001b[0m \u001b[1m8s\u001b[0m 3ms/step - loss: nan - val_loss: nan\n",
      "Epoch 29/50\n",
      "\u001b[1m2255/2255\u001b[0m \u001b[32m━━━━━━━━━━━━━━━━━━━━\u001b[0m\u001b[37m\u001b[0m \u001b[1m8s\u001b[0m 3ms/step - loss: nan - val_loss: nan\n",
      "Epoch 30/50\n",
      "\u001b[1m2255/2255\u001b[0m \u001b[32m━━━━━━━━━━━━━━━━━━━━\u001b[0m\u001b[37m\u001b[0m \u001b[1m8s\u001b[0m 3ms/step - loss: nan - val_loss: nan\n",
      "Epoch 31/50\n",
      "\u001b[1m2255/2255\u001b[0m \u001b[32m━━━━━━━━━━━━━━━━━━━━\u001b[0m\u001b[37m\u001b[0m \u001b[1m7s\u001b[0m 3ms/step - loss: nan - val_loss: nan\n",
      "Epoch 32/50\n",
      "\u001b[1m2255/2255\u001b[0m \u001b[32m━━━━━━━━━━━━━━━━━━━━\u001b[0m\u001b[37m\u001b[0m \u001b[1m8s\u001b[0m 3ms/step - loss: nan - val_loss: nan\n",
      "Epoch 33/50\n",
      "\u001b[1m2255/2255\u001b[0m \u001b[32m━━━━━━━━━━━━━━━━━━━━\u001b[0m\u001b[37m\u001b[0m \u001b[1m7s\u001b[0m 3ms/step - loss: nan - val_loss: nan\n",
      "Epoch 34/50\n",
      "\u001b[1m2255/2255\u001b[0m \u001b[32m━━━━━━━━━━━━━━━━━━━━\u001b[0m\u001b[37m\u001b[0m \u001b[1m8s\u001b[0m 3ms/step - loss: nan - val_loss: nan\n",
      "Epoch 35/50\n",
      "\u001b[1m2255/2255\u001b[0m \u001b[32m━━━━━━━━━━━━━━━━━━━━\u001b[0m\u001b[37m\u001b[0m \u001b[1m8s\u001b[0m 3ms/step - loss: nan - val_loss: nan\n",
      "Epoch 36/50\n",
      "\u001b[1m2255/2255\u001b[0m \u001b[32m━━━━━━━━━━━━━━━━━━━━\u001b[0m\u001b[37m\u001b[0m \u001b[1m8s\u001b[0m 4ms/step - loss: nan - val_loss: nan\n",
      "Epoch 37/50\n",
      "\u001b[1m2255/2255\u001b[0m \u001b[32m━━━━━━━━━━━━━━━━━━━━\u001b[0m\u001b[37m\u001b[0m \u001b[1m8s\u001b[0m 3ms/step - loss: nan - val_loss: nan\n",
      "Epoch 38/50\n",
      "\u001b[1m2255/2255\u001b[0m \u001b[32m━━━━━━━━━━━━━━━━━━━━\u001b[0m\u001b[37m\u001b[0m \u001b[1m8s\u001b[0m 4ms/step - loss: nan - val_loss: nan\n",
      "Epoch 39/50\n",
      "\u001b[1m2255/2255\u001b[0m \u001b[32m━━━━━━━━━━━━━━━━━━━━\u001b[0m\u001b[37m\u001b[0m \u001b[1m8s\u001b[0m 3ms/step - loss: nan - val_loss: nan\n",
      "Epoch 40/50\n",
      "\u001b[1m2255/2255\u001b[0m \u001b[32m━━━━━━━━━━━━━━━━━━━━\u001b[0m\u001b[37m\u001b[0m \u001b[1m8s\u001b[0m 4ms/step - loss: nan - val_loss: nan\n",
      "Epoch 41/50\n",
      "\u001b[1m2255/2255\u001b[0m \u001b[32m━━━━━━━━━━━━━━━━━━━━\u001b[0m\u001b[37m\u001b[0m \u001b[1m8s\u001b[0m 4ms/step - loss: nan - val_loss: nan\n",
      "Epoch 42/50\n",
      "\u001b[1m2255/2255\u001b[0m \u001b[32m━━━━━━━━━━━━━━━━━━━━\u001b[0m\u001b[37m\u001b[0m \u001b[1m8s\u001b[0m 3ms/step - loss: nan - val_loss: nan\n",
      "Epoch 43/50\n",
      "\u001b[1m2255/2255\u001b[0m \u001b[32m━━━━━━━━━━━━━━━━━━━━\u001b[0m\u001b[37m\u001b[0m \u001b[1m8s\u001b[0m 4ms/step - loss: nan - val_loss: nan\n",
      "Epoch 44/50\n",
      "\u001b[1m2255/2255\u001b[0m \u001b[32m━━━━━━━━━━━━━━━━━━━━\u001b[0m\u001b[37m\u001b[0m \u001b[1m7s\u001b[0m 3ms/step - loss: nan - val_loss: nan\n",
      "Epoch 45/50\n",
      "\u001b[1m2255/2255\u001b[0m \u001b[32m━━━━━━━━━━━━━━━━━━━━\u001b[0m\u001b[37m\u001b[0m \u001b[1m8s\u001b[0m 4ms/step - loss: nan - val_loss: nan\n",
      "Epoch 46/50\n",
      "\u001b[1m2255/2255\u001b[0m \u001b[32m━━━━━━━━━━━━━━━━━━━━\u001b[0m\u001b[37m\u001b[0m \u001b[1m8s\u001b[0m 4ms/step - loss: nan - val_loss: nan\n",
      "Epoch 47/50\n",
      "\u001b[1m2255/2255\u001b[0m \u001b[32m━━━━━━━━━━━━━━━━━━━━\u001b[0m\u001b[37m\u001b[0m \u001b[1m8s\u001b[0m 3ms/step - loss: nan - val_loss: nan\n",
      "Epoch 48/50\n",
      "\u001b[1m2255/2255\u001b[0m \u001b[32m━━━━━━━━━━━━━━━━━━━━\u001b[0m\u001b[37m\u001b[0m \u001b[1m7s\u001b[0m 3ms/step - loss: nan - val_loss: nan\n",
      "Epoch 49/50\n",
      "\u001b[1m2255/2255\u001b[0m \u001b[32m━━━━━━━━━━━━━━━━━━━━\u001b[0m\u001b[37m\u001b[0m \u001b[1m8s\u001b[0m 3ms/step - loss: nan - val_loss: nan\n",
      "Epoch 50/50\n",
      "\u001b[1m2255/2255\u001b[0m \u001b[32m━━━━━━━━━━━━━━━━━━━━\u001b[0m\u001b[37m\u001b[0m \u001b[1m8s\u001b[0m 4ms/step - loss: nan - val_loss: nan\n"
     ]
    }
   ],
   "source": [
    "# Train the model\n",
    "# You can split your data into training and validation sets here to monitor loss\n",
    "# e.g., train on 80% and validate on 20%\n",
    "split_index = int(0.8 * len(X))\n",
    "X_train, X_val = X[:split_index], X[split_index:]\n",
    "y_train, y_val = y[:split_index], y[split_index:]\n",
    "\n",
    "history = model.fit(\n",
    "    X_train,\n",
    "    y_train,\n",
    "    epochs=50, # You can adjust this\n",
    "    validation_data=(X_val, y_val),\n",
    "    verbose=1\n",
    ")\n",
    "\n",
    "# You can save the model weights after training\n",
    "# model.save('lstm_model.h5')"
   ]
  },
  {
   "cell_type": "code",
   "execution_count": null,
   "id": "226bd80c",
   "metadata": {},
   "outputs": [
    {
     "name": "stdout",
     "output_type": "stream",
     "text": [
      "\u001b[1m564/564\u001b[0m \u001b[32m━━━━━━━━━━━━━━━━━━━━\u001b[0m\u001b[37m\u001b[0m \u001b[1m1s\u001b[0m 2ms/step\n",
      "⚠️ NaNs detected in validation data or predictions. Filtering...\n",
      "❌ No valid samples left after filtering. Cannot compute RMSE.\n"
     ]
    },
    {
     "data": {
      "image/png": "[encoded data removed]",
      "text/plain": [
       "<Figure size 1000x600 with 1 Axes>"
      ]
     },
     "metadata": {},
     "output_type": "display_data"
    }
   ],
   "source": [
    "import matplotlib.pyplot as plt\n",
    "from sklearn.metrics import mean_squared_error\n",
    "import numpy as np\n",
    "\n",
    "# --- Plot training and validation loss curves ---\n",
    "plt.figure(figsize=(10, 6))\n",
    "plt.plot(history.history['loss'], label='Training Loss')\n",
    "plt.plot(history.history['val_loss'], label='Validation Loss')\n",
    "plt.title('Model Loss Over Epochs')\n",
    "plt.xlabel('Epoch')\n",
    "plt.ylabel('Loss')\n",
    "plt.legend()\n",
    "plt.savefig('model_loss.png')\n",
    "print(\"✅ Loss curve saved as 'model_loss.png'\")\n",
    "\n",
    "# --- Make predictions on the validation set ---\n",
    "y_pred_scaled = model.predict(X_val)\n",
    "\n",
    "# --- Flatten arrays for comparison ---\n",
    "y_val_flat = y_val.flatten()\n",
    "y_pred_flat = y_pred_scaled.flatten()\n",
    "\n",
    "# --- Check and clean NaNs ---\n",
    "if np.isnan(y_val_flat).any() or np.isnan(y_pred_flat).any():\n",
    "    print(\"⚠️ NaNs detected in validation data or predictions. Filtering...\")\n",
    "    mask = ~np.isnan(y_val_flat) & ~np.isnan(y_pred_flat)\n",
    "    y_val_clean = y_val_flat[mask]\n",
    "    y_pred_clean = y_pred_flat[mask]\n",
    "else:\n",
    "    y_val_clean = y_val_flat\n",
    "    y_pred_clean = y_pred_flat\n",
    "\n",
    "# --- Validate non-empty arrays ---\n",
    "if len(y_val_clean) == 0 or len(y_pred_clean) == 0:\n",
    "    print(\"❌ No valid samples left after filtering. Cannot compute RMSE.\")\n",
    "else:\n",
    "    rmse = np.sqrt(mean_squared_error(y_val_clean, y_pred_clean))\n",
    "    print(f\"\\n✅ Root Mean Squared Error (RMSE) on Validation Set: {rmse:.4f}\")"
   ]
  },
  {
   "cell_type": "code",
   "execution_count": 17,
   "id": "69eac83c",
   "metadata": {},
   "outputs": [],
   "source": [
    "features = ['avg_market_value']\n",
    "target = 'avg_market_value'\n"
   ]
  },
  {
   "cell_type": "code",
   "execution_count": 18,
   "id": "54241759",
   "metadata": {},
   "outputs": [
    {
     "name": "stderr",
     "output_type": "stream",
     "text": [
      "c:\\Users\\M.ANTONY ROJES\\Downloads\\Infosys\\.venv\\lib\\site-packages\\keras\\src\\layers\\rnn\\rnn.py:199: UserWarning: Do not pass an `input_shape`/`input_dim` argument to a layer. When using Sequential models, prefer using an `Input(shape)` object as the first layer in the model instead.\n",
      "  super().__init__(**kwargs)\n"
     ]
    },
    {
     "data": {
      "text/html": [
       "<pre style=\"white-space:pre;overflow-x:auto;line-height:normal;font-family:Menlo,'DejaVu Sans Mono',consolas,'Courier New',monospace\"><span style=\"font-weight: bold\">Model: \"sequential_1\"</span>\n",
       "</pre>\n"
      ],
      "text/plain": [
       "\u001b[1mModel: \"sequential_1\"\u001b[0m\n"
      ]
     },
     "metadata": {},
     "output_type": "display_data"
    },
    {
     "data": {
      "text/html": [
       "<pre style=\"white-space:pre;overflow-x:auto;line-height:normal;font-family:Menlo,'DejaVu Sans Mono',consolas,'Courier New',monospace\">┏━━━━━━━━━━━━━━━━━━━━━━━━━━━━━━━━━┳━━━━━━━━━━━━━━━━━━━━━━━━┳━━━━━━━━━━━━━━━┓\n",
       "┃<span style=\"font-weight: bold\"> Layer (type)                    </span>┃<span style=\"font-weight: bold\"> Output Shape           </span>┃<span style=\"font-weight: bold\">       Param # </span>┃\n",
       "┡━━━━━━━━━━━━━━━━━━━━━━━━━━━━━━━━━╇━━━━━━━━━━━━━━━━━━━━━━━━╇━━━━━━━━━━━━━━━┩\n",
       "│ lstm_1 (<span style=\"color: #0087ff; text-decoration-color: #0087ff\">LSTM</span>)                   │ (<span style=\"color: #00d7ff; text-decoration-color: #00d7ff\">None</span>, <span style=\"color: #00af00; text-decoration-color: #00af00\">50</span>)             │        <span style=\"color: #00af00; text-decoration-color: #00af00\">16,000</span> │\n",
       "├─────────────────────────────────┼────────────────────────┼───────────────┤\n",
       "│ repeat_vector (<span style=\"color: #0087ff; text-decoration-color: #0087ff\">RepeatVector</span>)    │ (<span style=\"color: #00d7ff; text-decoration-color: #00d7ff\">None</span>, <span style=\"color: #00af00; text-decoration-color: #00af00\">3</span>, <span style=\"color: #00af00; text-decoration-color: #00af00\">50</span>)          │             <span style=\"color: #00af00; text-decoration-color: #00af00\">0</span> │\n",
       "├─────────────────────────────────┼────────────────────────┼───────────────┤\n",
       "│ lstm_2 (<span style=\"color: #0087ff; text-decoration-color: #0087ff\">LSTM</span>)                   │ (<span style=\"color: #00d7ff; text-decoration-color: #00d7ff\">None</span>, <span style=\"color: #00af00; text-decoration-color: #00af00\">3</span>, <span style=\"color: #00af00; text-decoration-color: #00af00\">50</span>)          │        <span style=\"color: #00af00; text-decoration-color: #00af00\">20,200</span> │\n",
       "├─────────────────────────────────┼────────────────────────┼───────────────┤\n",
       "│ time_distributed                │ (<span style=\"color: #00d7ff; text-decoration-color: #00d7ff\">None</span>, <span style=\"color: #00af00; text-decoration-color: #00af00\">3</span>, <span style=\"color: #00af00; text-decoration-color: #00af00\">1</span>)           │            <span style=\"color: #00af00; text-decoration-color: #00af00\">51</span> │\n",
       "│ (<span style=\"color: #0087ff; text-decoration-color: #0087ff\">TimeDistributed</span>)               │                        │               │\n",
       "└─────────────────────────────────┴────────────────────────┴───────────────┘\n",
       "</pre>\n"
      ],
      "text/plain": [
       "┏━━━━━━━━━━━━━━━━━━━━━━━━━━━━━━━━━┳━━━━━━━━━━━━━━━━━━━━━━━━┳━━━━━━━━━━━━━━━┓\n",
       "┃\u001b[1m \u001b[0m\u001b[1mLayer (type)                   \u001b[0m\u001b[1m \u001b[0m┃\u001b[1m \u001b[0m\u001b[1mOutput Shape          \u001b[0m\u001b[1m \u001b[0m┃\u001b[1m \u001b[0m\u001b[1m      Param #\u001b[0m\u001b[1m \u001b[0m┃\n",
       "┡━━━━━━━━━━━━━━━━━━━━━━━━━━━━━━━━━╇━━━━━━━━━━━━━━━━━━━━━━━━╇━━━━━━━━━━━━━━━┩\n",
       "│ lstm_1 (\u001b[38;5;33mLSTM\u001b[0m)                   │ (\u001b[38;5;45mNone\u001b[0m, \u001b[38;5;34m50\u001b[0m)             │        \u001b[38;5;34m16,000\u001b[0m │\n",
       "├─────────────────────────────────┼────────────────────────┼───────────────┤\n",
       "│ repeat_vector (\u001b[38;5;33mRepeatVector\u001b[0m)    │ (\u001b[38;5;45mNone\u001b[0m, \u001b[38;5;34m3\u001b[0m, \u001b[38;5;34m50\u001b[0m)          │             \u001b[38;5;34m0\u001b[0m │\n",
       "├─────────────────────────────────┼────────────────────────┼───────────────┤\n",
       "│ lstm_2 (\u001b[38;5;33mLSTM\u001b[0m)                   │ (\u001b[38;5;45mNone\u001b[0m, \u001b[38;5;34m3\u001b[0m, \u001b[38;5;34m50\u001b[0m)          │        \u001b[38;5;34m20,200\u001b[0m │\n",
       "├─────────────────────────────────┼────────────────────────┼───────────────┤\n",
       "│ time_distributed                │ (\u001b[38;5;45mNone\u001b[0m, \u001b[38;5;34m3\u001b[0m, \u001b[38;5;34m1\u001b[0m)           │            \u001b[38;5;34m51\u001b[0m │\n",
       "│ (\u001b[38;5;33mTimeDistributed\u001b[0m)               │                        │               │\n",
       "└─────────────────────────────────┴────────────────────────┴───────────────┘\n"
      ]
     },
     "metadata": {},
     "output_type": "display_data"
    },
    {
     "data": {
      "text/html": [
       "<pre style=\"white-space:pre;overflow-x:auto;line-height:normal;font-family:Menlo,'DejaVu Sans Mono',consolas,'Courier New',monospace\"><span style=\"font-weight: bold\"> Total params: </span><span style=\"color: #00af00; text-decoration-color: #00af00\">36,251</span> (141.61 KB)\n",
       "</pre>\n"
      ],
      "text/plain": [
       "\u001b[1m Total params: \u001b[0m\u001b[38;5;34m36,251\u001b[0m (141.61 KB)\n"
      ]
     },
     "metadata": {},
     "output_type": "display_data"
    },
    {
     "data": {
      "text/html": [
       "<pre style=\"white-space:pre;overflow-x:auto;line-height:normal;font-family:Menlo,'DejaVu Sans Mono',consolas,'Courier New',monospace\"><span style=\"font-weight: bold\"> Trainable params: </span><span style=\"color: #00af00; text-decoration-color: #00af00\">36,251</span> (141.61 KB)\n",
       "</pre>\n"
      ],
      "text/plain": [
       "\u001b[1m Trainable params: \u001b[0m\u001b[38;5;34m36,251\u001b[0m (141.61 KB)\n"
      ]
     },
     "metadata": {},
     "output_type": "display_data"
    },
    {
     "data": {
      "text/html": [
       "<pre style=\"white-space:pre;overflow-x:auto;line-height:normal;font-family:Menlo,'DejaVu Sans Mono',consolas,'Courier New',monospace\"><span style=\"font-weight: bold\"> Non-trainable params: </span><span style=\"color: #00af00; text-decoration-color: #00af00\">0</span> (0.00 B)\n",
       "</pre>\n"
      ],
      "text/plain": [
       "\u001b[1m Non-trainable params: \u001b[0m\u001b[38;5;34m0\u001b[0m (0.00 B)\n"
      ]
     },
     "metadata": {},
     "output_type": "display_data"
    }
   ],
   "source": [
    "from tensorflow.keras.layers import RepeatVector, TimeDistributed\n",
    "\n",
    "model_encdec = Sequential([\n",
    "    LSTM(50, activation='relu', input_shape=(n_steps, X.shape[2])),\n",
    "    RepeatVector(3),  # predict 3 future steps\n",
    "    LSTM(50, activation='relu', return_sequences=True),\n",
    "    TimeDistributed(Dense(1))\n",
    "])\n",
    "\n",
    "model_encdec.compile(optimizer='adam', loss='mse')\n",
    "model_encdec.summary()\n"
   ]
  },
  {
   "cell_type": "code",
   "execution_count": 19,
   "id": "b1c54592",
   "metadata": {},
   "outputs": [],
   "source": [
    "from tensorflow.keras import Input\n",
    "from tensorflow.keras.models import Sequential\n",
    "from tensorflow.keras.layers import LSTM, Dense, RepeatVector, TimeDistributed\n",
    "\n",
    "model_encdec = Sequential([\n",
    "    Input(shape=(n_steps, X.shape[2])),\n",
    "    LSTM(50, activation='relu'),\n",
    "    RepeatVector(3),\n",
    "    LSTM(50, activation='relu', return_sequences=True),\n",
    "    TimeDistributed(Dense(1))\n",
    "])\n"
   ]
  },
  {
   "cell_type": "code",
   "execution_count": null,
   "id": "ca4ca17f",
   "metadata": {},
   "outputs": [
    {
     "name": "stderr",
     "output_type": "stream",
     "text": [
      "WARNING:absl:You are saving your model as an HDF5 file via `model.save()` or `keras.saving.save_model(model)`. This file format is considered legacy. We recommend using instead the native Keras format, e.g. `model.save('my_model.keras')` or `keras.saving.save_model(model, 'my_model.keras')`. \n"
     ]
    },
    {
     "name": "stdout",
     "output_type": "stream",
     "text": [
      "✅ LSTM model saved as week_5_lstm_model.h5\n",
      "✅ Training history saved as week_5_training_history.csv\n",
      "\n"
     ]
    }
   ],
   "source": [
    "# --- SAVE WEEK 5 MODELS & RESULTS ---\n",
    "\n",
    "# Save trained LSTM model\n",
    "model.save(\"week_5_lstm_model.h5\")\n",
    "print(\"✅ LSTM model saved as week_5_lstm_model.h5\")\n",
    "\n",
    "# Save training history (loss curves)\n",
    "import pandas as pd\n",
    "history_df = pd.DataFrame(history.history)\n",
    "history_df.to_csv(\"week_5_training_history.csv\", index=False)\n",
    "print(\"✅ Training history saved as week_5_training_history.csv\")\n",
    "\n",
    "# Save RMSE result only if it exists\n",
    "try:\n",
    "    rmse  # Check if rmse is defined\n",
    "    with open(\"week_5_results.txt\", \"w\") as f:\n",
    "        f.write(f\"Week 5 LSTM RMSE (Validation Set): {rmse:.4f}\\n\")\n",
    "    print(\"✅ RMSE saved as week_5_results.txt\")\n",
    "except NameError:\n",
    "    print(\"⚠️ RMSE not defined. Skipping save to week_5_results.txt.\")"
   ]
  }
 ],
 "metadata": {
  "kernelspec": {
   "display_name": "Python (.venv Infosys)",
   "language": "python",
   "name": "infosys_venv"
  },
  "language_info": {
   "codemirror_mode": {
    "name": "ipython",
    "version": 3
   },
   "file_extension": ".py",
   "mimetype": "text/x-python",
   "name": "python",
   "nbconvert_exporter": "python",
   "pygments_lexer": "ipython3",
   "version": "3.9.12"
  }
 },
 "nbformat": 4,
 "nbformat_minor": 5
}
