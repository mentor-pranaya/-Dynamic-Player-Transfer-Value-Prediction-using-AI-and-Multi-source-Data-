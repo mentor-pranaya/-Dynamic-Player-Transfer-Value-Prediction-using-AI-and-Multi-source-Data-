{
 "cells": [
  {
   "metadata": {},
   "cell_type": "markdown",
   "source": [
    "# This notebook is about saving final predictions and final visualization report by our final-models:\n",
    "1) Improved_Multivariate_lstm_model.h5\n",
    "2) xgb_ensemble_final.pkl"
   ],
   "id": "49dde1151ece55e4"
  },
  {
   "metadata": {},
   "cell_type": "markdown",
   "source": "## Generate Final Predictions CSV",
   "id": "a24b398a619e4a52"
  },
  {
   "metadata": {
    "ExecuteTime": {
     "end_time": "2025-10-01T01:36:46.654323Z",
     "start_time": "2025-10-01T01:36:40.026392Z"
    }
   },
   "cell_type": "code",
   "source": [
    "# Final Predictions Export\n",
    "import os, joblib\n",
    "import numpy as np, pandas as pd\n",
    "import tensorflow as tf\n",
    "from tensorflow.keras.models import load_model\n",
    "from tensorflow.keras.losses import MeanSquaredError\n",
    "\n",
    "# Paths\n",
    "PROJECT_PATH = r\"C:\\Users\\asing\\PycharmProjects\\-Dynamic-Player-Transfer-Value-Prediction-using-AI-and-Multi-source-Data-\"\n",
    "FINAL_DIR    = os.path.join(PROJECT_PATH, \"Final_Report\")\n",
    "os.makedirs(FINAL_DIR, exist_ok=True)\n",
    "\n",
    "# Reload splits\n",
    "LSTM_DIR     = os.path.join(PROJECT_PATH, \"models\", \"LSTM_Models\")\n",
    "X_train = np.load(os.path.join(LSTM_DIR, \"X_train.npy\"))\n",
    "X_val   = np.load(os.path.join(LSTM_DIR, \"X_val.npy\"))\n",
    "X_test  = np.load(os.path.join(LSTM_DIR, \"X_test.npy\"))\n",
    "y_train = np.load(os.path.join(LSTM_DIR, \"y_train.npy\"))\n",
    "y_val   = np.load(os.path.join(LSTM_DIR, \"y_val.npy\"))\n",
    "y_test  = np.load(os.path.join(LSTM_DIR, \"y_test.npy\"))\n",
    "\n",
    "# Reload base models (used for ensemble meta-features)\n",
    "univariate_model = load_model(\n",
    "    os.path.join(LSTM_DIR, \"univariate_lstm_model.h5\"),\n",
    "    custom_objects={\"mse\": MeanSquaredError()},\n",
    "    compile=False\n",
    ")\n",
    "\n",
    "multivariate_model = load_model(\n",
    "    os.path.join(LSTM_DIR, \"multivariate_lstm_model.h5\"),\n",
    "    custom_objects={\"mse\": MeanSquaredError()},\n",
    "    compile=False\n",
    ")\n",
    "\n",
    "encoder_decoder_model = load_model(\n",
    "    os.path.join(LSTM_DIR, \"encoder_decoder_lstm_model.h5\"),\n",
    "    custom_objects={\"mse\": MeanSquaredError()},\n",
    "    compile=False\n",
    ")\n",
    "\n",
    "# Also reload new improved multivariate lstm model\n",
    "improved_lstm = load_model(\n",
    "    os.path.join(PROJECT_PATH, \"Hyperparameter_Tuning\", \"Improved_Multivariate_lstm_model.h5\"),\n",
    "    custom_objects={\"mse\": MeanSquaredError()},\n",
    "    compile=False\n",
    ")\n",
    "\n",
    "# Reload tuned Ensemble (XGBoost)\n",
    "xgb_model = joblib.load(\n",
    "    os.path.join(PROJECT_PATH, \"Hyperparameter_Tuning\", \"xgb_ensemble_final.pkl\")\n",
    ")\n",
    "\n",
    "# Predictions from base models\n",
    "pred_uni   = univariate_model.predict(X_test[:, :-1, [0]], verbose=0).squeeze()\n",
    "pred_multi = multivariate_model.predict(X_test, verbose=0).squeeze()\n",
    "pred_seq   = encoder_decoder_model.predict(X_test, verbose=0)\n",
    "pred_h1, pred_h2 = pred_seq[:, 0, 0], pred_seq[:, 1, 0]\n",
    "\n",
    "# Meta-features\n",
    "X_meta_test = np.vstack([pred_uni, pred_multi, pred_h1, pred_h2]).T\n",
    "y_pred_xgb  = xgb_model.predict(X_meta_test)\n",
    "\n",
    "# Also compute improved model preds\n",
    "y_pred_imp = improved_lstm.predict(X_test, verbose=0).squeeze()\n",
    "\n",
    "# Convert back to euro scale\n",
    "y_true_euro  = np.expm1(y_test)\n",
    "y_imp_euro   = np.expm1(y_pred_imp)\n",
    "y_xgb_euro   = np.expm1(y_pred_xgb)\n",
    "\n",
    "# Save to CSV\n",
    "df_preds = pd.DataFrame({\n",
    "    \"True_Log\": y_test,\n",
    "    \"Improved_LSTM_Log\": y_pred_imp,\n",
    "    \"XGB_Ensemble_Log\": y_pred_xgb,\n",
    "    \"True_Euro\": y_true_euro,\n",
    "    \"Improved_LSTM_Euro\": y_imp_euro,\n",
    "    \"XGB_Ensemble_Euro\": y_xgb_euro\n",
    "})\n",
    "\n",
    "csv_path = os.path.join(FINAL_DIR, \"Final_Predictions.csv\")\n",
    "df_preds.to_csv(csv_path, index=False)\n",
    "\n",
    "print(f\"\\n Final predictions saved to {csv_path}\")\n",
    "df_preds.head()"
   ],
   "id": "5ad6bb47effb5fb4",
   "outputs": [
    {
     "name": "stdout",
     "output_type": "stream",
     "text": [
      "WARNING:tensorflow:5 out of the last 5 calls to <function TensorFlowTrainer.make_predict_function.<locals>.one_step_on_data_distributed at 0x000002A06A5FC220> triggered tf.function retracing. Tracing is expensive and the excessive number of tracings could be due to (1) creating @tf.function repeatedly in a loop, (2) passing tensors with different shapes, (3) passing Python objects instead of tensors. For (1), please define your @tf.function outside of the loop. For (2), @tf.function has reduce_retracing=True option that can avoid unnecessary retracing. For (3), please refer to https://www.tensorflow.org/guide/function#controlling_retracing and https://www.tensorflow.org/api_docs/python/tf/function for  more details.\n",
      "WARNING:tensorflow:6 out of the last 6 calls to <function TensorFlowTrainer.make_predict_function.<locals>.one_step_on_data_distributed at 0x000002A06A5FC220> triggered tf.function retracing. Tracing is expensive and the excessive number of tracings could be due to (1) creating @tf.function repeatedly in a loop, (2) passing tensors with different shapes, (3) passing Python objects instead of tensors. For (1), please define your @tf.function outside of the loop. For (2), @tf.function has reduce_retracing=True option that can avoid unnecessary retracing. For (3), please refer to https://www.tensorflow.org/guide/function#controlling_retracing and https://www.tensorflow.org/api_docs/python/tf/function for  more details.\n",
      "\n",
      " Final predictions saved to C:\\Users\\asing\\PycharmProjects\\-Dynamic-Player-Transfer-Value-Prediction-using-AI-and-Multi-source-Data-\\Final_Report\\Final_Predictions.csv\n"
     ]
    },
    {
     "data": {
      "text/plain": [
       "    True_Log  Improved_LSTM_Log  XGB_Ensemble_Log   True_Euro  \\\n",
       "0  17.504390          15.735502         16.506866  40000000.0   \n",
       "1  15.761421          16.150606         15.370170   7000000.0   \n",
       "2  17.504390          16.996790         17.461277  40000000.0   \n",
       "3  18.197537          17.509569         17.765760  80000000.0   \n",
       "4  16.523561          15.741363         14.828681  15000000.0   \n",
       "\n",
       "   Improved_LSTM_Euro  XGB_Ensemble_Euro  \n",
       "0           6820901.0         14751663.0  \n",
       "1          10330446.0          4733471.5  \n",
       "2          24077536.0         38312124.0  \n",
       "3          40207704.0         51948344.0  \n",
       "4           6860991.0          2754318.5  "
      ],
      "text/html": [
       "<div>\n",
       "<style scoped>\n",
       "    .dataframe tbody tr th:only-of-type {\n",
       "        vertical-align: middle;\n",
       "    }\n",
       "\n",
       "    .dataframe tbody tr th {\n",
       "        vertical-align: top;\n",
       "    }\n",
       "\n",
       "    .dataframe thead th {\n",
       "        text-align: right;\n",
       "    }\n",
       "</style>\n",
       "<table border=\"1\" class=\"dataframe\">\n",
       "  <thead>\n",
       "    <tr style=\"text-align: right;\">\n",
       "      <th></th>\n",
       "      <th>True_Log</th>\n",
       "      <th>Improved_LSTM_Log</th>\n",
       "      <th>XGB_Ensemble_Log</th>\n",
       "      <th>True_Euro</th>\n",
       "      <th>Improved_LSTM_Euro</th>\n",
       "      <th>XGB_Ensemble_Euro</th>\n",
       "    </tr>\n",
       "  </thead>\n",
       "  <tbody>\n",
       "    <tr>\n",
       "      <th>0</th>\n",
       "      <td>17.504390</td>\n",
       "      <td>15.735502</td>\n",
       "      <td>16.506866</td>\n",
       "      <td>40000000.0</td>\n",
       "      <td>6820901.0</td>\n",
       "      <td>14751663.0</td>\n",
       "    </tr>\n",
       "    <tr>\n",
       "      <th>1</th>\n",
       "      <td>15.761421</td>\n",
       "      <td>16.150606</td>\n",
       "      <td>15.370170</td>\n",
       "      <td>7000000.0</td>\n",
       "      <td>10330446.0</td>\n",
       "      <td>4733471.5</td>\n",
       "    </tr>\n",
       "    <tr>\n",
       "      <th>2</th>\n",
       "      <td>17.504390</td>\n",
       "      <td>16.996790</td>\n",
       "      <td>17.461277</td>\n",
       "      <td>40000000.0</td>\n",
       "      <td>24077536.0</td>\n",
       "      <td>38312124.0</td>\n",
       "    </tr>\n",
       "    <tr>\n",
       "      <th>3</th>\n",
       "      <td>18.197537</td>\n",
       "      <td>17.509569</td>\n",
       "      <td>17.765760</td>\n",
       "      <td>80000000.0</td>\n",
       "      <td>40207704.0</td>\n",
       "      <td>51948344.0</td>\n",
       "    </tr>\n",
       "    <tr>\n",
       "      <th>4</th>\n",
       "      <td>16.523561</td>\n",
       "      <td>15.741363</td>\n",
       "      <td>14.828681</td>\n",
       "      <td>15000000.0</td>\n",
       "      <td>6860991.0</td>\n",
       "      <td>2754318.5</td>\n",
       "    </tr>\n",
       "  </tbody>\n",
       "</table>\n",
       "</div>"
      ]
     },
     "execution_count": 18,
     "metadata": {},
     "output_type": "execute_result"
    }
   ],
   "execution_count": 18
  },
  {
   "metadata": {},
   "cell_type": "markdown",
   "source": "## Visualization",
   "id": "984e48b7a323a73"
  },
  {
   "metadata": {
    "ExecuteTime": {
     "end_time": "2025-10-01T02:37:33.431Z",
     "start_time": "2025-10-01T02:37:28.006426Z"
    }
   },
   "cell_type": "code",
   "source": [
    "# Visualization of Predictions\n",
    "import os\n",
    "import pandas as pd\n",
    "import matplotlib.pyplot as plt\n",
    "import seaborn as sns\n",
    "\n",
    "# Paths\n",
    "PROJECT_PATH = r\"C:\\Users\\asing\\PycharmProjects\\-Dynamic-Player-Transfer-Value-Prediction-using-AI-and-Multi-source-Data-\"\n",
    "FINAL_DIR    = os.path.join(PROJECT_PATH, \"Final_Report\")\n",
    "\n",
    "# Load predictions\n",
    "csv_path = os.path.join(FINAL_DIR, \"Final_Predictions.csv\")\n",
    "df_preds = pd.read_csv(csv_path)\n",
    "\n",
    "print(\"Preview of Final Predictions:\")\n",
    "display(df_preds.head())\n",
    "\n",
    "# Plot 1: Log-space comparison\n",
    "plt.figure(figsize=(12, 6))\n",
    "plt.plot(df_preds[\"True_Log\"], \"ko-\", label=\"True (Log)\")\n",
    "plt.plot(df_preds[\"Improved_LSTM_Log\"], \"rD-\", label=\"Improved LSTM (Log)\")\n",
    "plt.plot(df_preds[\"XGB_Ensemble_Log\"], \"bs-\", label=\"XGB Ensemble (Log)\")\n",
    "plt.title(\"Prediction Comparison (Log Scale)\")\n",
    "plt.xlabel(\"Sample Index\")\n",
    "plt.ylabel(\"Log Market Value\")\n",
    "plt.legend()\n",
    "plt.grid(True, linestyle=\"--\", alpha=0.6)\n",
    "plt.show()\n",
    "\n",
    "# Plot 2: Euro scale comparison\n",
    "plt.figure(figsize=(12, 6))\n",
    "plt.plot(df_preds[\"True_Euro\"], \"ko-\", label=\"True (€)\")\n",
    "plt.plot(df_preds[\"Improved_LSTM_Euro\"], \"rD-\", label=\"Improved LSTM (€)\")\n",
    "plt.plot(df_preds[\"XGB_Ensemble_Euro\"], \"bs-\", label=\"XGB Ensemble (€)\")\n",
    "plt.title(\"Prediction Comparison (Euro Scale)\")\n",
    "plt.xlabel(\"Sample Index\")\n",
    "plt.ylabel(\"Market Value (€)\")\n",
    "plt.legend()\n",
    "plt.grid(True, linestyle=\"--\", alpha=0.6)\n",
    "plt.show()\n",
    "\n",
    "# plot 3: Distribution Plot\n",
    "plt.figure(figsize=(10, 6))\n",
    "sns.kdeplot(df_preds[\"True_Euro\"], label=\"True (€)\", linewidth=2)\n",
    "sns.kdeplot(df_preds[\"Improved_LSTM_Euro\"], label=\"Improved LSTM (€)\", linewidth=2)\n",
    "sns.kdeplot(df_preds[\"XGB_Ensemble_Euro\"], label=\"XGB Ensemble (€)\", linewidth=2)\n",
    "plt.title(\"Distribution of Market Values: True vs Predicted\")\n",
    "plt.xlabel(\"Market Value (€)\")\n",
    "plt.ylabel(\"Density\")\n",
    "plt.legend()\n",
    "plt.show()\n"
   ],
   "id": "f398aaec2e4ffae0",
   "outputs": [
    {
     "name": "stdout",
     "output_type": "stream",
     "text": [
      "Preview of Final Predictions:\n"
     ]
    },
    {
     "data": {
      "text/plain": [
       "    True_Log  Improved_LSTM_Log  XGB_Ensemble_Log  True_Euro  \\\n",
       "0  17.504390          15.735502         16.506866   40000000   \n",
       "1  15.761421          16.150606         15.370170    7000000   \n",
       "2  17.504390          16.996790         17.461277   40000000   \n",
       "3  18.197537          17.509570         17.765760   80000000   \n",
       "4  16.523561          15.741363         14.828681   15000000   \n",
       "\n",
       "   Improved_LSTM_Euro  XGB_Ensemble_Euro  \n",
       "0           6820901.0         14751663.0  \n",
       "1          10330446.0          4733471.5  \n",
       "2          24077536.0         38312124.0  \n",
       "3          40207704.0         51948344.0  \n",
       "4           6860991.0          2754318.5  "
      ],
      "text/html": [
       "<div>\n",
       "<style scoped>\n",
       "    .dataframe tbody tr th:only-of-type {\n",
       "        vertical-align: middle;\n",
       "    }\n",
       "\n",
       "    .dataframe tbody tr th {\n",
       "        vertical-align: top;\n",
       "    }\n",
       "\n",
       "    .dataframe thead th {\n",
       "        text-align: right;\n",
       "    }\n",
       "</style>\n",
       "<table border=\"1\" class=\"dataframe\">\n",
       "  <thead>\n",
       "    <tr style=\"text-align: right;\">\n",
       "      <th></th>\n",
       "      <th>True_Log</th>\n",
       "      <th>Improved_LSTM_Log</th>\n",
       "      <th>XGB_Ensemble_Log</th>\n",
       "      <th>True_Euro</th>\n",
       "      <th>Improved_LSTM_Euro</th>\n",
       "      <th>XGB_Ensemble_Euro</th>\n",
       "    </tr>\n",
       "  </thead>\n",
       "  <tbody>\n",
       "    <tr>\n",
       "      <th>0</th>\n",
       "      <td>17.504390</td>\n",
       "      <td>15.735502</td>\n",
       "      <td>16.506866</td>\n",
       "      <td>40000000</td>\n",
       "      <td>6820901.0</td>\n",
       "      <td>14751663.0</td>\n",
       "    </tr>\n",
       "    <tr>\n",
       "      <th>1</th>\n",
       "      <td>15.761421</td>\n",
       "      <td>16.150606</td>\n",
       "      <td>15.370170</td>\n",
       "      <td>7000000</td>\n",
       "      <td>10330446.0</td>\n",
       "      <td>4733471.5</td>\n",
       "    </tr>\n",
       "    <tr>\n",
       "      <th>2</th>\n",
       "      <td>17.504390</td>\n",
       "      <td>16.996790</td>\n",
       "      <td>17.461277</td>\n",
       "      <td>40000000</td>\n",
       "      <td>24077536.0</td>\n",
       "      <td>38312124.0</td>\n",
       "    </tr>\n",
       "    <tr>\n",
       "      <th>3</th>\n",
       "      <td>18.197537</td>\n",
       "      <td>17.509570</td>\n",
       "      <td>17.765760</td>\n",
       "      <td>80000000</td>\n",
       "      <td>40207704.0</td>\n",
       "      <td>51948344.0</td>\n",
       "    </tr>\n",
       "    <tr>\n",
       "      <th>4</th>\n",
       "      <td>16.523561</td>\n",
       "      <td>15.741363</td>\n",
       "      <td>14.828681</td>\n",
       "      <td>15000000</td>\n",
       "      <td>6860991.0</td>\n",
       "      <td>2754318.5</td>\n",
       "    </tr>\n",
       "  </tbody>\n",
       "</table>\n",
       "</div>"
      ]
     },
     "metadata": {},
     "output_type": "display_data"
    },
    {
     "data": {
      "text/plain": [
       "<Figure size 1200x600 with 1 Axes>"
      ],
      "image/png": "[encoded data removed]"
     },
     "metadata": {},
     "output_type": "display_data"
    },
    {
     "data": {
      "text/plain": [
       "<Figure size 1200x600 with 1 Axes>"
      ],
      "image/png": "[encoded data removed]"
     },
     "metadata": {},
     "output_type": "display_data"
    },
    {
     "data": {
      "text/plain": [
       "<Figure size 1000x600 with 1 Axes>"
      ],
      "image/png": "[encoded data removed]"
     },
     "metadata": {},
     "output_type": "display_data"
    }
   ],
   "execution_count": 19
  },
  {
   "metadata": {
    "ExecuteTime": {
     "end_time": "2025-10-01T11:57:27.469968Z",
     "start_time": "2025-10-01T11:57:08.233082Z"
    }
   },
   "cell_type": "code",
   "source": [
    "# Interactive Visualizations using Plotly\n",
    "import plotly.graph_objects as go\n",
    "import plotly.express as px\n",
    "\n",
    "# Plot 1: Interactive Line Plot\n",
    "fig = go.Figure()\n",
    "fig.add_trace(go.Scatter(y=df_preds[\"True_Euro\"], mode=\"lines+markers\", name=\"True (€)\", line=dict(color=\"black\")))\n",
    "fig.add_trace(go.Scatter(y=df_preds[\"Improved_LSTM_Euro\"], mode=\"lines+markers\", name=\"Improved LSTM (€)\", line=dict(color=\"red\")))\n",
    "fig.add_trace(go.Scatter(y=df_preds[\"XGB_Ensemble_Euro\"], mode=\"lines+markers\", name=\"XGB Ensemble (€)\", line=dict(color=\"blue\")))\n",
    "\n",
    "fig.update_layout(\n",
    "    title=\"Interactive Player Transfer Value Predictions (Euro Scale)\",\n",
    "    xaxis_title=\"Sample Index\",\n",
    "    yaxis_title=\"Market Value (€)\",\n",
    "    hovermode=\"x unified\",\n",
    "    template=\"plotly_white\"\n",
    ")\n",
    "fig.show()\n",
    "\n",
    "# Plot 2: Interactive Distribution Plot\n",
    "fig2 = px.histogram(\n",
    "    df_preds.melt(\n",
    "        value_vars=[\"True_Euro\", \"Improved_LSTM_Euro\", \"XGB_Ensemble_Euro\"],\n",
    "        var_name=\"Type\",\n",
    "        value_name=\"Market Value (€)\"\n",
    "    ),\n",
    "    x=\"Market Value (€)\",\n",
    "    color=\"Type\",\n",
    "    barmode=\"overlay\",\n",
    "    marginal=\"box\",\n",
    "    nbins=30,\n",
    "    title=\"Distribution of Market Values (True vs Predictions)\"\n",
    ")\n",
    "fig2.update_traces(opacity=0.6)\n",
    "fig2.show()\n"
   ],
   "id": "16ed4b88126e606b",
   "outputs": [
    {
     "data": {
      "application/vnd.plotly.v1+json": {
       "data": [
        {
         "line": {
          "color": "black"
         },
         "mode": "lines+markers",
         "name": "True (€)",
         "y": {
          "dtype": "i4",
          "bdata": "AFpiAsDPagAAWmICALTEBMDh5ADgZzUAQKWuAsDh5ACgLmMAAFpiAoDw+gIAEnoAAD+rAYAdLATA2KcAABJ6AEClrgIAEnoAILOBAICoEgEAh5MDQHh9AcDh5ACAlpgAAC0xAQAtMQGA8PoCAC0xAQA/qwGAw8kBgJaYAAAtMQEAG7cAQHh9AYCEHgAA4fUFAC0xAYDDyQGAw8kBgNVDAsDPagAALTEBwOHkAA=="
         },
         "type": "scatter"
        },
        {
         "line": {
          "color": "red"
         },
         "mode": "lines+markers",
         "name": "Improved LSTM (€)",
         "y": {
          "dtype": "f8",
          "bdata": "AAAAQAkFWkEAAADAKbRjQQAAAABO9nZBAAAAwCosg0EAAADALyxaQQAAAGB35lZBAAAAgNeBV0EAAACAnPVyQQAAAGDmTGZBAAAAAEY4aUEAAADA/LZ2QQAAAAB2CV5BAAAAoMmxY0EAAADgFZiHQQAAAICDU0dBAAAAYDEqWkEAAABAjtVsQQAAAEByPGtBAAAAQHlKYUEAAABA9Wl3QQAAAKAGl4lBAAAAAEBhdUEAAABAMU19QQAAAACNK2hBAAAAgPlWX0EAAACAwMpvQQAAAKByRo5BAAAAwLLAc0EAAADA+C1xQQAAAAAv/3RBAAAAwEsYV0EAAADAIYNxQQAAAOD60mJBAAAAgPOaeEEAAAAAnHVQQQAAADB6Q4dBAAAAICF6bkEAAACAgsiDQQAAAKB1q4NBAAAAQEYtd0EAAABgzj9gQQAAAIDNcHhBAAAAQKIRX0E="
         },
         "type": "scatter"
        },
        {
         "line": {
          "color": "blue"
         },
         "mode": "lines+markers",
         "name": "XGB Ensemble (€)",
         "y": {
          "dtype": "f8",
          "bdata": "AAAA4PUibEEAAADghw5SQQAAAODFRIJBAAAAwFnFiEEAAABAhwNFQQAAAEDTnEJBAAAAAN5SbkEAAAAA8XtiQQAAAGC6ZWtBAAAAYLpla0EAAABgzF+PQQAAAIB7HUpBAAAAYHawX0EAAAAwyLmRQQAAAEA9iXJBAAAAoN8cZ0EAAAAAm1t1QQAAAABc7ndBAAAAoPy8ZUEAAAAA/RZtQQAAADDIuZFBAAAAwP++cEEAAACAsViBQQAAAADeUm5BAAAAAPF7YkEAAAAAXO53QQAAAND6dJBBAAAAwJ+3ckEAAACg3xxnQQAAAADeUm5BmpmZGcsvP0EAAAAgbadiQQAAAKBZPWZBAAAAAFzud0EAAACAex1KQQAAAKDG9WhBAAAAoN8cZ0EAAADAybt6QQAAAADeUm5BAAAAoCxlhkEAAAAAXO53QQAAACAGTIZBAAAAAJtbdUE="
         },
         "type": "scatter"
        }
       ],
       "layout": {
        "template": {
         "data": {
          "barpolar": [
           {
            "marker": {
             "line": {
              "color": "white",
              "width": 0.5
             },
             "pattern": {
              "fillmode": "overlay",
              "size": 10,
              "solidity": 0.2
             }
            },
            "type": "barpolar"
           }
          ],
          "bar": [
           {
            "error_x": {
             "color": "#2a3f5f"
            },
            "error_y": {
             "color": "#2a3f5f"
            },
            "marker": {
             "line": {
              "color": "white",
              "width": 0.5
             },
             "pattern": {
              "fillmode": "overlay",
              "size": 10,
              "solidity": 0.2
             }
            },
            "type": "bar"
           }
          ],
          "carpet": [
           {
            "aaxis": {
             "endlinecolor": "#2a3f5f",
             "gridcolor": "#C8D4E3",
             "linecolor": "#C8D4E3",
             "minorgridcolor": "#C8D4E3",
             "startlinecolor": "#2a3f5f"
            },
            "baxis": {
             "endlinecolor": "#2a3f5f",
             "gridcolor": "#C8D4E3",
             "linecolor": "#C8D4E3",
             "minorgridcolor": "#C8D4E3",
             "startlinecolor": "#2a3f5f"
            },
            "type": "carpet"
           }
          ],
          "choropleth": [
           {
            "colorbar": {
             "outlinewidth": 0,
             "ticks": ""
            },
            "type": "choropleth"
           }
          ],
          "contourcarpet": [
           {
            "colorbar": {
             "outlinewidth": 0,
             "ticks": ""
            },
            "type": "contourcarpet"
           }
          ],
          "contour": [
           {
            "colorbar": {
             "outlinewidth": 0,
             "ticks": ""
            },
            "colorscale": [
             [
              0.0,
              "#0d0887"
             ],
             [
              0.1111111111111111,
              "#46039f"
             ],
             [
              0.2222222222222222,
              "#7201a8"
             ],
             [
              0.3333333333333333,
              "#9c179e"
             ],
             [
              0.4444444444444444,
              "#bd3786"
             ],
             [
              0.5555555555555556,
              "#d8576b"
             ],
             [
              0.6666666666666666,
              "#ed7953"
             ],
             [
              0.7777777777777778,
              "#fb9f3a"
             ],
             [
              0.8888888888888888,
              "#fdca26"
             ],
             [
              1.0,
              "#f0f921"
             ]
            ],
            "type": "contour"
           }
          ],
          "heatmap": [
           {
            "colorbar": {
             "outlinewidth": 0,
             "ticks": ""
            },
            "colorscale": [
             [
              0.0,
              "#0d0887"
             ],
             [
              0.1111111111111111,
              "#46039f"
             ],
             [
              0.2222222222222222,
              "#7201a8"
             ],
             [
              0.3333333333333333,
              "#9c179e"
             ],
             [
              0.4444444444444444,
              "#bd3786"
             ],
             [
              0.5555555555555556,
              "#d8576b"
             ],
             [
              0.6666666666666666,
              "#ed7953"
             ],
             [
              0.7777777777777778,
              "#fb9f3a"
             ],
             [
              0.8888888888888888,
              "#fdca26"
             ],
             [
              1.0,
              "#f0f921"
             ]
            ],
            "type": "heatmap"
           }
          ],
          "histogram2dcontour": [
           {
            "colorbar": {
             "outlinewidth": 0,
             "ticks": ""
            },
            "colorscale": [
             [
              0.0,
              "#0d0887"
             ],
             [
              0.1111111111111111,
              "#46039f"
             ],
             [
              0.2222222222222222,
              "#7201a8"
             ],
             [
              0.3333333333333333,
              "#9c179e"
             ],
             [
              0.4444444444444444,
              "#bd3786"
             ],
             [
              0.5555555555555556,
              "#d8576b"
             ],
             [
              0.6666666666666666,
              "#ed7953"
             ],
             [
              0.7777777777777778,
              "#fb9f3a"
             ],
             [
              0.8888888888888888,
              "#fdca26"
             ],
             [
              1.0,
              "#f0f921"
             ]
            ],
            "type": "histogram2dcontour"
           }
          ],
          "histogram2d": [
           {
            "colorbar": {
             "outlinewidth": 0,
             "ticks": ""
            },
            "colorscale": [
             [
              0.0,
              "#0d0887"
             ],
             [
              0.1111111111111111,
              "#46039f"
             ],
             [
              0.2222222222222222,
              "#7201a8"
             ],
             [
              0.3333333333333333,
              "#9c179e"
             ],
             [
              0.4444444444444444,
              "#bd3786"
             ],
             [
              0.5555555555555556,
              "#d8576b"
             ],
             [
              0.6666666666666666,
              "#ed7953"
             ],
             [
              0.7777777777777778,
              "#fb9f3a"
             ],
             [
              0.8888888888888888,
              "#fdca26"
             ],
             [
              1.0,
              "#f0f921"
             ]
            ],
            "type": "histogram2d"
           }
          ],
          "histogram": [
           {
            "marker": {
             "pattern": {
              "fillmode": "overlay",
              "size": 10,
              "solidity": 0.2
             }
            },
            "type": "histogram"
           }
          ],
          "mesh3d": [
           {
            "colorbar": {
             "outlinewidth": 0,
             "ticks": ""
            },
            "type": "mesh3d"
           }
          ],
          "parcoords": [
           {
            "line": {
             "colorbar": {
              "outlinewidth": 0,
              "ticks": ""
             }
            },
            "type": "parcoords"
           }
          ],
          "pie": [
           {
            "automargin": true,
            "type": "pie"
           }
          ],
          "scatter3d": [
           {
            "line": {
             "colorbar": {
              "outlinewidth": 0,
              "ticks": ""
             }
            },
            "marker": {
             "colorbar": {
              "outlinewidth": 0,
              "ticks": ""
             }
            },
            "type": "scatter3d"
           }
          ],
          "scattercarpet": [
           {
            "marker": {
             "colorbar": {
              "outlinewidth": 0,
              "ticks": ""
             }
            },
            "type": "scattercarpet"
           }
          ],
          "scattergeo": [
           {
            "marker": {
             "colorbar": {
              "outlinewidth": 0,
              "ticks": ""
             }
            },
            "type": "scattergeo"
           }
          ],
          "scattergl": [
           {
            "marker": {
             "colorbar": {
              "outlinewidth": 0,
              "ticks": ""
             }
            },
            "type": "scattergl"
           }
          ],
          "scattermapbox": [
           {
            "marker": {
             "colorbar": {
              "outlinewidth": 0,
              "ticks": ""
             }
            },
            "type": "scattermapbox"
           }
          ],
          "scattermap": [
           {
            "marker": {
             "colorbar": {
              "outlinewidth": 0,
              "ticks": ""
             }
            },
            "type": "scattermap"
           }
          ],
          "scatterpolargl": [
           {
            "marker": {
             "colorbar": {
              "outlinewidth": 0,
              "ticks": ""
             }
            },
            "type": "scatterpolargl"
           }
          ],
          "scatterpolar": [
           {
            "marker": {
             "colorbar": {
              "outlinewidth": 0,
              "ticks": ""
             }
            },
            "type": "scatterpolar"
           }
          ],
          "scatter": [
           {
            "fillpattern": {
             "fillmode": "overlay",
             "size": 10,
             "solidity": 0.2
            },
            "type": "scatter"
           }
          ],
          "scatterternary": [
           {
            "marker": {
             "colorbar": {
              "outlinewidth": 0,
              "ticks": ""
             }
            },
            "type": "scatterternary"
           }
          ],
          "surface": [
           {
            "colorbar": {
             "outlinewidth": 0,
             "ticks": ""
            },
            "colorscale": [
             [
              0.0,
              "#0d0887"
             ],
             [
              0.1111111111111111,
              "#46039f"
             ],
             [
              0.2222222222222222,
              "#7201a8"
             ],
             [
              0.3333333333333333,
              "#9c179e"
             ],
             [
              0.4444444444444444,
              "#bd3786"
             ],
             [
              0.5555555555555556,
              "#d8576b"
             ],
             [
              0.6666666666666666,
              "#ed7953"
             ],
             [
              0.7777777777777778,
              "#fb9f3a"
             ],
             [
              0.8888888888888888,
              "#fdca26"
             ],
             [
              1.0,
              "#f0f921"
             ]
            ],
            "type": "surface"
           }
          ],
          "table": [
           {
            "cells": {
             "fill": {
              "color": "#EBF0F8"
             },
             "line": {
              "color": "white"
             }
            },
            "header": {
             "fill": {
              "color": "#C8D4E3"
             },
             "line": {
              "color": "white"
             }
            },
            "type": "table"
           }
          ]
         },
         "layout": {
          "annotationdefaults": {
           "arrowcolor": "#2a3f5f",
           "arrowhead": 0,
           "arrowwidth": 1
          },
          "autotypenumbers": "strict",
          "coloraxis": {
           "colorbar": {
            "outlinewidth": 0,
            "ticks": ""
           }
          },
          "colorscale": {
           "diverging": [
            [
             0,
             "#8e0152"
            ],
            [
             0.1,
             "#c51b7d"
            ],
            [
             0.2,
             "#de77ae"
            ],
            [
             0.3,
             "#f1b6da"
            ],
            [
             0.4,
             "#fde0ef"
            ],
            [
             0.5,
             "#f7f7f7"
            ],
            [
             0.6,
             "#e6f5d0"
            ],
            [
             0.7,
             "#b8e186"
            ],
            [
             0.8,
             "#7fbc41"
            ],
            [
             0.9,
             "#4d9221"
            ],
            [
             1,
             "#276419"
            ]
           ],
           "sequential": [
            [
             0.0,
             "#0d0887"
            ],
            [
             0.1111111111111111,
             "#46039f"
            ],
            [
             0.2222222222222222,
             "#7201a8"
            ],
            [
             0.3333333333333333,
             "#9c179e"
            ],
            [
             0.4444444444444444,
             "#bd3786"
            ],
            [
             0.5555555555555556,
             "#d8576b"
            ],
            [
             0.6666666666666666,
             "#ed7953"
            ],
            [
             0.7777777777777778,
             "#fb9f3a"
            ],
            [
             0.8888888888888888,
             "#fdca26"
            ],
            [
             1.0,
             "#f0f921"
            ]
           ],
           "sequentialminus": [
            [
             0.0,
             "#0d0887"
            ],
            [
             0.1111111111111111,
             "#46039f"
            ],
            [
             0.2222222222222222,
             "#7201a8"
            ],
            [
             0.3333333333333333,
             "#9c179e"
            ],
            [
             0.4444444444444444,
             "#bd3786"
            ],
            [
             0.5555555555555556,
             "#d8576b"
            ],
            [
             0.6666666666666666,
             "#ed7953"
            ],
            [
             0.7777777777777778,
             "#fb9f3a"
            ],
            [
             0.8888888888888888,
             "#fdca26"
            ],
            [
             1.0,
             "#f0f921"
            ]
           ]
          },
          "colorway": [
           "#636efa",
           "#EF553B",
           "#00cc96",
           "#ab63fa",
           "#FFA15A",
           "#19d3f3",
           "#FF6692",
           "#B6E880",
           "#FF97FF",
           "#FECB52"
          ],
          "font": {
           "color": "#2a3f5f"
          },
          "geo": {
           "bgcolor": "white",
           "lakecolor": "white",
           "landcolor": "white",
           "showlakes": true,
           "showland": true,
           "subunitcolor": "#C8D4E3"
          },
          "hoverlabel": {
           "align": "left"
          },
          "hovermode": "closest",
          "mapbox": {
           "style": "light"
          },
          "paper_bgcolor": "white",
          "plot_bgcolor": "white",
          "polar": {
           "angularaxis": {
            "gridcolor": "#EBF0F8",
            "linecolor": "#EBF0F8",
            "ticks": ""
           },
           "bgcolor": "white",
           "radialaxis": {
            "gridcolor": "#EBF0F8",
            "linecolor": "#EBF0F8",
            "ticks": ""
           }
          },
          "scene": {
           "xaxis": {
            "backgroundcolor": "white",
            "gridcolor": "#DFE8F3",
            "gridwidth": 2,
            "linecolor": "#EBF0F8",
            "showbackground": true,
            "ticks": "",
            "zerolinecolor": "#EBF0F8"
           },
           "yaxis": {
            "backgroundcolor": "white",
            "gridcolor": "#DFE8F3",
            "gridwidth": 2,
            "linecolor": "#EBF0F8",
            "showbackground": true,
            "ticks": "",
            "zerolinecolor": "#EBF0F8"
           },
           "zaxis": {
            "backgroundcolor": "white",
            "gridcolor": "#DFE8F3",
            "gridwidth": 2,
            "linecolor": "#EBF0F8",
            "showbackground": true,
            "ticks": "",
            "zerolinecolor": "#EBF0F8"
           }
          },
          "shapedefaults": {
           "line": {
            "color": "#2a3f5f"
           }
          },
          "ternary": {
           "aaxis": {
            "gridcolor": "#DFE8F3",
            "linecolor": "#A2B1C6",
            "ticks": ""
           },
           "baxis": {
            "gridcolor": "#DFE8F3",
            "linecolor": "#A2B1C6",
            "ticks": ""
           },
           "bgcolor": "white",
           "caxis": {
            "gridcolor": "#DFE8F3",
            "linecolor": "#A2B1C6",
            "ticks": ""
           }
          },
          "title": {
           "x": 0.05
          },
          "xaxis": {
           "automargin": true,
           "gridcolor": "#EBF0F8",
           "linecolor": "#EBF0F8",
           "ticks": "",
           "title": {
            "standoff": 15
           },
           "zerolinecolor": "#EBF0F8",
           "zerolinewidth": 2
          },
          "yaxis": {
           "automargin": true,
           "gridcolor": "#EBF0F8",
           "linecolor": "#EBF0F8",
           "ticks": "",
           "title": {
            "standoff": 15
           },
           "zerolinecolor": "#EBF0F8",
           "zerolinewidth": 2
          }
         }
        },
        "title": {
         "text": "Interactive Player Transfer Value Predictions (Euro Scale)"
        },
        "xaxis": {
         "title": {
          "text": "Sample Index"
         }
        },
        "yaxis": {
         "title": {
          "text": "Market Value (€)"
         }
        },
        "hovermode": "x unified"
       },
       "config": {
        "plotlyServerURL": "https://plot.ly"
       }
      }
     },
     "metadata": {},
     "output_type": "display_data"
    },
    {
     "data": {
      "application/vnd.plotly.v1+json": {
       "data": [
        {
         "bingroup": "x",
         "hovertemplate": "Type=True_Euro<br>Market Value (€)=%{x}<br>count=%{y}<extra></extra>",
         "legendgroup": "True_Euro",
         "marker": {
          "color": "#636efa",
          "opacity": 0.5,
          "pattern": {
           "shape": ""
          }
         },
         "name": "True_Euro",
         "nbinsx": 30,
         "orientation": "v",
         "showlegend": true,
         "x": {
          "dtype": "f8",
          "bdata": "AAAAANASg0EAAAAA8LNaQQAAAADQEoNBAAAAANASk0EAAAAAOJxsQQAAAADws0pBAAAAACp1hUEAAAAAOJxsQQAAAACoy1hBAAAAANASg0EAAAAAhNeHQQAAAACAhF5BAAAAAPCzekEAAAAAdrCQQQAAAAAY+2RBAAAAAICEXkEAAAAAKnWFQQAAAACAhF5BAAAAAGQ2YEEAAAAAiCpxQQAAAAA4nIxBAAAAAITXd0EAAAAAOJxsQQAAAADQEmNBAAAAANASc0EAAAAA0BJzQQAAAACE14dBAAAAANASc0EAAAAA8LN6QQAAAAA4nHxBAAAAANASY0EAAAAA0BJzQQAAAABg42ZBAAAAAITXd0EAAAAAgIQ+QQAAAACE15dBAAAAANASc0EAAAAAOJx8QQAAAAA4nHxBAAAAAKwegkEAAAAA8LNaQQAAAADQEnNBAAAAADicbEE="
         },
         "xaxis": "x",
         "yaxis": "y",
         "type": "histogram",
         "opacity": 0.6
        },
        {
         "hovertemplate": "Type=True_Euro<br>Market Value (€)=%{x}<extra></extra>",
         "legendgroup": "True_Euro",
         "marker": {
          "color": "#636efa"
         },
         "name": "True_Euro",
         "notched": true,
         "showlegend": false,
         "x": {
          "dtype": "f8",
          "bdata": "AAAAANASg0EAAAAA8LNaQQAAAADQEoNBAAAAANASk0EAAAAAOJxsQQAAAADws0pBAAAAACp1hUEAAAAAOJxsQQAAAACoy1hBAAAAANASg0EAAAAAhNeHQQAAAACAhF5BAAAAAPCzekEAAAAAdrCQQQAAAAAY+2RBAAAAAICEXkEAAAAAKnWFQQAAAACAhF5BAAAAAGQ2YEEAAAAAiCpxQQAAAAA4nIxBAAAAAITXd0EAAAAAOJxsQQAAAADQEmNBAAAAANASc0EAAAAA0BJzQQAAAACE14dBAAAAANASc0EAAAAA8LN6QQAAAAA4nHxBAAAAANASY0EAAAAA0BJzQQAAAABg42ZBAAAAAITXd0EAAAAAgIQ+QQAAAACE15dBAAAAANASc0EAAAAAOJx8QQAAAAA4nHxBAAAAAKwegkEAAAAA8LNaQQAAAADQEnNBAAAAADicbEE="
         },
         "xaxis": "x2",
         "yaxis": "y2",
         "type": "box",
         "opacity": 0.6
        },
        {
         "bingroup": "x",
         "hovertemplate": "Type=Improved_LSTM_Euro<br>Market Value (€)=%{x}<br>count=%{y}<extra></extra>",
         "legendgroup": "Improved_LSTM_Euro",
         "marker": {
          "color": "#EF553B",
          "opacity": 0.5,
          "pattern": {
           "shape": ""
          }
         },
         "name": "Improved_LSTM_Euro",
         "nbinsx": 30,
         "orientation": "v",
         "showlegend": true,
         "x": {
          "dtype": "f8",
          "bdata": "AAAAQAkFWkEAAADAKbRjQQAAAABO9nZBAAAAwCosg0EAAADALyxaQQAAAGB35lZBAAAAgNeBV0EAAACAnPVyQQAAAGDmTGZBAAAAAEY4aUEAAADA/LZ2QQAAAAB2CV5BAAAAoMmxY0EAAADgFZiHQQAAAICDU0dBAAAAYDEqWkEAAABAjtVsQQAAAEByPGtBAAAAQHlKYUEAAABA9Wl3QQAAAKAGl4lBAAAAAEBhdUEAAABAMU19QQAAAACNK2hBAAAAgPlWX0EAAACAwMpvQQAAAKByRo5BAAAAwLLAc0EAAADA+C1xQQAAAAAv/3RBAAAAwEsYV0EAAADAIYNxQQAAAOD60mJBAAAAgPOaeEEAAAAAnHVQQQAAADB6Q4dBAAAAICF6bkEAAACAgsiDQQAAAKB1q4NBAAAAQEYtd0EAAABgzj9gQQAAAIDNcHhBAAAAQKIRX0E="
         },
         "xaxis": "x",
         "yaxis": "y",
         "type": "histogram",
         "opacity": 0.6
        },
        {
         "hovertemplate": "Type=Improved_LSTM_Euro<br>Market Value (€)=%{x}<extra></extra>",
         "legendgroup": "Improved_LSTM_Euro",
         "marker": {
          "color": "#EF553B"
         },
         "name": "Improved_LSTM_Euro",
         "notched": true,
         "showlegend": false,
         "x": {
          "dtype": "f8",
          "bdata": "AAAAQAkFWkEAAADAKbRjQQAAAABO9nZBAAAAwCosg0EAAADALyxaQQAAAGB35lZBAAAAgNeBV0EAAACAnPVyQQAAAGDmTGZBAAAAAEY4aUEAAADA/LZ2QQAAAAB2CV5BAAAAoMmxY0EAAADgFZiHQQAAAICDU0dBAAAAYDEqWkEAAABAjtVsQQAAAEByPGtBAAAAQHlKYUEAAABA9Wl3QQAAAKAGl4lBAAAAAEBhdUEAAABAMU19QQAAAACNK2hBAAAAgPlWX0EAAACAwMpvQQAAAKByRo5BAAAAwLLAc0EAAADA+C1xQQAAAAAv/3RBAAAAwEsYV0EAAADAIYNxQQAAAOD60mJBAAAAgPOaeEEAAAAAnHVQQQAAADB6Q4dBAAAAICF6bkEAAACAgsiDQQAAAKB1q4NBAAAAQEYtd0EAAABgzj9gQQAAAIDNcHhBAAAAQKIRX0E="
         },
         "xaxis": "x2",
         "yaxis": "y2",
         "type": "box",
         "opacity": 0.6
        },
        {
         "bingroup": "x",
         "hovertemplate": "Type=XGB_Ensemble_Euro<br>Market Value (€)=%{x}<br>count=%{y}<extra></extra>",
         "legendgroup": "XGB_Ensemble_Euro",
         "marker": {
          "color": "#00cc96",
          "opacity": 0.5,
          "pattern": {
           "shape": ""
          }
         },
         "name": "XGB_Ensemble_Euro",
         "nbinsx": 30,
         "orientation": "v",
         "showlegend": true,
         "x": {
          "dtype": "f8",
          "bdata": "AAAA4PUibEEAAADghw5SQQAAAODFRIJBAAAAwFnFiEEAAABAhwNFQQAAAEDTnEJBAAAAAN5SbkEAAAAA8XtiQQAAAGC6ZWtBAAAAYLpla0EAAABgzF+PQQAAAIB7HUpBAAAAYHawX0EAAAAwyLmRQQAAAEA9iXJBAAAAoN8cZ0EAAAAAm1t1QQAAAABc7ndBAAAAoPy8ZUEAAAAA/RZtQQAAADDIuZFBAAAAwP++cEEAAACAsViBQQAAAADeUm5BAAAAAPF7YkEAAAAAXO53QQAAAND6dJBBAAAAwJ+3ckEAAACg3xxnQQAAAADeUm5BmpmZGcsvP0EAAAAgbadiQQAAAKBZPWZBAAAAAFzud0EAAACAex1KQQAAAKDG9WhBAAAAoN8cZ0EAAADAybt6QQAAAADeUm5BAAAAoCxlhkEAAAAAXO53QQAAACAGTIZBAAAAAJtbdUE="
         },
         "xaxis": "x",
         "yaxis": "y",
         "type": "histogram",
         "opacity": 0.6
        },
        {
         "hovertemplate": "Type=XGB_Ensemble_Euro<br>Market Value (€)=%{x}<extra></extra>",
         "legendgroup": "XGB_Ensemble_Euro",
         "marker": {
          "color": "#00cc96"
         },
         "name": "XGB_Ensemble_Euro",
         "notched": true,
         "showlegend": false,
         "x": {
          "dtype": "f8",
          "bdata": "AAAA4PUibEEAAADghw5SQQAAAODFRIJBAAAAwFnFiEEAAABAhwNFQQAAAEDTnEJBAAAAAN5SbkEAAAAA8XtiQQAAAGC6ZWtBAAAAYLpla0EAAABgzF+PQQAAAIB7HUpBAAAAYHawX0EAAAAwyLmRQQAAAEA9iXJBAAAAoN8cZ0EAAAAAm1t1QQAAAABc7ndBAAAAoPy8ZUEAAAAA/RZtQQAAADDIuZFBAAAAwP++cEEAAACAsViBQQAAAADeUm5BAAAAAPF7YkEAAAAAXO53QQAAAND6dJBBAAAAwJ+3ckEAAACg3xxnQQAAAADeUm5BmpmZGcsvP0EAAAAgbadiQQAAAKBZPWZBAAAAAFzud0EAAACAex1KQQAAAKDG9WhBAAAAoN8cZ0EAAADAybt6QQAAAADeUm5BAAAAoCxlhkEAAAAAXO53QQAAACAGTIZBAAAAAJtbdUE="
         },
         "xaxis": "x2",
         "yaxis": "y2",
         "type": "box",
         "opacity": 0.6
        }
       ],
       "layout": {
        "template": {
         "data": {
          "histogram2dcontour": [
           {
            "type": "histogram2dcontour",
            "colorbar": {
             "outlinewidth": 0,
             "ticks": ""
            },
            "colorscale": [
             [
              0.0,
              "#0d0887"
             ],
             [
              0.1111111111111111,
              "#46039f"
             ],
             [
              0.2222222222222222,
              "#7201a8"
             ],
             [
              0.3333333333333333,
              "#9c179e"
             ],
             [
              0.4444444444444444,
              "#bd3786"
             ],
             [
              0.5555555555555556,
              "#d8576b"
             ],
             [
              0.6666666666666666,
              "#ed7953"
             ],
             [
              0.7777777777777778,
              "#fb9f3a"
             ],
             [
              0.8888888888888888,
              "#fdca26"
             ],
             [
              1.0,
              "#f0f921"
             ]
            ]
           }
          ],
          "choropleth": [
           {
            "type": "choropleth",
            "colorbar": {
             "outlinewidth": 0,
             "ticks": ""
            }
           }
          ],
          "histogram2d": [
           {
            "type": "histogram2d",
            "colorbar": {
             "outlinewidth": 0,
             "ticks": ""
            },
            "colorscale": [
             [
              0.0,
              "#0d0887"
             ],
             [
              0.1111111111111111,
              "#46039f"
             ],
             [
              0.2222222222222222,
              "#7201a8"
             ],
             [
              0.3333333333333333,
              "#9c179e"
             ],
             [
              0.4444444444444444,
              "#bd3786"
             ],
             [
              0.5555555555555556,
              "#d8576b"
             ],
             [
              0.6666666666666666,
              "#ed7953"
             ],
             [
              0.7777777777777778,
              "#fb9f3a"
             ],
             [
              0.8888888888888888,
              "#fdca26"
             ],
             [
              1.0,
              "#f0f921"
             ]
            ]
           }
          ],
          "heatmap": [
           {
            "type": "heatmap",
            "colorbar": {
             "outlinewidth": 0,
             "ticks": ""
            },
            "colorscale": [
             [
              0.0,
              "#0d0887"
             ],
             [
              0.1111111111111111,
              "#46039f"
             ],
             [
              0.2222222222222222,
              "#7201a8"
             ],
             [
              0.3333333333333333,
              "#9c179e"
             ],
             [
              0.4444444444444444,
              "#bd3786"
             ],
             [
              0.5555555555555556,
              "#d8576b"
             ],
             [
              0.6666666666666666,
              "#ed7953"
             ],
             [
              0.7777777777777778,
              "#fb9f3a"
             ],
             [
              0.8888888888888888,
              "#fdca26"
             ],
             [
              1.0,
              "#f0f921"
             ]
            ]
           }
          ],
          "contourcarpet": [
           {
            "type": "contourcarpet",
            "colorbar": {
             "outlinewidth": 0,
             "ticks": ""
            }
           }
          ],
          "contour": [
           {
            "type": "contour",
            "colorbar": {
             "outlinewidth": 0,
             "ticks": ""
            },
            "colorscale": [
             [
              0.0,
              "#0d0887"
             ],
             [
              0.1111111111111111,
              "#46039f"
             ],
             [
              0.2222222222222222,
              "#7201a8"
             ],
             [
              0.3333333333333333,
              "#9c179e"
             ],
             [
              0.4444444444444444,
              "#bd3786"
             ],
             [
              0.5555555555555556,
              "#d8576b"
             ],
             [
              0.6666666666666666,
              "#ed7953"
             ],
             [
              0.7777777777777778,
              "#fb9f3a"
             ],
             [
              0.8888888888888888,
              "#fdca26"
             ],
             [
              1.0,
              "#f0f921"
             ]
            ]
           }
          ],
          "surface": [
           {
            "type": "surface",
            "colorbar": {
             "outlinewidth": 0,
             "ticks": ""
            },
            "colorscale": [
             [
              0.0,
              "#0d0887"
             ],
             [
              0.1111111111111111,
              "#46039f"
             ],
             [
              0.2222222222222222,
              "#7201a8"
             ],
             [
              0.3333333333333333,
              "#9c179e"
             ],
             [
              0.4444444444444444,
              "#bd3786"
             ],
             [
              0.5555555555555556,
              "#d8576b"
             ],
             [
              0.6666666666666666,
              "#ed7953"
             ],
             [
              0.7777777777777778,
              "#fb9f3a"
             ],
             [
              0.8888888888888888,
              "#fdca26"
             ],
             [
              1.0,
              "#f0f921"
             ]
            ]
           }
          ],
          "mesh3d": [
           {
            "type": "mesh3d",
            "colorbar": {
             "outlinewidth": 0,
             "ticks": ""
            }
           }
          ],
          "scatter": [
           {
            "fillpattern": {
             "fillmode": "overlay",
             "size": 10,
             "solidity": 0.2
            },
            "type": "scatter"
           }
          ],
          "parcoords": [
           {
            "type": "parcoords",
            "line": {
             "colorbar": {
              "outlinewidth": 0,
              "ticks": ""
             }
            }
           }
          ],
          "scatterpolargl": [
           {
            "type": "scatterpolargl",
            "marker": {
             "colorbar": {
              "outlinewidth": 0,
              "ticks": ""
             }
            }
           }
          ],
          "bar": [
           {
            "error_x": {
             "color": "#2a3f5f"
            },
            "error_y": {
             "color": "#2a3f5f"
            },
            "marker": {
             "line": {
              "color": "#E5ECF6",
              "width": 0.5
             },
             "pattern": {
              "fillmode": "overlay",
              "size": 10,
              "solidity": 0.2
             }
            },
            "type": "bar"
           }
          ],
          "scattergeo": [
           {
            "type": "scattergeo",
            "marker": {
             "colorbar": {
              "outlinewidth": 0,
              "ticks": ""
             }
            }
           }
          ],
          "scatterpolar": [
           {
            "type": "scatterpolar",
            "marker": {
             "colorbar": {
              "outlinewidth": 0,
              "ticks": ""
             }
            }
           }
          ],
          "histogram": [
           {
            "marker": {
             "pattern": {
              "fillmode": "overlay",
              "size": 10,
              "solidity": 0.2
             }
            },
            "type": "histogram"
           }
          ],
          "scattergl": [
           {
            "type": "scattergl",
            "marker": {
             "colorbar": {
              "outlinewidth": 0,
              "ticks": ""
             }
            }
           }
          ],
          "scatter3d": [
           {
            "type": "scatter3d",
            "line": {
             "colorbar": {
              "outlinewidth": 0,
              "ticks": ""
             }
            },
            "marker": {
             "colorbar": {
              "outlinewidth": 0,
              "ticks": ""
             }
            }
           }
          ],
          "scattermap": [
           {
            "type": "scattermap",
            "marker": {
             "colorbar": {
              "outlinewidth": 0,
              "ticks": ""
             }
            }
           }
          ],
          "scattermapbox": [
           {
            "type": "scattermapbox",
            "marker": {
             "colorbar": {
              "outlinewidth": 0,
              "ticks": ""
             }
            }
           }
          ],
          "scatterternary": [
           {
            "type": "scatterternary",
            "marker": {
             "colorbar": {
              "outlinewidth": 0,
              "ticks": ""
             }
            }
           }
          ],
          "scattercarpet": [
           {
            "type": "scattercarpet",
            "marker": {
             "colorbar": {
              "outlinewidth": 0,
              "ticks": ""
             }
            }
           }
          ],
          "carpet": [
           {
            "aaxis": {
             "endlinecolor": "#2a3f5f",
             "gridcolor": "white",
             "linecolor": "white",
             "minorgridcolor": "white",
             "startlinecolor": "#2a3f5f"
            },
            "baxis": {
             "endlinecolor": "#2a3f5f",
             "gridcolor": "white",
             "linecolor": "white",
             "minorgridcolor": "white",
             "startlinecolor": "#2a3f5f"
            },
            "type": "carpet"
           }
          ],
          "table": [
           {
            "cells": {
             "fill": {
              "color": "#EBF0F8"
             },
             "line": {
              "color": "white"
             }
            },
            "header": {
             "fill": {
              "color": "#C8D4E3"
             },
             "line": {
              "color": "white"
             }
            },
            "type": "table"
           }
          ],
          "barpolar": [
           {
            "marker": {
             "line": {
              "color": "#E5ECF6",
              "width": 0.5
             },
             "pattern": {
              "fillmode": "overlay",
              "size": 10,
              "solidity": 0.2
             }
            },
            "type": "barpolar"
           }
          ],
          "pie": [
           {
            "automargin": true,
            "type": "pie"
           }
          ]
         },
         "layout": {
          "autotypenumbers": "strict",
          "colorway": [
           "#636efa",
           "#EF553B",
           "#00cc96",
           "#ab63fa",
           "#FFA15A",
           "#19d3f3",
           "#FF6692",
           "#B6E880",
           "#FF97FF",
           "#FECB52"
          ],
          "font": {
           "color": "#2a3f5f"
          },
          "hovermode": "closest",
          "hoverlabel": {
           "align": "left"
          },
          "paper_bgcolor": "white",
          "plot_bgcolor": "#E5ECF6",
          "polar": {
           "bgcolor": "#E5ECF6",
           "angularaxis": {
            "gridcolor": "white",
            "linecolor": "white",
            "ticks": ""
           },
           "radialaxis": {
            "gridcolor": "white",
            "linecolor": "white",
            "ticks": ""
           }
          },
          "ternary": {
           "bgcolor": "#E5ECF6",
           "aaxis": {
            "gridcolor": "white",
            "linecolor": "white",
            "ticks": ""
           },
           "baxis": {
            "gridcolor": "white",
            "linecolor": "white",
            "ticks": ""
           },
           "caxis": {
            "gridcolor": "white",
            "linecolor": "white",
            "ticks": ""
           }
          },
          "coloraxis": {
           "colorbar": {
            "outlinewidth": 0,
            "ticks": ""
           }
          },
          "colorscale": {
           "sequential": [
            [
             0.0,
             "#0d0887"
            ],
            [
             0.1111111111111111,
             "#46039f"
            ],
            [
             0.2222222222222222,
             "#7201a8"
            ],
            [
             0.3333333333333333,
             "#9c179e"
            ],
            [
             0.4444444444444444,
             "#bd3786"
            ],
            [
             0.5555555555555556,
             "#d8576b"
            ],
            [
             0.6666666666666666,
             "#ed7953"
            ],
            [
             0.7777777777777778,
             "#fb9f3a"
            ],
            [
             0.8888888888888888,
             "#fdca26"
            ],
            [
             1.0,
             "#f0f921"
            ]
           ],
           "sequentialminus": [
            [
             0.0,
             "#0d0887"
            ],
            [
             0.1111111111111111,
             "#46039f"
            ],
            [
             0.2222222222222222,
             "#7201a8"
            ],
            [
             0.3333333333333333,
             "#9c179e"
            ],
            [
             0.4444444444444444,
             "#bd3786"
            ],
            [
             0.5555555555555556,
             "#d8576b"
            ],
            [
             0.6666666666666666,
             "#ed7953"
            ],
            [
             0.7777777777777778,
             "#fb9f3a"
            ],
            [
             0.8888888888888888,
             "#fdca26"
            ],
            [
             1.0,
             "#f0f921"
            ]
           ],
           "diverging": [
            [
             0,
             "#8e0152"
            ],
            [
             0.1,
             "#c51b7d"
            ],
            [
             0.2,
             "#de77ae"
            ],
            [
             0.3,
             "#f1b6da"
            ],
            [
             0.4,
             "#fde0ef"
            ],
            [
             0.5,
             "#f7f7f7"
            ],
            [
             0.6,
             "#e6f5d0"
            ],
            [
             0.7,
             "#b8e186"
            ],
            [
             0.8,
             "#7fbc41"
            ],
            [
             0.9,
             "#4d9221"
            ],
            [
             1,
             "#276419"
            ]
           ]
          },
          "xaxis": {
           "gridcolor": "white",
           "linecolor": "white",
           "ticks": "",
           "title": {
            "standoff": 15
           },
           "zerolinecolor": "white",
           "automargin": true,
           "zerolinewidth": 2
          },
          "yaxis": {
           "gridcolor": "white",
           "linecolor": "white",
           "ticks": "",
           "title": {
            "standoff": 15
           },
           "zerolinecolor": "white",
           "automargin": true,
           "zerolinewidth": 2
          },
          "scene": {
           "xaxis": {
            "backgroundcolor": "#E5ECF6",
            "gridcolor": "white",
            "linecolor": "white",
            "showbackground": true,
            "ticks": "",
            "zerolinecolor": "white",
            "gridwidth": 2
           },
           "yaxis": {
            "backgroundcolor": "#E5ECF6",
            "gridcolor": "white",
            "linecolor": "white",
            "showbackground": true,
            "ticks": "",
            "zerolinecolor": "white",
            "gridwidth": 2
           },
           "zaxis": {
            "backgroundcolor": "#E5ECF6",
            "gridcolor": "white",
            "linecolor": "white",
            "showbackground": true,
            "ticks": "",
            "zerolinecolor": "white",
            "gridwidth": 2
           }
          },
          "shapedefaults": {
           "line": {
            "color": "#2a3f5f"
           }
          },
          "annotationdefaults": {
           "arrowcolor": "#2a3f5f",
           "arrowhead": 0,
           "arrowwidth": 1
          },
          "geo": {
           "bgcolor": "white",
           "landcolor": "#E5ECF6",
           "subunitcolor": "white",
           "showland": true,
           "showlakes": true,
           "lakecolor": "white"
          },
          "title": {
           "x": 0.05
          },
          "mapbox": {
           "style": "light"
          }
         }
        },
        "xaxis": {
         "anchor": "y",
         "domain": [
          0.0,
          1.0
         ],
         "title": {
          "text": "Market Value (€)"
         }
        },
        "yaxis": {
         "anchor": "x",
         "domain": [
          0.0,
          0.7326
         ],
         "title": {
          "text": "count"
         }
        },
        "xaxis2": {
         "anchor": "y2",
         "domain": [
          0.0,
          1.0
         ],
         "matches": "x",
         "showticklabels": false,
         "showgrid": true
        },
        "yaxis2": {
         "anchor": "x2",
         "domain": [
          0.7426,
          1.0
         ],
         "matches": "y2",
         "showticklabels": false,
         "showline": false,
         "ticks": "",
         "showgrid": false
        },
        "legend": {
         "title": {
          "text": "Type"
         },
         "tracegroupgap": 0
        },
        "title": {
         "text": "Distribution of Market Values (True vs Predictions)"
        },
        "barmode": "overlay"
       },
       "config": {
        "plotlyServerURL": "https://plot.ly"
       }
      }
     },
     "metadata": {},
     "output_type": "display_data"
    }
   ],
   "execution_count": 21
  }
 ],
 "metadata": {
  "kernelspec": {
   "display_name": "Python 3",
   "language": "python",
   "name": "python3"
  },
  "language_info": {
   "codemirror_mode": {
    "name": "ipython",
    "version": 2
   },
   "file_extension": ".py",
   "mimetype": "text/x-python",
   "name": "python",
   "nbconvert_exporter": "python",
   "pygments_lexer": "ipython2",
   "version": "2.7.6"
  }
 },
 "nbformat": 4,
 "nbformat_minor": 5
}
