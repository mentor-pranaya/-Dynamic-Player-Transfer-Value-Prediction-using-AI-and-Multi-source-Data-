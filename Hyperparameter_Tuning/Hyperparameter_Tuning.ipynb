{
 "cells": [
  {
   "metadata": {},
   "cell_type": "markdown",
   "source": "# This notebook is focused on hyper-tuning of our saved saved model\n",
   "id": "7a42d0053551e2f2"
  },
  {
   "metadata": {},
   "cell_type": "markdown",
   "source": "## Imports & Paths",
   "id": "61b13b1bff8a1664"
  },
  {
   "metadata": {
    "ExecuteTime": {
     "end_time": "2025-10-03T12:43:58.722372Z",
     "start_time": "2025-10-03T12:43:58.704781Z"
    }
   },
   "cell_type": "code",
   "source": [
    "import os, joblib\n",
    "import numpy as np\n",
    "import pandas as pd\n",
    "from sklearn.metrics import mean_squared_error, mean_absolute_error, r2_score\n",
    "from tensorflow.keras.models import load_model\n",
    "from tensorflow.keras.losses import MeanSquaredError\n",
    "\n",
    "# Project paths\n",
    "PROJECT_PATH = r\"C:\\Users\\asing\\PycharmProjects\\-Dynamic-Player-Transfer-Value-Prediction-using-AI-and-Multi-source-Data-\"\n",
    "LSTM_DIR     = os.path.join(PROJECT_PATH, \"models\", \"LSTM_Models\")\n",
    "ENSEMBLE_DIR = os.path.join(PROJECT_PATH, \"models\", \"Ensemble_Model\")\n",
    "\n",
    "print(\"Paths set.\")\n"
   ],
   "id": "3f7d4112bd9e12ad",
   "outputs": [
    {
     "name": "stdout",
     "output_type": "stream",
     "text": [
      "Paths set.\n"
     ]
    }
   ],
   "execution_count": 59
  },
  {
   "metadata": {},
   "cell_type": "markdown",
   "source": "## Reload Splits & Models",
   "id": "652696f19daf7c2d"
  },
  {
   "metadata": {
    "ExecuteTime": {
     "end_time": "2025-10-03T12:51:17.442576Z",
     "start_time": "2025-10-03T12:51:17.020624Z"
    }
   },
   "cell_type": "code",
   "source": [
    "# Reload Data & Models\n",
    "\n",
    "# Reload splits\n",
    "X_train = np.load(os.path.join(LSTM_DIR, \"X_train.npy\"))\n",
    "X_val   = np.load(os.path.join(LSTM_DIR, \"X_val.npy\"))\n",
    "X_test  = np.load(os.path.join(LSTM_DIR, \"X_test.npy\"))\n",
    "y_train = np.load(os.path.join(LSTM_DIR, \"y_train.npy\"))\n",
    "y_val   = np.load(os.path.join(LSTM_DIR, \"y_val.npy\"))\n",
    "y_test  = np.load(os.path.join(LSTM_DIR, \"y_test.npy\"))\n",
    "\n",
    "print(\"Reloaded splits:\")\n",
    "print(\" Train:\", X_train.shape, y_train.shape)\n",
    "print(\" Val:  \", X_val.shape, y_val.shape)\n",
    "print(\" Test: \", X_test.shape, y_test.shape)\n",
    "\n",
    "# Reload LSTM models\n",
    "custom_objects = {\"mse\": MeanSquaredError()}\n",
    "univariate_model    = load_model(os.path.join(LSTM_DIR, \"univariate_lstm_model.h5\"),\n",
    "                                 custom_objects=custom_objects)\n",
    "multivariate_model  = load_model(os.path.join(LSTM_DIR, \"multivariate_lstm_model.h5\"),\n",
    "                                 custom_objects=custom_objects)\n",
    "encoder_decoder_model = load_model(os.path.join(LSTM_DIR, \"encoder_decoder_lstm_model.h5\"),\n",
    "                                   custom_objects=custom_objects)\n",
    "\n",
    "# Reload Ensemble model\n",
    "xgb_loaded = joblib.load(os.path.join(ENSEMBLE_DIR, \"xgb_ensemble.pkl\"))\n",
    "\n",
    "print(\"All models reloaded successfully!\")\n"
   ],
   "id": "cb24391175ca85dc",
   "outputs": [
    {
     "name": "stderr",
     "output_type": "stream",
     "text": [
      "WARNING:absl:Compiled the loaded model, but the compiled metrics have yet to be built. `model.compile_metrics` will be empty until you train or evaluate the model.\n"
     ]
    },
    {
     "name": "stdout",
     "output_type": "stream",
     "text": [
      "Reloaded splits:\n",
      " Train: (200, 4, 13) (200,)\n",
      " Val:   (43, 4, 13) (43,)\n",
      " Test:  (43, 4, 13) (43,)\n"
     ]
    },
    {
     "name": "stderr",
     "output_type": "stream",
     "text": [
      "WARNING:absl:Compiled the loaded model, but the compiled metrics have yet to be built. `model.compile_metrics` will be empty until you train or evaluate the model.\n",
      "WARNING:absl:Compiled the loaded model, but the compiled metrics have yet to be built. `model.compile_metrics` will be empty until you train or evaluate the model.\n"
     ]
    },
    {
     "name": "stdout",
     "output_type": "stream",
     "text": [
      "All models reloaded successfully!\n"
     ]
    }
   ],
   "execution_count": 73
  },
  {
   "metadata": {},
   "cell_type": "markdown",
   "source": "## Baseline Evaluation (RMSE, MAE, R²)",
   "id": "d1036da86be7ce81"
  },
  {
   "metadata": {
    "ExecuteTime": {
     "end_time": "2025-10-03T12:51:27.734899Z",
     "start_time": "2025-10-03T12:51:24.932999Z"
    }
   },
   "cell_type": "code",
   "source": [
    "# Baseline Evaluation\n",
    "from sklearn.metrics import mean_squared_error, mean_absolute_error, r2_score\n",
    "\n",
    "def safe_predict(model, X, squeeze=True):\n",
    "    \"\"\"Helper to generate predictions safely\"\"\"\n",
    "    if model is None:\n",
    "        return None\n",
    "    pred = model.predict(X, verbose=0)\n",
    "    return np.asarray(pred).squeeze() if squeeze else pred\n",
    "\n",
    "# Predictions\n",
    "\n",
    "# Univariate\n",
    "X_test_uni = np.expand_dims(X_test[:, :-1, 0], axis=-1)  # use 3 timesteps\n",
    "pred_test_uni = safe_predict(univariate_model, X_test_uni)\n",
    "\n",
    "# Multivariate\n",
    "pred_test_multi = safe_predict(multivariate_model, X_test)\n",
    "\n",
    "# Seq2Seq (2-step horizon)\n",
    "def seq2seq_predict(model, X):\n",
    "    if model is None: return None, None\n",
    "    p = model.predict(X, verbose=0)  # (n, 2, 1)\n",
    "    return p[:, 0, 0], p[:, 1, 0]    # horizon1, horizon2\n",
    "\n",
    "pred_test_h1, pred_test_h2 = seq2seq_predict(encoder_decoder_model, X_test)\n",
    "\n",
    "# Ensemble\n",
    "# Build meta-features for ensemble\n",
    "def build_meta_features(pred_uni, pred_multi, pred_h1, pred_h2):\n",
    "    feats = []\n",
    "    if pred_uni is not None:   feats.append(pred_uni.reshape(-1, 1))\n",
    "    if pred_multi is not None: feats.append(pred_multi.reshape(-1, 1))\n",
    "    if pred_h1 is not None:    feats.append(pred_h1.reshape(-1, 1))\n",
    "    if pred_h2 is not None:    feats.append(pred_h2.reshape(-1, 1))\n",
    "    return np.hstack(feats)\n",
    "\n",
    "X_meta_test = build_meta_features(pred_test_uni, pred_test_multi, pred_test_h1, pred_test_h2)\n",
    "pred_test_ens = xgb_loaded.predict(X_meta_test)\n",
    "\n",
    "# Evaluation\n",
    "results = {}\n",
    "\n",
    "def eval_model(name, y_true, y_pred):\n",
    "    results[name] = {\n",
    "        \"RMSE\": np.sqrt(mean_squared_error(y_true, y_pred)),\n",
    "        \"MAE\": mean_absolute_error(y_true, y_pred),\n",
    "        \"R²\": r2_score(y_true, y_pred)\n",
    "    }\n",
    "\n",
    "y_true = y_test  # already log-space\n",
    "\n",
    "if pred_test_multi is not None: eval_model(\"Multivariate LSTM\", y_true, pred_test_multi)\n",
    "if pred_test_uni   is not None: eval_model(\"Univariate LSTM\", y_true, pred_test_uni)\n",
    "if pred_test_h1    is not None: eval_model(\"Seq2Seq Horizon1\", y_true, pred_test_h1)\n",
    "if pred_test_ens   is not None: eval_model(\"XGBoost Ensemble\", y_true, pred_test_ens)\n",
    "\n",
    "# Convert to DataFrame for clarity\n",
    "metrics_df = pd.DataFrame(results).T.round(4)\n",
    "print(\"\\nFinal Evaluation (Test Set):\")\n",
    "display(metrics_df)\n"
   ],
   "id": "df59ec3e37f4e343",
   "outputs": [
    {
     "name": "stdout",
     "output_type": "stream",
     "text": [
      "\n",
      "Final Evaluation (Test Set):\n"
     ]
    },
    {
     "data": {
      "text/plain": [
       "                     RMSE     MAE       R²\n",
       "Multivariate LSTM  0.7744  0.6337   0.1382\n",
       "Univariate LSTM    7.6424  7.5845 -82.9359\n",
       "Seq2Seq Horizon1   4.1056  3.8520 -23.2232\n",
       "XGBoost Ensemble   0.8513  0.6564  -0.0415"
      ],
      "text/html": [
       "<div>\n",
       "<style scoped>\n",
       "    .dataframe tbody tr th:only-of-type {\n",
       "        vertical-align: middle;\n",
       "    }\n",
       "\n",
       "    .dataframe tbody tr th {\n",
       "        vertical-align: top;\n",
       "    }\n",
       "\n",
       "    .dataframe thead th {\n",
       "        text-align: right;\n",
       "    }\n",
       "</style>\n",
       "<table border=\"1\" class=\"dataframe\">\n",
       "  <thead>\n",
       "    <tr style=\"text-align: right;\">\n",
       "      <th></th>\n",
       "      <th>RMSE</th>\n",
       "      <th>MAE</th>\n",
       "      <th>R²</th>\n",
       "    </tr>\n",
       "  </thead>\n",
       "  <tbody>\n",
       "    <tr>\n",
       "      <th>Multivariate LSTM</th>\n",
       "      <td>0.7744</td>\n",
       "      <td>0.6337</td>\n",
       "      <td>0.1382</td>\n",
       "    </tr>\n",
       "    <tr>\n",
       "      <th>Univariate LSTM</th>\n",
       "      <td>7.6424</td>\n",
       "      <td>7.5845</td>\n",
       "      <td>-82.9359</td>\n",
       "    </tr>\n",
       "    <tr>\n",
       "      <th>Seq2Seq Horizon1</th>\n",
       "      <td>4.1056</td>\n",
       "      <td>3.8520</td>\n",
       "      <td>-23.2232</td>\n",
       "    </tr>\n",
       "    <tr>\n",
       "      <th>XGBoost Ensemble</th>\n",
       "      <td>0.8513</td>\n",
       "      <td>0.6564</td>\n",
       "      <td>-0.0415</td>\n",
       "    </tr>\n",
       "  </tbody>\n",
       "</table>\n",
       "</div>"
      ]
     },
     "metadata": {},
     "output_type": "display_data"
    }
   ],
   "execution_count": 74
  },
  {
   "metadata": {},
   "cell_type": "markdown",
   "source": "## KerasTuner setup + Multivariate LSTM build/search",
   "id": "3ca722bb3b30a5ec"
  },
  {
   "metadata": {
    "ExecuteTime": {
     "end_time": "2025-10-03T12:51:36.266953Z",
     "start_time": "2025-10-03T12:51:33.206231Z"
    }
   },
   "cell_type": "code",
   "source": [
    "import os, sys, subprocess\n",
    "import tensorflow as tf\n",
    "import numpy as np\n",
    "\n",
    "# Try to import keras-tuner, install if missing\n",
    "try:\n",
    "    import keras_tuner as kt\n",
    "except Exception:\n",
    "    subprocess.check_call([sys.executable, \"-m\", \"pip\", \"install\", \"keras-tuner\"])\n",
    "    import keras_tuner as kt\n",
    "\n",
    "# Manual knobs (tunning parameters)\n",
    "MAX_TRIALS = 20\n",
    "EXECUTIONS_PER_TRIAL = 1\n",
    "EPOCHS = 40\n",
    "BATCH_SIZE = 32\n",
    "USE_BAYESIAN = False\n",
    "PROJECT_NAME = \"tuner_multivariate_lstm\"\n",
    "TUNER_DIR = os.path.join(PROJECT_PATH, \"models\", \"Hyperparam_Tuning\")\n",
    "os.makedirs(TUNER_DIR, exist_ok=True)\n",
    "\n",
    "# Just directly check shapes\n",
    "print(\"Data shapes (expected):\", \"X_train:\", X_train.shape, \"y_train:\", y_train.shape)\n",
    "\n",
    "# Build model function for KerasTuner\n",
    "def build_model(hp):\n",
    "    \"\"\"\n",
    "    Tuning knobs inside:\n",
    "      - n_lstm_layers: 1 or 2\n",
    "      - units_i: number of units per LSTM layer\n",
    "      - use_dropout_i: whether to use dropout after layer i\n",
    "      - dropout_i: dropout rate\n",
    "      - dense_units: final dense units\n",
    "      - lr: learning rate (log-sampled)\n",
    "    \"\"\"\n",
    "    inp = tf.keras.Input(shape=(X_train.shape[1], X_train.shape[2]))\n",
    "    x = inp\n",
    "\n",
    "    n_layers = hp.Choice(\"n_lstm_layers\", [1, 2])\n",
    "\n",
    "    for i in range(n_layers):\n",
    "        units = hp.Choice(f\"units_{i}\", [32, 64, 128, 256])\n",
    "        return_seq = True if i < (n_layers - 1) else False\n",
    "        x = tf.keras.layers.LSTM(units, return_sequences=return_seq)(x)\n",
    "\n",
    "        if hp.Boolean(f\"use_dropout_{i}\"):\n",
    "            rate = hp.Float(f\"dropout_{i}\", 0.0, 0.5, step=0.1)\n",
    "            x = tf.keras.layers.Dropout(rate)(x)\n",
    "\n",
    "    x = tf.keras.layers.Dense(hp.Choice(\"dense_units\", [16, 32, 64]), activation=\"relu\")(x)\n",
    "    out = tf.keras.layers.Dense(1, activation=\"linear\")(x)\n",
    "\n",
    "    model = tf.keras.Model(inputs=inp, outputs=out)\n",
    "\n",
    "    lr = hp.Float(\"lr\", 1e-4, 1e-2, sampling=\"log\")\n",
    "    model.compile(optimizer=tf.keras.optimizers.Adam(learning_rate=lr),\n",
    "                  loss=\"mse\",\n",
    "                  metrics=[\"mae\"])\n",
    "    return model\n",
    "\n",
    "# Choose tuner type\n",
    "if USE_BAYESIAN:\n",
    "    tuner = kt.BayesianOptimization(\n",
    "        build_model,\n",
    "        objective=\"val_loss\",\n",
    "        max_trials=MAX_TRIALS,\n",
    "        executions_per_trial=EXECUTIONS_PER_TRIAL,\n",
    "        directory=TUNER_DIR,\n",
    "        project_name=PROJECT_NAME\n",
    "    )\n",
    "else:\n",
    "    tuner = kt.RandomSearch(\n",
    "        build_model,\n",
    "        objective=\"val_loss\",\n",
    "        max_trials=MAX_TRIALS,\n",
    "        executions_per_trial=EXECUTIONS_PER_TRIAL,\n",
    "        directory=TUNER_DIR,\n",
    "        project_name=PROJECT_NAME\n",
    "    )\n",
    "\n",
    "# Print tuner summary\n",
    "print(\"Tuner configured:\", tuner.__class__.__name__)\n",
    "print(\"Max trials:\", MAX_TRIALS, \"Execs/trial:\", EXECUTIONS_PER_TRIAL, \"Epochs(max):\", EPOCHS)\n",
    "\n",
    "# Early stopping\n",
    "early_stop = tf.keras.callbacks.EarlyStopping(monitor=\"val_loss\", patience=7, restore_best_weights=True)\n",
    "\n",
    "# Run search\n",
    "tuner.search(\n",
    "    X_train, y_train,\n",
    "    validation_data=(X_val, y_val),\n",
    "    epochs=EPOCHS,\n",
    "    batch_size=BATCH_SIZE,\n",
    "    callbacks=[early_stop],\n",
    "    verbose=1\n",
    ")\n",
    "\n",
    "# After search->best hyperparameters & model\n",
    "best_hp = tuner.get_best_hyperparameters(num_trials=1)[0]\n",
    "print(\"\\nBest hyperparameters:\")\n",
    "for k, v in best_hp.values.items():\n",
    "    print(f\"  {k}: {v}\")\n",
    "\n",
    "best_models = tuner.get_best_models(num_models=1)\n",
    "best_model = best_models[0]\n",
    "best_model.summary()"
   ],
   "id": "33a8bd78e1c43f0a",
   "outputs": [
    {
     "name": "stdout",
     "output_type": "stream",
     "text": [
      "Data shapes (expected): X_train: (200, 4, 13) y_train: (200,)\n",
      "Reloading Tuner from C:\\Users\\asing\\PycharmProjects\\-Dynamic-Player-Transfer-Value-Prediction-using-AI-and-Multi-source-Data-\\models\\Hyperparam_Tuning\\tuner_multivariate_lstm\\tuner0.json\n",
      "Tuner configured: RandomSearch\n",
      "Max trials: 20 Execs/trial: 1 Epochs(max): 40\n",
      "\n",
      "Best hyperparameters:\n",
      "  n_lstm_layers: 1\n",
      "  units_0: 32\n",
      "  use_dropout_0: True\n",
      "  dense_units: 32\n",
      "  lr: 0.005975700420817994\n",
      "  dropout_0: 0.0\n",
      "  units_1: 32\n",
      "  use_dropout_1: True\n",
      "  dropout_1: 0.0\n"
     ]
    },
    {
     "name": "stderr",
     "output_type": "stream",
     "text": [
      "C:\\Users\\asing\\AppData\\Local\\Packages\\PythonSoftwareFoundation.Python.3.11_qbz5n2kfra8p0\\LocalCache\\local-packages\\Python311\\site-packages\\keras\\src\\saving\\saving_lib.py:757: UserWarning: Skipping variable loading for optimizer 'adam', because it has 2 variables whereas the saved optimizer has 16 variables. \n",
      "  saveable.load_own_variables(weights_store.get(inner_path))\n"
     ]
    },
    {
     "data": {
      "text/plain": [
       "\u001B[1mModel: \"functional\"\u001B[0m\n"
      ],
      "text/html": [
       "<pre style=\"white-space:pre;overflow-x:auto;line-height:normal;font-family:Menlo,'DejaVu Sans Mono',consolas,'Courier New',monospace\"><span style=\"font-weight: bold\">Model: \"functional\"</span>\n",
       "</pre>\n"
      ]
     },
     "metadata": {},
     "output_type": "display_data"
    },
    {
     "data": {
      "text/plain": [
       "┏━━━━━━━━━━━━━━━━━━━━━━━━━━━━━━━━━┳━━━━━━━━━━━━━━━━━━━━━━━━┳━━━━━━━━━━━━━━━┓\n",
       "┃\u001B[1m \u001B[0m\u001B[1mLayer (type)                   \u001B[0m\u001B[1m \u001B[0m┃\u001B[1m \u001B[0m\u001B[1mOutput Shape          \u001B[0m\u001B[1m \u001B[0m┃\u001B[1m \u001B[0m\u001B[1m      Param #\u001B[0m\u001B[1m \u001B[0m┃\n",
       "┡━━━━━━━━━━━━━━━━━━━━━━━━━━━━━━━━━╇━━━━━━━━━━━━━━━━━━━━━━━━╇━━━━━━━━━━━━━━━┩\n",
       "│ input_layer (\u001B[38;5;33mInputLayer\u001B[0m)        │ (\u001B[38;5;45mNone\u001B[0m, \u001B[38;5;34m4\u001B[0m, \u001B[38;5;34m13\u001B[0m)          │             \u001B[38;5;34m0\u001B[0m │\n",
       "├─────────────────────────────────┼────────────────────────┼───────────────┤\n",
       "│ lstm (\u001B[38;5;33mLSTM\u001B[0m)                     │ (\u001B[38;5;45mNone\u001B[0m, \u001B[38;5;34m32\u001B[0m)             │         \u001B[38;5;34m5,888\u001B[0m │\n",
       "├─────────────────────────────────┼────────────────────────┼───────────────┤\n",
       "│ dropout (\u001B[38;5;33mDropout\u001B[0m)               │ (\u001B[38;5;45mNone\u001B[0m, \u001B[38;5;34m32\u001B[0m)             │             \u001B[38;5;34m0\u001B[0m │\n",
       "├─────────────────────────────────┼────────────────────────┼───────────────┤\n",
       "│ dense (\u001B[38;5;33mDense\u001B[0m)                   │ (\u001B[38;5;45mNone\u001B[0m, \u001B[38;5;34m32\u001B[0m)             │         \u001B[38;5;34m1,056\u001B[0m │\n",
       "├─────────────────────────────────┼────────────────────────┼───────────────┤\n",
       "│ dense_1 (\u001B[38;5;33mDense\u001B[0m)                 │ (\u001B[38;5;45mNone\u001B[0m, \u001B[38;5;34m1\u001B[0m)              │            \u001B[38;5;34m33\u001B[0m │\n",
       "└─────────────────────────────────┴────────────────────────┴───────────────┘\n"
      ],
      "text/html": [
       "<pre style=\"white-space:pre;overflow-x:auto;line-height:normal;font-family:Menlo,'DejaVu Sans Mono',consolas,'Courier New',monospace\">┏━━━━━━━━━━━━━━━━━━━━━━━━━━━━━━━━━┳━━━━━━━━━━━━━━━━━━━━━━━━┳━━━━━━━━━━━━━━━┓\n",
       "┃<span style=\"font-weight: bold\"> Layer (type)                    </span>┃<span style=\"font-weight: bold\"> Output Shape           </span>┃<span style=\"font-weight: bold\">       Param # </span>┃\n",
       "┡━━━━━━━━━━━━━━━━━━━━━━━━━━━━━━━━━╇━━━━━━━━━━━━━━━━━━━━━━━━╇━━━━━━━━━━━━━━━┩\n",
       "│ input_layer (<span style=\"color: #0087ff; text-decoration-color: #0087ff\">InputLayer</span>)        │ (<span style=\"color: #00d7ff; text-decoration-color: #00d7ff\">None</span>, <span style=\"color: #00af00; text-decoration-color: #00af00\">4</span>, <span style=\"color: #00af00; text-decoration-color: #00af00\">13</span>)          │             <span style=\"color: #00af00; text-decoration-color: #00af00\">0</span> │\n",
       "├─────────────────────────────────┼────────────────────────┼───────────────┤\n",
       "│ lstm (<span style=\"color: #0087ff; text-decoration-color: #0087ff\">LSTM</span>)                     │ (<span style=\"color: #00d7ff; text-decoration-color: #00d7ff\">None</span>, <span style=\"color: #00af00; text-decoration-color: #00af00\">32</span>)             │         <span style=\"color: #00af00; text-decoration-color: #00af00\">5,888</span> │\n",
       "├─────────────────────────────────┼────────────────────────┼───────────────┤\n",
       "│ dropout (<span style=\"color: #0087ff; text-decoration-color: #0087ff\">Dropout</span>)               │ (<span style=\"color: #00d7ff; text-decoration-color: #00d7ff\">None</span>, <span style=\"color: #00af00; text-decoration-color: #00af00\">32</span>)             │             <span style=\"color: #00af00; text-decoration-color: #00af00\">0</span> │\n",
       "├─────────────────────────────────┼────────────────────────┼───────────────┤\n",
       "│ dense (<span style=\"color: #0087ff; text-decoration-color: #0087ff\">Dense</span>)                   │ (<span style=\"color: #00d7ff; text-decoration-color: #00d7ff\">None</span>, <span style=\"color: #00af00; text-decoration-color: #00af00\">32</span>)             │         <span style=\"color: #00af00; text-decoration-color: #00af00\">1,056</span> │\n",
       "├─────────────────────────────────┼────────────────────────┼───────────────┤\n",
       "│ dense_1 (<span style=\"color: #0087ff; text-decoration-color: #0087ff\">Dense</span>)                 │ (<span style=\"color: #00d7ff; text-decoration-color: #00d7ff\">None</span>, <span style=\"color: #00af00; text-decoration-color: #00af00\">1</span>)              │            <span style=\"color: #00af00; text-decoration-color: #00af00\">33</span> │\n",
       "└─────────────────────────────────┴────────────────────────┴───────────────┘\n",
       "</pre>\n"
      ]
     },
     "metadata": {},
     "output_type": "display_data"
    },
    {
     "data": {
      "text/plain": [
       "\u001B[1m Total params: \u001B[0m\u001B[38;5;34m6,977\u001B[0m (27.25 KB)\n"
      ],
      "text/html": [
       "<pre style=\"white-space:pre;overflow-x:auto;line-height:normal;font-family:Menlo,'DejaVu Sans Mono',consolas,'Courier New',monospace\"><span style=\"font-weight: bold\"> Total params: </span><span style=\"color: #00af00; text-decoration-color: #00af00\">6,977</span> (27.25 KB)\n",
       "</pre>\n"
      ]
     },
     "metadata": {},
     "output_type": "display_data"
    },
    {
     "data": {
      "text/plain": [
       "\u001B[1m Trainable params: \u001B[0m\u001B[38;5;34m6,977\u001B[0m (27.25 KB)\n"
      ],
      "text/html": [
       "<pre style=\"white-space:pre;overflow-x:auto;line-height:normal;font-family:Menlo,'DejaVu Sans Mono',consolas,'Courier New',monospace\"><span style=\"font-weight: bold\"> Trainable params: </span><span style=\"color: #00af00; text-decoration-color: #00af00\">6,977</span> (27.25 KB)\n",
       "</pre>\n"
      ]
     },
     "metadata": {},
     "output_type": "display_data"
    },
    {
     "data": {
      "text/plain": [
       "\u001B[1m Non-trainable params: \u001B[0m\u001B[38;5;34m0\u001B[0m (0.00 B)\n"
      ],
      "text/html": [
       "<pre style=\"white-space:pre;overflow-x:auto;line-height:normal;font-family:Menlo,'DejaVu Sans Mono',consolas,'Courier New',monospace\"><span style=\"font-weight: bold\"> Non-trainable params: </span><span style=\"color: #00af00; text-decoration-color: #00af00\">0</span> (0.00 B)\n",
       "</pre>\n"
      ]
     },
     "metadata": {},
     "output_type": "display_data"
    }
   ],
   "execution_count": 75
  },
  {
   "metadata": {},
   "cell_type": "markdown",
   "source": "### Deeper LSTM with Dropout + Bidirectional Option",
   "id": "bfbd35b8159f2d32"
  },
  {
   "metadata": {
    "ExecuteTime": {
     "end_time": "2025-10-03T12:51:39.630026Z",
     "start_time": "2025-10-03T12:51:39.392946Z"
    }
   },
   "cell_type": "code",
   "source": [
    "import tensorflow as tf\n",
    "from tensorflow.keras import layers, models\n",
    "\n",
    "def build_improved_multivariate(input_shape):\n",
    "    inp = tf.keras.Input(shape=input_shape)\n",
    "\n",
    "    # First LSTM layer\n",
    "    x = layers.Bidirectional(\n",
    "        layers.LSTM(64, return_sequences=True, dropout=0.2, recurrent_dropout=0.2)\n",
    "    )(inp)\n",
    "\n",
    "    # Second LSTM layer\n",
    "    x = layers.Bidirectional(\n",
    "        layers.LSTM(32, dropout=0.2, recurrent_dropout=0.2)\n",
    "    )(x)\n",
    "\n",
    "    # Dense layers\n",
    "    x = layers.Dense(64, activation=\"relu\")(x)\n",
    "    x = layers.Dropout(0.3)(x)\n",
    "    out = layers.Dense(1, activation=\"linear\")(x)\n",
    "\n",
    "    model = models.Model(inputs=inp, outputs=out)\n",
    "    model.compile(optimizer=tf.keras.optimizers.Adam(learning_rate=1e-3),\n",
    "                  loss=\"mse\", metrics=[\"mae\"])\n",
    "    return model\n",
    "\n",
    "improved_model = build_improved_multivariate((X_train.shape[1], X_train.shape[2]))\n",
    "improved_model.summary()\n"
   ],
   "id": "70af6ece5f359b5b",
   "outputs": [
    {
     "data": {
      "text/plain": [
       "\u001B[1mModel: \"functional_1\"\u001B[0m\n"
      ],
      "text/html": [
       "<pre style=\"white-space:pre;overflow-x:auto;line-height:normal;font-family:Menlo,'DejaVu Sans Mono',consolas,'Courier New',monospace\"><span style=\"font-weight: bold\">Model: \"functional_1\"</span>\n",
       "</pre>\n"
      ]
     },
     "metadata": {},
     "output_type": "display_data"
    },
    {
     "data": {
      "text/plain": [
       "┏━━━━━━━━━━━━━━━━━━━━━━━━━━━━━━━━━┳━━━━━━━━━━━━━━━━━━━━━━━━┳━━━━━━━━━━━━━━━┓\n",
       "┃\u001B[1m \u001B[0m\u001B[1mLayer (type)                   \u001B[0m\u001B[1m \u001B[0m┃\u001B[1m \u001B[0m\u001B[1mOutput Shape          \u001B[0m\u001B[1m \u001B[0m┃\u001B[1m \u001B[0m\u001B[1m      Param #\u001B[0m\u001B[1m \u001B[0m┃\n",
       "┡━━━━━━━━━━━━━━━━━━━━━━━━━━━━━━━━━╇━━━━━━━━━━━━━━━━━━━━━━━━╇━━━━━━━━━━━━━━━┩\n",
       "│ input_layer_1 (\u001B[38;5;33mInputLayer\u001B[0m)      │ (\u001B[38;5;45mNone\u001B[0m, \u001B[38;5;34m4\u001B[0m, \u001B[38;5;34m13\u001B[0m)          │             \u001B[38;5;34m0\u001B[0m │\n",
       "├─────────────────────────────────┼────────────────────────┼───────────────┤\n",
       "│ bidirectional (\u001B[38;5;33mBidirectional\u001B[0m)   │ (\u001B[38;5;45mNone\u001B[0m, \u001B[38;5;34m4\u001B[0m, \u001B[38;5;34m128\u001B[0m)         │        \u001B[38;5;34m39,936\u001B[0m │\n",
       "├─────────────────────────────────┼────────────────────────┼───────────────┤\n",
       "│ bidirectional_1 (\u001B[38;5;33mBidirectional\u001B[0m) │ (\u001B[38;5;45mNone\u001B[0m, \u001B[38;5;34m64\u001B[0m)             │        \u001B[38;5;34m41,216\u001B[0m │\n",
       "├─────────────────────────────────┼────────────────────────┼───────────────┤\n",
       "│ dense_2 (\u001B[38;5;33mDense\u001B[0m)                 │ (\u001B[38;5;45mNone\u001B[0m, \u001B[38;5;34m64\u001B[0m)             │         \u001B[38;5;34m4,160\u001B[0m │\n",
       "├─────────────────────────────────┼────────────────────────┼───────────────┤\n",
       "│ dropout_1 (\u001B[38;5;33mDropout\u001B[0m)             │ (\u001B[38;5;45mNone\u001B[0m, \u001B[38;5;34m64\u001B[0m)             │             \u001B[38;5;34m0\u001B[0m │\n",
       "├─────────────────────────────────┼────────────────────────┼───────────────┤\n",
       "│ dense_3 (\u001B[38;5;33mDense\u001B[0m)                 │ (\u001B[38;5;45mNone\u001B[0m, \u001B[38;5;34m1\u001B[0m)              │            \u001B[38;5;34m65\u001B[0m │\n",
       "└─────────────────────────────────┴────────────────────────┴───────────────┘\n"
      ],
      "text/html": [
       "<pre style=\"white-space:pre;overflow-x:auto;line-height:normal;font-family:Menlo,'DejaVu Sans Mono',consolas,'Courier New',monospace\">┏━━━━━━━━━━━━━━━━━━━━━━━━━━━━━━━━━┳━━━━━━━━━━━━━━━━━━━━━━━━┳━━━━━━━━━━━━━━━┓\n",
       "┃<span style=\"font-weight: bold\"> Layer (type)                    </span>┃<span style=\"font-weight: bold\"> Output Shape           </span>┃<span style=\"font-weight: bold\">       Param # </span>┃\n",
       "┡━━━━━━━━━━━━━━━━━━━━━━━━━━━━━━━━━╇━━━━━━━━━━━━━━━━━━━━━━━━╇━━━━━━━━━━━━━━━┩\n",
       "│ input_layer_1 (<span style=\"color: #0087ff; text-decoration-color: #0087ff\">InputLayer</span>)      │ (<span style=\"color: #00d7ff; text-decoration-color: #00d7ff\">None</span>, <span style=\"color: #00af00; text-decoration-color: #00af00\">4</span>, <span style=\"color: #00af00; text-decoration-color: #00af00\">13</span>)          │             <span style=\"color: #00af00; text-decoration-color: #00af00\">0</span> │\n",
       "├─────────────────────────────────┼────────────────────────┼───────────────┤\n",
       "│ bidirectional (<span style=\"color: #0087ff; text-decoration-color: #0087ff\">Bidirectional</span>)   │ (<span style=\"color: #00d7ff; text-decoration-color: #00d7ff\">None</span>, <span style=\"color: #00af00; text-decoration-color: #00af00\">4</span>, <span style=\"color: #00af00; text-decoration-color: #00af00\">128</span>)         │        <span style=\"color: #00af00; text-decoration-color: #00af00\">39,936</span> │\n",
       "├─────────────────────────────────┼────────────────────────┼───────────────┤\n",
       "│ bidirectional_1 (<span style=\"color: #0087ff; text-decoration-color: #0087ff\">Bidirectional</span>) │ (<span style=\"color: #00d7ff; text-decoration-color: #00d7ff\">None</span>, <span style=\"color: #00af00; text-decoration-color: #00af00\">64</span>)             │        <span style=\"color: #00af00; text-decoration-color: #00af00\">41,216</span> │\n",
       "├─────────────────────────────────┼────────────────────────┼───────────────┤\n",
       "│ dense_2 (<span style=\"color: #0087ff; text-decoration-color: #0087ff\">Dense</span>)                 │ (<span style=\"color: #00d7ff; text-decoration-color: #00d7ff\">None</span>, <span style=\"color: #00af00; text-decoration-color: #00af00\">64</span>)             │         <span style=\"color: #00af00; text-decoration-color: #00af00\">4,160</span> │\n",
       "├─────────────────────────────────┼────────────────────────┼───────────────┤\n",
       "│ dropout_1 (<span style=\"color: #0087ff; text-decoration-color: #0087ff\">Dropout</span>)             │ (<span style=\"color: #00d7ff; text-decoration-color: #00d7ff\">None</span>, <span style=\"color: #00af00; text-decoration-color: #00af00\">64</span>)             │             <span style=\"color: #00af00; text-decoration-color: #00af00\">0</span> │\n",
       "├─────────────────────────────────┼────────────────────────┼───────────────┤\n",
       "│ dense_3 (<span style=\"color: #0087ff; text-decoration-color: #0087ff\">Dense</span>)                 │ (<span style=\"color: #00d7ff; text-decoration-color: #00d7ff\">None</span>, <span style=\"color: #00af00; text-decoration-color: #00af00\">1</span>)              │            <span style=\"color: #00af00; text-decoration-color: #00af00\">65</span> │\n",
       "└─────────────────────────────────┴────────────────────────┴───────────────┘\n",
       "</pre>\n"
      ]
     },
     "metadata": {},
     "output_type": "display_data"
    },
    {
     "data": {
      "text/plain": [
       "\u001B[1m Total params: \u001B[0m\u001B[38;5;34m85,377\u001B[0m (333.50 KB)\n"
      ],
      "text/html": [
       "<pre style=\"white-space:pre;overflow-x:auto;line-height:normal;font-family:Menlo,'DejaVu Sans Mono',consolas,'Courier New',monospace\"><span style=\"font-weight: bold\"> Total params: </span><span style=\"color: #00af00; text-decoration-color: #00af00\">85,377</span> (333.50 KB)\n",
       "</pre>\n"
      ]
     },
     "metadata": {},
     "output_type": "display_data"
    },
    {
     "data": {
      "text/plain": [
       "\u001B[1m Trainable params: \u001B[0m\u001B[38;5;34m85,377\u001B[0m (333.50 KB)\n"
      ],
      "text/html": [
       "<pre style=\"white-space:pre;overflow-x:auto;line-height:normal;font-family:Menlo,'DejaVu Sans Mono',consolas,'Courier New',monospace\"><span style=\"font-weight: bold\"> Trainable params: </span><span style=\"color: #00af00; text-decoration-color: #00af00\">85,377</span> (333.50 KB)\n",
       "</pre>\n"
      ]
     },
     "metadata": {},
     "output_type": "display_data"
    },
    {
     "data": {
      "text/plain": [
       "\u001B[1m Non-trainable params: \u001B[0m\u001B[38;5;34m0\u001B[0m (0.00 B)\n"
      ],
      "text/html": [
       "<pre style=\"white-space:pre;overflow-x:auto;line-height:normal;font-family:Menlo,'DejaVu Sans Mono',consolas,'Courier New',monospace\"><span style=\"font-weight: bold\"> Non-trainable params: </span><span style=\"color: #00af00; text-decoration-color: #00af00\">0</span> (0.00 B)\n",
       "</pre>\n"
      ]
     },
     "metadata": {},
     "output_type": "display_data"
    }
   ],
   "execution_count": 76
  },
  {
   "metadata": {},
   "cell_type": "markdown",
   "source": "### Train with Better Callbacks",
   "id": "4978b36c9c4319e2"
  },
  {
   "metadata": {
    "ExecuteTime": {
     "end_time": "2025-10-03T12:52:06.943346Z",
     "start_time": "2025-10-03T12:51:43.053164Z"
    }
   },
   "cell_type": "code",
   "source": [
    "from tensorflow.keras.callbacks import EarlyStopping, ReduceLROnPlateau\n",
    "\n",
    "callbacks = [\n",
    "    EarlyStopping(monitor=\"val_loss\", patience=10, restore_best_weights=True, verbose=1),\n",
    "    ReduceLROnPlateau(monitor=\"val_loss\", factor=0.5, patience=5, verbose=1, min_lr=1e-6)\n",
    "]\n",
    "\n",
    "history = improved_model.fit(\n",
    "    X_train, y_train,\n",
    "    validation_data=(X_val, y_val),\n",
    "    epochs=100,\n",
    "    batch_size=32,\n",
    "    callbacks=callbacks,\n",
    "    verbose=1\n",
    ")\n"
   ],
   "id": "29e6d7c91609414f",
   "outputs": [
    {
     "name": "stdout",
     "output_type": "stream",
     "text": [
      "Epoch 1/100\n",
      "\u001B[1m7/7\u001B[0m \u001B[32m━━━━━━━━━━━━━━━━━━━━\u001B[0m\u001B[37m\u001B[0m \u001B[1m15s\u001B[0m 325ms/step - loss: 265.9602 - mae: 16.2643 - val_loss: 254.3186 - val_mae: 15.8984 - learning_rate: 0.0010\n",
      "Epoch 2/100\n",
      "\u001B[1m7/7\u001B[0m \u001B[32m━━━━━━━━━━━━━━━━━━━━\u001B[0m\u001B[37m\u001B[0m \u001B[1m0s\u001B[0m 28ms/step - loss: 260.5892 - mae: 16.1008 - val_loss: 240.8125 - val_mae: 15.4667 - learning_rate: 0.0010\n",
      "Epoch 3/100\n",
      "\u001B[1m7/7\u001B[0m \u001B[32m━━━━━━━━━━━━━━━━━━━━\u001B[0m\u001B[37m\u001B[0m \u001B[1m0s\u001B[0m 26ms/step - loss: 244.0397 - mae: 15.5732 - val_loss: 211.1703 - val_mae: 14.4732 - learning_rate: 0.0010\n",
      "Epoch 4/100\n",
      "\u001B[1m7/7\u001B[0m \u001B[32m━━━━━━━━━━━━━━━━━━━━\u001B[0m\u001B[37m\u001B[0m \u001B[1m0s\u001B[0m 28ms/step - loss: 207.8770 - mae: 14.3444 - val_loss: 143.5946 - val_mae: 11.8952 - learning_rate: 0.0010\n",
      "Epoch 5/100\n",
      "\u001B[1m7/7\u001B[0m \u001B[32m━━━━━━━━━━━━━━━━━━━━\u001B[0m\u001B[37m\u001B[0m \u001B[1m0s\u001B[0m 27ms/step - loss: 128.6690 - mae: 11.1332 - val_loss: 43.2063 - val_mae: 6.3798 - learning_rate: 0.0010\n",
      "Epoch 6/100\n",
      "\u001B[1m7/7\u001B[0m \u001B[32m━━━━━━━━━━━━━━━━━━━━\u001B[0m\u001B[37m\u001B[0m \u001B[1m0s\u001B[0m 27ms/step - loss: 33.2080 - mae: 5.1956 - val_loss: 2.2524 - val_mae: 1.1862 - learning_rate: 0.0010\n",
      "Epoch 7/100\n",
      "\u001B[1m7/7\u001B[0m \u001B[32m━━━━━━━━━━━━━━━━━━━━\u001B[0m\u001B[37m\u001B[0m \u001B[1m0s\u001B[0m 28ms/step - loss: 13.1953 - mae: 2.8907 - val_loss: 13.9405 - val_mae: 3.5648 - learning_rate: 0.0010\n",
      "Epoch 8/100\n",
      "\u001B[1m7/7\u001B[0m \u001B[32m━━━━━━━━━━━━━━━━━━━━\u001B[0m\u001B[37m\u001B[0m \u001B[1m0s\u001B[0m 30ms/step - loss: 20.0838 - mae: 3.7173 - val_loss: 2.4751 - val_mae: 1.2750 - learning_rate: 0.0010\n",
      "Epoch 9/100\n",
      "\u001B[1m7/7\u001B[0m \u001B[32m━━━━━━━━━━━━━━━━━━━━\u001B[0m\u001B[37m\u001B[0m \u001B[1m0s\u001B[0m 30ms/step - loss: 7.5699 - mae: 2.1957 - val_loss: 1.9845 - val_mae: 1.1886 - learning_rate: 0.0010\n",
      "Epoch 10/100\n",
      "\u001B[1m7/7\u001B[0m \u001B[32m━━━━━━━━━━━━━━━━━━━━\u001B[0m\u001B[37m\u001B[0m \u001B[1m0s\u001B[0m 29ms/step - loss: 8.4983 - mae: 2.3612 - val_loss: 2.0308 - val_mae: 1.2004 - learning_rate: 0.0010\n",
      "Epoch 11/100\n",
      "\u001B[1m7/7\u001B[0m \u001B[32m━━━━━━━━━━━━━━━━━━━━\u001B[0m\u001B[37m\u001B[0m \u001B[1m0s\u001B[0m 27ms/step - loss: 6.6385 - mae: 2.1102 - val_loss: 0.8718 - val_mae: 0.7552 - learning_rate: 0.0010\n",
      "Epoch 12/100\n",
      "\u001B[1m7/7\u001B[0m \u001B[32m━━━━━━━━━━━━━━━━━━━━\u001B[0m\u001B[37m\u001B[0m \u001B[1m0s\u001B[0m 29ms/step - loss: 6.6694 - mae: 1.9967 - val_loss: 1.3608 - val_mae: 0.9170 - learning_rate: 0.0010\n",
      "Epoch 13/100\n",
      "\u001B[1m7/7\u001B[0m \u001B[32m━━━━━━━━━━━━━━━━━━━━\u001B[0m\u001B[37m\u001B[0m \u001B[1m0s\u001B[0m 28ms/step - loss: 6.6601 - mae: 2.0586 - val_loss: 1.1268 - val_mae: 0.8283 - learning_rate: 0.0010\n",
      "Epoch 14/100\n",
      "\u001B[1m7/7\u001B[0m \u001B[32m━━━━━━━━━━━━━━━━━━━━\u001B[0m\u001B[37m\u001B[0m \u001B[1m0s\u001B[0m 31ms/step - loss: 6.5910 - mae: 1.9867 - val_loss: 0.8213 - val_mae: 0.7374 - learning_rate: 0.0010\n",
      "Epoch 15/100\n",
      "\u001B[1m7/7\u001B[0m \u001B[32m━━━━━━━━━━━━━━━━━━━━\u001B[0m\u001B[37m\u001B[0m \u001B[1m0s\u001B[0m 30ms/step - loss: 6.4227 - mae: 2.0755 - val_loss: 1.0253 - val_mae: 0.8383 - learning_rate: 0.0010\n",
      "Epoch 16/100\n",
      "\u001B[1m7/7\u001B[0m \u001B[32m━━━━━━━━━━━━━━━━━━━━\u001B[0m\u001B[37m\u001B[0m \u001B[1m0s\u001B[0m 33ms/step - loss: 7.7469 - mae: 2.2130 - val_loss: 0.7856 - val_mae: 0.7223 - learning_rate: 0.0010\n",
      "Epoch 17/100\n",
      "\u001B[1m7/7\u001B[0m \u001B[32m━━━━━━━━━━━━━━━━━━━━\u001B[0m\u001B[37m\u001B[0m \u001B[1m0s\u001B[0m 32ms/step - loss: 5.6796 - mae: 1.8474 - val_loss: 0.8869 - val_mae: 0.7515 - learning_rate: 0.0010\n",
      "Epoch 18/100\n",
      "\u001B[1m7/7\u001B[0m \u001B[32m━━━━━━━━━━━━━━━━━━━━\u001B[0m\u001B[37m\u001B[0m \u001B[1m0s\u001B[0m 33ms/step - loss: 5.5873 - mae: 1.9311 - val_loss: 0.8088 - val_mae: 0.7335 - learning_rate: 0.0010\n",
      "Epoch 19/100\n",
      "\u001B[1m7/7\u001B[0m \u001B[32m━━━━━━━━━━━━━━━━━━━━\u001B[0m\u001B[37m\u001B[0m \u001B[1m0s\u001B[0m 32ms/step - loss: 7.2626 - mae: 2.2339 - val_loss: 0.8415 - val_mae: 0.7404 - learning_rate: 0.0010\n",
      "Epoch 20/100\n",
      "\u001B[1m7/7\u001B[0m \u001B[32m━━━━━━━━━━━━━━━━━━━━\u001B[0m\u001B[37m\u001B[0m \u001B[1m0s\u001B[0m 29ms/step - loss: 5.9559 - mae: 1.9594 - val_loss: 0.8150 - val_mae: 0.7314 - learning_rate: 0.0010\n",
      "Epoch 21/100\n",
      "\u001B[1m6/7\u001B[0m \u001B[32m━━━━━━━━━━━━━━━━━\u001B[0m\u001B[37m━━━\u001B[0m \u001B[1m0s\u001B[0m 11ms/step - loss: 5.1558 - mae: 1.8548\n",
      "Epoch 21: ReduceLROnPlateau reducing learning rate to 0.0005000000237487257.\n",
      "\u001B[1m7/7\u001B[0m \u001B[32m━━━━━━━━━━━━━━━━━━━━\u001B[0m\u001B[37m\u001B[0m \u001B[1m0s\u001B[0m 28ms/step - loss: 5.2430 - mae: 1.8645 - val_loss: 0.7925 - val_mae: 0.7248 - learning_rate: 0.0010\n",
      "Epoch 22/100\n",
      "\u001B[1m7/7\u001B[0m \u001B[32m━━━━━━━━━━━━━━━━━━━━\u001B[0m\u001B[37m\u001B[0m \u001B[1m0s\u001B[0m 27ms/step - loss: 5.7995 - mae: 1.9239 - val_loss: 0.7986 - val_mae: 0.7262 - learning_rate: 5.0000e-04\n",
      "Epoch 23/100\n",
      "\u001B[1m7/7\u001B[0m \u001B[32m━━━━━━━━━━━━━━━━━━━━\u001B[0m\u001B[37m\u001B[0m \u001B[1m0s\u001B[0m 27ms/step - loss: 4.9893 - mae: 1.8199 - val_loss: 0.7624 - val_mae: 0.7181 - learning_rate: 5.0000e-04\n",
      "Epoch 24/100\n",
      "\u001B[1m7/7\u001B[0m \u001B[32m━━━━━━━━━━━━━━━━━━━━\u001B[0m\u001B[37m\u001B[0m \u001B[1m0s\u001B[0m 26ms/step - loss: 4.9330 - mae: 1.7683 - val_loss: 0.7921 - val_mae: 0.7363 - learning_rate: 5.0000e-04\n",
      "Epoch 25/100\n",
      "\u001B[1m7/7\u001B[0m \u001B[32m━━━━━━━━━━━━━━━━━━━━\u001B[0m\u001B[37m\u001B[0m \u001B[1m0s\u001B[0m 26ms/step - loss: 5.8555 - mae: 1.9251 - val_loss: 0.7504 - val_mae: 0.7110 - learning_rate: 5.0000e-04\n",
      "Epoch 26/100\n",
      "\u001B[1m7/7\u001B[0m \u001B[32m━━━━━━━━━━━━━━━━━━━━\u001B[0m\u001B[37m\u001B[0m \u001B[1m0s\u001B[0m 28ms/step - loss: 5.6062 - mae: 1.8640 - val_loss: 0.7886 - val_mae: 0.7232 - learning_rate: 5.0000e-04\n",
      "Epoch 27/100\n",
      "\u001B[1m7/7\u001B[0m \u001B[32m━━━━━━━━━━━━━━━━━━━━\u001B[0m\u001B[37m\u001B[0m \u001B[1m0s\u001B[0m 30ms/step - loss: 6.8244 - mae: 2.1026 - val_loss: 0.7541 - val_mae: 0.7082 - learning_rate: 5.0000e-04\n",
      "Epoch 28/100\n",
      "\u001B[1m7/7\u001B[0m \u001B[32m━━━━━━━━━━━━━━━━━━━━\u001B[0m\u001B[37m\u001B[0m \u001B[1m0s\u001B[0m 32ms/step - loss: 6.0634 - mae: 2.0423 - val_loss: 0.7505 - val_mae: 0.7141 - learning_rate: 5.0000e-04\n",
      "Epoch 29/100\n",
      "\u001B[1m7/7\u001B[0m \u001B[32m━━━━━━━━━━━━━━━━━━━━\u001B[0m\u001B[37m\u001B[0m \u001B[1m0s\u001B[0m 30ms/step - loss: 4.5099 - mae: 1.7277 - val_loss: 0.7364 - val_mae: 0.7029 - learning_rate: 5.0000e-04\n",
      "Epoch 30/100\n",
      "\u001B[1m7/7\u001B[0m \u001B[32m━━━━━━━━━━━━━━━━━━━━\u001B[0m\u001B[37m\u001B[0m \u001B[1m0s\u001B[0m 28ms/step - loss: 5.2526 - mae: 1.8492 - val_loss: 0.7383 - val_mae: 0.7005 - learning_rate: 5.0000e-04\n",
      "Epoch 31/100\n",
      "\u001B[1m7/7\u001B[0m \u001B[32m━━━━━━━━━━━━━━━━━━━━\u001B[0m\u001B[37m\u001B[0m \u001B[1m0s\u001B[0m 27ms/step - loss: 4.6943 - mae: 1.6971 - val_loss: 0.7419 - val_mae: 0.7008 - learning_rate: 5.0000e-04\n",
      "Epoch 32/100\n",
      "\u001B[1m7/7\u001B[0m \u001B[32m━━━━━━━━━━━━━━━━━━━━\u001B[0m\u001B[37m\u001B[0m \u001B[1m0s\u001B[0m 37ms/step - loss: 5.0168 - mae: 1.8198 - val_loss: 0.7708 - val_mae: 0.7120 - learning_rate: 5.0000e-04\n",
      "Epoch 33/100\n",
      "\u001B[1m7/7\u001B[0m \u001B[32m━━━━━━━━━━━━━━━━━━━━\u001B[0m\u001B[37m\u001B[0m \u001B[1m0s\u001B[0m 33ms/step - loss: 4.7509 - mae: 1.7949 - val_loss: 0.7487 - val_mae: 0.7034 - learning_rate: 5.0000e-04\n",
      "Epoch 34/100\n",
      "\u001B[1m5/7\u001B[0m \u001B[32m━━━━━━━━━━━━━━\u001B[0m\u001B[37m━━━━━━\u001B[0m \u001B[1m0s\u001B[0m 13ms/step - loss: 6.0243 - mae: 1.9535\n",
      "Epoch 34: ReduceLROnPlateau reducing learning rate to 0.0002500000118743628.\n",
      "\u001B[1m7/7\u001B[0m \u001B[32m━━━━━━━━━━━━━━━━━━━━\u001B[0m\u001B[37m\u001B[0m \u001B[1m0s\u001B[0m 29ms/step - loss: 5.8679 - mae: 1.9263 - val_loss: 0.7486 - val_mae: 0.7054 - learning_rate: 5.0000e-04\n",
      "Epoch 35/100\n",
      "\u001B[1m7/7\u001B[0m \u001B[32m━━━━━━━━━━━━━━━━━━━━\u001B[0m\u001B[37m\u001B[0m \u001B[1m0s\u001B[0m 29ms/step - loss: 5.1766 - mae: 1.8094 - val_loss: 0.7479 - val_mae: 0.7047 - learning_rate: 2.5000e-04\n",
      "Epoch 36/100\n",
      "\u001B[1m7/7\u001B[0m \u001B[32m━━━━━━━━━━━━━━━━━━━━\u001B[0m\u001B[37m\u001B[0m \u001B[1m0s\u001B[0m 26ms/step - loss: 6.2553 - mae: 2.0172 - val_loss: 0.7491 - val_mae: 0.7051 - learning_rate: 2.5000e-04\n",
      "Epoch 37/100\n",
      "\u001B[1m7/7\u001B[0m \u001B[32m━━━━━━━━━━━━━━━━━━━━\u001B[0m\u001B[37m\u001B[0m \u001B[1m0s\u001B[0m 28ms/step - loss: 4.9337 - mae: 1.7646 - val_loss: 0.7680 - val_mae: 0.7106 - learning_rate: 2.5000e-04\n",
      "Epoch 38/100\n",
      "\u001B[1m7/7\u001B[0m \u001B[32m━━━━━━━━━━━━━━━━━━━━\u001B[0m\u001B[37m\u001B[0m \u001B[1m0s\u001B[0m 24ms/step - loss: 6.0923 - mae: 2.0017 - val_loss: 0.7580 - val_mae: 0.7054 - learning_rate: 2.5000e-04\n",
      "Epoch 39/100\n",
      "\u001B[1m7/7\u001B[0m \u001B[32m━━━━━━━━━━━━━━━━━━━━\u001B[0m\u001B[37m\u001B[0m \u001B[1m0s\u001B[0m 10ms/step - loss: 4.9911 - mae: 1.7223\n",
      "Epoch 39: ReduceLROnPlateau reducing learning rate to 0.0001250000059371814.\n",
      "\u001B[1m7/7\u001B[0m \u001B[32m━━━━━━━━━━━━━━━━━━━━\u001B[0m\u001B[37m\u001B[0m \u001B[1m0s\u001B[0m 26ms/step - loss: 5.0234 - mae: 1.7271 - val_loss: 0.7574 - val_mae: 0.7051 - learning_rate: 2.5000e-04\n",
      "Epoch 39: early stopping\n",
      "Restoring model weights from the end of the best epoch: 29.\n"
     ]
    }
   ],
   "execution_count": 77
  },
  {
   "metadata": {},
   "cell_type": "markdown",
   "source": "### Evaluate on Test Set",
   "id": "8f70d253419e5a4f"
  },
  {
   "metadata": {
    "ExecuteTime": {
     "end_time": "2025-10-03T12:52:16.455915Z",
     "start_time": "2025-10-03T12:52:12.791944Z"
    }
   },
   "cell_type": "code",
   "source": [
    "from sklearn.metrics import mean_squared_error, mean_absolute_error, r2_score\n",
    "import numpy as np\n",
    "\n",
    "pred_test_improved = improved_model.predict(X_test).squeeze()\n",
    "\n",
    "rmse = np.sqrt(mean_squared_error(y_test, pred_test_improved))\n",
    "mae = mean_absolute_error(y_test, pred_test_improved)\n",
    "r2  = r2_score(y_test, pred_test_improved)\n",
    "\n",
    "print(\"\\nImproved Multivariate LSTM Performance:\")\n",
    "print(f\" RMSE: {rmse:.4f}\")\n",
    "print(f\" MAE : {mae:.4f}\")\n",
    "print(f\" R²  : {r2:.4f}\")\n"
   ],
   "id": "f0bf053722cfedcb",
   "outputs": [
    {
     "name": "stdout",
     "output_type": "stream",
     "text": [
      "\u001B[1m2/2\u001B[0m \u001B[32m━━━━━━━━━━━━━━━━━━━━\u001B[0m\u001B[37m\u001B[0m \u001B[1m4s\u001B[0m 2s/step\n",
      "\n",
      "Improved Multivariate LSTM Performance:\n",
      " RMSE: 0.7342\n",
      " MAE : 0.5893\n",
      " R²  : 0.2254\n"
     ]
    }
   ],
   "execution_count": 78
  },
  {
   "metadata": {},
   "cell_type": "markdown",
   "source": [
    "### Further improvements:\n",
    "Stacked BiLSTMs (deeper sequence modeling)\n",
    "\n",
    "Dropout + BatchNorm (to reduce overfitting)\n",
    "\n",
    "ReduceLROnPlateau + EarlyStopping (stabilize training)  , to push r2 from .2 -> .5"
   ],
   "id": "8102d289cbdf348f"
  },
  {
   "metadata": {
    "ExecuteTime": {
     "end_time": "2025-10-03T12:54:36.074698Z",
     "start_time": "2025-10-03T12:54:06.098420Z"
    }
   },
   "cell_type": "code",
   "source": [
    "# Improved Multivariate LSTM\n",
    "import tensorflow as tf\n",
    "from tensorflow.keras import layers, Model\n",
    "\n",
    "# Build model\n",
    "inp = layers.Input(shape=(X_train.shape[1], X_train.shape[2]))\n",
    "\n",
    "# Stacked BiLSTMs\n",
    "x = layers.Bidirectional(layers.LSTM(128, return_sequences=True))(inp)\n",
    "x = layers.BatchNormalization()(x)\n",
    "x = layers.Dropout(0.3)(x)\n",
    "\n",
    "x = layers.Bidirectional(layers.LSTM(64))(x)\n",
    "x = layers.BatchNormalization()(x)\n",
    "x = layers.Dropout(0.3)(x)\n",
    "\n",
    "# Dense layers\n",
    "x = layers.Dense(64, activation=\"relu\")(x)\n",
    "x = layers.Dropout(0.2)(x)\n",
    "out = layers.Dense(1, activation=\"linear\")(x)\n",
    "\n",
    "model_no_att = Model(inp, out)\n",
    "\n",
    "model_no_att.compile(\n",
    "    optimizer=tf.keras.optimizers.Adam(learning_rate=1e-3),\n",
    "    loss=\"mse\",\n",
    "    metrics=[\"mae\"]\n",
    ")\n",
    "\n",
    "model_no_att.summary()\n",
    "\n",
    "# Callbacks\n",
    "early_stop = tf.keras.callbacks.EarlyStopping(\n",
    "    monitor=\"val_loss\", patience=15, restore_best_weights=True\n",
    ")\n",
    "reduce_lr = tf.keras.callbacks.ReduceLROnPlateau(\n",
    "    monitor=\"val_loss\", factor=0.5, patience=5, verbose=1\n",
    ")\n",
    "\n",
    "# Train\n",
    "history = model_no_att.fit(\n",
    "    X_train, y_train,\n",
    "    validation_data=(X_val, y_val),\n",
    "    epochs=100,\n",
    "    batch_size=32,\n",
    "    callbacks=[early_stop, reduce_lr],\n",
    "    verbose=1\n",
    ")\n",
    "\n",
    "# Evaluate\n",
    "from sklearn.metrics import mean_squared_error, mean_absolute_error, r2_score\n",
    "y_pred_no_att = model_no_att.predict(X_test).squeeze()\n",
    "\n",
    "rmse = np.sqrt(mean_squared_error(y_test, y_pred_no_att))\n",
    "mae  = mean_absolute_error(y_test, y_pred_no_att)\n",
    "r2   = r2_score(y_test, y_pred_no_att)\n",
    "\n",
    "print(\"\\n Improved Multivariate LSTM Performance:\")\n",
    "print(\" RMSE:\", round(rmse, 4))\n",
    "print(\" MAE :\", round(mae, 4))\n",
    "print(\" R²  :\", round(r2, 4))\n"
   ],
   "id": "4bc129b4d131465d",
   "outputs": [
    {
     "data": {
      "text/plain": [
       "\u001B[1mModel: \"functional_3\"\u001B[0m\n"
      ],
      "text/html": [
       "<pre style=\"white-space:pre;overflow-x:auto;line-height:normal;font-family:Menlo,'DejaVu Sans Mono',consolas,'Courier New',monospace\"><span style=\"font-weight: bold\">Model: \"functional_3\"</span>\n",
       "</pre>\n"
      ]
     },
     "metadata": {},
     "output_type": "display_data"
    },
    {
     "data": {
      "text/plain": [
       "┏━━━━━━━━━━━━━━━━━━━━━━━━━━━━━━━━━┳━━━━━━━━━━━━━━━━━━━━━━━━┳━━━━━━━━━━━━━━━┓\n",
       "┃\u001B[1m \u001B[0m\u001B[1mLayer (type)                   \u001B[0m\u001B[1m \u001B[0m┃\u001B[1m \u001B[0m\u001B[1mOutput Shape          \u001B[0m\u001B[1m \u001B[0m┃\u001B[1m \u001B[0m\u001B[1m      Param #\u001B[0m\u001B[1m \u001B[0m┃\n",
       "┡━━━━━━━━━━━━━━━━━━━━━━━━━━━━━━━━━╇━━━━━━━━━━━━━━━━━━━━━━━━╇━━━━━━━━━━━━━━━┩\n",
       "│ input_layer_3 (\u001B[38;5;33mInputLayer\u001B[0m)      │ (\u001B[38;5;45mNone\u001B[0m, \u001B[38;5;34m4\u001B[0m, \u001B[38;5;34m13\u001B[0m)          │             \u001B[38;5;34m0\u001B[0m │\n",
       "├─────────────────────────────────┼────────────────────────┼───────────────┤\n",
       "│ bidirectional_4 (\u001B[38;5;33mBidirectional\u001B[0m) │ (\u001B[38;5;45mNone\u001B[0m, \u001B[38;5;34m4\u001B[0m, \u001B[38;5;34m256\u001B[0m)         │       \u001B[38;5;34m145,408\u001B[0m │\n",
       "├─────────────────────────────────┼────────────────────────┼───────────────┤\n",
       "│ batch_normalization_2           │ (\u001B[38;5;45mNone\u001B[0m, \u001B[38;5;34m4\u001B[0m, \u001B[38;5;34m256\u001B[0m)         │         \u001B[38;5;34m1,024\u001B[0m │\n",
       "│ (\u001B[38;5;33mBatchNormalization\u001B[0m)            │                        │               │\n",
       "├─────────────────────────────────┼────────────────────────┼───────────────┤\n",
       "│ dropout_5 (\u001B[38;5;33mDropout\u001B[0m)             │ (\u001B[38;5;45mNone\u001B[0m, \u001B[38;5;34m4\u001B[0m, \u001B[38;5;34m256\u001B[0m)         │             \u001B[38;5;34m0\u001B[0m │\n",
       "├─────────────────────────────────┼────────────────────────┼───────────────┤\n",
       "│ bidirectional_5 (\u001B[38;5;33mBidirectional\u001B[0m) │ (\u001B[38;5;45mNone\u001B[0m, \u001B[38;5;34m128\u001B[0m)            │       \u001B[38;5;34m164,352\u001B[0m │\n",
       "├─────────────────────────────────┼────────────────────────┼───────────────┤\n",
       "│ batch_normalization_3           │ (\u001B[38;5;45mNone\u001B[0m, \u001B[38;5;34m128\u001B[0m)            │           \u001B[38;5;34m512\u001B[0m │\n",
       "│ (\u001B[38;5;33mBatchNormalization\u001B[0m)            │                        │               │\n",
       "├─────────────────────────────────┼────────────────────────┼───────────────┤\n",
       "│ dropout_6 (\u001B[38;5;33mDropout\u001B[0m)             │ (\u001B[38;5;45mNone\u001B[0m, \u001B[38;5;34m128\u001B[0m)            │             \u001B[38;5;34m0\u001B[0m │\n",
       "├─────────────────────────────────┼────────────────────────┼───────────────┤\n",
       "│ dense_6 (\u001B[38;5;33mDense\u001B[0m)                 │ (\u001B[38;5;45mNone\u001B[0m, \u001B[38;5;34m64\u001B[0m)             │         \u001B[38;5;34m8,256\u001B[0m │\n",
       "├─────────────────────────────────┼────────────────────────┼───────────────┤\n",
       "│ dropout_7 (\u001B[38;5;33mDropout\u001B[0m)             │ (\u001B[38;5;45mNone\u001B[0m, \u001B[38;5;34m64\u001B[0m)             │             \u001B[38;5;34m0\u001B[0m │\n",
       "├─────────────────────────────────┼────────────────────────┼───────────────┤\n",
       "│ dense_7 (\u001B[38;5;33mDense\u001B[0m)                 │ (\u001B[38;5;45mNone\u001B[0m, \u001B[38;5;34m1\u001B[0m)              │            \u001B[38;5;34m65\u001B[0m │\n",
       "└─────────────────────────────────┴────────────────────────┴───────────────┘\n"
      ],
      "text/html": [
       "<pre style=\"white-space:pre;overflow-x:auto;line-height:normal;font-family:Menlo,'DejaVu Sans Mono',consolas,'Courier New',monospace\">┏━━━━━━━━━━━━━━━━━━━━━━━━━━━━━━━━━┳━━━━━━━━━━━━━━━━━━━━━━━━┳━━━━━━━━━━━━━━━┓\n",
       "┃<span style=\"font-weight: bold\"> Layer (type)                    </span>┃<span style=\"font-weight: bold\"> Output Shape           </span>┃<span style=\"font-weight: bold\">       Param # </span>┃\n",
       "┡━━━━━━━━━━━━━━━━━━━━━━━━━━━━━━━━━╇━━━━━━━━━━━━━━━━━━━━━━━━╇━━━━━━━━━━━━━━━┩\n",
       "│ input_layer_3 (<span style=\"color: #0087ff; text-decoration-color: #0087ff\">InputLayer</span>)      │ (<span style=\"color: #00d7ff; text-decoration-color: #00d7ff\">None</span>, <span style=\"color: #00af00; text-decoration-color: #00af00\">4</span>, <span style=\"color: #00af00; text-decoration-color: #00af00\">13</span>)          │             <span style=\"color: #00af00; text-decoration-color: #00af00\">0</span> │\n",
       "├─────────────────────────────────┼────────────────────────┼───────────────┤\n",
       "│ bidirectional_4 (<span style=\"color: #0087ff; text-decoration-color: #0087ff\">Bidirectional</span>) │ (<span style=\"color: #00d7ff; text-decoration-color: #00d7ff\">None</span>, <span style=\"color: #00af00; text-decoration-color: #00af00\">4</span>, <span style=\"color: #00af00; text-decoration-color: #00af00\">256</span>)         │       <span style=\"color: #00af00; text-decoration-color: #00af00\">145,408</span> │\n",
       "├─────────────────────────────────┼────────────────────────┼───────────────┤\n",
       "│ batch_normalization_2           │ (<span style=\"color: #00d7ff; text-decoration-color: #00d7ff\">None</span>, <span style=\"color: #00af00; text-decoration-color: #00af00\">4</span>, <span style=\"color: #00af00; text-decoration-color: #00af00\">256</span>)         │         <span style=\"color: #00af00; text-decoration-color: #00af00\">1,024</span> │\n",
       "│ (<span style=\"color: #0087ff; text-decoration-color: #0087ff\">BatchNormalization</span>)            │                        │               │\n",
       "├─────────────────────────────────┼────────────────────────┼───────────────┤\n",
       "│ dropout_5 (<span style=\"color: #0087ff; text-decoration-color: #0087ff\">Dropout</span>)             │ (<span style=\"color: #00d7ff; text-decoration-color: #00d7ff\">None</span>, <span style=\"color: #00af00; text-decoration-color: #00af00\">4</span>, <span style=\"color: #00af00; text-decoration-color: #00af00\">256</span>)         │             <span style=\"color: #00af00; text-decoration-color: #00af00\">0</span> │\n",
       "├─────────────────────────────────┼────────────────────────┼───────────────┤\n",
       "│ bidirectional_5 (<span style=\"color: #0087ff; text-decoration-color: #0087ff\">Bidirectional</span>) │ (<span style=\"color: #00d7ff; text-decoration-color: #00d7ff\">None</span>, <span style=\"color: #00af00; text-decoration-color: #00af00\">128</span>)            │       <span style=\"color: #00af00; text-decoration-color: #00af00\">164,352</span> │\n",
       "├─────────────────────────────────┼────────────────────────┼───────────────┤\n",
       "│ batch_normalization_3           │ (<span style=\"color: #00d7ff; text-decoration-color: #00d7ff\">None</span>, <span style=\"color: #00af00; text-decoration-color: #00af00\">128</span>)            │           <span style=\"color: #00af00; text-decoration-color: #00af00\">512</span> │\n",
       "│ (<span style=\"color: #0087ff; text-decoration-color: #0087ff\">BatchNormalization</span>)            │                        │               │\n",
       "├─────────────────────────────────┼────────────────────────┼───────────────┤\n",
       "│ dropout_6 (<span style=\"color: #0087ff; text-decoration-color: #0087ff\">Dropout</span>)             │ (<span style=\"color: #00d7ff; text-decoration-color: #00d7ff\">None</span>, <span style=\"color: #00af00; text-decoration-color: #00af00\">128</span>)            │             <span style=\"color: #00af00; text-decoration-color: #00af00\">0</span> │\n",
       "├─────────────────────────────────┼────────────────────────┼───────────────┤\n",
       "│ dense_6 (<span style=\"color: #0087ff; text-decoration-color: #0087ff\">Dense</span>)                 │ (<span style=\"color: #00d7ff; text-decoration-color: #00d7ff\">None</span>, <span style=\"color: #00af00; text-decoration-color: #00af00\">64</span>)             │         <span style=\"color: #00af00; text-decoration-color: #00af00\">8,256</span> │\n",
       "├─────────────────────────────────┼────────────────────────┼───────────────┤\n",
       "│ dropout_7 (<span style=\"color: #0087ff; text-decoration-color: #0087ff\">Dropout</span>)             │ (<span style=\"color: #00d7ff; text-decoration-color: #00d7ff\">None</span>, <span style=\"color: #00af00; text-decoration-color: #00af00\">64</span>)             │             <span style=\"color: #00af00; text-decoration-color: #00af00\">0</span> │\n",
       "├─────────────────────────────────┼────────────────────────┼───────────────┤\n",
       "│ dense_7 (<span style=\"color: #0087ff; text-decoration-color: #0087ff\">Dense</span>)                 │ (<span style=\"color: #00d7ff; text-decoration-color: #00d7ff\">None</span>, <span style=\"color: #00af00; text-decoration-color: #00af00\">1</span>)              │            <span style=\"color: #00af00; text-decoration-color: #00af00\">65</span> │\n",
       "└─────────────────────────────────┴────────────────────────┴───────────────┘\n",
       "</pre>\n"
      ]
     },
     "metadata": {},
     "output_type": "display_data"
    },
    {
     "data": {
      "text/plain": [
       "\u001B[1m Total params: \u001B[0m\u001B[38;5;34m319,617\u001B[0m (1.22 MB)\n"
      ],
      "text/html": [
       "<pre style=\"white-space:pre;overflow-x:auto;line-height:normal;font-family:Menlo,'DejaVu Sans Mono',consolas,'Courier New',monospace\"><span style=\"font-weight: bold\"> Total params: </span><span style=\"color: #00af00; text-decoration-color: #00af00\">319,617</span> (1.22 MB)\n",
       "</pre>\n"
      ]
     },
     "metadata": {},
     "output_type": "display_data"
    },
    {
     "data": {
      "text/plain": [
       "\u001B[1m Trainable params: \u001B[0m\u001B[38;5;34m318,849\u001B[0m (1.22 MB)\n"
      ],
      "text/html": [
       "<pre style=\"white-space:pre;overflow-x:auto;line-height:normal;font-family:Menlo,'DejaVu Sans Mono',consolas,'Courier New',monospace\"><span style=\"font-weight: bold\"> Trainable params: </span><span style=\"color: #00af00; text-decoration-color: #00af00\">318,849</span> (1.22 MB)\n",
       "</pre>\n"
      ]
     },
     "metadata": {},
     "output_type": "display_data"
    },
    {
     "data": {
      "text/plain": [
       "\u001B[1m Non-trainable params: \u001B[0m\u001B[38;5;34m768\u001B[0m (3.00 KB)\n"
      ],
      "text/html": [
       "<pre style=\"white-space:pre;overflow-x:auto;line-height:normal;font-family:Menlo,'DejaVu Sans Mono',consolas,'Courier New',monospace\"><span style=\"font-weight: bold\"> Non-trainable params: </span><span style=\"color: #00af00; text-decoration-color: #00af00\">768</span> (3.00 KB)\n",
       "</pre>\n"
      ]
     },
     "metadata": {},
     "output_type": "display_data"
    },
    {
     "name": "stdout",
     "output_type": "stream",
     "text": [
      "Epoch 1/100\n",
      "\u001B[1m7/7\u001B[0m \u001B[32m━━━━━━━━━━━━━━━━━━━━\u001B[0m\u001B[37m\u001B[0m \u001B[1m8s\u001B[0m 149ms/step - loss: 292.4551 - mae: 17.0097 - val_loss: 258.0315 - val_mae: 16.0152 - learning_rate: 0.0010\n",
      "Epoch 2/100\n",
      "\u001B[1m7/7\u001B[0m \u001B[32m━━━━━━━━━━━━━━━━━━━━\u001B[0m\u001B[37m\u001B[0m \u001B[1m0s\u001B[0m 27ms/step - loss: 235.6589 - mae: 15.2522 - val_loss: 253.3470 - val_mae: 15.8690 - learning_rate: 0.0010\n",
      "Epoch 3/100\n",
      "\u001B[1m7/7\u001B[0m \u001B[32m━━━━━━━━━━━━━━━━━━━━\u001B[0m\u001B[37m\u001B[0m \u001B[1m0s\u001B[0m 29ms/step - loss: 186.2029 - mae: 13.5233 - val_loss: 247.8017 - val_mae: 15.6938 - learning_rate: 0.0010\n",
      "Epoch 4/100\n",
      "\u001B[1m7/7\u001B[0m \u001B[32m━━━━━━━━━━━━━━━━━━━━\u001B[0m\u001B[37m\u001B[0m \u001B[1m0s\u001B[0m 27ms/step - loss: 156.1333 - mae: 12.3226 - val_loss: 241.5862 - val_mae: 15.4955 - learning_rate: 0.0010\n",
      "Epoch 5/100\n",
      "\u001B[1m7/7\u001B[0m \u001B[32m━━━━━━━━━━━━━━━━━━━━\u001B[0m\u001B[37m\u001B[0m \u001B[1m0s\u001B[0m 25ms/step - loss: 121.6530 - mae: 10.7590 - val_loss: 234.0518 - val_mae: 15.2518 - learning_rate: 0.0010\n",
      "Epoch 6/100\n",
      "\u001B[1m7/7\u001B[0m \u001B[32m━━━━━━━━━━━━━━━━━━━━\u001B[0m\u001B[37m\u001B[0m \u001B[1m0s\u001B[0m 26ms/step - loss: 101.1257 - mae: 9.6522 - val_loss: 225.1115 - val_mae: 14.9573 - learning_rate: 0.0010\n",
      "Epoch 7/100\n",
      "\u001B[1m7/7\u001B[0m \u001B[32m━━━━━━━━━━━━━━━━━━━━\u001B[0m\u001B[37m\u001B[0m \u001B[1m0s\u001B[0m 24ms/step - loss: 72.2338 - mae: 7.9893 - val_loss: 214.8851 - val_mae: 14.6125 - learning_rate: 0.0010\n",
      "Epoch 8/100\n",
      "\u001B[1m7/7\u001B[0m \u001B[32m━━━━━━━━━━━━━━━━━━━━\u001B[0m\u001B[37m\u001B[0m \u001B[1m0s\u001B[0m 27ms/step - loss: 51.5215 - mae: 6.4538 - val_loss: 203.4673 - val_mae: 14.2165 - learning_rate: 0.0010\n",
      "Epoch 9/100\n",
      "\u001B[1m7/7\u001B[0m \u001B[32m━━━━━━━━━━━━━━━━━━━━\u001B[0m\u001B[37m\u001B[0m \u001B[1m0s\u001B[0m 26ms/step - loss: 34.3104 - mae: 5.1577 - val_loss: 191.5783 - val_mae: 13.7898 - learning_rate: 0.0010\n",
      "Epoch 10/100\n",
      "\u001B[1m7/7\u001B[0m \u001B[32m━━━━━━━━━━━━━━━━━━━━\u001B[0m\u001B[37m\u001B[0m \u001B[1m0s\u001B[0m 25ms/step - loss: 27.7368 - mae: 4.3123 - val_loss: 180.1335 - val_mae: 13.3633 - learning_rate: 0.0010\n",
      "Epoch 11/100\n",
      "\u001B[1m7/7\u001B[0m \u001B[32m━━━━━━━━━━━━━━━━━━━━\u001B[0m\u001B[37m\u001B[0m \u001B[1m0s\u001B[0m 25ms/step - loss: 19.3154 - mae: 3.4826 - val_loss: 169.6044 - val_mae: 12.9577 - learning_rate: 0.0010\n",
      "Epoch 12/100\n",
      "\u001B[1m7/7\u001B[0m \u001B[32m━━━━━━━━━━━━━━━━━━━━\u001B[0m\u001B[37m\u001B[0m \u001B[1m0s\u001B[0m 25ms/step - loss: 16.2692 - mae: 3.1588 - val_loss: 159.9323 - val_mae: 12.5733 - learning_rate: 0.0010\n",
      "Epoch 13/100\n",
      "\u001B[1m7/7\u001B[0m \u001B[32m━━━━━━━━━━━━━━━━━━━━\u001B[0m\u001B[37m\u001B[0m \u001B[1m0s\u001B[0m 27ms/step - loss: 13.0215 - mae: 2.8326 - val_loss: 150.9547 - val_mae: 12.2059 - learning_rate: 0.0010\n",
      "Epoch 14/100\n",
      "\u001B[1m7/7\u001B[0m \u001B[32m━━━━━━━━━━━━━━━━━━━━\u001B[0m\u001B[37m\u001B[0m \u001B[1m0s\u001B[0m 26ms/step - loss: 14.8853 - mae: 3.0711 - val_loss: 143.3116 - val_mae: 11.8830 - learning_rate: 0.0010\n",
      "Epoch 15/100\n",
      "\u001B[1m7/7\u001B[0m \u001B[32m━━━━━━━━━━━━━━━━━━━━\u001B[0m\u001B[37m\u001B[0m \u001B[1m0s\u001B[0m 28ms/step - loss: 12.7497 - mae: 2.8737 - val_loss: 135.9687 - val_mae: 11.5630 - learning_rate: 0.0010\n",
      "Epoch 16/100\n",
      "\u001B[1m7/7\u001B[0m \u001B[32m━━━━━━━━━━━━━━━━━━━━\u001B[0m\u001B[37m\u001B[0m \u001B[1m0s\u001B[0m 26ms/step - loss: 13.1473 - mae: 2.9413 - val_loss: 128.4961 - val_mae: 11.2304 - learning_rate: 0.0010\n",
      "Epoch 17/100\n",
      "\u001B[1m7/7\u001B[0m \u001B[32m━━━━━━━━━━━━━━━━━━━━\u001B[0m\u001B[37m\u001B[0m \u001B[1m0s\u001B[0m 28ms/step - loss: 13.8068 - mae: 2.9226 - val_loss: 121.6726 - val_mae: 10.9195 - learning_rate: 0.0010\n",
      "Epoch 18/100\n",
      "\u001B[1m7/7\u001B[0m \u001B[32m━━━━━━━━━━━━━━━━━━━━\u001B[0m\u001B[37m\u001B[0m \u001B[1m0s\u001B[0m 26ms/step - loss: 15.5280 - mae: 3.1379 - val_loss: 115.3536 - val_mae: 10.6247 - learning_rate: 0.0010\n",
      "Epoch 19/100\n",
      "\u001B[1m7/7\u001B[0m \u001B[32m━━━━━━━━━━━━━━━━━━━━\u001B[0m\u001B[37m\u001B[0m \u001B[1m0s\u001B[0m 25ms/step - loss: 10.8813 - mae: 2.5564 - val_loss: 108.0427 - val_mae: 10.2682 - learning_rate: 0.0010\n",
      "Epoch 20/100\n",
      "\u001B[1m7/7\u001B[0m \u001B[32m━━━━━━━━━━━━━━━━━━━━\u001B[0m\u001B[37m\u001B[0m \u001B[1m0s\u001B[0m 26ms/step - loss: 12.5651 - mae: 2.8065 - val_loss: 99.7778 - val_mae: 9.8485 - learning_rate: 0.0010\n",
      "Epoch 21/100\n",
      "\u001B[1m7/7\u001B[0m \u001B[32m━━━━━━━━━━━━━━━━━━━━\u001B[0m\u001B[37m\u001B[0m \u001B[1m0s\u001B[0m 27ms/step - loss: 13.6408 - mae: 2.8442 - val_loss: 92.6404 - val_mae: 9.4701 - learning_rate: 0.0010\n",
      "Epoch 22/100\n",
      "\u001B[1m7/7\u001B[0m \u001B[32m━━━━━━━━━━━━━━━━━━━━\u001B[0m\u001B[37m\u001B[0m \u001B[1m0s\u001B[0m 28ms/step - loss: 13.5721 - mae: 2.8821 - val_loss: 87.1205 - val_mae: 9.1662 - learning_rate: 0.0010\n",
      "Epoch 23/100\n",
      "\u001B[1m7/7\u001B[0m \u001B[32m━━━━━━━━━━━━━━━━━━━━\u001B[0m\u001B[37m\u001B[0m \u001B[1m0s\u001B[0m 27ms/step - loss: 11.7320 - mae: 2.7799 - val_loss: 82.8751 - val_mae: 8.9240 - learning_rate: 0.0010\n",
      "Epoch 24/100\n",
      "\u001B[1m7/7\u001B[0m \u001B[32m━━━━━━━━━━━━━━━━━━━━\u001B[0m\u001B[37m\u001B[0m \u001B[1m0s\u001B[0m 28ms/step - loss: 12.5466 - mae: 2.7556 - val_loss: 78.6993 - val_mae: 8.6801 - learning_rate: 0.0010\n",
      "Epoch 25/100\n",
      "\u001B[1m7/7\u001B[0m \u001B[32m━━━━━━━━━━━━━━━━━━━━\u001B[0m\u001B[37m\u001B[0m \u001B[1m0s\u001B[0m 28ms/step - loss: 10.6679 - mae: 2.5299 - val_loss: 74.0509 - val_mae: 8.3884 - learning_rate: 0.0010\n",
      "Epoch 26/100\n",
      "\u001B[1m7/7\u001B[0m \u001B[32m━━━━━━━━━━━━━━━━━━━━\u001B[0m\u001B[37m\u001B[0m \u001B[1m0s\u001B[0m 26ms/step - loss: 13.7545 - mae: 2.8811 - val_loss: 68.7757 - val_mae: 8.0412 - learning_rate: 0.0010\n",
      "Epoch 27/100\n",
      "\u001B[1m7/7\u001B[0m \u001B[32m━━━━━━━━━━━━━━━━━━━━\u001B[0m\u001B[37m\u001B[0m \u001B[1m0s\u001B[0m 26ms/step - loss: 10.5243 - mae: 2.5397 - val_loss: 64.0705 - val_mae: 7.7309 - learning_rate: 0.0010\n",
      "Epoch 28/100\n",
      "\u001B[1m7/7\u001B[0m \u001B[32m━━━━━━━━━━━━━━━━━━━━\u001B[0m\u001B[37m\u001B[0m \u001B[1m0s\u001B[0m 29ms/step - loss: 11.6694 - mae: 2.7327 - val_loss: 58.8798 - val_mae: 7.3987 - learning_rate: 0.0010\n",
      "Epoch 29/100\n",
      "\u001B[1m7/7\u001B[0m \u001B[32m━━━━━━━━━━━━━━━━━━━━\u001B[0m\u001B[37m\u001B[0m \u001B[1m0s\u001B[0m 25ms/step - loss: 12.2579 - mae: 2.6681 - val_loss: 53.8896 - val_mae: 7.0409 - learning_rate: 0.0010\n",
      "Epoch 30/100\n",
      "\u001B[1m7/7\u001B[0m \u001B[32m━━━━━━━━━━━━━━━━━━━━\u001B[0m\u001B[37m\u001B[0m \u001B[1m0s\u001B[0m 26ms/step - loss: 14.5413 - mae: 2.9828 - val_loss: 48.6807 - val_mae: 6.6560 - learning_rate: 0.0010\n",
      "Epoch 31/100\n",
      "\u001B[1m7/7\u001B[0m \u001B[32m━━━━━━━━━━━━━━━━━━━━\u001B[0m\u001B[37m\u001B[0m \u001B[1m0s\u001B[0m 25ms/step - loss: 14.6643 - mae: 3.1265 - val_loss: 43.4636 - val_mae: 6.2659 - learning_rate: 0.0010\n",
      "Epoch 32/100\n",
      "\u001B[1m7/7\u001B[0m \u001B[32m━━━━━━━━━━━━━━━━━━━━\u001B[0m\u001B[37m\u001B[0m \u001B[1m0s\u001B[0m 28ms/step - loss: 11.5060 - mae: 2.7753 - val_loss: 39.8854 - val_mae: 5.9616 - learning_rate: 0.0010\n",
      "Epoch 33/100\n",
      "\u001B[1m7/7\u001B[0m \u001B[32m━━━━━━━━━━━━━━━━━━━━\u001B[0m\u001B[37m\u001B[0m \u001B[1m0s\u001B[0m 28ms/step - loss: 10.7357 - mae: 2.6040 - val_loss: 37.5720 - val_mae: 5.7520 - learning_rate: 0.0010\n",
      "Epoch 34/100\n",
      "\u001B[1m7/7\u001B[0m \u001B[32m━━━━━━━━━━━━━━━━━━━━\u001B[0m\u001B[37m\u001B[0m \u001B[1m0s\u001B[0m 26ms/step - loss: 11.0959 - mae: 2.6381 - val_loss: 35.4282 - val_mae: 5.5893 - learning_rate: 0.0010\n",
      "Epoch 35/100\n",
      "\u001B[1m7/7\u001B[0m \u001B[32m━━━━━━━━━━━━━━━━━━━━\u001B[0m\u001B[37m\u001B[0m \u001B[1m0s\u001B[0m 25ms/step - loss: 11.1631 - mae: 2.7020 - val_loss: 32.5973 - val_mae: 5.3468 - learning_rate: 0.0010\n",
      "Epoch 36/100\n",
      "\u001B[1m7/7\u001B[0m \u001B[32m━━━━━━━━━━━━━━━━━━━━\u001B[0m\u001B[37m\u001B[0m \u001B[1m0s\u001B[0m 25ms/step - loss: 7.6828 - mae: 2.2257 - val_loss: 29.3268 - val_mae: 5.0467 - learning_rate: 0.0010\n",
      "Epoch 37/100\n",
      "\u001B[1m7/7\u001B[0m \u001B[32m━━━━━━━━━━━━━━━━━━━━\u001B[0m\u001B[37m\u001B[0m \u001B[1m0s\u001B[0m 29ms/step - loss: 10.9160 - mae: 2.5927 - val_loss: 26.0577 - val_mae: 4.7075 - learning_rate: 0.0010\n",
      "Epoch 38/100\n",
      "\u001B[1m7/7\u001B[0m \u001B[32m━━━━━━━━━━━━━━━━━━━━\u001B[0m\u001B[37m\u001B[0m \u001B[1m0s\u001B[0m 27ms/step - loss: 9.7648 - mae: 2.4491 - val_loss: 23.8473 - val_mae: 4.4713 - learning_rate: 0.0010\n",
      "Epoch 39/100\n",
      "\u001B[1m7/7\u001B[0m \u001B[32m━━━━━━━━━━━━━━━━━━━━\u001B[0m\u001B[37m\u001B[0m \u001B[1m0s\u001B[0m 27ms/step - loss: 12.6122 - mae: 2.9590 - val_loss: 21.4037 - val_mae: 4.2249 - learning_rate: 0.0010\n",
      "Epoch 40/100\n",
      "\u001B[1m7/7\u001B[0m \u001B[32m━━━━━━━━━━━━━━━━━━━━\u001B[0m\u001B[37m\u001B[0m \u001B[1m0s\u001B[0m 27ms/step - loss: 10.5848 - mae: 2.5396 - val_loss: 18.0707 - val_mae: 3.8105 - learning_rate: 0.0010\n",
      "Epoch 41/100\n",
      "\u001B[1m7/7\u001B[0m \u001B[32m━━━━━━━━━━━━━━━━━━━━\u001B[0m\u001B[37m\u001B[0m \u001B[1m0s\u001B[0m 26ms/step - loss: 13.8448 - mae: 2.9969 - val_loss: 15.4359 - val_mae: 3.4939 - learning_rate: 0.0010\n",
      "Epoch 42/100\n",
      "\u001B[1m7/7\u001B[0m \u001B[32m━━━━━━━━━━━━━━━━━━━━\u001B[0m\u001B[37m\u001B[0m \u001B[1m0s\u001B[0m 27ms/step - loss: 9.8968 - mae: 2.5764 - val_loss: 13.7339 - val_mae: 3.2574 - learning_rate: 0.0010\n",
      "Epoch 43/100\n",
      "\u001B[1m7/7\u001B[0m \u001B[32m━━━━━━━━━━━━━━━━━━━━\u001B[0m\u001B[37m\u001B[0m \u001B[1m0s\u001B[0m 24ms/step - loss: 8.9353 - mae: 2.4748 - val_loss: 12.5405 - val_mae: 3.0938 - learning_rate: 0.0010\n",
      "Epoch 44/100\n",
      "\u001B[1m7/7\u001B[0m \u001B[32m━━━━━━━━━━━━━━━━━━━━\u001B[0m\u001B[37m\u001B[0m \u001B[1m0s\u001B[0m 24ms/step - loss: 8.9258 - mae: 2.4353 - val_loss: 10.9144 - val_mae: 2.8668 - learning_rate: 0.0010\n",
      "Epoch 45/100\n",
      "\u001B[1m7/7\u001B[0m \u001B[32m━━━━━━━━━━━━━━━━━━━━\u001B[0m\u001B[37m\u001B[0m \u001B[1m0s\u001B[0m 27ms/step - loss: 11.4295 - mae: 2.6506 - val_loss: 9.9978 - val_mae: 2.7220 - learning_rate: 0.0010\n",
      "Epoch 46/100\n",
      "\u001B[1m7/7\u001B[0m \u001B[32m━━━━━━━━━━━━━━━━━━━━\u001B[0m\u001B[37m\u001B[0m \u001B[1m0s\u001B[0m 25ms/step - loss: 11.3633 - mae: 2.6186 - val_loss: 8.7647 - val_mae: 2.5195 - learning_rate: 0.0010\n",
      "Epoch 47/100\n",
      "\u001B[1m7/7\u001B[0m \u001B[32m━━━━━━━━━━━━━━━━━━━━\u001B[0m\u001B[37m\u001B[0m \u001B[1m0s\u001B[0m 26ms/step - loss: 10.3865 - mae: 2.5906 - val_loss: 8.0861 - val_mae: 2.4455 - learning_rate: 0.0010\n",
      "Epoch 48/100\n",
      "\u001B[1m7/7\u001B[0m \u001B[32m━━━━━━━━━━━━━━━━━━━━\u001B[0m\u001B[37m\u001B[0m \u001B[1m0s\u001B[0m 24ms/step - loss: 9.9881 - mae: 2.5704 - val_loss: 7.1251 - val_mae: 2.2676 - learning_rate: 0.0010\n",
      "Epoch 49/100\n",
      "\u001B[1m7/7\u001B[0m \u001B[32m━━━━━━━━━━━━━━━━━━━━\u001B[0m\u001B[37m\u001B[0m \u001B[1m0s\u001B[0m 24ms/step - loss: 8.9198 - mae: 2.4161 - val_loss: 5.7914 - val_mae: 1.9933 - learning_rate: 0.0010\n",
      "Epoch 50/100\n",
      "\u001B[1m7/7\u001B[0m \u001B[32m━━━━━━━━━━━━━━━━━━━━\u001B[0m\u001B[37m\u001B[0m \u001B[1m0s\u001B[0m 25ms/step - loss: 8.3008 - mae: 2.3348 - val_loss: 4.6841 - val_mae: 1.7461 - learning_rate: 0.0010\n",
      "Epoch 51/100\n",
      "\u001B[1m7/7\u001B[0m \u001B[32m━━━━━━━━━━━━━━━━━━━━\u001B[0m\u001B[37m\u001B[0m \u001B[1m0s\u001B[0m 23ms/step - loss: 9.3218 - mae: 2.4815 - val_loss: 3.7742 - val_mae: 1.5507 - learning_rate: 0.0010\n",
      "Epoch 52/100\n",
      "\u001B[1m7/7\u001B[0m \u001B[32m━━━━━━━━━━━━━━━━━━━━\u001B[0m\u001B[37m\u001B[0m \u001B[1m0s\u001B[0m 25ms/step - loss: 9.2828 - mae: 2.4066 - val_loss: 3.3858 - val_mae: 1.4811 - learning_rate: 0.0010\n",
      "Epoch 53/100\n",
      "\u001B[1m7/7\u001B[0m \u001B[32m━━━━━━━━━━━━━━━━━━━━\u001B[0m\u001B[37m\u001B[0m \u001B[1m0s\u001B[0m 25ms/step - loss: 8.3446 - mae: 2.3613 - val_loss: 3.2561 - val_mae: 1.4516 - learning_rate: 0.0010\n",
      "Epoch 54/100\n",
      "\u001B[1m7/7\u001B[0m \u001B[32m━━━━━━━━━━━━━━━━━━━━\u001B[0m\u001B[37m\u001B[0m \u001B[1m0s\u001B[0m 25ms/step - loss: 9.1881 - mae: 2.4260 - val_loss: 2.8750 - val_mae: 1.3577 - learning_rate: 0.0010\n",
      "Epoch 55/100\n",
      "\u001B[1m7/7\u001B[0m \u001B[32m━━━━━━━━━━━━━━━━━━━━\u001B[0m\u001B[37m\u001B[0m \u001B[1m0s\u001B[0m 25ms/step - loss: 10.1722 - mae: 2.5646 - val_loss: 2.3512 - val_mae: 1.2413 - learning_rate: 0.0010\n",
      "Epoch 56/100\n",
      "\u001B[1m7/7\u001B[0m \u001B[32m━━━━━━━━━━━━━━━━━━━━\u001B[0m\u001B[37m\u001B[0m \u001B[1m0s\u001B[0m 27ms/step - loss: 9.4345 - mae: 2.4549 - val_loss: 1.9754 - val_mae: 1.1084 - learning_rate: 0.0010\n",
      "Epoch 57/100\n",
      "\u001B[1m7/7\u001B[0m \u001B[32m━━━━━━━━━━━━━━━━━━━━\u001B[0m\u001B[37m\u001B[0m \u001B[1m0s\u001B[0m 27ms/step - loss: 9.4730 - mae: 2.4142 - val_loss: 2.3541 - val_mae: 1.1957 - learning_rate: 0.0010\n",
      "Epoch 58/100\n",
      "\u001B[1m7/7\u001B[0m \u001B[32m━━━━━━━━━━━━━━━━━━━━\u001B[0m\u001B[37m\u001B[0m \u001B[1m0s\u001B[0m 24ms/step - loss: 10.6246 - mae: 2.6279 - val_loss: 2.2022 - val_mae: 1.1298 - learning_rate: 0.0010\n",
      "Epoch 59/100\n",
      "\u001B[1m7/7\u001B[0m \u001B[32m━━━━━━━━━━━━━━━━━━━━\u001B[0m\u001B[37m\u001B[0m \u001B[1m0s\u001B[0m 23ms/step - loss: 10.4930 - mae: 2.6006 - val_loss: 2.4563 - val_mae: 1.2106 - learning_rate: 0.0010\n",
      "Epoch 60/100\n",
      "\u001B[1m7/7\u001B[0m \u001B[32m━━━━━━━━━━━━━━━━━━━━\u001B[0m\u001B[37m\u001B[0m \u001B[1m0s\u001B[0m 23ms/step - loss: 9.1518 - mae: 2.5051 - val_loss: 2.5101 - val_mae: 1.2312 - learning_rate: 0.0010\n",
      "Epoch 61/100\n",
      "\u001B[1m7/7\u001B[0m \u001B[32m━━━━━━━━━━━━━━━━━━━━\u001B[0m\u001B[37m\u001B[0m \u001B[1m0s\u001B[0m 24ms/step - loss: 9.1209 - mae: 2.5035 - val_loss: 1.9490 - val_mae: 1.0438 - learning_rate: 0.0010\n",
      "Epoch 62/100\n",
      "\u001B[1m7/7\u001B[0m \u001B[32m━━━━━━━━━━━━━━━━━━━━\u001B[0m\u001B[37m\u001B[0m \u001B[1m0s\u001B[0m 28ms/step - loss: 8.3486 - mae: 2.3126 - val_loss: 1.7601 - val_mae: 0.9892 - learning_rate: 0.0010\n",
      "Epoch 63/100\n",
      "\u001B[1m7/7\u001B[0m \u001B[32m━━━━━━━━━━━━━━━━━━━━\u001B[0m\u001B[37m\u001B[0m \u001B[1m0s\u001B[0m 23ms/step - loss: 8.9006 - mae: 2.5172 - val_loss: 1.8166 - val_mae: 1.0070 - learning_rate: 0.0010\n",
      "Epoch 64/100\n",
      "\u001B[1m7/7\u001B[0m \u001B[32m━━━━━━━━━━━━━━━━━━━━\u001B[0m\u001B[37m\u001B[0m \u001B[1m0s\u001B[0m 25ms/step - loss: 8.8500 - mae: 2.2893 - val_loss: 1.8324 - val_mae: 1.0371 - learning_rate: 0.0010\n",
      "Epoch 65/100\n",
      "\u001B[1m7/7\u001B[0m \u001B[32m━━━━━━━━━━━━━━━━━━━━\u001B[0m\u001B[37m\u001B[0m \u001B[1m0s\u001B[0m 26ms/step - loss: 10.0844 - mae: 2.4568 - val_loss: 1.5369 - val_mae: 0.9544 - learning_rate: 0.0010\n",
      "Epoch 66/100\n",
      "\u001B[1m7/7\u001B[0m \u001B[32m━━━━━━━━━━━━━━━━━━━━\u001B[0m\u001B[37m\u001B[0m \u001B[1m0s\u001B[0m 24ms/step - loss: 8.9399 - mae: 2.3694 - val_loss: 1.2842 - val_mae: 0.8640 - learning_rate: 0.0010\n",
      "Epoch 67/100\n",
      "\u001B[1m7/7\u001B[0m \u001B[32m━━━━━━━━━━━━━━━━━━━━\u001B[0m\u001B[37m\u001B[0m \u001B[1m0s\u001B[0m 27ms/step - loss: 8.9872 - mae: 2.3869 - val_loss: 1.0753 - val_mae: 0.7756 - learning_rate: 0.0010\n",
      "Epoch 68/100\n",
      "\u001B[1m7/7\u001B[0m \u001B[32m━━━━━━━━━━━━━━━━━━━━\u001B[0m\u001B[37m\u001B[0m \u001B[1m0s\u001B[0m 24ms/step - loss: 9.0710 - mae: 2.4376 - val_loss: 1.0648 - val_mae: 0.7986 - learning_rate: 0.0010\n",
      "Epoch 69/100\n",
      "\u001B[1m7/7\u001B[0m \u001B[32m━━━━━━━━━━━━━━━━━━━━\u001B[0m\u001B[37m\u001B[0m \u001B[1m0s\u001B[0m 26ms/step - loss: 8.1816 - mae: 2.3696 - val_loss: 0.9833 - val_mae: 0.7800 - learning_rate: 0.0010\n",
      "Epoch 70/100\n",
      "\u001B[1m7/7\u001B[0m \u001B[32m━━━━━━━━━━━━━━━━━━━━\u001B[0m\u001B[37m\u001B[0m \u001B[1m0s\u001B[0m 23ms/step - loss: 8.6780 - mae: 2.3009 - val_loss: 0.8495 - val_mae: 0.7337 - learning_rate: 0.0010\n",
      "Epoch 71/100\n",
      "\u001B[1m7/7\u001B[0m \u001B[32m━━━━━━━━━━━━━━━━━━━━\u001B[0m\u001B[37m\u001B[0m \u001B[1m0s\u001B[0m 24ms/step - loss: 9.8473 - mae: 2.4288 - val_loss: 0.9757 - val_mae: 0.8105 - learning_rate: 0.0010\n",
      "Epoch 72/100\n",
      "\u001B[1m7/7\u001B[0m \u001B[32m━━━━━━━━━━━━━━━━━━━━\u001B[0m\u001B[37m\u001B[0m \u001B[1m0s\u001B[0m 24ms/step - loss: 8.4824 - mae: 2.3415 - val_loss: 0.8654 - val_mae: 0.7574 - learning_rate: 0.0010\n",
      "Epoch 73/100\n",
      "\u001B[1m7/7\u001B[0m \u001B[32m━━━━━━━━━━━━━━━━━━━━\u001B[0m\u001B[37m\u001B[0m \u001B[1m0s\u001B[0m 28ms/step - loss: 8.7219 - mae: 2.3372 - val_loss: 1.0575 - val_mae: 0.8801 - learning_rate: 0.0010\n",
      "Epoch 74/100\n",
      "\u001B[1m7/7\u001B[0m \u001B[32m━━━━━━━━━━━━━━━━━━━━\u001B[0m\u001B[37m\u001B[0m \u001B[1m0s\u001B[0m 23ms/step - loss: 10.1041 - mae: 2.5525 - val_loss: 0.9158 - val_mae: 0.7999 - learning_rate: 0.0010\n",
      "Epoch 75/100\n",
      "\u001B[1m7/7\u001B[0m \u001B[32m━━━━━━━━━━━━━━━━━━━━\u001B[0m\u001B[37m\u001B[0m \u001B[1m0s\u001B[0m 24ms/step - loss: 8.2372 - mae: 2.3678 - val_loss: 0.7598 - val_mae: 0.7177 - learning_rate: 0.0010\n",
      "Epoch 76/100\n",
      "\u001B[1m7/7\u001B[0m \u001B[32m━━━━━━━━━━━━━━━━━━━━\u001B[0m\u001B[37m\u001B[0m \u001B[1m0s\u001B[0m 26ms/step - loss: 6.6182 - mae: 2.0461 - val_loss: 0.8128 - val_mae: 0.7360 - learning_rate: 0.0010\n",
      "Epoch 77/100\n",
      "\u001B[1m7/7\u001B[0m \u001B[32m━━━━━━━━━━━━━━━━━━━━\u001B[0m\u001B[37m\u001B[0m \u001B[1m0s\u001B[0m 22ms/step - loss: 8.2633 - mae: 2.2681 - val_loss: 1.1424 - val_mae: 0.8654 - learning_rate: 0.0010\n",
      "Epoch 78/100\n",
      "\u001B[1m7/7\u001B[0m \u001B[32m━━━━━━━━━━━━━━━━━━━━\u001B[0m\u001B[37m\u001B[0m \u001B[1m0s\u001B[0m 25ms/step - loss: 9.5931 - mae: 2.4632 - val_loss: 1.4880 - val_mae: 1.0190 - learning_rate: 0.0010\n",
      "Epoch 79/100\n",
      "\u001B[1m7/7\u001B[0m \u001B[32m━━━━━━━━━━━━━━━━━━━━\u001B[0m\u001B[37m\u001B[0m \u001B[1m0s\u001B[0m 29ms/step - loss: 8.6886 - mae: 2.3334 - val_loss: 1.0057 - val_mae: 0.8432 - learning_rate: 0.0010\n",
      "Epoch 80/100\n",
      "\u001B[1m6/7\u001B[0m \u001B[32m━━━━━━━━━━━━━━━━━\u001B[0m\u001B[37m━━━\u001B[0m \u001B[1m0s\u001B[0m 10ms/step - loss: 8.8181 - mae: 2.3570\n",
      "Epoch 80: ReduceLROnPlateau reducing learning rate to 0.0005000000237487257.\n",
      "\u001B[1m7/7\u001B[0m \u001B[32m━━━━━━━━━━━━━━━━━━━━\u001B[0m\u001B[37m\u001B[0m \u001B[1m0s\u001B[0m 25ms/step - loss: 8.7870 - mae: 2.3494 - val_loss: 0.8348 - val_mae: 0.7700 - learning_rate: 0.0010\n",
      "Epoch 81/100\n",
      "\u001B[1m7/7\u001B[0m \u001B[32m━━━━━━━━━━━━━━━━━━━━\u001B[0m\u001B[37m\u001B[0m \u001B[1m0s\u001B[0m 26ms/step - loss: 7.9473 - mae: 2.2735 - val_loss: 0.8120 - val_mae: 0.7537 - learning_rate: 5.0000e-04\n",
      "Epoch 82/100\n",
      "\u001B[1m7/7\u001B[0m \u001B[32m━━━━━━━━━━━━━━━━━━━━\u001B[0m\u001B[37m\u001B[0m \u001B[1m0s\u001B[0m 26ms/step - loss: 6.2706 - mae: 1.9783 - val_loss: 0.7726 - val_mae: 0.7078 - learning_rate: 5.0000e-04\n",
      "Epoch 83/100\n",
      "\u001B[1m7/7\u001B[0m \u001B[32m━━━━━━━━━━━━━━━━━━━━\u001B[0m\u001B[37m\u001B[0m \u001B[1m0s\u001B[0m 27ms/step - loss: 7.8278 - mae: 2.2294 - val_loss: 0.7823 - val_mae: 0.7299 - learning_rate: 5.0000e-04\n",
      "Epoch 84/100\n",
      "\u001B[1m7/7\u001B[0m \u001B[32m━━━━━━━━━━━━━━━━━━━━\u001B[0m\u001B[37m\u001B[0m \u001B[1m0s\u001B[0m 26ms/step - loss: 9.7413 - mae: 2.4887 - val_loss: 0.8043 - val_mae: 0.7379 - learning_rate: 5.0000e-04\n",
      "Epoch 85/100\n",
      "\u001B[1m6/7\u001B[0m \u001B[32m━━━━━━━━━━━━━━━━━\u001B[0m\u001B[37m━━━\u001B[0m \u001B[1m0s\u001B[0m 10ms/step - loss: 6.6743 - mae: 2.0834\n",
      "Epoch 85: ReduceLROnPlateau reducing learning rate to 0.0002500000118743628.\n",
      "\u001B[1m7/7\u001B[0m \u001B[32m━━━━━━━━━━━━━━━━━━━━\u001B[0m\u001B[37m\u001B[0m \u001B[1m0s\u001B[0m 26ms/step - loss: 7.0049 - mae: 2.1335 - val_loss: 0.7904 - val_mae: 0.7236 - learning_rate: 5.0000e-04\n",
      "Epoch 86/100\n",
      "\u001B[1m7/7\u001B[0m \u001B[32m━━━━━━━━━━━━━━━━━━━━\u001B[0m\u001B[37m\u001B[0m \u001B[1m0s\u001B[0m 35ms/step - loss: 7.9427 - mae: 2.2458 - val_loss: 0.7735 - val_mae: 0.7102 - learning_rate: 2.5000e-04\n",
      "Epoch 87/100\n",
      "\u001B[1m7/7\u001B[0m \u001B[32m━━━━━━━━━━━━━━━━━━━━\u001B[0m\u001B[37m\u001B[0m \u001B[1m0s\u001B[0m 37ms/step - loss: 8.5697 - mae: 2.3565 - val_loss: 0.7440 - val_mae: 0.7019 - learning_rate: 2.5000e-04\n",
      "Epoch 88/100\n",
      "\u001B[1m7/7\u001B[0m \u001B[32m━━━━━━━━━━━━━━━━━━━━\u001B[0m\u001B[37m\u001B[0m \u001B[1m0s\u001B[0m 33ms/step - loss: 8.2005 - mae: 2.2410 - val_loss: 0.7711 - val_mae: 0.7307 - learning_rate: 2.5000e-04\n",
      "Epoch 89/100\n",
      "\u001B[1m7/7\u001B[0m \u001B[32m━━━━━━━━━━━━━━━━━━━━\u001B[0m\u001B[37m\u001B[0m \u001B[1m0s\u001B[0m 34ms/step - loss: 9.7383 - mae: 2.4497 - val_loss: 0.8059 - val_mae: 0.7552 - learning_rate: 2.5000e-04\n",
      "Epoch 90/100\n",
      "\u001B[1m7/7\u001B[0m \u001B[32m━━━━━━━━━━━━━━━━━━━━\u001B[0m\u001B[37m\u001B[0m \u001B[1m0s\u001B[0m 32ms/step - loss: 8.6750 - mae: 2.2543 - val_loss: 0.8398 - val_mae: 0.7654 - learning_rate: 2.5000e-04\n",
      "Epoch 91/100\n",
      "\u001B[1m7/7\u001B[0m \u001B[32m━━━━━━━━━━━━━━━━━━━━\u001B[0m\u001B[37m\u001B[0m \u001B[1m0s\u001B[0m 28ms/step - loss: 6.8603 - mae: 2.0678 - val_loss: 0.7818 - val_mae: 0.7404 - learning_rate: 2.5000e-04\n",
      "Epoch 92/100\n",
      "\u001B[1m6/7\u001B[0m \u001B[32m━━━━━━━━━━━━━━━━━\u001B[0m\u001B[37m━━━\u001B[0m \u001B[1m0s\u001B[0m 10ms/step - loss: 11.0966 - mae: 2.7123\n",
      "Epoch 92: ReduceLROnPlateau reducing learning rate to 0.0001250000059371814.\n",
      "\u001B[1m7/7\u001B[0m \u001B[32m━━━━━━━━━━━━━━━━━━━━\u001B[0m\u001B[37m\u001B[0m \u001B[1m0s\u001B[0m 26ms/step - loss: 10.5411 - mae: 2.6185 - val_loss: 0.7615 - val_mae: 0.7218 - learning_rate: 2.5000e-04\n",
      "Epoch 93/100\n",
      "\u001B[1m7/7\u001B[0m \u001B[32m━━━━━━━━━━━━━━━━━━━━\u001B[0m\u001B[37m\u001B[0m \u001B[1m0s\u001B[0m 34ms/step - loss: 8.7987 - mae: 2.4100 - val_loss: 0.7574 - val_mae: 0.7175 - learning_rate: 1.2500e-04\n",
      "Epoch 94/100\n",
      "\u001B[1m7/7\u001B[0m \u001B[32m━━━━━━━━━━━━━━━━━━━━\u001B[0m\u001B[37m\u001B[0m \u001B[1m0s\u001B[0m 26ms/step - loss: 8.1161 - mae: 2.2821 - val_loss: 0.7382 - val_mae: 0.7084 - learning_rate: 1.2500e-04\n",
      "Epoch 95/100\n",
      "\u001B[1m7/7\u001B[0m \u001B[32m━━━━━━━━━━━━━━━━━━━━\u001B[0m\u001B[37m\u001B[0m \u001B[1m0s\u001B[0m 26ms/step - loss: 6.3555 - mae: 1.9368 - val_loss: 0.7210 - val_mae: 0.6997 - learning_rate: 1.2500e-04\n",
      "Epoch 96/100\n",
      "\u001B[1m7/7\u001B[0m \u001B[32m━━━━━━━━━━━━━━━━━━━━\u001B[0m\u001B[37m\u001B[0m \u001B[1m0s\u001B[0m 28ms/step - loss: 8.4161 - mae: 2.3808 - val_loss: 0.7106 - val_mae: 0.6937 - learning_rate: 1.2500e-04\n",
      "Epoch 97/100\n",
      "\u001B[1m7/7\u001B[0m \u001B[32m━━━━━━━━━━━━━━━━━━━━\u001B[0m\u001B[37m\u001B[0m \u001B[1m0s\u001B[0m 26ms/step - loss: 8.5586 - mae: 2.2755 - val_loss: 0.7162 - val_mae: 0.6975 - learning_rate: 1.2500e-04\n",
      "Epoch 98/100\n",
      "\u001B[1m7/7\u001B[0m \u001B[32m━━━━━━━━━━━━━━━━━━━━\u001B[0m\u001B[37m\u001B[0m \u001B[1m0s\u001B[0m 26ms/step - loss: 9.0544 - mae: 2.4395 - val_loss: 0.7234 - val_mae: 0.7050 - learning_rate: 1.2500e-04\n",
      "Epoch 99/100\n",
      "\u001B[1m7/7\u001B[0m \u001B[32m━━━━━━━━━━━━━━━━━━━━\u001B[0m\u001B[37m\u001B[0m \u001B[1m0s\u001B[0m 25ms/step - loss: 7.7328 - mae: 2.2045 - val_loss: 0.7337 - val_mae: 0.7140 - learning_rate: 1.2500e-04\n",
      "Epoch 100/100\n",
      "\u001B[1m7/7\u001B[0m \u001B[32m━━━━━━━━━━━━━━━━━━━━\u001B[0m\u001B[37m\u001B[0m \u001B[1m0s\u001B[0m 29ms/step - loss: 8.7740 - mae: 2.2825 - val_loss: 0.7217 - val_mae: 0.7033 - learning_rate: 1.2500e-04\n",
      "\u001B[1m2/2\u001B[0m \u001B[32m━━━━━━━━━━━━━━━━━━━━\u001B[0m\u001B[37m\u001B[0m \u001B[1m1s\u001B[0m 721ms/step\n",
      "\n",
      " Improved Multivariate LSTM Performance:\n",
      " RMSE: 0.6592\n",
      " MAE : 0.493\n",
      " R²  : 0.3756\n"
     ]
    }
   ],
   "execution_count": 81
  },
  {
   "metadata": {
    "ExecuteTime": {
     "end_time": "2025-10-03T12:55:11.075945Z",
     "start_time": "2025-10-03T12:55:10.548293Z"
    }
   },
   "cell_type": "code",
   "source": [
    "# Sanity Check: Predictions\n",
    "import matplotlib.pyplot as plt\n",
    "import numpy as np\n",
    "\n",
    "# Pick a small random batch of test samples\n",
    "n_samples = 10\n",
    "idx = np.random.choice(len(X_test), size=n_samples, replace=False)\n",
    "\n",
    "y_true_sample = y_test[idx]\n",
    "y_pred_sample = y_pred_no_att[idx]\n",
    "\n",
    "# Convert to euro scale\n",
    "y_true_euro = np.expm1(y_true_sample)\n",
    "y_pred_euro = np.expm1(y_pred_sample)\n",
    "\n",
    "print(\"\\nSanity Check (log-space values):\")\n",
    "for i in range(n_samples):\n",
    "    print(f\"Sample {i}: True={y_true_sample[i]:.2f}, Pred={y_pred_sample[i]:.2f}\")\n",
    "\n",
    "print(\"\\nSanity Check (euro scale values):\")\n",
    "for i in range(n_samples):\n",
    "    print(f\"Sample {i}: True=€{y_true_euro[i]:,.0f}, Pred=€{y_pred_euro[i]:,.0f}\")\n",
    "\n",
    "# Plot both\n",
    "plt.figure(figsize=(12, 5))\n",
    "\n",
    "# Plot 1: Log-space plot\n",
    "plt.subplot(1, 2, 1)\n",
    "plt.plot(range(n_samples), y_true_sample, \"ko-\", label=\"True (log)\")\n",
    "plt.plot(range(n_samples), y_pred_sample, \"rD-\", label=\"Pred (log)\")\n",
    "plt.xlabel(\"Sample Index\")\n",
    "plt.ylabel(\"Log Market Value\")\n",
    "plt.title(\"Sanity Check: Log-space\")\n",
    "plt.legend()\n",
    "plt.grid(True, linestyle=\"--\", alpha=0.6)\n",
    "\n",
    "# Plot 2: Euro-scale plot\n",
    "plt.subplot(1, 2, 2)\n",
    "plt.plot(range(n_samples), y_true_euro, \"ko-\", label=\"True (€)\")\n",
    "plt.plot(range(n_samples), y_pred_euro, \"rD-\", label=\"Pred (€)\")\n",
    "plt.xlabel(\"Sample Index\")\n",
    "plt.ylabel(\"Market Value (€)\")\n",
    "plt.title(\"Sanity Check: Euro Scale\")\n",
    "plt.legend()\n",
    "plt.grid(True, linestyle=\"--\", alpha=0.6)\n",
    "\n",
    "plt.tight_layout()\n",
    "plt.show()\n"
   ],
   "id": "f922c42ab2c2a458",
   "outputs": [
    {
     "name": "stdout",
     "output_type": "stream",
     "text": [
      "\n",
      "Sanity Check (log-space values):\n",
      "Sample 0: True=16.81, Pred=17.47\n",
      "Sample 1: True=16.12, Pred=15.14\n",
      "Sample 2: True=15.07, Pred=14.99\n",
      "Sample 3: True=16.81, Pred=17.03\n",
      "Sample 4: True=15.89, Pred=15.82\n",
      "Sample 5: True=17.03, Pred=16.92\n",
      "Sample 6: True=16.52, Pred=16.76\n",
      "Sample 7: True=17.73, Pred=17.29\n",
      "Sample 8: True=16.12, Pred=15.84\n",
      "Sample 9: True=18.20, Pred=17.75\n",
      "\n",
      "Sanity Check (euro scale values):\n",
      "Sample 0: True=€20,000,000, Pred=€38,795,320\n",
      "Sample 1: True=€10,000,000, Pred=€3,758,398\n",
      "Sample 2: True=€3,500,000, Pred=€3,226,377\n",
      "Sample 3: True=€20,000,000, Pred=€25,006,944\n",
      "Sample 4: True=€8,000,000, Pred=€7,415,027\n",
      "Sample 5: True=€25,000,000, Pred=€22,339,252\n",
      "Sample 6: True=€15,000,000, Pred=€19,066,092\n",
      "Sample 7: True=€50,000,000, Pred=€32,292,024\n",
      "Sample 8: True=€10,000,000, Pred=€7,606,464\n",
      "Sample 9: True=€80,000,000, Pred=€51,237,768\n"
     ]
    },
    {
     "data": {
      "text/plain": [
       "<Figure size 1200x500 with 2 Axes>"
      ],
      "image/png": "[encoded data removed]"
     },
     "metadata": {},
     "output_type": "display_data"
    }
   ],
   "execution_count": 82
  },
  {
   "metadata": {},
   "cell_type": "markdown",
   "source": "## Saving down this improved MUltivariate lstm model and seeking actual euro prediction",
   "id": "18ac4bde43f11804"
  },
  {
   "metadata": {
    "ExecuteTime": {
     "end_time": "2025-10-03T12:59:04.943944Z",
     "start_time": "2025-10-03T12:59:03.838244Z"
    }
   },
   "cell_type": "code",
   "source": [
    "# SAVE MODEL\n",
    "SAVE_DIR = os.path.join(PROJECT_PATH, \"Hyperparameter_Tuning\")\n",
    "os.makedirs(SAVE_DIR, exist_ok=True)\n",
    "\n",
    "no_att_model_path = os.path.join(SAVE_DIR, \"Improved_Multivariate_lstm_model.h5\")\n",
    "model_no_att.save(no_att_model_path)\n",
    "\n",
    "no_att_model_path = os.path.join(SAVE_DIR, \"Improved_Multivariate_lstm_model.keras\")\n",
    "model_no_att.save(no_att_model_path)\n",
    "\n",
    "print(f\"\\n LSTM model saved to: {no_att_model_path}\")\n"
   ],
   "id": "68e9ffc44188b660",
   "outputs": [
    {
     "name": "stderr",
     "output_type": "stream",
     "text": [
      "WARNING:absl:You are saving your model as an HDF5 file via `model.save()` or `keras.saving.save_model(model)`. This file format is considered legacy. We recommend using instead the native Keras format, e.g. `model.save('my_model.keras')` or `keras.saving.save_model(model, 'my_model.keras')`. \n"
     ]
    },
    {
     "name": "stdout",
     "output_type": "stream",
     "text": [
      "\n",
      " LSTM model saved to: C:\\Users\\asing\\PycharmProjects\\-Dynamic-Player-Transfer-Value-Prediction-using-AI-and-Multi-source-Data-\\Hyperparameter_Tuning\\Improved_Multivariate_lstm_model.keras\n"
     ]
    }
   ],
   "execution_count": 84
  },
  {
   "metadata": {},
   "cell_type": "markdown",
   "source": "# Hypertuning of Ensemble model",
   "id": "39768bda0aa72bdf"
  },
  {
   "metadata": {
    "ExecuteTime": {
     "end_time": "2025-09-27T08:51:06.314898Z",
     "start_time": "2025-09-27T08:51:05.520478Z"
    }
   },
   "cell_type": "code",
   "source": [
    "import os, joblib, numpy as np\n",
    "from tensorflow.keras.models import load_model\n",
    "from tensorflow.keras.losses import MeanSquaredError\n",
    "\n",
    "# Paths\n",
    "PROJECT_PATH = r\"C:\\Users\\asing\\PycharmProjects\\-Dynamic-Player-Transfer-Value-Prediction-using-AI-and-Multi-source-Data-\"\n",
    "LSTM_DIR     = os.path.join(PROJECT_PATH, \"models\", \"LSTM_Models\")\n",
    "ENSEMBLE_DIR = os.path.join(PROJECT_PATH, \"models\", \"Ensemble_Model\")\n",
    "save_dir = os.path.join(PROJECT_PATH, \"Hyperparameter_Tuning\")\n",
    "os.makedirs(ENSEMBLE_DIR, exist_ok=True)\n",
    "\n",
    "# Reload splits\n",
    "X_train = np.load(os.path.join(LSTM_DIR, \"X_train.npy\"))\n",
    "X_val   = np.load(os.path.join(LSTM_DIR, \"X_val.npy\"))\n",
    "X_test  = np.load(os.path.join(LSTM_DIR, \"X_test.npy\"))\n",
    "y_train = np.load(os.path.join(LSTM_DIR, \"y_train.npy\"))\n",
    "y_val   = np.load(os.path.join(LSTM_DIR, \"y_val.npy\"))\n",
    "y_test  = np.load(os.path.join(LSTM_DIR, \"y_test.npy\"))\n",
    "\n",
    "print(\"Data loaded:\", X_train.shape, X_val.shape, X_test.shape)\n",
    "\n",
    "# Reload LSTM models\n",
    "custom_objects = {\"mse\": MeanSquaredError()}\n",
    "univariate_model    = load_model(os.path.join(LSTM_DIR, \"univariate_lstm_model.h5\"), custom_objects=custom_objects)\n",
    "multivariate_model  = load_model(os.path.join(LSTM_DIR, \"multivariate_lstm_model.h5\"), custom_objects=custom_objects)\n",
    "encoder_decoder_model = load_model(os.path.join(LSTM_DIR, \"encoder_decoder_lstm_model.h5\"), custom_objects=custom_objects)\n",
    "\n",
    "print(\"All base models loaded successfully!\")\n"
   ],
   "id": "645cf9bda1df43ee",
   "outputs": [
    {
     "name": "stdout",
     "output_type": "stream",
     "text": [
      "Data loaded: (200, 4, 13) (43, 4, 13) (43, 4, 13)\n"
     ]
    },
    {
     "name": "stderr",
     "output_type": "stream",
     "text": [
      "WARNING:absl:Compiled the loaded model, but the compiled metrics have yet to be built. `model.compile_metrics` will be empty until you train or evaluate the model.\n",
      "WARNING:absl:Compiled the loaded model, but the compiled metrics have yet to be built. `model.compile_metrics` will be empty until you train or evaluate the model.\n",
      "WARNING:absl:Compiled the loaded model, but the compiled metrics have yet to be built. `model.compile_metrics` will be empty until you train or evaluate the model.\n"
     ]
    },
    {
     "name": "stdout",
     "output_type": "stream",
     "text": [
      "All base models loaded successfully!\n"
     ]
    }
   ],
   "execution_count": 17
  },
  {
   "metadata": {
    "ExecuteTime": {
     "end_time": "2025-09-27T08:51:11.719138Z",
     "start_time": "2025-09-27T08:51:07.221423Z"
    }
   },
   "cell_type": "code",
   "source": [
    "def safe_predict(model, X):\n",
    "    if model is None:\n",
    "        return None\n",
    "    return np.asarray(model.predict(X, verbose=0)).squeeze()\n",
    "\n",
    "# Univariate (reshape input properly)\n",
    "X_train_uni = np.expand_dims(X_train[:, :-1, 0], axis=-1)\n",
    "X_val_uni   = np.expand_dims(X_val[:, :-1, 0], axis=-1)\n",
    "X_test_uni  = np.expand_dims(X_test[:, :-1, 0], axis=-1)\n",
    "\n",
    "pred_train_uni = safe_predict(univariate_model, X_train_uni)\n",
    "pred_val_uni   = safe_predict(univariate_model, X_val_uni)\n",
    "pred_test_uni  = safe_predict(univariate_model, X_test_uni)\n",
    "\n",
    "# Multivariate\n",
    "pred_train_multi = safe_predict(multivariate_model, X_train)\n",
    "pred_val_multi   = safe_predict(multivariate_model, X_val)\n",
    "pred_test_multi  = safe_predict(multivariate_model, X_test)\n",
    "\n",
    "# Seq2Seq (2 horizons)\n",
    "def seq2seq_predict(model, X):\n",
    "    if model is None:\n",
    "        return None, None\n",
    "    p = model.predict(X, verbose=0)  # (n, 2, 1)\n",
    "    return p[:, 0, 0], p[:, 1, 0]\n",
    "\n",
    "pred_train_h1, pred_train_h2 = seq2seq_predict(encoder_decoder_model, X_train)\n",
    "pred_val_h1,   pred_val_h2   = seq2seq_predict(encoder_decoder_model, X_val)\n",
    "pred_test_h1,  pred_test_h2  = seq2seq_predict(encoder_decoder_model, X_test)\n",
    "\n",
    "print(\"Predictions generated!\")\n"
   ],
   "id": "c911265fc8db841d",
   "outputs": [
    {
     "name": "stdout",
     "output_type": "stream",
     "text": [
      "Predictions generated!\n"
     ]
    }
   ],
   "execution_count": 18
  },
  {
   "metadata": {
    "ExecuteTime": {
     "end_time": "2025-09-27T08:51:11.805313Z",
     "start_time": "2025-09-27T08:51:11.790458Z"
    }
   },
   "cell_type": "code",
   "source": [
    "def build_meta_features(pred_uni, pred_multi, pred_h1, pred_h2):\n",
    "    feats = []\n",
    "    if pred_uni is not None:   feats.append(pred_uni.reshape(-1, 1))\n",
    "    if pred_multi is not None: feats.append(pred_multi.reshape(-1, 1))\n",
    "    if pred_h1 is not None:    feats.append(pred_h1.reshape(-1, 1))\n",
    "    if pred_h2 is not None:    feats.append(pred_h2.reshape(-1, 1))\n",
    "    return np.hstack(feats)\n",
    "\n",
    "X_meta_train = build_meta_features(pred_train_uni, pred_train_multi, pred_train_h1, pred_train_h2)\n",
    "X_meta_val   = build_meta_features(pred_val_uni,   pred_val_multi,   pred_val_h1,   pred_val_h2)\n",
    "X_meta_test  = build_meta_features(pred_test_uni,  pred_test_multi,  pred_test_h1,  pred_test_h2)\n",
    "\n",
    "print(\"Meta feature shapes:\", X_meta_train.shape, X_meta_val.shape, X_meta_test.shape)\n"
   ],
   "id": "9d007edb3ad50dc0",
   "outputs": [
    {
     "name": "stdout",
     "output_type": "stream",
     "text": [
      "Meta feature shapes: (200, 4) (43, 4) (43, 4)\n"
     ]
    }
   ],
   "execution_count": 19
  },
  {
   "metadata": {
    "ExecuteTime": {
     "end_time": "2025-09-27T08:51:11.948075Z",
     "start_time": "2025-09-27T08:51:11.920946Z"
    }
   },
   "cell_type": "code",
   "source": [
    "np.save(os.path.join(save_dir, \"X_meta_train.npy\"), X_meta_train)\n",
    "np.save(os.path.join(save_dir, \"X_meta_val.npy\"),   X_meta_val)\n",
    "np.save(os.path.join(save_dir, \"X_meta_test.npy\"),  X_meta_test)\n",
    "\n",
    "np.save(os.path.join(save_dir, \"y_meta_train.npy\"), y_train)\n",
    "np.save(os.path.join(save_dir, \"y_meta_val.npy\"),   y_val)\n",
    "np.save(os.path.join(save_dir, \"y_meta_test.npy\"),  y_test)\n",
    "\n",
    "print(\"Meta features saved in:\", save_dir)\n"
   ],
   "id": "c87cf0cf2d704026",
   "outputs": [
    {
     "name": "stdout",
     "output_type": "stream",
     "text": [
      "Meta features saved in: C:\\Users\\asing\\PycharmProjects\\-Dynamic-Player-Transfer-Value-Prediction-using-AI-and-Multi-source-Data-\\Hyperparameter_Tuning\n"
     ]
    }
   ],
   "execution_count": 20
  },
  {
   "metadata": {
    "ExecuteTime": {
     "end_time": "2025-09-27T09:02:47.256273Z",
     "start_time": "2025-09-27T09:02:33.565089Z"
    }
   },
   "cell_type": "code",
   "source": [
    "# Optuna hyperparameter tuning for XGBoost ensemble\n",
    "import os, sys, subprocess, joblib, numpy as np\n",
    "from sklearn.metrics import mean_squared_error, mean_absolute_error\n",
    "import warnings\n",
    "warnings.filterwarnings(\"ignore\")\n",
    "\n",
    "# try to import optuna, install if missing\n",
    "try:\n",
    "    import optuna\n",
    "except Exception:\n",
    "    subprocess.check_call([sys.executable, \"-m\", \"pip\", \"install\", \"optuna\"])\n",
    "    import optuna\n",
    "\n",
    "# XGBoost import\n",
    "try:\n",
    "    from xgboost import XGBRegressor\n",
    "except Exception:\n",
    "    subprocess.check_call([sys.executable, \"-m\", \"pip\", \"install\", \"xgboost\"])\n",
    "    from xgboost import XGBRegressor\n",
    "\n",
    "# User paths\n",
    "PROJECT_PATH = r\"C:\\Users\\asing\\PycharmProjects\\-Dynamic-Player-Transfer-Value-Prediction-using-AI-and-Multi-source-Data-\"\n",
    "\n",
    "candidate_dirs = [\n",
    "    os.path.join(PROJECT_PATH, \"models\", \"Hyperparam_Tuning\"),\n",
    "    os.path.join(PROJECT_PATH, \"Hyperparam_Tuning\"),\n",
    "    os.path.join(PROJECT_PATH, \"models\", \"Ensemble_Model\"),\n",
    "    os.path.join(PROJECT_PATH, \"Hyperparameter_Tuning\"),\n",
    "]\n",
    "ENSEMBLE_DIR = os.path.join(PROJECT_PATH, \"models\", \"Ensemble_Model\")\n",
    "os.makedirs(ENSEMBLE_DIR, exist_ok=True)\n",
    "\n",
    "# search for the meta npy files\n",
    "base_dir = None\n",
    "for d in candidate_dirs:\n",
    "    if os.path.exists(os.path.join(d, \"X_meta_train.npy\")):\n",
    "        base_dir = d\n",
    "        break\n",
    "if base_dir is None:\n",
    "    raise FileNotFoundError(\"Could not find X_meta_train.npy in candidate dirs. Run the meta-feature creation cell first (saves X_meta_train.npy etc).\")\n",
    "\n",
    "print(\"Loading meta arrays from:\", base_dir)\n",
    "X_meta_train = np.load(os.path.join(base_dir, \"X_meta_train.npy\"))\n",
    "X_meta_val   = np.load(os.path.join(base_dir, \"X_meta_val.npy\"))\n",
    "X_meta_test  = np.load(os.path.join(base_dir, \"X_meta_test.npy\"))\n",
    "\n",
    "possible_y_names = [\"y_meta_train_log.npy\", \"y_meta_train.npy\", \"y_train.npy\", \"y_train_meta.npy\"]\n",
    "y_meta_train = None\n",
    "y_meta_val = None\n",
    "y_meta_test = None\n",
    "for name in possible_y_names:\n",
    "    p = os.path.join(base_dir, name)\n",
    "    if os.path.exists(p):\n",
    "        try:\n",
    "            y_meta_train = np.load(p)\n",
    "            break\n",
    "        except Exception:\n",
    "            pass\n",
    "if y_meta_train is None:\n",
    "    raise FileNotFoundError(\"Could not find y_meta_train (checked common names).\")\n",
    "\n",
    "# load val/test using similar naming pattern\n",
    "for name in possible_y_names:\n",
    "    p = os.path.join(base_dir, name.replace(\"train\", \"val\"))\n",
    "    if os.path.exists(p):\n",
    "        y_meta_val = np.load(p); break\n",
    "for name in possible_y_names:\n",
    "    p = os.path.join(base_dir, name.replace(\"train\", \"test\"))\n",
    "    if os.path.exists(p):\n",
    "        y_meta_test = np.load(p); break\n",
    "\n",
    "# if val/test not found, try y_val.npy / y_test.npy\n",
    "if y_meta_val is None and os.path.exists(os.path.join(base_dir, \"y_val.npy\")):\n",
    "    y_meta_val = np.load(os.path.join(base_dir, \"y_val.npy\"))\n",
    "if y_meta_test is None and os.path.exists(os.path.join(base_dir, \"y_test.npy\")):\n",
    "    y_meta_test = np.load(os.path.join(base_dir, \"y_test.npy\"))\n",
    "\n",
    "# pick first horizon if targets are 2D\n",
    "def pick_first_horizon(y):\n",
    "    y = np.asarray(y)\n",
    "    if y.ndim == 2 and y.shape[1] > 1:\n",
    "        return y[:, 0]\n",
    "    return y.ravel()\n",
    "\n",
    "y_train = pick_first_horizon(y_meta_train)\n",
    "y_val   = pick_first_horizon(y_meta_val) if y_meta_val is not None else None\n",
    "y_test  = pick_first_horizon(y_meta_test) if y_meta_test is not None else None\n",
    "\n",
    "print(\"Shapes -> X_meta_train, y_train:\", X_meta_train.shape, y_train.shape)\n",
    "if y_val is not None:\n",
    "    print(\"Shapes -> X_meta_val, y_val:\", X_meta_val.shape, y_val.shape)\n",
    "if y_test is not None:\n",
    "    print(\"Shapes -> X_meta_test, y_test:\", X_meta_test.shape, y_test.shape)\n",
    "\n",
    "# Optuna objective\n",
    "def objective(trial):\n",
    "    params = {\n",
    "        \"n_estimators\": trial.suggest_int(\"n_estimators\", 100, 1000),\n",
    "        \"max_depth\": trial.suggest_int(\"max_depth\", 3, 8),\n",
    "        \"learning_rate\": trial.suggest_float(\"learning_rate\", 1e-4, 0.3, log=True),\n",
    "        \"subsample\": trial.suggest_float(\"subsample\", 0.5, 1.0),\n",
    "        \"colsample_bytree\": trial.suggest_float(\"colsample_bytree\", 0.5, 1.0),\n",
    "        \"min_child_weight\": trial.suggest_int(\"min_child_weight\", 1, 10),\n",
    "        \"gamma\": trial.suggest_float(\"gamma\", 0.0, 5.0),\n",
    "        \"reg_alpha\": trial.suggest_float(\"reg_alpha\", 1e-8, 10.0, log=True),\n",
    "        \"reg_lambda\": trial.suggest_float(\"reg_lambda\", 1e-8, 10.0, log=True),\n",
    "        \"objective\": \"reg:squarederror\",\n",
    "        \"random_state\": 42,\n",
    "        \"n_jobs\": -1\n",
    "    }\n",
    "\n",
    "    model = XGBRegressor(**params)\n",
    "    # try to use early_stopping_rounds\n",
    "    try:\n",
    "        model.fit(\n",
    "            X_meta_train, y_train,\n",
    "            eval_set=[(X_meta_val, y_val)],\n",
    "            early_stopping_rounds=50,\n",
    "            verbose=False\n",
    "        )\n",
    "    except TypeError:\n",
    "        # old xgboost, fit without early_stopping_rounds\n",
    "        model.fit(\n",
    "            X_meta_train, y_train,\n",
    "            eval_set=[(X_meta_val, y_val)],\n",
    "            verbose=False\n",
    "        )\n",
    "\n",
    "    preds = model.predict(X_meta_val)\n",
    "    rmse = np.sqrt(mean_squared_error(y_val, preds))\n",
    "    return rmse\n",
    "\n",
    "# Run study\n",
    "study = optuna.create_study(direction=\"minimize\")\n",
    "N_TRIALS = 30\n",
    "study.optimize(objective, n_trials=N_TRIALS, show_progress_bar=True)\n",
    "\n",
    "print(\"\\nBest trial params:\")\n",
    "print(study.best_trial.params)\n",
    "\n",
    "# Retrain best model on train+val\n",
    "best_params = study.best_trial.params\n",
    "best_params.update({\"objective\":\"reg:squarederror\", \"random_state\":42, \"n_jobs\":-1})\n",
    "final_model = XGBRegressor(**best_params)\n",
    "\n",
    "# combine train+val to retrain\n",
    "if y_val is not None:\n",
    "    X_comb = np.vstack([X_meta_train, X_meta_val])\n",
    "    y_comb = np.hstack([y_train, y_val])\n",
    "else:\n",
    "    X_comb = X_meta_train\n",
    "    y_comb = y_train\n",
    "\n",
    "try:\n",
    "    final_model.fit(X_comb, y_comb, eval_set=[(X_meta_val, y_val)] if y_val is not None else None,\n",
    "                    early_stopping_rounds=50, verbose=False)\n",
    "except TypeError:\n",
    "    final_model.fit(X_comb, y_comb, eval_set=[(X_meta_val, y_val)] if y_val is not None else None, verbose=False)"
   ],
   "id": "905e659ba911807c",
   "outputs": [
    {
     "name": "stderr",
     "output_type": "stream",
     "text": [
      "[I 2025-09-27 14:32:33,972] A new study created in memory with name: no-name-19b6a929-6e19-4e7f-a51b-13ee36d63396\n"
     ]
    },
    {
     "name": "stdout",
     "output_type": "stream",
     "text": [
      "Loading meta arrays from: C:\\Users\\asing\\PycharmProjects\\-Dynamic-Player-Transfer-Value-Prediction-using-AI-and-Multi-source-Data-\\Hyperparameter_Tuning\n",
      "Shapes -> X_meta_train, y_train: (200, 4) (200,)\n",
      "Shapes -> X_meta_val, y_val: (43, 4) (43,)\n",
      "Shapes -> X_meta_test, y_test: (43, 4) (43,)\n"
     ]
    },
    {
     "name": "stderr",
     "output_type": "stream",
     "text": [
      "Best trial: 0. Best value: 0.969266:   3%|▎         | 1/30 [00:01<00:34,  1.20s/it]"
     ]
    },
    {
     "name": "stdout",
     "output_type": "stream",
     "text": [
      "[I 2025-09-27 14:32:35,475] Trial 0 finished with value: 0.9692662705707076 and parameters: {'n_estimators': 587, 'max_depth': 4, 'learning_rate': 0.003698061436377248, 'subsample': 0.5757638209193707, 'colsample_bytree': 0.9444207607983894, 'min_child_weight': 9, 'gamma': 4.522643911032765, 'reg_alpha': 7.006175117399707e-07, 'reg_lambda': 0.1596482857095171}. Best is trial 0 with value: 0.9692662705707076.\n"
     ]
    },
    {
     "name": "stderr",
     "output_type": "stream",
     "text": [
      "Best trial: 1. Best value: 0.954207:   7%|▋         | 2/30 [00:02<00:34,  1.24s/it]"
     ]
    },
    {
     "name": "stdout",
     "output_type": "stream",
     "text": [
      "[I 2025-09-27 14:32:36,836] Trial 1 finished with value: 0.9542066838120262 and parameters: {'n_estimators': 773, 'max_depth': 5, 'learning_rate': 0.1709672684479857, 'subsample': 0.6514176174652587, 'colsample_bytree': 0.6000494280159933, 'min_child_weight': 7, 'gamma': 1.8458039922414948, 'reg_alpha': 7.063675585777104e-07, 'reg_lambda': 1.272119927354864e-07}. Best is trial 1 with value: 0.9542066838120262.\n"
     ]
    },
    {
     "name": "stderr",
     "output_type": "stream",
     "text": [
      "Best trial: 1. Best value: 0.954207:  10%|█         | 3/30 [00:04<00:41,  1.55s/it]"
     ]
    },
    {
     "name": "stdout",
     "output_type": "stream",
     "text": [
      "[I 2025-09-27 14:32:38,756] Trial 2 finished with value: 1.0810329474977791 and parameters: {'n_estimators': 495, 'max_depth': 8, 'learning_rate': 0.0027705638776587952, 'subsample': 0.75538245683694, 'colsample_bytree': 0.6522098753634458, 'min_child_weight': 1, 'gamma': 0.57021030407095, 'reg_alpha': 7.829712415185574e-06, 'reg_lambda': 0.009405888763371775}. Best is trial 1 with value: 0.9542066838120262.\n",
      "[I 2025-09-27 14:32:38,935] Trial 3 finished with value: 1.269262816321241 and parameters: {'n_estimators': 213, 'max_depth': 5, 'learning_rate': 0.00016299614442961337, 'subsample': 0.6821248718209374, 'colsample_bytree': 0.5919419632490475, 'min_child_weight': 9, 'gamma': 0.4316706212669069, 'reg_alpha': 0.0002583753014072795, 'reg_lambda': 3.1275537087719525e-07}. Best is trial 1 with value: 0.9542066838120262.\n"
     ]
    },
    {
     "name": "stderr",
     "output_type": "stream",
     "text": [
      "                                                                                   "
     ]
    },
    {
     "name": "stdout",
     "output_type": "stream",
     "text": [
      "[I 2025-09-27 14:32:39,030] Trial 4 finished with value: 0.898917089095847 and parameters: {'n_estimators': 186, 'max_depth': 5, 'learning_rate': 0.16611701743516338, 'subsample': 0.6755988073112481, 'colsample_bytree': 0.6509640501611056, 'min_child_weight': 9, 'gamma': 3.420046663271693, 'reg_alpha': 2.0357532928419734e-07, 'reg_lambda': 2.713445575365307e-06}. Best is trial 4 with value: 0.898917089095847.\n"
     ]
    },
    {
     "name": "stderr",
     "output_type": "stream",
     "text": [
      "Best trial: 4. Best value: 0.898917:  20%|██        | 6/30 [00:04<00:13,  1.84it/s]"
     ]
    },
    {
     "name": "stdout",
     "output_type": "stream",
     "text": [
      "[I 2025-09-27 14:32:39,205] Trial 5 finished with value: 0.9206114980557653 and parameters: {'n_estimators': 443, 'max_depth': 5, 'learning_rate': 0.07543923946705475, 'subsample': 0.5105639355554332, 'colsample_bytree': 0.5688094542177096, 'min_child_weight': 6, 'gamma': 3.212764519430065, 'reg_alpha': 4.0167967095449065e-06, 'reg_lambda': 1.6835814439827672e-07}. Best is trial 4 with value: 0.898917089095847.\n"
     ]
    },
    {
     "name": "stderr",
     "output_type": "stream",
     "text": [
      "Best trial: 4. Best value: 0.898917:  23%|██▎       | 7/30 [00:05<00:10,  2.12it/s]"
     ]
    },
    {
     "name": "stdout",
     "output_type": "stream",
     "text": [
      "[I 2025-09-27 14:32:39,483] Trial 6 finished with value: 1.2251200621809737 and parameters: {'n_estimators': 485, 'max_depth': 3, 'learning_rate': 0.00030069717976031313, 'subsample': 0.8787146786295041, 'colsample_bytree': 0.6170947863633252, 'min_child_weight': 10, 'gamma': 2.608648354817849, 'reg_alpha': 6.04556525402852e-08, 'reg_lambda': 0.0015844732706173379}. Best is trial 4 with value: 0.898917089095847.\n"
     ]
    },
    {
     "name": "stderr",
     "output_type": "stream",
     "text": [
      "Best trial: 4. Best value: 0.898917:  30%|███       | 9/30 [00:05<00:06,  3.16it/s]"
     ]
    },
    {
     "name": "stdout",
     "output_type": "stream",
     "text": [
      "[I 2025-09-27 14:32:39,705] Trial 7 finished with value: 1.1335677780335316 and parameters: {'n_estimators': 234, 'max_depth': 7, 'learning_rate': 0.001648173235198894, 'subsample': 0.881181713949581, 'colsample_bytree': 0.7717949174155004, 'min_child_weight': 8, 'gamma': 3.541882239611795, 'reg_alpha': 2.2208673894959595e-05, 'reg_lambda': 0.09352587761725487}. Best is trial 4 with value: 0.898917089095847.\n",
      "[I 2025-09-27 14:32:39,809] Trial 8 finished with value: 0.9422638401110507 and parameters: {'n_estimators': 151, 'max_depth': 7, 'learning_rate': 0.031453947764426546, 'subsample': 0.8050829987899207, 'colsample_bytree': 0.6033551700975508, 'min_child_weight': 9, 'gamma': 4.623701857740045, 'reg_alpha': 7.28113979070319e-07, 'reg_lambda': 0.001368532996198174}. Best is trial 4 with value: 0.898917089095847.\n"
     ]
    },
    {
     "name": "stderr",
     "output_type": "stream",
     "text": [
      "Best trial: 4. Best value: 0.898917:  33%|███▎      | 10/30 [00:06<00:08,  2.35it/s]"
     ]
    },
    {
     "name": "stdout",
     "output_type": "stream",
     "text": [
      "[I 2025-09-27 14:32:40,500] Trial 9 finished with value: 0.9448959842671071 and parameters: {'n_estimators': 689, 'max_depth': 6, 'learning_rate': 0.003176178253309636, 'subsample': 0.7715194049730663, 'colsample_bytree': 0.919917357218675, 'min_child_weight': 10, 'gamma': 0.7691961920730661, 'reg_alpha': 0.025749271071538554, 'reg_lambda': 0.0008788101551764219}. Best is trial 4 with value: 0.898917089095847.\n"
     ]
    },
    {
     "name": "stderr",
     "output_type": "stream",
     "text": [
      "Best trial: 4. Best value: 0.898917:  37%|███▋      | 11/30 [00:06<00:10,  1.87it/s]"
     ]
    },
    {
     "name": "stdout",
     "output_type": "stream",
     "text": [
      "[I 2025-09-27 14:32:41,302] Trial 10 finished with value: 0.9588243339429027 and parameters: {'n_estimators': 885, 'max_depth': 3, 'learning_rate': 0.021372216430462932, 'subsample': 0.9757961027577253, 'colsample_bytree': 0.7116164893181428, 'min_child_weight': 4, 'gamma': 1.8920817213563548, 'reg_alpha': 5.469815977588944, 'reg_lambda': 1.233859217021939e-05}. Best is trial 4 with value: 0.898917089095847.\n"
     ]
    },
    {
     "name": "stderr",
     "output_type": "stream",
     "text": [
      "Best trial: 4. Best value: 0.898917:  40%|████      | 12/30 [00:08<00:13,  1.34it/s]"
     ]
    },
    {
     "name": "stdout",
     "output_type": "stream",
     "text": [
      "[I 2025-09-27 14:32:42,551] Trial 11 finished with value: 0.9711259241819975 and parameters: {'n_estimators': 345, 'max_depth': 5, 'learning_rate': 0.28161609833941936, 'subsample': 0.5069821439750986, 'colsample_bytree': 0.5093779587797083, 'min_child_weight': 5, 'gamma': 3.508061965527477, 'reg_alpha': 1.0330386969365945e-08, 'reg_lambda': 8.432985384350947e-06}. Best is trial 4 with value: 0.898917089095847.\n"
     ]
    },
    {
     "name": "stderr",
     "output_type": "stream",
     "text": [
      "Best trial: 4. Best value: 0.898917:  47%|████▋     | 14/30 [00:08<00:07,  2.03it/s]"
     ]
    },
    {
     "name": "stdout",
     "output_type": "stream",
     "text": [
      "[I 2025-09-27 14:32:42,995] Trial 12 finished with value: 0.9348263811654026 and parameters: {'n_estimators': 375, 'max_depth': 4, 'learning_rate': 0.057660750981035666, 'subsample': 0.5098321451274725, 'colsample_bytree': 0.8085967760324967, 'min_child_weight': 6, 'gamma': 3.179436269095749, 'reg_alpha': 0.0013712856298068526, 'reg_lambda': 1.7079731738497585e-08}. Best is trial 4 with value: 0.898917089095847.\n",
      "[I 2025-09-27 14:32:43,105] Trial 13 finished with value: 0.9293673975383904 and parameters: {'n_estimators': 103, 'max_depth': 6, 'learning_rate': 0.08851817532406399, 'subsample': 0.6282962866595168, 'colsample_bytree': 0.5014057166308208, 'min_child_weight': 2, 'gamma': 4.220036419373461, 'reg_alpha': 4.0017966286450994e-05, 'reg_lambda': 3.538483839483033e-06}. Best is trial 4 with value: 0.898917089095847.\n"
     ]
    },
    {
     "name": "stderr",
     "output_type": "stream",
     "text": [
      "Best trial: 4. Best value: 0.898917:  50%|█████     | 15/30 [00:08<00:06,  2.43it/s]"
     ]
    },
    {
     "name": "stdout",
     "output_type": "stream",
     "text": [
      "[I 2025-09-27 14:32:43,325] Trial 14 finished with value: 0.9371271928691703 and parameters: {'n_estimators': 342, 'max_depth': 4, 'learning_rate': 0.017741042379265954, 'subsample': 0.5916873696671195, 'colsample_bytree': 0.6992090817515686, 'min_child_weight': 4, 'gamma': 2.5966759918072118, 'reg_alpha': 8.02730469508138e-08, 'reg_lambda': 3.43600388249634e-05}. Best is trial 4 with value: 0.898917089095847.\n"
     ]
    },
    {
     "name": "stderr",
     "output_type": "stream",
     "text": [
      "Best trial: 4. Best value: 0.898917:  53%|█████▎    | 16/30 [00:09<00:05,  2.65it/s]"
     ]
    },
    {
     "name": "stdout",
     "output_type": "stream",
     "text": [
      "[I 2025-09-27 14:32:43,622] Trial 15 finished with value: 0.9386503091930806 and parameters: {'n_estimators': 605, 'max_depth': 6, 'learning_rate': 0.09620488809710588, 'subsample': 0.687028375616089, 'colsample_bytree': 0.836872288425234, 'min_child_weight': 7, 'gamma': 3.8636863418222616, 'reg_alpha': 0.01301491691555345, 'reg_lambda': 5.859367933393649e-07}. Best is trial 4 with value: 0.898917089095847.\n"
     ]
    },
    {
     "name": "stderr",
     "output_type": "stream",
     "text": [
      "Best trial: 4. Best value: 0.898917:  57%|█████▋    | 17/30 [00:09<00:05,  2.39it/s]"
     ]
    },
    {
     "name": "stdout",
     "output_type": "stream",
     "text": [
      "[I 2025-09-27 14:32:44,135] Trial 16 finished with value: 0.9340380890519916 and parameters: {'n_estimators': 971, 'max_depth': 4, 'learning_rate': 0.012997796464102625, 'subsample': 0.5680733262484825, 'colsample_bytree': 0.5544720539669499, 'min_child_weight': 6, 'gamma': 1.7456418386281956, 'reg_alpha': 4.863689732260407e-06, 'reg_lambda': 4.93337498923953}. Best is trial 4 with value: 0.898917089095847.\n"
     ]
    },
    {
     "name": "stderr",
     "output_type": "stream",
     "text": [
      "Best trial: 4. Best value: 0.898917:  60%|██████    | 18/30 [00:09<00:04,  2.76it/s]"
     ]
    },
    {
     "name": "stdout",
     "output_type": "stream",
     "text": [
      "[I 2025-09-27 14:32:44,371] Trial 17 finished with value: 0.947049202722864 and parameters: {'n_estimators': 402, 'max_depth': 7, 'learning_rate': 0.2962833797839413, 'subsample': 0.7171520939124094, 'colsample_bytree': 0.6897241759798225, 'min_child_weight': 3, 'gamma': 2.935123876457292, 'reg_alpha': 1.076786403550827e-08, 'reg_lambda': 1.9275563239640083e-08}. Best is trial 4 with value: 0.898917089095847.\n"
     ]
    },
    {
     "name": "stderr",
     "output_type": "stream",
     "text": [
      "Best trial: 4. Best value: 0.898917:  63%|██████▎   | 19/30 [00:10<00:03,  3.16it/s]"
     ]
    },
    {
     "name": "stdout",
     "output_type": "stream",
     "text": [
      "[I 2025-09-27 14:32:44,578] Trial 18 finished with value: 0.9708015378903968 and parameters: {'n_estimators': 264, 'max_depth': 5, 'learning_rate': 0.00929318199187248, 'subsample': 0.8243923146356575, 'colsample_bytree': 0.5537148585535053, 'min_child_weight': 7, 'gamma': 4.89633202397469, 'reg_alpha': 0.0005102888183798861, 'reg_lambda': 6.566232283501441e-05}. Best is trial 4 with value: 0.898917089095847.\n"
     ]
    },
    {
     "name": "stderr",
     "output_type": "stream",
     "text": [
      "Best trial: 4. Best value: 0.898917:  67%|██████▋   | 20/30 [00:10<00:03,  3.25it/s]"
     ]
    },
    {
     "name": "stdout",
     "output_type": "stream",
     "text": [
      "[I 2025-09-27 14:32:44,863] Trial 19 finished with value: 0.9546059930473734 and parameters: {'n_estimators': 462, 'max_depth': 6, 'learning_rate': 0.04495258240741671, 'subsample': 0.5554150967068899, 'colsample_bytree': 0.6584870426904388, 'min_child_weight': 5, 'gamma': 1.3370102555639292, 'reg_alpha': 1.3188069945244644e-07, 'reg_lambda': 1.3605668233286329e-06}. Best is trial 4 with value: 0.898917089095847.\n"
     ]
    },
    {
     "name": "stderr",
     "output_type": "stream",
     "text": [
      "Best trial: 4. Best value: 0.898917:  73%|███████▎  | 22/30 [00:11<00:02,  3.39it/s]"
     ]
    },
    {
     "name": "stdout",
     "output_type": "stream",
     "text": [
      "[I 2025-09-27 14:32:45,340] Trial 20 finished with value: 0.9682046605186634 and parameters: {'n_estimators': 739, 'max_depth': 8, 'learning_rate': 0.13158415698630935, 'subsample': 0.6201736483062904, 'colsample_bytree': 0.7401363025560826, 'min_child_weight': 8, 'gamma': 3.9140031635715467, 'reg_alpha': 6.594378941546955, 'reg_lambda': 5.461336196319535e-08}. Best is trial 4 with value: 0.898917089095847.\n",
      "[I 2025-09-27 14:32:45,489] Trial 21 finished with value: 0.9357396565133967 and parameters: {'n_estimators': 159, 'max_depth': 6, 'learning_rate': 0.0781690086936207, 'subsample': 0.640417433451538, 'colsample_bytree': 0.5072112521718821, 'min_child_weight': 1, 'gamma': 4.087275068667497, 'reg_alpha': 3.5707007138335484e-05, 'reg_lambda': 3.237484143744012e-06}. Best is trial 4 with value: 0.898917089095847.\n"
     ]
    },
    {
     "name": "stderr",
     "output_type": "stream",
     "text": [
      "Best trial: 4. Best value: 0.898917:  77%|███████▋  | 23/30 [00:11<00:01,  4.09it/s]"
     ]
    },
    {
     "name": "stdout",
     "output_type": "stream",
     "text": [
      "[I 2025-09-27 14:32:45,615] Trial 22 finished with value: 0.9191357156337743 and parameters: {'n_estimators': 100, 'max_depth': 5, 'learning_rate': 0.1463527732074013, 'subsample': 0.7104375417096712, 'colsample_bytree': 0.5576075905132121, 'min_child_weight': 2, 'gamma': 4.286434201558381, 'reg_alpha': 8.412683118913067e-05, 'reg_lambda': 0.00010525721657332777}. Best is trial 4 with value: 0.898917089095847.\n"
     ]
    },
    {
     "name": "stderr",
     "output_type": "stream",
     "text": [
      "Best trial: 4. Best value: 0.898917:  80%|████████  | 24/30 [00:11<00:01,  4.32it/s]"
     ]
    },
    {
     "name": "stdout",
     "output_type": "stream",
     "text": [
      "[I 2025-09-27 14:32:45,816] Trial 23 finished with value: 0.9158097327188998 and parameters: {'n_estimators': 292, 'max_depth': 5, 'learning_rate': 0.18396358164993082, 'subsample': 0.714520068400329, 'colsample_bytree': 0.6553709862373648, 'min_child_weight': 4, 'gamma': 3.212222550276606, 'reg_alpha': 1.908827739343199e-06, 'reg_lambda': 0.00011445779364784965}. Best is trial 4 with value: 0.898917089095847.\n"
     ]
    },
    {
     "name": "stderr",
     "output_type": "stream",
     "text": [
      "Best trial: 4. Best value: 0.898917:  87%|████████▋ | 26/30 [00:11<00:00,  4.47it/s]"
     ]
    },
    {
     "name": "stdout",
     "output_type": "stream",
     "text": [
      "[I 2025-09-27 14:32:46,161] Trial 24 finished with value: 1.1954538658302263 and parameters: {'n_estimators': 293, 'max_depth': 4, 'learning_rate': 0.0008308670789637836, 'subsample': 0.7261182825309673, 'colsample_bytree': 0.6478105301519597, 'min_child_weight': 3, 'gamma': 3.50444432895765, 'reg_alpha': 0.00012192199953567801, 'reg_lambda': 0.00014238070173188164}. Best is trial 4 with value: 0.898917089095847.\n",
      "[I 2025-09-27 14:32:46,286] Trial 25 finished with value: 0.9517027543769895 and parameters: {'n_estimators': 111, 'max_depth': 5, 'learning_rate': 0.17112249676985586, 'subsample': 0.6929360206818916, 'colsample_bytree': 0.998875814499034, 'min_child_weight': 2, 'gamma': 2.3190663791876975, 'reg_alpha': 0.004153043312827245, 'reg_lambda': 0.00023864649133038812}. Best is trial 4 with value: 0.898917089095847.\n"
     ]
    },
    {
     "name": "stderr",
     "output_type": "stream",
     "text": [
      "                                                                                    "
     ]
    },
    {
     "name": "stdout",
     "output_type": "stream",
     "text": [
      "[I 2025-09-27 14:32:46,471] Trial 26 finished with value: 0.939244751138577 and parameters: {'n_estimators': 189, 'max_depth': 4, 'learning_rate': 0.03325151907999779, 'subsample': 0.784385036744175, 'colsample_bytree': 0.6628761804495242, 'min_child_weight': 3, 'gamma': 4.441251439205802, 'reg_alpha': 1.4425611546163173e-06, 'reg_lambda': 0.005264350768445645}. Best is trial 4 with value: 0.898917089095847.\n"
     ]
    },
    {
     "name": "stderr",
     "output_type": "stream",
     "text": [
      "Best trial: 4. Best value: 0.898917:  93%|█████████▎| 28/30 [00:12<00:00,  4.89it/s]"
     ]
    },
    {
     "name": "stdout",
     "output_type": "stream",
     "text": [
      "[I 2025-09-27 14:32:46,658] Trial 27 finished with value: 0.9177854879173275 and parameters: {'n_estimators': 290, 'max_depth': 5, 'learning_rate': 0.19535433258743082, 'subsample': 0.8322806942226179, 'colsample_bytree': 0.7351290056512088, 'min_child_weight': 4, 'gamma': 2.9806467779459904, 'reg_alpha': 0.13156070185817184, 'reg_lambda': 3.581175168149612e-05}. Best is trial 4 with value: 0.898917089095847.\n"
     ]
    },
    {
     "name": "stderr",
     "output_type": "stream",
     "text": [
      "Best trial: 4. Best value: 0.898917:  97%|█████████▋| 29/30 [00:12<00:00,  4.65it/s]"
     ]
    },
    {
     "name": "stdout",
     "output_type": "stream",
     "text": [
      "[I 2025-09-27 14:32:46,899] Trial 28 finished with value: 0.9669316599572486 and parameters: {'n_estimators': 298, 'max_depth': 3, 'learning_rate': 0.006438680653651232, 'subsample': 0.8577553757378825, 'colsample_bytree': 0.7934642187236822, 'min_child_weight': 4, 'gamma': 2.8963909594814625, 'reg_alpha': 0.5496540752546989, 'reg_lambda': 1.5373722867752032e-05}. Best is trial 4 with value: 0.898917089095847.\n"
     ]
    },
    {
     "name": "stderr",
     "output_type": "stream",
     "text": [
      "Best trial: 4. Best value: 0.898917: 100%|██████████| 30/30 [00:12<00:00,  2.35it/s]"
     ]
    },
    {
     "name": "stdout",
     "output_type": "stream",
     "text": [
      "[I 2025-09-27 14:32:47,153] Trial 29 finished with value: 0.9109847116221473 and parameters: {'n_estimators': 575, 'max_depth': 6, 'learning_rate': 0.27746082339820466, 'subsample': 0.9474044559017748, 'colsample_bytree': 0.733549066074381, 'min_child_weight': 5, 'gamma': 2.254095977004191, 'reg_alpha': 0.16567920122042823, 'reg_lambda': 0.00961477495661975}. Best is trial 4 with value: 0.898917089095847.\n",
      "\n",
      "Best trial params:\n",
      "{'n_estimators': 186, 'max_depth': 5, 'learning_rate': 0.16611701743516338, 'subsample': 0.6755988073112481, 'colsample_bytree': 0.6509640501611056, 'min_child_weight': 9, 'gamma': 3.420046663271693, 'reg_alpha': 2.0357532928419734e-07, 'reg_lambda': 2.713445575365307e-06}\n"
     ]
    },
    {
     "name": "stderr",
     "output_type": "stream",
     "text": [
      "\n"
     ]
    }
   ],
   "execution_count": 24
  },
  {
   "metadata": {
    "ExecuteTime": {
     "end_time": "2025-09-27T09:19:38.433185Z",
     "start_time": "2025-09-27T09:19:38.294025Z"
    }
   },
   "cell_type": "code",
   "source": [
    "import joblib\n",
    "from xgboost import XGBRegressor\n",
    "from sklearn.metrics import mean_squared_error, mean_absolute_error, r2_score\n",
    "import numpy as np\n",
    "import os\n",
    "\n",
    "# Best hyperparameters from Optuna\n",
    "best_params = {\n",
    "    'n_estimators': 186,\n",
    "    'max_depth': 5,\n",
    "    'learning_rate': 0.16611701743516338,\n",
    "    'subsample': 0.6755988073112481,\n",
    "    'colsample_bytree': 0.6509640501611056,\n",
    "    'min_child_weight': 9,\n",
    "    'gamma': 3.420046663271693,\n",
    "    'reg_alpha': 2.0357532928419734e-07,\n",
    "    'reg_lambda': 2.713445575365307e-06\n",
    "}\n",
    "\n",
    "# build final model\n",
    "final_model = XGBRegressor(\n",
    "    objective=\"reg:squarederror\",\n",
    "    random_state=42,\n",
    "    **best_params\n",
    ")\n",
    "\n",
    "# Train on (train + val)\n",
    "X_train_full = np.vstack([X_meta_train, X_meta_val])\n",
    "y_train_full = np.hstack([y_train, y_val])\n",
    "\n",
    "final_model.fit(X_train_full, y_train_full)\n",
    "\n",
    "# Evaluate on test set\n",
    "y_pred_test = final_model.predict(X_meta_test)\n",
    "\n",
    "rmse = np.sqrt(mean_squared_error(y_test, y_pred_test))\n",
    "mae  = mean_absolute_error(y_test, y_pred_test)\n",
    "r2   = r2_score(y_test, y_pred_test)\n",
    "\n",
    "print(\"\\n Final Tuned Ensemble Performance (Test Set):\")\n",
    "print(\" RMSE:\", round(rmse, 4))\n",
    "print(\" MAE :\", round(mae, 4))\n",
    "print(\" R²  :\", round(r2, 4))\n",
    "\n",
    "# Save final tuned ensemble inside Hyperparameter_Tuning\n",
    "TUNER_SAVE_DIR = os.path.join(PROJECT_PATH, \"Hyperparameter_Tuning\")\n",
    "os.makedirs(TUNER_SAVE_DIR, exist_ok=True)\n",
    "\n",
    "final_path = os.path.join(TUNER_SAVE_DIR, \"xgb_ensemble_final.pkl\")\n",
    "joblib.dump(final_model, final_path)\n",
    "\n",
    "print(f\"\\n Final Tuned Ensemble model saved to: {final_path}\")"
   ],
   "id": "38f1819b72a26992",
   "outputs": [
    {
     "name": "stdout",
     "output_type": "stream",
     "text": [
      "\n",
      " Final Tuned Ensemble Performance (Test Set):\n",
      " RMSE: 0.7716\n",
      " MAE : 0.6146\n",
      " R²  : 0.1444\n",
      "\n",
      " Final Tuned Ensemble model saved to: C:\\Users\\asing\\PycharmProjects\\-Dynamic-Player-Transfer-Value-Prediction-using-AI-and-Multi-source-Data-\\Hyperparameter_Tuning\\xgb_ensemble_final.pkl\n"
     ]
    }
   ],
   "execution_count": 31
  },
  {
   "metadata": {},
   "cell_type": "markdown",
   "source": "# Comparision between hyper-tunned multivariate attention lstm model and xgb ensemble model",
   "id": "e99664717edce32c"
  },
  {
   "metadata": {
    "ExecuteTime": {
     "end_time": "2025-10-01T01:22:58.757223Z",
     "start_time": "2025-10-01T01:22:57.514719Z"
    }
   },
   "cell_type": "code",
   "source": [
    "# Sanity Check Predictions on Improved Multivariate LSTM vs XGB Ensemble\n",
    "import matplotlib.pyplot as plt\n",
    "import numpy as np\n",
    "import joblib\n",
    "import os\n",
    "\n",
    "# Load tuned ensemble\n",
    "xgb_final = joblib.load(\n",
    "    os.path.join(PROJECT_PATH, \"Hyperparameter_Tuning\", \"xgb_ensemble_final.pkl\")\n",
    ")\n",
    "\n",
    "# Ensemble predictions (using meta-features we saved earlier)\n",
    "X_meta_test = np.load(os.path.join(PROJECT_PATH, \"Hyperparameter_Tuning\", \"X_meta_test.npy\"))\n",
    "y_pred_ens = xgb_final.predict(X_meta_test)\n",
    "\n",
    "# Pick a small random batch of test samples\n",
    "n_samples = 10\n",
    "idx = np.random.choice(len(X_test), size=n_samples, replace=False)\n",
    "\n",
    "y_true_sample = y_test[idx]            # log-space\n",
    "y_pred_lstm_sample = y_pred_no_att[idx]\n",
    "y_pred_ens_sample = y_pred_ens[idx]    # log-space\n",
    "\n",
    "# Convert to euro scale\n",
    "y_true_euro = np.expm1(y_true_sample)\n",
    "y_pred_lstm_euro = np.expm1(y_pred_lstm_sample)\n",
    "y_pred_ens_euro = np.expm1(y_pred_ens_sample)\n",
    "\n",
    "print(\"\\nSanity Check (log-space values):\")\n",
    "for i in range(n_samples):\n",
    "    print(\n",
    "        f\"Sample {i}: True={y_true_sample[i]:.2f}, \"\n",
    "        f\"NoAtt-LSTM={y_pred_lstm_sample[i]:.2f}, \"\n",
    "        f\"Ensemble={y_pred_ens_sample[i]:.2f}\"\n",
    "    )\n",
    "\n",
    "print(\"\\nSanity Check (euro scale values):\")\n",
    "for i in range(n_samples):\n",
    "    print(\n",
    "        f\"Sample {i}: True=€{y_true_euro[i]:,.0f}, \"\n",
    "        f\"NoAtt-LSTM=€{y_pred_lstm_euro[i]:,.0f}, \"\n",
    "        f\"Ensemble=€{y_pred_ens_euro[i]:,.0f}\"\n",
    "    )\n",
    "\n",
    "# Plotting\n",
    "plt.figure(figsize=(14, 6))\n",
    "\n",
    "# Log-space plot\n",
    "plt.subplot(1, 2, 1)\n",
    "plt.plot(range(n_samples), y_true_sample, \"ko-\", label=\"True (log)\")\n",
    "plt.plot(range(n_samples), y_pred_lstm_sample, \"rD-\", label=\"NoAtt-LSTM (log)\")\n",
    "plt.plot(range(n_samples), y_pred_ens_sample, \"bs-\", label=\"XGB Ensemble (log)\")\n",
    "plt.xlabel(\"Sample Index\")\n",
    "plt.ylabel(\"Log Market Value\")\n",
    "plt.title(\"Sanity Check: Log-space\")\n",
    "plt.legend()\n",
    "plt.grid(True, linestyle=\"--\", alpha=0.6)\n",
    "\n",
    "# Euro-scale plot\n",
    "plt.subplot(1, 2, 2)\n",
    "plt.plot(range(n_samples), y_true_euro, \"ko-\", label=\"True (€)\")\n",
    "plt.plot(range(n_samples), y_pred_lstm_euro, \"rD-\", label=\"NoAtt-LSTM (€)\")\n",
    "plt.plot(range(n_samples), y_pred_ens_euro, \"bs-\", label=\"XGB Ensemble (€)\")\n",
    "plt.xlabel(\"Sample Index\")\n",
    "plt.ylabel(\"Market Value (€)\")\n",
    "plt.title(\"Sanity Check: Euro Scale\")\n",
    "plt.legend()\n",
    "plt.grid(True, linestyle=\"--\", alpha=0.6)\n",
    "\n",
    "plt.tight_layout()\n",
    "plt.show()"
   ],
   "id": "e7652e2fdc5c89cc",
   "outputs": [
    {
     "name": "stdout",
     "output_type": "stream",
     "text": [
      "\n",
      "Sanity Check (log-space values):\n",
      "Sample 0: True=14.51, NoAtt-LSTM=15.28, Ensemble=15.05\n",
      "Sample 1: True=15.07, NoAtt-LSTM=15.61, Ensemble=14.71\n",
      "Sample 2: True=16.81, NoAtt-LSTM=16.73, Ensemble=16.10\n",
      "Sample 3: True=16.52, NoAtt-LSTM=17.24, Ensemble=17.41\n",
      "Sample 4: True=18.06, NoAtt-LSTM=17.72, Ensemble=18.12\n",
      "Sample 5: True=16.81, NoAtt-LSTM=17.06, Ensemble=17.66\n",
      "Sample 6: True=17.50, NoAtt-LSTM=17.00, Ensemble=17.46\n",
      "Sample 7: True=17.50, NoAtt-LSTM=15.74, Ensemble=16.51\n",
      "Sample 8: True=17.22, NoAtt-LSTM=16.91, Ensemble=16.58\n",
      "Sample 9: True=16.81, NoAtt-LSTM=16.63, Ensemble=17.04\n",
      "\n",
      "Sanity Check (euro scale values):\n",
      "Sample 0: True=€2,000,000, NoAtt-LSTM=€4,314,736, Ensemble=€3,422,967\n",
      "Sample 1: True=€3,500,000, NoAtt-LSTM=€6,003,166, Ensemble=€2,439,590\n",
      "Sample 2: True=€20,000,000, NoAtt-LSTM=€18,362,908, Ensemble=€9,780,073\n",
      "Sample 3: True=€15,000,000, NoAtt-LSTM=€30,724,884, Ensemble=€36,378,160\n",
      "Sample 4: True=€70,000,000, NoAtt-LSTM=€49,480,380, Ensemble=€74,347,024\n",
      "Sample 5: True=€20,000,000, NoAtt-LSTM=€25,627,864, Ensemble=€46,760,132\n",
      "Sample 6: True=€40,000,000, NoAtt-LSTM=€24,077,536, Ensemble=€38,312,124\n",
      "Sample 7: True=€40,000,000, NoAtt-LSTM=€6,820,901, Ensemble=€14,751,663\n",
      "Sample 8: True=€30,000,000, NoAtt-LSTM=€22,016,752, Ensemble=€15,898,352\n",
      "Sample 9: True=€20,000,000, NoAtt-LSTM=€16,668,164, Ensemble=€25,093,568\n"
     ]
    },
    {
     "data": {
      "text/plain": [
       "<Figure size 1400x600 with 2 Axes>"
      ],
      "image/png": "[encoded data removed]"
     },
     "metadata": {},
     "output_type": "display_data"
    }
   ],
   "execution_count": 50
  },
  {
   "metadata": {},
   "cell_type": "code",
   "outputs": [],
   "execution_count": null,
   "source": "",
   "id": "4590a9ca3917fbd"
  }
 ],
 "metadata": {
  "kernelspec": {
   "display_name": "Python 3",
   "language": "python",
   "name": "python3"
  },
  "language_info": {
   "codemirror_mode": {
    "name": "ipython",
    "version": 2
   },
   "file_extension": ".py",
   "mimetype": "text/x-python",
   "name": "python",
   "nbconvert_exporter": "python",
   "pygments_lexer": "ipython2",
   "version": "2.7.6"
  }
 },
 "nbformat": 4,
 "nbformat_minor": 5
}
