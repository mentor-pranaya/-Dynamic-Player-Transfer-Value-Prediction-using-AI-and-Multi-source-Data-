{
 "cells": [
  {
   "cell_type": "code",
   "execution_count": 1,
   "id": "f51fde43",
   "metadata": {},
   "outputs": [
    {
     "name": "stdout",
     "output_type": "stream",
     "text": [
      "Found player with most data: Ellen White\n",
      "✅ Successfully loaded master dataset for Ellen White\n",
      "\n",
      "❌ Error: Dataset is still too small to train the model.\n",
      "   We need more than 5 data points, but the dataset only has 1.\n"
     ]
    }
   ],
   "source": [
    "import pandas as pd\n",
    "import numpy as np\n",
    "from sklearn.preprocessing import MinMaxScaler\n",
    "from tensorflow.keras.models import Sequential\n",
    "from tensorflow.keras.layers import LSTM, Dense\n",
    "import matplotlib.pyplot as plt\n",
    "\n",
    "# --- 1. Find and Load the Master Dataset ---\n",
    "# First, let's find the player with the most data to ensure we can train the model.\n",
    "try:\n",
    "    df_perf = pd.read_csv('statsbomb_match_performance.csv')\n",
    "    player_match_counts = df_perf['player_name'].value_counts()\n",
    "    player_name = player_match_counts.index[0] # Get the top player\n",
    "    player_name_for_file = player_name.replace(' ', '_')\n",
    "    \n",
    "    print(f\"Found player with most data: {player_name}\")\n",
    "    \n",
    "    df_master = pd.read_csv(f'master_dataset_{player_name_for_file}.csv', index_col=0, parse_dates=[0])\n",
    "    print(f\"✅ Successfully loaded master dataset for {player_name}\")\n",
    "\n",
    "except FileNotFoundError:\n",
    "    print(f\"❌ Master dataset for '{player_name}' not found. Please run '03_data_consolidation.ipynb' first to generate it.\")\n",
    "    exit()\n",
    "\n",
    "# --- 2. Prepare Data for Univariate LSTM ---\n",
    "market_value_data = df_master[['market_value_eur']].copy()\n",
    "sequence_length = 5 # A safe sequence length\n",
    "\n",
    "# --- 3. Data Validation Check ---\n",
    "if len(market_value_data) <= sequence_length:\n",
    "    print(f\"\\n❌ Error: Dataset is still too small to train the model.\")\n",
    "    print(f\"   We need more than {sequence_length} data points, but the dataset only has {len(market_value_data)}.\")\n",
    "else:\n",
    "    print(f\"\\n✅ Dataset has enough data ({len(market_value_data)} points). Proceeding with training.\")\n",
    "    \n",
    "    # --- 4. Scale Data and Create Sequences ---\n",
    "    scaler = MinMaxScaler(feature_range=(0, 1))\n",
    "    scaled_data = scaler.fit_transform(market_value_data)\n",
    "    \n",
    "    X_train, y_train = [], []\n",
    "    for i in range(sequence_length, len(scaled_data)):\n",
    "        X_train.append(scaled_data[i-sequence_length:i, 0])\n",
    "        y_train.append(scaled_data[i, 0])\n",
    "\n",
    "    X_train, y_train = np.array(X_train), np.array(y_train)\n",
    "    X_train = np.reshape(X_train, (X_train.shape[0], X_train.shape[1], 1))\n",
    "\n",
    "    # --- 5. Build and Train the LSTM Model ---\n",
    "    print(\"\\nBuilding and training the LSTM model...\")\n",
    "    model = Sequential([\n",
    "        LSTM(units=50, return_sequences=True, input_shape=(X_train.shape[1], 1)),\n",
    "        LSTM(units=50),\n",
    "        Dense(units=1)\n",
    "    ])\n",
    "    \n",
    "    model.compile(optimizer='adam', loss='mean_squared_error')\n",
    "    model.summary()\n",
    "    \n",
    "    history = model.fit(X_train, y_train, epochs=25, batch_size=32, verbose=1)\n",
    "\n",
    "    # --- 6. Plot Training Loss ---\n",
    "    plt.figure(figsize=(10, 6))\n",
    "    plt.plot(history.history['loss'])\n",
    "    plt.title('Model Training Loss')\n",
    "    plt.ylabel('Loss')\n",
    "    plt.xlabel('Epoch')\n",
    "    plt.show()\n",
    "\n",
    "    print(\"\\n✅ Model training complete!\")"
   ]
  }
 ],
 "metadata": {
  "kernelspec": {
   "display_name": "Python 3",
   "language": "python",
   "name": "python3"
  },
  "language_info": {
   "codemirror_mode": {
    "name": "ipython",
    "version": 3
   },
   "file_extension": ".py",
   "mimetype": "text/x-python",
   "name": "python",
   "nbconvert_exporter": "python",
   "pygments_lexer": "ipython3",
   "version": "3.10.0"
  }
 },
 "nbformat": 4,
 "nbformat_minor": 5
}
